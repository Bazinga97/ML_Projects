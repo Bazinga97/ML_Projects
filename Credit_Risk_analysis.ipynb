{
  "cells": [
    {
      "cell_type": "markdown",
      "metadata": {
        "id": "view-in-github",
        "colab_type": "text"
      },
      "source": [
        "<a href=\"https://colab.research.google.com/github/Bazinga97/ML_Projects/blob/main/Credit_Risk_analysis.ipynb\" target=\"_parent\"><img src=\"https://colab.research.google.com/assets/colab-badge.svg\" alt=\"Open In Colab\"/></a>"
      ]
    },
    {
      "cell_type": "markdown",
      "metadata": {
        "id": "jMBgpnGnEuew"
      },
      "source": [
        "### **Objective:**\n",
        "   \n",
        "\n",
        "    Exploratory data analysis\n",
        "    KNN\n",
        "    Hyperparameter Tuning\n",
        "    Streamlit\n",
        "    List item\n",
        "\n",
        "\n",
        "\n",
        "\n",
        "\n"
      ]
    },
    {
      "cell_type": "markdown",
      "metadata": {
        "id": "HQWf7re1ngci"
      },
      "source": [
        "from sklearn.datasets import make_classification\n",
        "from sklearn.tree import DecisionTreeClassifier\n",
        "import numpy as np\n",
        "import pandas as pd\n",
        "from sklearn.model_selection import train_test_split\n",
        "from sklearn.impute import IterativeImputer\n",
        "from imblearn.pipeline import Pipeline\n",
        "from imblearn.over_sampling import SMOTE\n",
        "from sklearn.metrics import accuracy_score\n",
        "\n",
        "# Making artificial data with the help of sklearn's make_classification method:\n",
        "X, y = make_classification(10000, 20, n_classes=2, weights=[0.75])\n",
        "\n",
        "# Gives count of each target's class:\n",
        "uni, cnt = np.unique(y, return_counts=True)\n",
        "for i, (j, k) in enumerate(zip(uni, cnt)):\n",
        "    print(j, \"--\", k)\n",
        "\n",
        "X = pd.DataFrame(X)\n",
        "\n",
        "# Function to select random indexes:\n",
        "def create_index(nrows):\n",
        "    l = np.random.randint(0, nrows, 50)\n",
        "    return l\n",
        "\n",
        "# Making some rows as Null.\n",
        "for i in range(X.shape[1]):\n",
        "    X.iloc[create_index(X.shape[0]), i] = None\n",
        "    \n",
        "# To check the null values in every column:\n",
        "X.isnull().sum()\n",
        "\n",
        "# Splitting:\n",
        "X_train, X_test, y_train, y_test = train_test_split(X, y)\n",
        "\n",
        "# Making sample pipeline\n",
        "over = SMOTE() ## Object for smote #sampling_strategy=0.1\n",
        "model = DecisionTreeClassifier()\n",
        "steps = [('impute', IterativeImputer()),('over', over),('model', model)]\n",
        "pipeline = Pipeline(steps=steps)\n",
        "\n",
        "pipeline.fit(X_train, y_train)\n",
        "\n",
        "res = pipeline.predict(X_test)\n",
        "\n",
        "print(f\"The accuracy of the Decision Tree Model is:{accuracy_score(y_test, res)}\")\n"
      ]
    },
    {
      "cell_type": "markdown",
      "metadata": {
        "id": "lDfhPSl_FVjJ"
      },
      "source": [
        "## Importing the libraries"
      ]
    },
    {
      "cell_type": "code",
      "execution_count": null,
      "metadata": {
        "id": "CzqRCskqEvum"
      },
      "outputs": [],
      "source": [
        "import pandas as pd\n",
        "import numpy as np\n",
        "import seaborn as sns\n",
        "from sklearn.datasets import make_classification"
      ]
    },
    {
      "cell_type": "markdown",
      "metadata": {
        "id": "uU1TgDO4F1Od"
      },
      "source": [
        "## Data Preprocessing\n",
        "\n",
        "Column transformer\n",
        "\n",
        "*  Column transformer\n",
        "*  Train-test split\n",
        "*  One_hot encoding\n",
        "*  Imputer\n"
      ]
    },
    {
      "cell_type": "code",
      "execution_count": null,
      "metadata": {
        "id": "aDZccWKpKZZa"
      },
      "outputs": [],
      "source": [
        "from sklearn.compose import ColumnTransformer,make_column_selector\n",
        "from sklearn.model_selection import train_test_split, RandomizedSearchCV, cross_val_score, RepeatedKFold,RepeatedStratifiedKFold\n",
        "from sklearn.preprocessing import OneHotEncoder, StandardScaler, LabelEncoder\n",
        "from sklearn.experimental import enable_iterative_imputer\n",
        "from sklearn.impute import IterativeImputer"
      ]
    },
    {
      "cell_type": "markdown",
      "metadata": {
        "id": "Ttx0aMQSJIMv"
      },
      "source": [
        "Imblearn Library: used to deal with\n",
        "\n",
        "For imbalanced dataset : particulary over-sampling using SMOTE (Synthetic Minority Over-sampling Technique)\n",
        "\n",
        "Pipeline: chain multiple steps involving --> 1. Preprocessing 2. Model Training\n",
        "\n",
        "Integration allows to encapsulation of entire workflow into a single object --> easy to manage and apply simultaneously.\n",
        "\n",
        "\n"
      ]
    },
    {
      "cell_type": "code",
      "execution_count": null,
      "metadata": {
        "colab": {
          "base_uri": "https://localhost:8080/"
        },
        "id": "1BASe-dlQHdf",
        "outputId": "fdc53705-00d0-40e7-fac4-ba287772730b"
      },
      "outputs": [
        {
          "output_type": "stream",
          "name": "stdout",
          "text": [
            "Requirement already satisfied: imbalanced-learn in /usr/local/lib/python3.10/dist-packages (0.12.2)\n",
            "Requirement already satisfied: numpy>=1.17.3 in /usr/local/lib/python3.10/dist-packages (from imbalanced-learn) (1.26.4)\n",
            "Requirement already satisfied: scipy>=1.5.0 in /usr/local/lib/python3.10/dist-packages (from imbalanced-learn) (1.13.0)\n",
            "Requirement already satisfied: scikit-learn>=1.0.2 in /usr/local/lib/python3.10/dist-packages (from imbalanced-learn) (1.4.2)\n",
            "Requirement already satisfied: joblib>=1.1.1 in /usr/local/lib/python3.10/dist-packages (from imbalanced-learn) (1.4.0)\n",
            "Requirement already satisfied: threadpoolctl>=2.0.0 in /usr/local/lib/python3.10/dist-packages (from imbalanced-learn) (3.5.0)\n",
            "Traceback (most recent call last):\n",
            "  File \"/usr/local/lib/python3.10/dist-packages/pip/_vendor/pkg_resources/__init__.py\", line 3108, in _dep_map\n",
            "    return self.__dep_map\n",
            "  File \"/usr/local/lib/python3.10/dist-packages/pip/_vendor/pkg_resources/__init__.py\", line 2901, in __getattr__\n",
            "    raise AttributeError(attr)\n",
            "AttributeError: _DistInfoDistribution__dep_map\n",
            "\n",
            "During handling of the above exception, another exception occurred:\n",
            "\n",
            "Traceback (most recent call last):\n",
            "  File \"/usr/local/lib/python3.10/dist-packages/pip/_internal/cli/base_command.py\", line 169, in exc_logging_wrapper\n",
            "    status = run_func(*args)\n",
            "  File \"/usr/local/lib/python3.10/dist-packages/pip/_internal/cli/req_command.py\", line 242, in wrapper\n",
            "    return func(self, options, args)\n",
            "  File \"/usr/local/lib/python3.10/dist-packages/pip/_internal/commands/install.py\", line 441, in run\n",
            "    conflicts = self._determine_conflicts(to_install)\n",
            "  File \"/usr/local/lib/python3.10/dist-packages/pip/_internal/commands/install.py\", line 572, in _determine_conflicts\n",
            "    return check_install_conflicts(to_install)\n",
            "  File \"/usr/local/lib/python3.10/dist-packages/pip/_internal/operations/check.py\", line 101, in check_install_conflicts\n",
            "    package_set, _ = create_package_set_from_installed()\n",
            "  File \"/usr/local/lib/python3.10/dist-packages/pip/_internal/operations/check.py\", line 42, in create_package_set_from_installed\n",
            "    dependencies = list(dist.iter_dependencies())\n",
            "  File \"/usr/local/lib/python3.10/dist-packages/pip/_internal/metadata/pkg_resources.py\", line 216, in iter_dependencies\n",
            "    return self._dist.requires(extras)\n",
            "  File \"/usr/local/lib/python3.10/dist-packages/pip/_vendor/pkg_resources/__init__.py\", line 2821, in requires\n",
            "    dm = self._dep_map\n",
            "  File \"/usr/local/lib/python3.10/dist-packages/pip/_vendor/pkg_resources/__init__.py\", line 3110, in _dep_map\n",
            "    self.__dep_map = self._compute_dependencies()\n",
            "  File \"/usr/local/lib/python3.10/dist-packages/pip/_vendor/pkg_resources/__init__.py\", line 3120, in _compute_dependencies\n",
            "    reqs.extend(parse_requirements(req))\n",
            "  File \"/usr/local/lib/python3.10/dist-packages/pip/_vendor/pkg_resources/__init__.py\", line 3173, in __init__\n",
            "    super(Requirement, self).__init__(requirement_string)\n",
            "  File \"/usr/local/lib/python3.10/dist-packages/pip/_vendor/packaging/requirements.py\", line 102, in __init__\n",
            "    req = REQUIREMENT.parseString(requirement_string)\n",
            "  File \"/usr/local/lib/python3.10/dist-packages/pip/_vendor/pyparsing/core.py\", line 1131, in parse_string\n",
            "    loc, tokens = self._parse(instring, 0)\n",
            "  File \"/usr/local/lib/python3.10/dist-packages/pip/_vendor/pyparsing/core.py\", line 817, in _parseNoCache\n",
            "    loc, tokens = self.parseImpl(instring, pre_loc, doActions)\n",
            "  File \"/usr/local/lib/python3.10/dist-packages/pip/_vendor/pyparsing/core.py\", line 3886, in parseImpl\n",
            "    loc, exprtokens = e._parse(instring, loc, doActions)\n",
            "  File \"/usr/local/lib/python3.10/dist-packages/pip/_vendor/pyparsing/core.py\", line 817, in _parseNoCache\n",
            "    loc, tokens = self.parseImpl(instring, pre_loc, doActions)\n",
            "  File \"/usr/local/lib/python3.10/dist-packages/pip/_vendor/pyparsing/core.py\", line 4114, in parseImpl\n",
            "    return e._parse(\n",
            "  File \"/usr/local/lib/python3.10/dist-packages/pip/_vendor/pyparsing/core.py\", line 817, in _parseNoCache\n",
            "    loc, tokens = self.parseImpl(instring, pre_loc, doActions)\n",
            "  File \"/usr/local/lib/python3.10/dist-packages/pip/_vendor/pyparsing/core.py\", line 3864, in parseImpl\n",
            "    loc, resultlist = self.exprs[0]._parse(\n",
            "  File \"/usr/local/lib/python3.10/dist-packages/pip/_vendor/pyparsing/core.py\", line 817, in _parseNoCache\n",
            "    loc, tokens = self.parseImpl(instring, pre_loc, doActions)\n",
            "  File \"/usr/local/lib/python3.10/dist-packages/pip/_vendor/pyparsing/core.py\", line 3886, in parseImpl\n",
            "    loc, exprtokens = e._parse(instring, loc, doActions)\n",
            "  File \"/usr/local/lib/python3.10/dist-packages/pip/_vendor/pyparsing/core.py\", line 817, in _parseNoCache\n",
            "    loc, tokens = self.parseImpl(instring, pre_loc, doActions)\n",
            "  File \"/usr/local/lib/python3.10/dist-packages/pip/_vendor/pyparsing/core.py\", line 4959, in parseImpl\n",
            "    loc, tokens = self_expr._parse(instring, loc, doActions, callPreParse=False)\n",
            "  File \"/usr/local/lib/python3.10/dist-packages/pip/_vendor/pyparsing/core.py\", line 817, in _parseNoCache\n",
            "    loc, tokens = self.parseImpl(instring, pre_loc, doActions)\n",
            "  File \"/usr/local/lib/python3.10/dist-packages/pip/_vendor/pyparsing/core.py\", line 4114, in parseImpl\n",
            "    return e._parse(\n",
            "  File \"/usr/local/lib/python3.10/dist-packages/pip/_vendor/pyparsing/core.py\", line 817, in _parseNoCache\n",
            "    loc, tokens = self.parseImpl(instring, pre_loc, doActions)\n",
            "  File \"/usr/local/lib/python3.10/dist-packages/pip/_vendor/pyparsing/core.py\", line 4375, in parseImpl\n",
            "    return self.expr._parse(instring, loc, doActions, callPreParse=False)\n",
            "  File \"/usr/local/lib/python3.10/dist-packages/pip/_vendor/pyparsing/core.py\", line 817, in _parseNoCache\n",
            "    loc, tokens = self.parseImpl(instring, pre_loc, doActions)\n",
            "  File \"/usr/local/lib/python3.10/dist-packages/pip/_vendor/pyparsing/core.py\", line 3864, in parseImpl\n",
            "    loc, resultlist = self.exprs[0]._parse(\n",
            "  File \"/usr/local/lib/python3.10/dist-packages/pip/_vendor/pyparsing/core.py\", line 817, in _parseNoCache\n",
            "    loc, tokens = self.parseImpl(instring, pre_loc, doActions)\n",
            "  File \"/usr/local/lib/python3.10/dist-packages/pip/_vendor/pyparsing/core.py\", line 3958, in parseImpl\n",
            "    loc2 = e.try_parse(instring, loc, raise_fatal=True)\n",
            "  File \"/usr/local/lib/python3.10/dist-packages/pip/_vendor/pyparsing/core.py\", line 880, in try_parse\n",
            "    return self._parse(instring, loc, doActions=False)[0]\n",
            "  File \"/usr/local/lib/python3.10/dist-packages/pip/_vendor/pyparsing/core.py\", line 821, in _parseNoCache\n",
            "    loc, tokens = self.parseImpl(instring, pre_loc, doActions)\n",
            "  File \"/usr/local/lib/python3.10/dist-packages/pip/_vendor/pyparsing/core.py\", line 2985, in parseImpl\n",
            "    result = self.re_match(instring, loc)\n",
            "KeyboardInterrupt\n",
            "\n",
            "During handling of the above exception, another exception occurred:\n",
            "\n",
            "Traceback (most recent call last):\n",
            "  File \"/usr/local/bin/pip3\", line 8, in <module>\n",
            "    sys.exit(main())\n",
            "  File \"/usr/local/lib/python3.10/dist-packages/pip/_internal/cli/main.py\", line 79, in main\n",
            "    return command.main(cmd_args)\n",
            "  File \"/usr/local/lib/python3.10/dist-packages/pip/_internal/cli/base_command.py\", line 101, in main\n",
            "    return self._main(args)\n",
            "  File \"/usr/local/lib/python3.10/dist-packages/pip/_internal/cli/base_command.py\", line 223, in _main\n",
            "    return run(options, args)\n",
            "  File \"/usr/local/lib/python3.10/dist-packages/pip/_internal/cli/base_command.py\", line 206, in exc_logging_wrapper\n",
            "    logger.critical(\"Operation cancelled by user\")\n",
            "  File \"/usr/lib/python3.10/logging/__init__.py\", line 1523, in critical\n",
            "    if self.isEnabledFor(CRITICAL):\n",
            "  File \"/usr/lib/python3.10/logging/__init__.py\", line 1724, in isEnabledFor\n",
            "    def isEnabledFor(self, level):\n",
            "KeyboardInterrupt\n",
            "^C\n"
          ]
        }
      ],
      "source": [
        "pip install imbalanced-learn\n"
      ]
    },
    {
      "cell_type": "code",
      "execution_count": null,
      "metadata": {
        "colab": {
          "base_uri": "https://localhost:8080/"
        },
        "id": "M5SuAEjPRhnS",
        "outputId": "8f5b6dc3-26cc-4068-a9e1-37f6aacf61e6"
      },
      "outputs": [
        {
          "output_type": "stream",
          "name": "stdout",
          "text": [
            "Requirement already satisfied: imbalanced-learn in /usr/local/lib/python3.10/dist-packages (0.12.2)\n",
            "Requirement already satisfied: numpy>=1.17.3 in /usr/local/lib/python3.10/dist-packages (from imbalanced-learn) (1.26.4)\n",
            "Requirement already satisfied: scipy>=1.5.0 in /usr/local/lib/python3.10/dist-packages (from imbalanced-learn) (1.13.0)\n",
            "Requirement already satisfied: scikit-learn>=1.0.2 in /usr/local/lib/python3.10/dist-packages (from imbalanced-learn) (1.4.2)\n",
            "Requirement already satisfied: joblib>=1.1.1 in /usr/local/lib/python3.10/dist-packages (from imbalanced-learn) (1.4.0)\n",
            "Requirement already satisfied: threadpoolctl>=2.0.0 in /usr/local/lib/python3.10/dist-packages (from imbalanced-learn) (3.5.0)\n"
          ]
        }
      ],
      "source": [
        "pip install --upgrade imbalanced-learn\n"
      ]
    },
    {
      "cell_type": "code",
      "source": [
        "pip install --upgrade imbalanced-learn\n"
      ],
      "metadata": {
        "colab": {
          "base_uri": "https://localhost:8080/"
        },
        "id": "nb0dDGKpEaLI",
        "outputId": "368c0726-647f-4c69-ee99-55913dec78c3"
      },
      "execution_count": null,
      "outputs": [
        {
          "output_type": "stream",
          "name": "stdout",
          "text": [
            "Requirement already satisfied: imbalanced-learn in /usr/local/lib/python3.10/dist-packages (0.12.2)\n",
            "Requirement already satisfied: numpy>=1.17.3 in /usr/local/lib/python3.10/dist-packages (from imbalanced-learn) (1.26.4)\n",
            "Requirement already satisfied: scipy>=1.5.0 in /usr/local/lib/python3.10/dist-packages (from imbalanced-learn) (1.13.0)\n",
            "Requirement already satisfied: scikit-learn>=1.0.2 in /usr/local/lib/python3.10/dist-packages (from imbalanced-learn) (1.4.2)\n",
            "Requirement already satisfied: joblib>=1.1.1 in /usr/local/lib/python3.10/dist-packages (from imbalanced-learn) (1.4.0)\n",
            "Requirement already satisfied: threadpoolctl>=2.0.0 in /usr/local/lib/python3.10/dist-packages (from imbalanced-learn) (3.5.0)\n"
          ]
        }
      ]
    },
    {
      "cell_type": "code",
      "source": [
        "pip install imbalanced-learn\n"
      ],
      "metadata": {
        "colab": {
          "base_uri": "https://localhost:8080/"
        },
        "id": "ods8745LEtsN",
        "outputId": "db48b0e6-46b8-4bfb-a6e8-967393d98715"
      },
      "execution_count": null,
      "outputs": [
        {
          "output_type": "stream",
          "name": "stdout",
          "text": [
            "Requirement already satisfied: imbalanced-learn in /usr/local/lib/python3.10/dist-packages (0.12.2)\n",
            "Requirement already satisfied: numpy>=1.17.3 in /usr/local/lib/python3.10/dist-packages (from imbalanced-learn) (1.26.4)\n",
            "Requirement already satisfied: scipy>=1.5.0 in /usr/local/lib/python3.10/dist-packages (from imbalanced-learn) (1.13.0)\n",
            "Requirement already satisfied: scikit-learn>=1.0.2 in /usr/local/lib/python3.10/dist-packages (from imbalanced-learn) (1.4.2)\n",
            "Requirement already satisfied: joblib>=1.1.1 in /usr/local/lib/python3.10/dist-packages (from imbalanced-learn) (1.4.0)\n",
            "Requirement already satisfied: threadpoolctl>=2.0.0 in /usr/local/lib/python3.10/dist-packages (from imbalanced-learn) (3.5.0)\n"
          ]
        }
      ]
    },
    {
      "cell_type": "code",
      "execution_count": null,
      "metadata": {
        "id": "PvoWe-lwENIS"
      },
      "outputs": [],
      "source": [
        "from imblearn.over_sampling import SMOTE\n",
        "from imblearn.pipeline import Pipeline"
      ]
    },
    {
      "cell_type": "markdown",
      "metadata": {
        "id": "xrqI1fivKg3-"
      },
      "source": [
        "### Metrices: Measure of performance\n",
        "\n",
        "\n",
        "# *   Classification: 1. Accuracy 2. Confusion matrix\n",
        "\n",
        "## **1. Accuracy: No. of correct pred/ Total pred   --> may be misleading in some cases**\n",
        "## **2**. **Confusion matrix :  number of correct and incorrect predictions made by the model.**\n",
        "      \n",
        "\n",
        "*   Precision :\n",
        "*   Recall\n",
        "*   F1-Score\n",
        "*   AUC_ROC\n",
        "\n",
        "\n",
        "\n",
        "\n",
        "\n",
        "*   Regression\n",
        "\n",
        "\n",
        "*   Mean squared error (MSE)\n",
        "*   Root Mean squared error (RMSE)\n",
        "*   Mean Absolute error\n",
        "*   R2\n",
        "\n",
        "\n",
        "\n",
        "\n",
        "\n",
        "\n"
      ]
    },
    {
      "cell_type": "code",
      "execution_count": null,
      "metadata": {
        "id": "n8-ctmniPutT"
      },
      "outputs": [],
      "source": [
        "#pip install --upgrade scikit-learn\n"
      ]
    },
    {
      "cell_type": "code",
      "execution_count": null,
      "metadata": {
        "colab": {
          "base_uri": "https://localhost:8080/"
        },
        "id": "h_Vwk0_4XmsV",
        "outputId": "74597339-c4a4-4287-f5fa-25bd20247428"
      },
      "outputs": [
        {
          "output_type": "stream",
          "name": "stdout",
          "text": [
            "1.4.2\n"
          ]
        }
      ],
      "source": [
        "import sklearn\n",
        "print(sklearn.__version__)\n"
      ]
    },
    {
      "cell_type": "code",
      "execution_count": null,
      "metadata": {
        "id": "sEZOubS5X-r2"
      },
      "outputs": [],
      "source": [
        "#!pip install scikit-learn\n"
      ]
    },
    {
      "cell_type": "code",
      "execution_count": null,
      "metadata": {
        "id": "zdXRb69nYYI9"
      },
      "outputs": [],
      "source": [
        "#!pip install --upgrade scikit-learn\n"
      ]
    },
    {
      "cell_type": "code",
      "execution_count": null,
      "metadata": {
        "id": "MrECEXNzKgN1"
      },
      "outputs": [],
      "source": [
        "from sklearn.metrics import accuracy_score, matthews_corrcoef\n",
        "from sklearn.metrics import roc_curve, roc_auc_score, auc\n",
        "from sklearn.model_selection import learning_curve\n",
        "from sklearn.metrics import recall_score,precision_score,f1_score"
      ]
    },
    {
      "cell_type": "markdown",
      "metadata": {
        "id": "AggtpAVBZIcY"
      },
      "source": [
        "## Machine Learning models\n",
        "\n",
        "\n",
        "\n",
        "*   Regression : LR; LOR; KNN;\n",
        "*   SVC\n",
        "\n",
        "\n",
        "*   Decision Trees; RF\n",
        "*   XGBoost classifier\n",
        "\n",
        "\n",
        "*   LBM classifier\n",
        "*   CatBoost classifier\n",
        "\n",
        "\n",
        "\n",
        "\n"
      ]
    },
    {
      "cell_type": "code",
      "execution_count": null,
      "metadata": {
        "id": "klxCsqHxZurC",
        "colab": {
          "base_uri": "https://localhost:8080/"
        },
        "outputId": "9b0a5542-f323-4874-aef8-31d7a10042c0"
      },
      "outputs": [
        {
          "output_type": "stream",
          "name": "stdout",
          "text": [
            "Requirement already satisfied: catboost in /usr/local/lib/python3.10/dist-packages (1.2.5)\n",
            "Requirement already satisfied: graphviz in /usr/local/lib/python3.10/dist-packages (from catboost) (0.20.3)\n",
            "Requirement already satisfied: matplotlib in /usr/local/lib/python3.10/dist-packages (from catboost) (3.7.1)\n",
            "Requirement already satisfied: numpy>=1.16.0 in /usr/local/lib/python3.10/dist-packages (from catboost) (1.26.4)\n",
            "Requirement already satisfied: pandas>=0.24 in /usr/local/lib/python3.10/dist-packages (from catboost) (2.0.3)\n",
            "Requirement already satisfied: scipy in /usr/local/lib/python3.10/dist-packages (from catboost) (1.13.0)\n",
            "Requirement already satisfied: plotly in /usr/local/lib/python3.10/dist-packages (from catboost) (5.15.0)\n",
            "Requirement already satisfied: six in /usr/local/lib/python3.10/dist-packages (from catboost) (1.16.0)\n",
            "Requirement already satisfied: python-dateutil>=2.8.2 in /usr/local/lib/python3.10/dist-packages (from pandas>=0.24->catboost) (2.8.2)\n",
            "Requirement already satisfied: pytz>=2020.1 in /usr/local/lib/python3.10/dist-packages (from pandas>=0.24->catboost) (2023.4)\n",
            "Requirement already satisfied: tzdata>=2022.1 in /usr/local/lib/python3.10/dist-packages (from pandas>=0.24->catboost) (2024.1)\n",
            "Requirement already satisfied: contourpy>=1.0.1 in /usr/local/lib/python3.10/dist-packages (from matplotlib->catboost) (1.2.1)\n",
            "Requirement already satisfied: cycler>=0.10 in /usr/local/lib/python3.10/dist-packages (from matplotlib->catboost) (0.12.1)\n",
            "Requirement already satisfied: fonttools>=4.22.0 in /usr/local/lib/python3.10/dist-packages (from matplotlib->catboost) (4.51.0)\n",
            "Requirement already satisfied: kiwisolver>=1.0.1 in /usr/local/lib/python3.10/dist-packages (from matplotlib->catboost) (1.4.5)\n",
            "Requirement already satisfied: packaging>=20.0 in /usr/local/lib/python3.10/dist-packages (from matplotlib->catboost) (24.0)\n",
            "Requirement already satisfied: pillow>=6.2.0 in /usr/local/lib/python3.10/dist-packages (from matplotlib->catboost) (9.4.0)\n",
            "Requirement already satisfied: pyparsing>=2.3.1 in /usr/local/lib/python3.10/dist-packages (from matplotlib->catboost) (3.1.2)\n",
            "Requirement already satisfied: tenacity>=6.2.0 in /usr/local/lib/python3.10/dist-packages (from plotly->catboost) (8.2.3)\n"
          ]
        }
      ],
      "source": [
        "!pip install catboost\n"
      ]
    },
    {
      "cell_type": "markdown",
      "metadata": {
        "id": "duRWucdYaCAu"
      },
      "source": [
        "# Pickling : process of converting a python object into a byte stream; also it saves your python objects into a format that can be stored or transferred"
      ]
    },
    {
      "cell_type": "code",
      "execution_count": null,
      "metadata": {
        "id": "2Z3CBJkNZmeI"
      },
      "outputs": [],
      "source": [
        "## For Machine Learning Models:\n",
        "from sklearn.linear_model import LogisticRegression,LinearRegression\n",
        "from sklearn.neighbors import KNeighborsClassifier,KNeighborsRegressor\n",
        "from sklearn.svm import SVC\n",
        "from sklearn.naive_bayes import GaussianNB\n",
        "from sklearn.tree import DecisionTreeClassifier\n",
        "from sklearn.ensemble import RandomForestClassifier,RandomForestRegressor\n",
        "from xgboost import XGBClassifier\n",
        "from lightgbm import LGBMClassifier\n",
        "from catboost import CatBoostClassifier\n",
        "\n",
        "## For Pickling:\n",
        "import pickle"
      ]
    },
    {
      "cell_type": "markdown",
      "metadata": {
        "id": "gn5mx3W1bkzE"
      },
      "source": [
        "np.random.seed(31415): random number generation in NumPy follows a predictable sequence, allowing for reproducibility\n",
        "31415: same random numbers every time you code"
      ]
    },
    {
      "cell_type": "code",
      "execution_count": null,
      "metadata": {
        "id": "jO0b8NOGbjyT"
      },
      "outputs": [],
      "source": [
        "## Setting the seed to allow reproducibility\n",
        "np.random.seed(31415)"
      ]
    },
    {
      "cell_type": "code",
      "execution_count": null,
      "metadata": {
        "id": "PDLnVuF4b5mn"
      },
      "outputs": [],
      "source": [
        "df= pd.read_csv(\"credit_risk_dataset.csv\")"
      ]
    },
    {
      "cell_type": "code",
      "execution_count": null,
      "metadata": {
        "id": "gN1KgHeCcLes",
        "colab": {
          "base_uri": "https://localhost:8080/",
          "height": 226
        },
        "outputId": "9bb56688-be81-40e3-8fe5-ef15cceb7f8b"
      },
      "outputs": [
        {
          "output_type": "execute_result",
          "data": {
            "text/plain": [
              "   person_age  person_income person_home_ownership  person_emp_length  \\\n",
              "0          22          59000                  RENT              123.0   \n",
              "1          21           9600                   OWN                5.0   \n",
              "2          25           9600              MORTGAGE                1.0   \n",
              "3          23          65500                  RENT                4.0   \n",
              "4          24          54400                  RENT                8.0   \n",
              "\n",
              "  loan_intent loan_grade  loan_amnt  loan_int_rate  loan_status  \\\n",
              "0    PERSONAL          D      35000          16.02            1   \n",
              "1   EDUCATION          B       1000          11.14            0   \n",
              "2     MEDICAL          C       5500          12.87            1   \n",
              "3     MEDICAL          C      35000          15.23            1   \n",
              "4     MEDICAL          C      35000          14.27            1   \n",
              "\n",
              "   loan_percent_income cb_person_default_on_file  cb_person_cred_hist_length  \n",
              "0                 0.59                         Y                           3  \n",
              "1                 0.10                         N                           2  \n",
              "2                 0.57                         N                           3  \n",
              "3                 0.53                         N                           2  \n",
              "4                 0.55                         Y                           4  "
            ],
            "text/html": [
              "\n",
              "  <div id=\"df-6e42921d-1f45-43ab-839c-809003e410c4\" class=\"colab-df-container\">\n",
              "    <div>\n",
              "<style scoped>\n",
              "    .dataframe tbody tr th:only-of-type {\n",
              "        vertical-align: middle;\n",
              "    }\n",
              "\n",
              "    .dataframe tbody tr th {\n",
              "        vertical-align: top;\n",
              "    }\n",
              "\n",
              "    .dataframe thead th {\n",
              "        text-align: right;\n",
              "    }\n",
              "</style>\n",
              "<table border=\"1\" class=\"dataframe\">\n",
              "  <thead>\n",
              "    <tr style=\"text-align: right;\">\n",
              "      <th></th>\n",
              "      <th>person_age</th>\n",
              "      <th>person_income</th>\n",
              "      <th>person_home_ownership</th>\n",
              "      <th>person_emp_length</th>\n",
              "      <th>loan_intent</th>\n",
              "      <th>loan_grade</th>\n",
              "      <th>loan_amnt</th>\n",
              "      <th>loan_int_rate</th>\n",
              "      <th>loan_status</th>\n",
              "      <th>loan_percent_income</th>\n",
              "      <th>cb_person_default_on_file</th>\n",
              "      <th>cb_person_cred_hist_length</th>\n",
              "    </tr>\n",
              "  </thead>\n",
              "  <tbody>\n",
              "    <tr>\n",
              "      <th>0</th>\n",
              "      <td>22</td>\n",
              "      <td>59000</td>\n",
              "      <td>RENT</td>\n",
              "      <td>123.0</td>\n",
              "      <td>PERSONAL</td>\n",
              "      <td>D</td>\n",
              "      <td>35000</td>\n",
              "      <td>16.02</td>\n",
              "      <td>1</td>\n",
              "      <td>0.59</td>\n",
              "      <td>Y</td>\n",
              "      <td>3</td>\n",
              "    </tr>\n",
              "    <tr>\n",
              "      <th>1</th>\n",
              "      <td>21</td>\n",
              "      <td>9600</td>\n",
              "      <td>OWN</td>\n",
              "      <td>5.0</td>\n",
              "      <td>EDUCATION</td>\n",
              "      <td>B</td>\n",
              "      <td>1000</td>\n",
              "      <td>11.14</td>\n",
              "      <td>0</td>\n",
              "      <td>0.10</td>\n",
              "      <td>N</td>\n",
              "      <td>2</td>\n",
              "    </tr>\n",
              "    <tr>\n",
              "      <th>2</th>\n",
              "      <td>25</td>\n",
              "      <td>9600</td>\n",
              "      <td>MORTGAGE</td>\n",
              "      <td>1.0</td>\n",
              "      <td>MEDICAL</td>\n",
              "      <td>C</td>\n",
              "      <td>5500</td>\n",
              "      <td>12.87</td>\n",
              "      <td>1</td>\n",
              "      <td>0.57</td>\n",
              "      <td>N</td>\n",
              "      <td>3</td>\n",
              "    </tr>\n",
              "    <tr>\n",
              "      <th>3</th>\n",
              "      <td>23</td>\n",
              "      <td>65500</td>\n",
              "      <td>RENT</td>\n",
              "      <td>4.0</td>\n",
              "      <td>MEDICAL</td>\n",
              "      <td>C</td>\n",
              "      <td>35000</td>\n",
              "      <td>15.23</td>\n",
              "      <td>1</td>\n",
              "      <td>0.53</td>\n",
              "      <td>N</td>\n",
              "      <td>2</td>\n",
              "    </tr>\n",
              "    <tr>\n",
              "      <th>4</th>\n",
              "      <td>24</td>\n",
              "      <td>54400</td>\n",
              "      <td>RENT</td>\n",
              "      <td>8.0</td>\n",
              "      <td>MEDICAL</td>\n",
              "      <td>C</td>\n",
              "      <td>35000</td>\n",
              "      <td>14.27</td>\n",
              "      <td>1</td>\n",
              "      <td>0.55</td>\n",
              "      <td>Y</td>\n",
              "      <td>4</td>\n",
              "    </tr>\n",
              "  </tbody>\n",
              "</table>\n",
              "</div>\n",
              "    <div class=\"colab-df-buttons\">\n",
              "\n",
              "  <div class=\"colab-df-container\">\n",
              "    <button class=\"colab-df-convert\" onclick=\"convertToInteractive('df-6e42921d-1f45-43ab-839c-809003e410c4')\"\n",
              "            title=\"Convert this dataframe to an interactive table.\"\n",
              "            style=\"display:none;\">\n",
              "\n",
              "  <svg xmlns=\"http://www.w3.org/2000/svg\" height=\"24px\" viewBox=\"0 -960 960 960\">\n",
              "    <path d=\"M120-120v-720h720v720H120Zm60-500h600v-160H180v160Zm220 220h160v-160H400v160Zm0 220h160v-160H400v160ZM180-400h160v-160H180v160Zm440 0h160v-160H620v160ZM180-180h160v-160H180v160Zm440 0h160v-160H620v160Z\"/>\n",
              "  </svg>\n",
              "    </button>\n",
              "\n",
              "  <style>\n",
              "    .colab-df-container {\n",
              "      display:flex;\n",
              "      gap: 12px;\n",
              "    }\n",
              "\n",
              "    .colab-df-convert {\n",
              "      background-color: #E8F0FE;\n",
              "      border: none;\n",
              "      border-radius: 50%;\n",
              "      cursor: pointer;\n",
              "      display: none;\n",
              "      fill: #1967D2;\n",
              "      height: 32px;\n",
              "      padding: 0 0 0 0;\n",
              "      width: 32px;\n",
              "    }\n",
              "\n",
              "    .colab-df-convert:hover {\n",
              "      background-color: #E2EBFA;\n",
              "      box-shadow: 0px 1px 2px rgba(60, 64, 67, 0.3), 0px 1px 3px 1px rgba(60, 64, 67, 0.15);\n",
              "      fill: #174EA6;\n",
              "    }\n",
              "\n",
              "    .colab-df-buttons div {\n",
              "      margin-bottom: 4px;\n",
              "    }\n",
              "\n",
              "    [theme=dark] .colab-df-convert {\n",
              "      background-color: #3B4455;\n",
              "      fill: #D2E3FC;\n",
              "    }\n",
              "\n",
              "    [theme=dark] .colab-df-convert:hover {\n",
              "      background-color: #434B5C;\n",
              "      box-shadow: 0px 1px 3px 1px rgba(0, 0, 0, 0.15);\n",
              "      filter: drop-shadow(0px 1px 2px rgba(0, 0, 0, 0.3));\n",
              "      fill: #FFFFFF;\n",
              "    }\n",
              "  </style>\n",
              "\n",
              "    <script>\n",
              "      const buttonEl =\n",
              "        document.querySelector('#df-6e42921d-1f45-43ab-839c-809003e410c4 button.colab-df-convert');\n",
              "      buttonEl.style.display =\n",
              "        google.colab.kernel.accessAllowed ? 'block' : 'none';\n",
              "\n",
              "      async function convertToInteractive(key) {\n",
              "        const element = document.querySelector('#df-6e42921d-1f45-43ab-839c-809003e410c4');\n",
              "        const dataTable =\n",
              "          await google.colab.kernel.invokeFunction('convertToInteractive',\n",
              "                                                    [key], {});\n",
              "        if (!dataTable) return;\n",
              "\n",
              "        const docLinkHtml = 'Like what you see? Visit the ' +\n",
              "          '<a target=\"_blank\" href=https://colab.research.google.com/notebooks/data_table.ipynb>data table notebook</a>'\n",
              "          + ' to learn more about interactive tables.';\n",
              "        element.innerHTML = '';\n",
              "        dataTable['output_type'] = 'display_data';\n",
              "        await google.colab.output.renderOutput(dataTable, element);\n",
              "        const docLink = document.createElement('div');\n",
              "        docLink.innerHTML = docLinkHtml;\n",
              "        element.appendChild(docLink);\n",
              "      }\n",
              "    </script>\n",
              "  </div>\n",
              "\n",
              "\n",
              "<div id=\"df-7832e071-ba3b-4000-b63c-078a55a98cd1\">\n",
              "  <button class=\"colab-df-quickchart\" onclick=\"quickchart('df-7832e071-ba3b-4000-b63c-078a55a98cd1')\"\n",
              "            title=\"Suggest charts\"\n",
              "            style=\"display:none;\">\n",
              "\n",
              "<svg xmlns=\"http://www.w3.org/2000/svg\" height=\"24px\"viewBox=\"0 0 24 24\"\n",
              "     width=\"24px\">\n",
              "    <g>\n",
              "        <path d=\"M19 3H5c-1.1 0-2 .9-2 2v14c0 1.1.9 2 2 2h14c1.1 0 2-.9 2-2V5c0-1.1-.9-2-2-2zM9 17H7v-7h2v7zm4 0h-2V7h2v10zm4 0h-2v-4h2v4z\"/>\n",
              "    </g>\n",
              "</svg>\n",
              "  </button>\n",
              "\n",
              "<style>\n",
              "  .colab-df-quickchart {\n",
              "      --bg-color: #E8F0FE;\n",
              "      --fill-color: #1967D2;\n",
              "      --hover-bg-color: #E2EBFA;\n",
              "      --hover-fill-color: #174EA6;\n",
              "      --disabled-fill-color: #AAA;\n",
              "      --disabled-bg-color: #DDD;\n",
              "  }\n",
              "\n",
              "  [theme=dark] .colab-df-quickchart {\n",
              "      --bg-color: #3B4455;\n",
              "      --fill-color: #D2E3FC;\n",
              "      --hover-bg-color: #434B5C;\n",
              "      --hover-fill-color: #FFFFFF;\n",
              "      --disabled-bg-color: #3B4455;\n",
              "      --disabled-fill-color: #666;\n",
              "  }\n",
              "\n",
              "  .colab-df-quickchart {\n",
              "    background-color: var(--bg-color);\n",
              "    border: none;\n",
              "    border-radius: 50%;\n",
              "    cursor: pointer;\n",
              "    display: none;\n",
              "    fill: var(--fill-color);\n",
              "    height: 32px;\n",
              "    padding: 0;\n",
              "    width: 32px;\n",
              "  }\n",
              "\n",
              "  .colab-df-quickchart:hover {\n",
              "    background-color: var(--hover-bg-color);\n",
              "    box-shadow: 0 1px 2px rgba(60, 64, 67, 0.3), 0 1px 3px 1px rgba(60, 64, 67, 0.15);\n",
              "    fill: var(--button-hover-fill-color);\n",
              "  }\n",
              "\n",
              "  .colab-df-quickchart-complete:disabled,\n",
              "  .colab-df-quickchart-complete:disabled:hover {\n",
              "    background-color: var(--disabled-bg-color);\n",
              "    fill: var(--disabled-fill-color);\n",
              "    box-shadow: none;\n",
              "  }\n",
              "\n",
              "  .colab-df-spinner {\n",
              "    border: 2px solid var(--fill-color);\n",
              "    border-color: transparent;\n",
              "    border-bottom-color: var(--fill-color);\n",
              "    animation:\n",
              "      spin 1s steps(1) infinite;\n",
              "  }\n",
              "\n",
              "  @keyframes spin {\n",
              "    0% {\n",
              "      border-color: transparent;\n",
              "      border-bottom-color: var(--fill-color);\n",
              "      border-left-color: var(--fill-color);\n",
              "    }\n",
              "    20% {\n",
              "      border-color: transparent;\n",
              "      border-left-color: var(--fill-color);\n",
              "      border-top-color: var(--fill-color);\n",
              "    }\n",
              "    30% {\n",
              "      border-color: transparent;\n",
              "      border-left-color: var(--fill-color);\n",
              "      border-top-color: var(--fill-color);\n",
              "      border-right-color: var(--fill-color);\n",
              "    }\n",
              "    40% {\n",
              "      border-color: transparent;\n",
              "      border-right-color: var(--fill-color);\n",
              "      border-top-color: var(--fill-color);\n",
              "    }\n",
              "    60% {\n",
              "      border-color: transparent;\n",
              "      border-right-color: var(--fill-color);\n",
              "    }\n",
              "    80% {\n",
              "      border-color: transparent;\n",
              "      border-right-color: var(--fill-color);\n",
              "      border-bottom-color: var(--fill-color);\n",
              "    }\n",
              "    90% {\n",
              "      border-color: transparent;\n",
              "      border-bottom-color: var(--fill-color);\n",
              "    }\n",
              "  }\n",
              "</style>\n",
              "\n",
              "  <script>\n",
              "    async function quickchart(key) {\n",
              "      const quickchartButtonEl =\n",
              "        document.querySelector('#' + key + ' button');\n",
              "      quickchartButtonEl.disabled = true;  // To prevent multiple clicks.\n",
              "      quickchartButtonEl.classList.add('colab-df-spinner');\n",
              "      try {\n",
              "        const charts = await google.colab.kernel.invokeFunction(\n",
              "            'suggestCharts', [key], {});\n",
              "      } catch (error) {\n",
              "        console.error('Error during call to suggestCharts:', error);\n",
              "      }\n",
              "      quickchartButtonEl.classList.remove('colab-df-spinner');\n",
              "      quickchartButtonEl.classList.add('colab-df-quickchart-complete');\n",
              "    }\n",
              "    (() => {\n",
              "      let quickchartButtonEl =\n",
              "        document.querySelector('#df-7832e071-ba3b-4000-b63c-078a55a98cd1 button');\n",
              "      quickchartButtonEl.style.display =\n",
              "        google.colab.kernel.accessAllowed ? 'block' : 'none';\n",
              "    })();\n",
              "  </script>\n",
              "</div>\n",
              "\n",
              "    </div>\n",
              "  </div>\n"
            ],
            "application/vnd.google.colaboratory.intrinsic+json": {
              "type": "dataframe",
              "variable_name": "df",
              "summary": "{\n  \"name\": \"df\",\n  \"rows\": 32581,\n  \"fields\": [\n    {\n      \"column\": \"person_age\",\n      \"properties\": {\n        \"dtype\": \"number\",\n        \"std\": 6,\n        \"min\": 20,\n        \"max\": 144,\n        \"num_unique_values\": 58,\n        \"samples\": [\n          22,\n          26,\n          65\n        ],\n        \"semantic_type\": \"\",\n        \"description\": \"\"\n      }\n    },\n    {\n      \"column\": \"person_income\",\n      \"properties\": {\n        \"dtype\": \"number\",\n        \"std\": 61983,\n        \"min\": 4000,\n        \"max\": 6000000,\n        \"num_unique_values\": 4295,\n        \"samples\": [\n          20800,\n          54417,\n          144000\n        ],\n        \"semantic_type\": \"\",\n        \"description\": \"\"\n      }\n    },\n    {\n      \"column\": \"person_home_ownership\",\n      \"properties\": {\n        \"dtype\": \"category\",\n        \"num_unique_values\": 4,\n        \"samples\": [\n          \"OWN\",\n          \"OTHER\",\n          \"RENT\"\n        ],\n        \"semantic_type\": \"\",\n        \"description\": \"\"\n      }\n    },\n    {\n      \"column\": \"person_emp_length\",\n      \"properties\": {\n        \"dtype\": \"number\",\n        \"std\": 4.1426301488878625,\n        \"min\": 0.0,\n        \"max\": 123.0,\n        \"num_unique_values\": 36,\n        \"samples\": [\n          30.0,\n          18.0,\n          26.0\n        ],\n        \"semantic_type\": \"\",\n        \"description\": \"\"\n      }\n    },\n    {\n      \"column\": \"loan_intent\",\n      \"properties\": {\n        \"dtype\": \"category\",\n        \"num_unique_values\": 6,\n        \"samples\": [\n          \"PERSONAL\",\n          \"EDUCATION\",\n          \"DEBTCONSOLIDATION\"\n        ],\n        \"semantic_type\": \"\",\n        \"description\": \"\"\n      }\n    },\n    {\n      \"column\": \"loan_grade\",\n      \"properties\": {\n        \"dtype\": \"category\",\n        \"num_unique_values\": 7,\n        \"samples\": [\n          \"D\",\n          \"B\",\n          \"F\"\n        ],\n        \"semantic_type\": \"\",\n        \"description\": \"\"\n      }\n    },\n    {\n      \"column\": \"loan_amnt\",\n      \"properties\": {\n        \"dtype\": \"number\",\n        \"std\": 6322,\n        \"min\": 500,\n        \"max\": 35000,\n        \"num_unique_values\": 753,\n        \"samples\": [\n          13125,\n          3675,\n          13800\n        ],\n        \"semantic_type\": \"\",\n        \"description\": \"\"\n      }\n    },\n    {\n      \"column\": \"loan_int_rate\",\n      \"properties\": {\n        \"dtype\": \"number\",\n        \"std\": 3.2404594649559466,\n        \"min\": 5.42,\n        \"max\": 23.22,\n        \"num_unique_values\": 348,\n        \"samples\": [\n          10.28,\n          13.35,\n          18.07\n        ],\n        \"semantic_type\": \"\",\n        \"description\": \"\"\n      }\n    },\n    {\n      \"column\": \"loan_status\",\n      \"properties\": {\n        \"dtype\": \"number\",\n        \"std\": 0,\n        \"min\": 0,\n        \"max\": 1,\n        \"num_unique_values\": 2,\n        \"samples\": [\n          0,\n          1\n        ],\n        \"semantic_type\": \"\",\n        \"description\": \"\"\n      }\n    },\n    {\n      \"column\": \"loan_percent_income\",\n      \"properties\": {\n        \"dtype\": \"number\",\n        \"std\": 0.10678175634492382,\n        \"min\": 0.0,\n        \"max\": 0.83,\n        \"num_unique_values\": 77,\n        \"samples\": [\n          0.55,\n          0.34\n        ],\n        \"semantic_type\": \"\",\n        \"description\": \"\"\n      }\n    },\n    {\n      \"column\": \"cb_person_default_on_file\",\n      \"properties\": {\n        \"dtype\": \"category\",\n        \"num_unique_values\": 2,\n        \"samples\": [\n          \"N\",\n          \"Y\"\n        ],\n        \"semantic_type\": \"\",\n        \"description\": \"\"\n      }\n    },\n    {\n      \"column\": \"cb_person_cred_hist_length\",\n      \"properties\": {\n        \"dtype\": \"number\",\n        \"std\": 4,\n        \"min\": 2,\n        \"max\": 30,\n        \"num_unique_values\": 29,\n        \"samples\": [\n          24,\n          25\n        ],\n        \"semantic_type\": \"\",\n        \"description\": \"\"\n      }\n    }\n  ]\n}"
            }
          },
          "metadata": {},
          "execution_count": 18
        }
      ],
      "source": [
        "df.head(5)"
      ]
    },
    {
      "cell_type": "code",
      "execution_count": null,
      "metadata": {
        "id": "PXLjjB8qcxjm",
        "colab": {
          "base_uri": "https://localhost:8080/"
        },
        "outputId": "56aff5a3-7396-4679-8419-3a1563224124"
      },
      "outputs": [
        {
          "output_type": "stream",
          "name": "stdout",
          "text": [
            "<class 'pandas.core.frame.DataFrame'>\n",
            "RangeIndex: 32581 entries, 0 to 32580\n",
            "Data columns (total 12 columns):\n",
            " #   Column                      Non-Null Count  Dtype  \n",
            "---  ------                      --------------  -----  \n",
            " 0   person_age                  32581 non-null  int64  \n",
            " 1   person_income               32581 non-null  int64  \n",
            " 2   person_home_ownership       32581 non-null  object \n",
            " 3   person_emp_length           31686 non-null  float64\n",
            " 4   loan_intent                 32581 non-null  object \n",
            " 5   loan_grade                  32581 non-null  object \n",
            " 6   loan_amnt                   32581 non-null  int64  \n",
            " 7   loan_int_rate               29465 non-null  float64\n",
            " 8   loan_status                 32581 non-null  int64  \n",
            " 9   loan_percent_income         32581 non-null  float64\n",
            " 10  cb_person_default_on_file   32581 non-null  object \n",
            " 11  cb_person_cred_hist_length  32581 non-null  int64  \n",
            "dtypes: float64(3), int64(5), object(4)\n",
            "memory usage: 3.0+ MB\n"
          ]
        }
      ],
      "source": [
        "df.info()"
      ]
    },
    {
      "cell_type": "markdown",
      "metadata": {
        "id": "VrpdHT0Kdzy_"
      },
      "source": [
        "### **df.describe: Descriptive statistics **\n",
        "\n",
        "\n",
        "\n",
        "*   Summarize central tendency; Dispersion and shape of dataframe\n",
        "*   Identification of data distribution and identify issues\n",
        "\n",
        "\n",
        "\n",
        "*   Count: Numbe of Non-null values\n",
        "*   Mean ;\n",
        "*   Standard deviation: measure spread of data from mean; indicates how much\n",
        "    deviation from mean\n",
        "*   25th (25%), 50th (50% or median), and 75th (75%) percentiles: These    \n",
        "    values divide the data into quartiles, indicating the spread of the data.\n",
        "\n",
        "\n",
        "*   Unique\n",
        "*   TOP/Frequecy\n",
        "\n",
        "\n",
        "\n"
      ]
    },
    {
      "cell_type": "code",
      "execution_count": null,
      "metadata": {
        "id": "stgLl5wNdm3h",
        "colab": {
          "base_uri": "https://localhost:8080/",
          "height": 320
        },
        "outputId": "e974136a-000c-4287-d0fa-6a12ab8619c1"
      },
      "outputs": [
        {
          "output_type": "execute_result",
          "data": {
            "text/plain": [
              "         person_age  person_income  person_emp_length     loan_amnt  \\\n",
              "count  32581.000000   3.258100e+04       31686.000000  32581.000000   \n",
              "mean      27.734600   6.607485e+04           4.789686   9589.371106   \n",
              "std        6.348078   6.198312e+04           4.142630   6322.086646   \n",
              "min       20.000000   4.000000e+03           0.000000    500.000000   \n",
              "25%       23.000000   3.850000e+04           2.000000   5000.000000   \n",
              "50%       26.000000   5.500000e+04           4.000000   8000.000000   \n",
              "75%       30.000000   7.920000e+04           7.000000  12200.000000   \n",
              "max      144.000000   6.000000e+06         123.000000  35000.000000   \n",
              "\n",
              "       loan_int_rate   loan_status  loan_percent_income  \\\n",
              "count   29465.000000  32581.000000         32581.000000   \n",
              "mean       11.011695      0.218164             0.170203   \n",
              "std         3.240459      0.413006             0.106782   \n",
              "min         5.420000      0.000000             0.000000   \n",
              "25%         7.900000      0.000000             0.090000   \n",
              "50%        10.990000      0.000000             0.150000   \n",
              "75%        13.470000      0.000000             0.230000   \n",
              "max        23.220000      1.000000             0.830000   \n",
              "\n",
              "       cb_person_cred_hist_length  \n",
              "count                32581.000000  \n",
              "mean                     5.804211  \n",
              "std                      4.055001  \n",
              "min                      2.000000  \n",
              "25%                      3.000000  \n",
              "50%                      4.000000  \n",
              "75%                      8.000000  \n",
              "max                     30.000000  "
            ],
            "text/html": [
              "\n",
              "  <div id=\"df-0c06f300-3134-4f12-9f29-0cf53fa1c9bd\" class=\"colab-df-container\">\n",
              "    <div>\n",
              "<style scoped>\n",
              "    .dataframe tbody tr th:only-of-type {\n",
              "        vertical-align: middle;\n",
              "    }\n",
              "\n",
              "    .dataframe tbody tr th {\n",
              "        vertical-align: top;\n",
              "    }\n",
              "\n",
              "    .dataframe thead th {\n",
              "        text-align: right;\n",
              "    }\n",
              "</style>\n",
              "<table border=\"1\" class=\"dataframe\">\n",
              "  <thead>\n",
              "    <tr style=\"text-align: right;\">\n",
              "      <th></th>\n",
              "      <th>person_age</th>\n",
              "      <th>person_income</th>\n",
              "      <th>person_emp_length</th>\n",
              "      <th>loan_amnt</th>\n",
              "      <th>loan_int_rate</th>\n",
              "      <th>loan_status</th>\n",
              "      <th>loan_percent_income</th>\n",
              "      <th>cb_person_cred_hist_length</th>\n",
              "    </tr>\n",
              "  </thead>\n",
              "  <tbody>\n",
              "    <tr>\n",
              "      <th>count</th>\n",
              "      <td>32581.000000</td>\n",
              "      <td>3.258100e+04</td>\n",
              "      <td>31686.000000</td>\n",
              "      <td>32581.000000</td>\n",
              "      <td>29465.000000</td>\n",
              "      <td>32581.000000</td>\n",
              "      <td>32581.000000</td>\n",
              "      <td>32581.000000</td>\n",
              "    </tr>\n",
              "    <tr>\n",
              "      <th>mean</th>\n",
              "      <td>27.734600</td>\n",
              "      <td>6.607485e+04</td>\n",
              "      <td>4.789686</td>\n",
              "      <td>9589.371106</td>\n",
              "      <td>11.011695</td>\n",
              "      <td>0.218164</td>\n",
              "      <td>0.170203</td>\n",
              "      <td>5.804211</td>\n",
              "    </tr>\n",
              "    <tr>\n",
              "      <th>std</th>\n",
              "      <td>6.348078</td>\n",
              "      <td>6.198312e+04</td>\n",
              "      <td>4.142630</td>\n",
              "      <td>6322.086646</td>\n",
              "      <td>3.240459</td>\n",
              "      <td>0.413006</td>\n",
              "      <td>0.106782</td>\n",
              "      <td>4.055001</td>\n",
              "    </tr>\n",
              "    <tr>\n",
              "      <th>min</th>\n",
              "      <td>20.000000</td>\n",
              "      <td>4.000000e+03</td>\n",
              "      <td>0.000000</td>\n",
              "      <td>500.000000</td>\n",
              "      <td>5.420000</td>\n",
              "      <td>0.000000</td>\n",
              "      <td>0.000000</td>\n",
              "      <td>2.000000</td>\n",
              "    </tr>\n",
              "    <tr>\n",
              "      <th>25%</th>\n",
              "      <td>23.000000</td>\n",
              "      <td>3.850000e+04</td>\n",
              "      <td>2.000000</td>\n",
              "      <td>5000.000000</td>\n",
              "      <td>7.900000</td>\n",
              "      <td>0.000000</td>\n",
              "      <td>0.090000</td>\n",
              "      <td>3.000000</td>\n",
              "    </tr>\n",
              "    <tr>\n",
              "      <th>50%</th>\n",
              "      <td>26.000000</td>\n",
              "      <td>5.500000e+04</td>\n",
              "      <td>4.000000</td>\n",
              "      <td>8000.000000</td>\n",
              "      <td>10.990000</td>\n",
              "      <td>0.000000</td>\n",
              "      <td>0.150000</td>\n",
              "      <td>4.000000</td>\n",
              "    </tr>\n",
              "    <tr>\n",
              "      <th>75%</th>\n",
              "      <td>30.000000</td>\n",
              "      <td>7.920000e+04</td>\n",
              "      <td>7.000000</td>\n",
              "      <td>12200.000000</td>\n",
              "      <td>13.470000</td>\n",
              "      <td>0.000000</td>\n",
              "      <td>0.230000</td>\n",
              "      <td>8.000000</td>\n",
              "    </tr>\n",
              "    <tr>\n",
              "      <th>max</th>\n",
              "      <td>144.000000</td>\n",
              "      <td>6.000000e+06</td>\n",
              "      <td>123.000000</td>\n",
              "      <td>35000.000000</td>\n",
              "      <td>23.220000</td>\n",
              "      <td>1.000000</td>\n",
              "      <td>0.830000</td>\n",
              "      <td>30.000000</td>\n",
              "    </tr>\n",
              "  </tbody>\n",
              "</table>\n",
              "</div>\n",
              "    <div class=\"colab-df-buttons\">\n",
              "\n",
              "  <div class=\"colab-df-container\">\n",
              "    <button class=\"colab-df-convert\" onclick=\"convertToInteractive('df-0c06f300-3134-4f12-9f29-0cf53fa1c9bd')\"\n",
              "            title=\"Convert this dataframe to an interactive table.\"\n",
              "            style=\"display:none;\">\n",
              "\n",
              "  <svg xmlns=\"http://www.w3.org/2000/svg\" height=\"24px\" viewBox=\"0 -960 960 960\">\n",
              "    <path d=\"M120-120v-720h720v720H120Zm60-500h600v-160H180v160Zm220 220h160v-160H400v160Zm0 220h160v-160H400v160ZM180-400h160v-160H180v160Zm440 0h160v-160H620v160ZM180-180h160v-160H180v160Zm440 0h160v-160H620v160Z\"/>\n",
              "  </svg>\n",
              "    </button>\n",
              "\n",
              "  <style>\n",
              "    .colab-df-container {\n",
              "      display:flex;\n",
              "      gap: 12px;\n",
              "    }\n",
              "\n",
              "    .colab-df-convert {\n",
              "      background-color: #E8F0FE;\n",
              "      border: none;\n",
              "      border-radius: 50%;\n",
              "      cursor: pointer;\n",
              "      display: none;\n",
              "      fill: #1967D2;\n",
              "      height: 32px;\n",
              "      padding: 0 0 0 0;\n",
              "      width: 32px;\n",
              "    }\n",
              "\n",
              "    .colab-df-convert:hover {\n",
              "      background-color: #E2EBFA;\n",
              "      box-shadow: 0px 1px 2px rgba(60, 64, 67, 0.3), 0px 1px 3px 1px rgba(60, 64, 67, 0.15);\n",
              "      fill: #174EA6;\n",
              "    }\n",
              "\n",
              "    .colab-df-buttons div {\n",
              "      margin-bottom: 4px;\n",
              "    }\n",
              "\n",
              "    [theme=dark] .colab-df-convert {\n",
              "      background-color: #3B4455;\n",
              "      fill: #D2E3FC;\n",
              "    }\n",
              "\n",
              "    [theme=dark] .colab-df-convert:hover {\n",
              "      background-color: #434B5C;\n",
              "      box-shadow: 0px 1px 3px 1px rgba(0, 0, 0, 0.15);\n",
              "      filter: drop-shadow(0px 1px 2px rgba(0, 0, 0, 0.3));\n",
              "      fill: #FFFFFF;\n",
              "    }\n",
              "  </style>\n",
              "\n",
              "    <script>\n",
              "      const buttonEl =\n",
              "        document.querySelector('#df-0c06f300-3134-4f12-9f29-0cf53fa1c9bd button.colab-df-convert');\n",
              "      buttonEl.style.display =\n",
              "        google.colab.kernel.accessAllowed ? 'block' : 'none';\n",
              "\n",
              "      async function convertToInteractive(key) {\n",
              "        const element = document.querySelector('#df-0c06f300-3134-4f12-9f29-0cf53fa1c9bd');\n",
              "        const dataTable =\n",
              "          await google.colab.kernel.invokeFunction('convertToInteractive',\n",
              "                                                    [key], {});\n",
              "        if (!dataTable) return;\n",
              "\n",
              "        const docLinkHtml = 'Like what you see? Visit the ' +\n",
              "          '<a target=\"_blank\" href=https://colab.research.google.com/notebooks/data_table.ipynb>data table notebook</a>'\n",
              "          + ' to learn more about interactive tables.';\n",
              "        element.innerHTML = '';\n",
              "        dataTable['output_type'] = 'display_data';\n",
              "        await google.colab.output.renderOutput(dataTable, element);\n",
              "        const docLink = document.createElement('div');\n",
              "        docLink.innerHTML = docLinkHtml;\n",
              "        element.appendChild(docLink);\n",
              "      }\n",
              "    </script>\n",
              "  </div>\n",
              "\n",
              "\n",
              "<div id=\"df-4dfd3057-e7f6-473e-ace6-1d2fac04e76b\">\n",
              "  <button class=\"colab-df-quickchart\" onclick=\"quickchart('df-4dfd3057-e7f6-473e-ace6-1d2fac04e76b')\"\n",
              "            title=\"Suggest charts\"\n",
              "            style=\"display:none;\">\n",
              "\n",
              "<svg xmlns=\"http://www.w3.org/2000/svg\" height=\"24px\"viewBox=\"0 0 24 24\"\n",
              "     width=\"24px\">\n",
              "    <g>\n",
              "        <path d=\"M19 3H5c-1.1 0-2 .9-2 2v14c0 1.1.9 2 2 2h14c1.1 0 2-.9 2-2V5c0-1.1-.9-2-2-2zM9 17H7v-7h2v7zm4 0h-2V7h2v10zm4 0h-2v-4h2v4z\"/>\n",
              "    </g>\n",
              "</svg>\n",
              "  </button>\n",
              "\n",
              "<style>\n",
              "  .colab-df-quickchart {\n",
              "      --bg-color: #E8F0FE;\n",
              "      --fill-color: #1967D2;\n",
              "      --hover-bg-color: #E2EBFA;\n",
              "      --hover-fill-color: #174EA6;\n",
              "      --disabled-fill-color: #AAA;\n",
              "      --disabled-bg-color: #DDD;\n",
              "  }\n",
              "\n",
              "  [theme=dark] .colab-df-quickchart {\n",
              "      --bg-color: #3B4455;\n",
              "      --fill-color: #D2E3FC;\n",
              "      --hover-bg-color: #434B5C;\n",
              "      --hover-fill-color: #FFFFFF;\n",
              "      --disabled-bg-color: #3B4455;\n",
              "      --disabled-fill-color: #666;\n",
              "  }\n",
              "\n",
              "  .colab-df-quickchart {\n",
              "    background-color: var(--bg-color);\n",
              "    border: none;\n",
              "    border-radius: 50%;\n",
              "    cursor: pointer;\n",
              "    display: none;\n",
              "    fill: var(--fill-color);\n",
              "    height: 32px;\n",
              "    padding: 0;\n",
              "    width: 32px;\n",
              "  }\n",
              "\n",
              "  .colab-df-quickchart:hover {\n",
              "    background-color: var(--hover-bg-color);\n",
              "    box-shadow: 0 1px 2px rgba(60, 64, 67, 0.3), 0 1px 3px 1px rgba(60, 64, 67, 0.15);\n",
              "    fill: var(--button-hover-fill-color);\n",
              "  }\n",
              "\n",
              "  .colab-df-quickchart-complete:disabled,\n",
              "  .colab-df-quickchart-complete:disabled:hover {\n",
              "    background-color: var(--disabled-bg-color);\n",
              "    fill: var(--disabled-fill-color);\n",
              "    box-shadow: none;\n",
              "  }\n",
              "\n",
              "  .colab-df-spinner {\n",
              "    border: 2px solid var(--fill-color);\n",
              "    border-color: transparent;\n",
              "    border-bottom-color: var(--fill-color);\n",
              "    animation:\n",
              "      spin 1s steps(1) infinite;\n",
              "  }\n",
              "\n",
              "  @keyframes spin {\n",
              "    0% {\n",
              "      border-color: transparent;\n",
              "      border-bottom-color: var(--fill-color);\n",
              "      border-left-color: var(--fill-color);\n",
              "    }\n",
              "    20% {\n",
              "      border-color: transparent;\n",
              "      border-left-color: var(--fill-color);\n",
              "      border-top-color: var(--fill-color);\n",
              "    }\n",
              "    30% {\n",
              "      border-color: transparent;\n",
              "      border-left-color: var(--fill-color);\n",
              "      border-top-color: var(--fill-color);\n",
              "      border-right-color: var(--fill-color);\n",
              "    }\n",
              "    40% {\n",
              "      border-color: transparent;\n",
              "      border-right-color: var(--fill-color);\n",
              "      border-top-color: var(--fill-color);\n",
              "    }\n",
              "    60% {\n",
              "      border-color: transparent;\n",
              "      border-right-color: var(--fill-color);\n",
              "    }\n",
              "    80% {\n",
              "      border-color: transparent;\n",
              "      border-right-color: var(--fill-color);\n",
              "      border-bottom-color: var(--fill-color);\n",
              "    }\n",
              "    90% {\n",
              "      border-color: transparent;\n",
              "      border-bottom-color: var(--fill-color);\n",
              "    }\n",
              "  }\n",
              "</style>\n",
              "\n",
              "  <script>\n",
              "    async function quickchart(key) {\n",
              "      const quickchartButtonEl =\n",
              "        document.querySelector('#' + key + ' button');\n",
              "      quickchartButtonEl.disabled = true;  // To prevent multiple clicks.\n",
              "      quickchartButtonEl.classList.add('colab-df-spinner');\n",
              "      try {\n",
              "        const charts = await google.colab.kernel.invokeFunction(\n",
              "            'suggestCharts', [key], {});\n",
              "      } catch (error) {\n",
              "        console.error('Error during call to suggestCharts:', error);\n",
              "      }\n",
              "      quickchartButtonEl.classList.remove('colab-df-spinner');\n",
              "      quickchartButtonEl.classList.add('colab-df-quickchart-complete');\n",
              "    }\n",
              "    (() => {\n",
              "      let quickchartButtonEl =\n",
              "        document.querySelector('#df-4dfd3057-e7f6-473e-ace6-1d2fac04e76b button');\n",
              "      quickchartButtonEl.style.display =\n",
              "        google.colab.kernel.accessAllowed ? 'block' : 'none';\n",
              "    })();\n",
              "  </script>\n",
              "</div>\n",
              "\n",
              "    </div>\n",
              "  </div>\n"
            ],
            "application/vnd.google.colaboratory.intrinsic+json": {
              "type": "dataframe",
              "summary": "{\n  \"name\": \"df\",\n  \"rows\": 8,\n  \"fields\": [\n    {\n      \"column\": \"person_age\",\n      \"properties\": {\n        \"dtype\": \"number\",\n        \"std\": 11505.209452641495,\n        \"min\": 6.348078419225359,\n        \"max\": 32581.0,\n        \"num_unique_values\": 8,\n        \"samples\": [\n          27.73459992019889,\n          26.0,\n          32581.0\n        ],\n        \"semantic_type\": \"\",\n        \"description\": \"\"\n      }\n    },\n    {\n      \"column\": \"person_income\",\n      \"properties\": {\n        \"dtype\": \"number\",\n        \"std\": 2104411.4228170468,\n        \"min\": 4000.0,\n        \"max\": 6000000.0,\n        \"num_unique_values\": 8,\n        \"samples\": [\n          66074.84846996715,\n          55000.0,\n          32581.0\n        ],\n        \"semantic_type\": \"\",\n        \"description\": \"\"\n      }\n    },\n    {\n      \"column\": \"person_emp_length\",\n      \"properties\": {\n        \"dtype\": \"number\",\n        \"std\": 11195.45062313713,\n        \"min\": 0.0,\n        \"max\": 31686.0,\n        \"num_unique_values\": 8,\n        \"samples\": [\n          4.789686296787225,\n          4.0,\n          31686.0\n        ],\n        \"semantic_type\": \"\",\n        \"description\": \"\"\n      }\n    },\n    {\n      \"column\": \"loan_amnt\",\n      \"properties\": {\n        \"dtype\": \"number\",\n        \"std\": 12907.153470802916,\n        \"min\": 500.0,\n        \"max\": 35000.0,\n        \"num_unique_values\": 8,\n        \"samples\": [\n          9589.371105859243,\n          8000.0,\n          32581.0\n        ],\n        \"semantic_type\": \"\",\n        \"description\": \"\"\n      }\n    },\n    {\n      \"column\": \"loan_int_rate\",\n      \"properties\": {\n        \"dtype\": \"number\",\n        \"std\": 10413.651601664355,\n        \"min\": 3.2404594649559466,\n        \"max\": 29465.0,\n        \"num_unique_values\": 8,\n        \"samples\": [\n          11.011694892245036,\n          10.99,\n          29465.0\n        ],\n        \"semantic_type\": \"\",\n        \"description\": \"\"\n      }\n    },\n    {\n      \"column\": \"loan_status\",\n      \"properties\": {\n        \"dtype\": \"number\",\n        \"std\": 11519.04063760866,\n        \"min\": 0.0,\n        \"max\": 32581.0,\n        \"num_unique_values\": 5,\n        \"samples\": [\n          0.21816396059052823,\n          1.0,\n          0.4130056685601487\n        ],\n        \"semantic_type\": \"\",\n        \"description\": \"\"\n      }\n    },\n    {\n      \"column\": \"loan_percent_income\",\n      \"properties\": {\n        \"dtype\": \"number\",\n        \"std\": 11519.043371973275,\n        \"min\": 0.0,\n        \"max\": 32581.0,\n        \"num_unique_values\": 8,\n        \"samples\": [\n          0.1702034928332464,\n          0.15,\n          32581.0\n        ],\n        \"semantic_type\": \"\",\n        \"description\": \"\"\n      }\n    },\n    {\n      \"column\": \"cb_person_cred_hist_length\",\n      \"properties\": {\n        \"dtype\": \"number\",\n        \"std\": 11516.254800358192,\n        \"min\": 2.0,\n        \"max\": 32581.0,\n        \"num_unique_values\": 8,\n        \"samples\": [\n          5.804211043246064,\n          4.0,\n          32581.0\n        ],\n        \"semantic_type\": \"\",\n        \"description\": \"\"\n      }\n    }\n  ]\n}"
            }
          },
          "metadata": {},
          "execution_count": 20
        }
      ],
      "source": [
        "df.describe()"
      ]
    },
    {
      "cell_type": "markdown",
      "metadata": {
        "id": "GH4kOBLAfUy8"
      },
      "source": [
        "## Duplicates"
      ]
    },
    {
      "cell_type": "code",
      "execution_count": null,
      "metadata": {
        "id": "LtV9svy8e89g",
        "colab": {
          "base_uri": "https://localhost:8080/"
        },
        "outputId": "83ae79a4-6e74-4a94-a941-52423918bdc3"
      },
      "outputs": [
        {
          "output_type": "execute_result",
          "data": {
            "text/plain": [
              "False    32416\n",
              "True       165\n",
              "Name: count, dtype: int64"
            ]
          },
          "metadata": {},
          "execution_count": 21
        }
      ],
      "source": [
        "dups = df.duplicated()\n",
        "dups.value_counts()"
      ]
    },
    {
      "cell_type": "code",
      "execution_count": null,
      "metadata": {
        "id": "EVY-doKyfa4P"
      },
      "outputs": [],
      "source": [
        "df.drop_duplicates(inplace=True)"
      ]
    },
    {
      "cell_type": "markdown",
      "metadata": {
        "id": "S1ufZIeSfgDj"
      },
      "source": [
        "Checking for Categorical/ Numerical columns"
      ]
    },
    {
      "cell_type": "code",
      "execution_count": null,
      "metadata": {
        "id": "xPi5pQbXf7tx",
        "colab": {
          "base_uri": "https://localhost:8080/"
        },
        "outputId": "87e65af7-9eb8-4160-ab78-effcd8eaa7f8"
      },
      "outputs": [
        {
          "output_type": "stream",
          "name": "stdout",
          "text": [
            "The number of Categorical columns are: 4\n",
            "The number of Numerical columns are: 8\n"
          ]
        }
      ],
      "source": [
        "ccol=df.select_dtypes(include=[\"object\"]).columns\n",
        "ncol=df.select_dtypes(include=[\"int\",\"float\"]).columns\n",
        "\n",
        "print(\"The number of Categorical columns are:\",len(ccol))\n",
        "print(\"The number of Numerical columns are:\",len(ncol))"
      ]
    },
    {
      "cell_type": "markdown",
      "metadata": {
        "id": "BvcSoRuUgAej"
      },
      "source": [
        " Printing the different columns with their cardinality (number of unique elements in each column)"
      ]
    },
    {
      "cell_type": "code",
      "execution_count": null,
      "metadata": {
        "id": "SLrdYwnMgCYY",
        "colab": {
          "base_uri": "https://localhost:8080/"
        },
        "outputId": "17505e54-f200-4d17-c732-f835466d7804"
      },
      "outputs": [
        {
          "output_type": "stream",
          "name": "stdout",
          "text": [
            "The NUMERICAL columns are:\n",
            "\n",
            "-> person_age - 58\n",
            "-> person_income - 4295\n",
            "-> person_emp_length - 36\n",
            "-> loan_amnt - 753\n",
            "-> loan_int_rate - 348\n",
            "-> loan_status - 2\n",
            "-> loan_percent_income - 77\n",
            "-> cb_person_cred_hist_length - 29\n",
            "\n",
            "---------------------------\n",
            "\n",
            "The CATEGORICAL columns are:\n",
            "\n",
            "-> person_home_ownership - 4\n",
            "-> loan_intent - 6\n",
            "-> loan_grade - 7\n",
            "-> cb_person_default_on_file - 2\n"
          ]
        }
      ],
      "source": [
        "print(\"The NUMERICAL columns are:\\n\")\n",
        "for i in ncol:\n",
        "    print(\"->\",i,\"-\",df[i].nunique())\n",
        "\n",
        "print(\"\\n---------------------------\\n\")\n",
        "print(\"The CATEGORICAL columns are:\\n\")\n",
        "for i in ccol:\n",
        "    print(\"->\",i,\"-\",df[i].nunique())"
      ]
    },
    {
      "cell_type": "code",
      "execution_count": null,
      "metadata": {
        "id": "y5pVzH1MgRqV"
      },
      "outputs": [],
      "source": [
        "df.drop(['loan_int_rate'],axis=1,inplace=True)"
      ]
    },
    {
      "cell_type": "code",
      "execution_count": null,
      "metadata": {
        "id": "fUb-g2AfgT18",
        "colab": {
          "base_uri": "https://localhost:8080/"
        },
        "outputId": "3206b88b-8d90-44f9-857f-3b02f0d3521a"
      },
      "outputs": [
        {
          "output_type": "execute_result",
          "data": {
            "text/plain": [
              "array(['PERSONAL', 'EDUCATION', 'MEDICAL', 'VENTURE', 'HOMEIMPROVEMENT',\n",
              "       'DEBTCONSOLIDATION'], dtype=object)"
            ]
          },
          "metadata": {},
          "execution_count": 26
        }
      ],
      "source": [
        "df[\"loan_intent\"].unique()"
      ]
    },
    {
      "cell_type": "code",
      "execution_count": null,
      "metadata": {
        "id": "dB8bChCtgWys",
        "colab": {
          "base_uri": "https://localhost:8080/"
        },
        "outputId": "430dab79-c99e-4ada-b550-2788d49e94aa"
      },
      "outputs": [
        {
          "output_type": "execute_result",
          "data": {
            "text/plain": [
              "Index(['person_age', 'person_income', 'person_home_ownership',\n",
              "       'person_emp_length', 'loan_intent', 'loan_grade', 'loan_amnt',\n",
              "       'loan_status', 'loan_percent_income', 'cb_person_default_on_file',\n",
              "       'cb_person_cred_hist_length'],\n",
              "      dtype='object')"
            ]
          },
          "metadata": {},
          "execution_count": 27
        }
      ],
      "source": [
        "df.columns"
      ]
    },
    {
      "cell_type": "code",
      "execution_count": null,
      "metadata": {
        "id": "Dh2bz-qJgaMP",
        "colab": {
          "base_uri": "https://localhost:8080/"
        },
        "outputId": "7940b410-bd5c-44c4-d95e-762d4c6c4598"
      },
      "outputs": [
        {
          "output_type": "execute_result",
          "data": {
            "text/plain": [
              "loan_status\n",
              "0    0.781312\n",
              "1    0.218688\n",
              "Name: proportion, dtype: float64"
            ]
          },
          "metadata": {},
          "execution_count": 28
        }
      ],
      "source": [
        "df[\"loan_status\"].value_counts(normalize=True)"
      ]
    },
    {
      "cell_type": "code",
      "execution_count": null,
      "metadata": {
        "id": "VGoh1Sr3hDJx",
        "colab": {
          "base_uri": "https://localhost:8080/"
        },
        "outputId": "fd83c43d-630f-4ba2-aa86-6a1136d3bc40"
      },
      "outputs": [
        {
          "output_type": "execute_result",
          "data": {
            "text/plain": [
              "person_age                      0\n",
              "person_income                   0\n",
              "person_home_ownership           0\n",
              "person_emp_length             887\n",
              "loan_intent                     0\n",
              "loan_grade                      0\n",
              "loan_amnt                       0\n",
              "loan_status                     0\n",
              "loan_percent_income             0\n",
              "cb_person_default_on_file       0\n",
              "cb_person_cred_hist_length      0\n",
              "dtype: int64"
            ]
          },
          "metadata": {},
          "execution_count": 29
        }
      ],
      "source": [
        "df.isna().sum()"
      ]
    },
    {
      "cell_type": "markdown",
      "metadata": {
        "id": "zpufjIGjiSnO"
      },
      "source": [
        "## Data highly IMBALANCED: oversampling techniques like **KNN-SMOTE**"
      ]
    },
    {
      "cell_type": "markdown",
      "metadata": {
        "id": "RWxChRyQhwJh"
      },
      "source": [
        "MCAR (Missing Completely at Random):\n",
        "\n",
        "\n",
        "1.   Missingness is unrelated to any observed or unobserved variables.\n",
        "No systematic reason for missing values.\n",
        "Considered the least problematic type of missing data.\n",
        "\n",
        "\n",
        "\n",
        "\n",
        "\n",
        "MAR (Missing at Random):\n",
        "\n",
        "1.   Missingness depends on other observed variables but not on the missing data itself.\n",
        "Related to some observed variables but not to the missing values themselves.\n",
        "Common in longitudinal studies or surveys where certain groups are less likely to respond.\n",
        "\n",
        "\n",
        "\n",
        "MNAR (Missing Not at Random):\n",
        "\n",
        "\n",
        "1.   Missingness is related to the missing values themselves, even after accounting for observed data.\n",
        "Related to unobserved data or the missing values themselves.\n",
        "Introduces bias into analyses and requires more sophisticated handling methods.\n",
        "\n"
      ]
    },
    {
      "cell_type": "code",
      "source": [
        "import matplotlib.pyplot as plt\n"
      ],
      "metadata": {
        "id": "XUN6FyN3rj1u"
      },
      "execution_count": null,
      "outputs": []
    },
    {
      "cell_type": "code",
      "execution_count": null,
      "metadata": {
        "id": "7RioW9boiOUf",
        "colab": {
          "base_uri": "https://localhost:8080/",
          "height": 675
        },
        "outputId": "ddccbf21-3301-4b9c-a04e-6eee2ae23e59"
      },
      "outputs": [
        {
          "output_type": "display_data",
          "data": {
            "text/plain": [
              "<Figure size 800x800 with 1 Axes>"
            ],
            "image/png": "[encoded data removed]"
          },
          "metadata": {}
        }
      ],
      "source": [
        "## Missing values in each target class:\n",
        "p=df.groupby([\"loan_status\"])[\"person_emp_length\"].apply(lambda x:x.isnull().sum())\n",
        "\n",
        "fig,ax=plt.subplots(1,1,figsize=(8,8))\n",
        "# ax[0].set_title(\"Missing values in loan_int_rate\")\n",
        "# ax[0].pie(l.values, labels=l.index, colors=sns.color_palette('bright'), autopct='%.0f%%')\n",
        "\n",
        "ax.set_title(\"Missing values in person_emp_length\")\n",
        "ax.pie(p.values, labels=p.index, colors=sns.color_palette('cool'), autopct='%.0f%%')\n",
        "fig.show()"
      ]
    },
    {
      "cell_type": "markdown",
      "metadata": {
        "id": "bx79Gc8Ji8nZ"
      },
      "source": [
        "### Note: it's essential to split the dataset into training and testing sets before implementing any preprocessing techniques such as outlier removal, handling missing values, oversampling, etc"
      ]
    },
    {
      "cell_type": "markdown",
      "metadata": {
        "id": "Hax004OyjguF"
      },
      "source": [
        "Train_test split : df.drop(Y) ; df.column(X); random state set random seed for reporducibility ; test_size  = generally 70/80:30/20; stratify= df (Target variable class variable is preserved-->particularly useful for imblanced datasets ; shuffle bias --> Parameter shuffles the data before splitting ensuring points to be randomly ordered to avoid bias  "
      ]
    },
    {
      "cell_type": "code",
      "execution_count": null,
      "metadata": {
        "id": "TyDLcJ6gjO1H"
      },
      "outputs": [],
      "source": [
        "X, X_test, y, y_test = train_test_split(df.drop('loan_status', axis=1), df['loan_status'],\n",
        "                                        random_state=0,  test_size=0.2, stratify=df['loan_status'],\n",
        "                                        shuffle=True)"
      ]
    },
    {
      "cell_type": "code",
      "execution_count": null,
      "metadata": {
        "id": "q-0s2uhkk3Rf",
        "colab": {
          "base_uri": "https://localhost:8080/"
        },
        "outputId": "67106dc7-9c1a-4126-9afa-e04a6e61b108"
      },
      "outputs": [
        {
          "output_type": "execute_result",
          "data": {
            "text/plain": [
              "loan_status\n",
              "0    0.781313\n",
              "1    0.218687\n",
              "Name: proportion, dtype: float64"
            ]
          },
          "metadata": {},
          "execution_count": 33
        }
      ],
      "source": [
        "y.value_counts(normalize=True)"
      ]
    },
    {
      "cell_type": "code",
      "execution_count": null,
      "metadata": {
        "id": "b_0uq1qbk5u9",
        "colab": {
          "base_uri": "https://localhost:8080/"
        },
        "outputId": "38883152-7fc7-45da-ca0c-e47f672095f7"
      },
      "outputs": [
        {
          "output_type": "execute_result",
          "data": {
            "text/plain": [
              "loan_status\n",
              "0    0.781308\n",
              "1    0.218692\n",
              "Name: proportion, dtype: float64"
            ]
          },
          "metadata": {},
          "execution_count": 34
        }
      ],
      "source": [
        "y_test.value_counts(normalize=True)"
      ]
    },
    {
      "cell_type": "markdown",
      "metadata": {
        "id": "J-mfMkGWk_Yp"
      },
      "source": [
        "Unique values"
      ]
    },
    {
      "cell_type": "code",
      "execution_count": null,
      "metadata": {
        "id": "a4a6Tda9k-pW",
        "colab": {
          "base_uri": "https://localhost:8080/"
        },
        "outputId": "9daeae7c-773b-47bc-f481-c39d4699f9bf"
      },
      "outputs": [
        {
          "output_type": "stream",
          "name": "stdout",
          "text": [
            "person_age ---> 58\n",
            "\n",
            "person_income ---> 3680\n",
            "\n",
            "person_home_ownership ---> 4\n",
            "person_home_ownership\n",
            "RENT        50.320068\n",
            "MORTGAGE    41.439149\n",
            "OWN          7.916859\n",
            "OTHER        0.323924\n",
            "Name: proportion, dtype: float64\n",
            "\n",
            "person_emp_length ---> 36\n",
            "\n",
            "loan_intent ---> 6\n",
            "loan_intent\n",
            "EDUCATION            19.809502\n",
            "MEDICAL              18.787598\n",
            "VENTURE              17.542033\n",
            "PERSONAL             16.878760\n",
            "DEBTCONSOLIDATION    15.968687\n",
            "HOMEIMPROVEMENT      11.013420\n",
            "Name: proportion, dtype: float64\n",
            "\n",
            "loan_grade ---> 7\n",
            "loan_grade\n",
            "A    32.932284\n",
            "B    32.126330\n",
            "C    19.902052\n",
            "D    11.121394\n",
            "E     3.004010\n",
            "F     0.732685\n",
            "G     0.181243\n",
            "Name: proportion, dtype: float64\n",
            "\n",
            "loan_amnt ---> 710\n",
            "\n",
            "loan_percent_income ---> 75\n",
            "\n",
            "cb_person_default_on_file ---> 2\n",
            "cb_person_default_on_file\n",
            "N    82.392411\n",
            "Y    17.607589\n",
            "Name: proportion, dtype: float64\n",
            "\n",
            "cb_person_cred_hist_length ---> 29\n",
            "\n"
          ]
        }
      ],
      "source": [
        "for col in X:\n",
        "    print(col, '--->', X[col].nunique())\n",
        "    if X[col].nunique()<20:\n",
        "        print(X[col].value_counts(normalize=True)*100)\n",
        "    print()"
      ]
    },
    {
      "cell_type": "markdown",
      "metadata": {
        "id": "HNFtQTTxlFf3"
      },
      "source": [
        "Outlier removal"
      ]
    },
    {
      "cell_type": "code",
      "execution_count": null,
      "metadata": {
        "id": "uQbtCmBelEjK",
        "colab": {
          "base_uri": "https://localhost:8080/",
          "height": 320
        },
        "outputId": "e89ac33d-5f03-4542-e870-bc20bee4b64c"
      },
      "outputs": [
        {
          "output_type": "execute_result",
          "data": {
            "text/plain": [
              "       person_age  person_income person_home_ownership  person_emp_length  \\\n",
              "32422          80          64000                  RENT                7.0   \n",
              "81            144         250000                  RENT                4.0   \n",
              "32416          94          24000                  RENT                1.0   \n",
              "747           123          78000                  RENT                7.0   \n",
              "183           144         200000              MORTGAGE                4.0   \n",
              "575           123          80004                  RENT                2.0   \n",
              "32506          84          94800              MORTGAGE                2.0   \n",
              "32297         144        6000000              MORTGAGE               12.0   \n",
              "\n",
              "      loan_intent loan_grade  loan_amnt  loan_percent_income  \\\n",
              "32422     MEDICAL          B       6800                 0.11   \n",
              "81        VENTURE          C       4800                 0.02   \n",
              "32416     MEDICAL          C       6500                 0.27   \n",
              "747       VENTURE          B      20000                 0.26   \n",
              "183     EDUCATION          B       6000                 0.03   \n",
              "575     EDUCATION          B      20400                 0.25   \n",
              "32506    PERSONAL          A      10000                 0.11   \n",
              "32297    PERSONAL          C       5000                 0.00   \n",
              "\n",
              "      cb_person_default_on_file  cb_person_cred_hist_length  \n",
              "32422                         N                          25  \n",
              "81                            N                           3  \n",
              "32416                         N                          27  \n",
              "747                           N                           4  \n",
              "183                           N                           2  \n",
              "575                           N                           3  \n",
              "32506                         N                          24  \n",
              "32297                         N                          25  "
            ],
            "text/html": [
              "\n",
              "  <div id=\"df-84e79618-a9c9-44fe-ae81-dfaeaf49e478\" class=\"colab-df-container\">\n",
              "    <div>\n",
              "<style scoped>\n",
              "    .dataframe tbody tr th:only-of-type {\n",
              "        vertical-align: middle;\n",
              "    }\n",
              "\n",
              "    .dataframe tbody tr th {\n",
              "        vertical-align: top;\n",
              "    }\n",
              "\n",
              "    .dataframe thead th {\n",
              "        text-align: right;\n",
              "    }\n",
              "</style>\n",
              "<table border=\"1\" class=\"dataframe\">\n",
              "  <thead>\n",
              "    <tr style=\"text-align: right;\">\n",
              "      <th></th>\n",
              "      <th>person_age</th>\n",
              "      <th>person_income</th>\n",
              "      <th>person_home_ownership</th>\n",
              "      <th>person_emp_length</th>\n",
              "      <th>loan_intent</th>\n",
              "      <th>loan_grade</th>\n",
              "      <th>loan_amnt</th>\n",
              "      <th>loan_percent_income</th>\n",
              "      <th>cb_person_default_on_file</th>\n",
              "      <th>cb_person_cred_hist_length</th>\n",
              "    </tr>\n",
              "  </thead>\n",
              "  <tbody>\n",
              "    <tr>\n",
              "      <th>32422</th>\n",
              "      <td>80</td>\n",
              "      <td>64000</td>\n",
              "      <td>RENT</td>\n",
              "      <td>7.0</td>\n",
              "      <td>MEDICAL</td>\n",
              "      <td>B</td>\n",
              "      <td>6800</td>\n",
              "      <td>0.11</td>\n",
              "      <td>N</td>\n",
              "      <td>25</td>\n",
              "    </tr>\n",
              "    <tr>\n",
              "      <th>81</th>\n",
              "      <td>144</td>\n",
              "      <td>250000</td>\n",
              "      <td>RENT</td>\n",
              "      <td>4.0</td>\n",
              "      <td>VENTURE</td>\n",
              "      <td>C</td>\n",
              "      <td>4800</td>\n",
              "      <td>0.02</td>\n",
              "      <td>N</td>\n",
              "      <td>3</td>\n",
              "    </tr>\n",
              "    <tr>\n",
              "      <th>32416</th>\n",
              "      <td>94</td>\n",
              "      <td>24000</td>\n",
              "      <td>RENT</td>\n",
              "      <td>1.0</td>\n",
              "      <td>MEDICAL</td>\n",
              "      <td>C</td>\n",
              "      <td>6500</td>\n",
              "      <td>0.27</td>\n",
              "      <td>N</td>\n",
              "      <td>27</td>\n",
              "    </tr>\n",
              "    <tr>\n",
              "      <th>747</th>\n",
              "      <td>123</td>\n",
              "      <td>78000</td>\n",
              "      <td>RENT</td>\n",
              "      <td>7.0</td>\n",
              "      <td>VENTURE</td>\n",
              "      <td>B</td>\n",
              "      <td>20000</td>\n",
              "      <td>0.26</td>\n",
              "      <td>N</td>\n",
              "      <td>4</td>\n",
              "    </tr>\n",
              "    <tr>\n",
              "      <th>183</th>\n",
              "      <td>144</td>\n",
              "      <td>200000</td>\n",
              "      <td>MORTGAGE</td>\n",
              "      <td>4.0</td>\n",
              "      <td>EDUCATION</td>\n",
              "      <td>B</td>\n",
              "      <td>6000</td>\n",
              "      <td>0.03</td>\n",
              "      <td>N</td>\n",
              "      <td>2</td>\n",
              "    </tr>\n",
              "    <tr>\n",
              "      <th>575</th>\n",
              "      <td>123</td>\n",
              "      <td>80004</td>\n",
              "      <td>RENT</td>\n",
              "      <td>2.0</td>\n",
              "      <td>EDUCATION</td>\n",
              "      <td>B</td>\n",
              "      <td>20400</td>\n",
              "      <td>0.25</td>\n",
              "      <td>N</td>\n",
              "      <td>3</td>\n",
              "    </tr>\n",
              "    <tr>\n",
              "      <th>32506</th>\n",
              "      <td>84</td>\n",
              "      <td>94800</td>\n",
              "      <td>MORTGAGE</td>\n",
              "      <td>2.0</td>\n",
              "      <td>PERSONAL</td>\n",
              "      <td>A</td>\n",
              "      <td>10000</td>\n",
              "      <td>0.11</td>\n",
              "      <td>N</td>\n",
              "      <td>24</td>\n",
              "    </tr>\n",
              "    <tr>\n",
              "      <th>32297</th>\n",
              "      <td>144</td>\n",
              "      <td>6000000</td>\n",
              "      <td>MORTGAGE</td>\n",
              "      <td>12.0</td>\n",
              "      <td>PERSONAL</td>\n",
              "      <td>C</td>\n",
              "      <td>5000</td>\n",
              "      <td>0.00</td>\n",
              "      <td>N</td>\n",
              "      <td>25</td>\n",
              "    </tr>\n",
              "  </tbody>\n",
              "</table>\n",
              "</div>\n",
              "    <div class=\"colab-df-buttons\">\n",
              "\n",
              "  <div class=\"colab-df-container\">\n",
              "    <button class=\"colab-df-convert\" onclick=\"convertToInteractive('df-84e79618-a9c9-44fe-ae81-dfaeaf49e478')\"\n",
              "            title=\"Convert this dataframe to an interactive table.\"\n",
              "            style=\"display:none;\">\n",
              "\n",
              "  <svg xmlns=\"http://www.w3.org/2000/svg\" height=\"24px\" viewBox=\"0 -960 960 960\">\n",
              "    <path d=\"M120-120v-720h720v720H120Zm60-500h600v-160H180v160Zm220 220h160v-160H400v160Zm0 220h160v-160H400v160ZM180-400h160v-160H180v160Zm440 0h160v-160H620v160ZM180-180h160v-160H180v160Zm440 0h160v-160H620v160Z\"/>\n",
              "  </svg>\n",
              "    </button>\n",
              "\n",
              "  <style>\n",
              "    .colab-df-container {\n",
              "      display:flex;\n",
              "      gap: 12px;\n",
              "    }\n",
              "\n",
              "    .colab-df-convert {\n",
              "      background-color: #E8F0FE;\n",
              "      border: none;\n",
              "      border-radius: 50%;\n",
              "      cursor: pointer;\n",
              "      display: none;\n",
              "      fill: #1967D2;\n",
              "      height: 32px;\n",
              "      padding: 0 0 0 0;\n",
              "      width: 32px;\n",
              "    }\n",
              "\n",
              "    .colab-df-convert:hover {\n",
              "      background-color: #E2EBFA;\n",
              "      box-shadow: 0px 1px 2px rgba(60, 64, 67, 0.3), 0px 1px 3px 1px rgba(60, 64, 67, 0.15);\n",
              "      fill: #174EA6;\n",
              "    }\n",
              "\n",
              "    .colab-df-buttons div {\n",
              "      margin-bottom: 4px;\n",
              "    }\n",
              "\n",
              "    [theme=dark] .colab-df-convert {\n",
              "      background-color: #3B4455;\n",
              "      fill: #D2E3FC;\n",
              "    }\n",
              "\n",
              "    [theme=dark] .colab-df-convert:hover {\n",
              "      background-color: #434B5C;\n",
              "      box-shadow: 0px 1px 3px 1px rgba(0, 0, 0, 0.15);\n",
              "      filter: drop-shadow(0px 1px 2px rgba(0, 0, 0, 0.3));\n",
              "      fill: #FFFFFF;\n",
              "    }\n",
              "  </style>\n",
              "\n",
              "    <script>\n",
              "      const buttonEl =\n",
              "        document.querySelector('#df-84e79618-a9c9-44fe-ae81-dfaeaf49e478 button.colab-df-convert');\n",
              "      buttonEl.style.display =\n",
              "        google.colab.kernel.accessAllowed ? 'block' : 'none';\n",
              "\n",
              "      async function convertToInteractive(key) {\n",
              "        const element = document.querySelector('#df-84e79618-a9c9-44fe-ae81-dfaeaf49e478');\n",
              "        const dataTable =\n",
              "          await google.colab.kernel.invokeFunction('convertToInteractive',\n",
              "                                                    [key], {});\n",
              "        if (!dataTable) return;\n",
              "\n",
              "        const docLinkHtml = 'Like what you see? Visit the ' +\n",
              "          '<a target=\"_blank\" href=https://colab.research.google.com/notebooks/data_table.ipynb>data table notebook</a>'\n",
              "          + ' to learn more about interactive tables.';\n",
              "        element.innerHTML = '';\n",
              "        dataTable['output_type'] = 'display_data';\n",
              "        await google.colab.output.renderOutput(dataTable, element);\n",
              "        const docLink = document.createElement('div');\n",
              "        docLink.innerHTML = docLinkHtml;\n",
              "        element.appendChild(docLink);\n",
              "      }\n",
              "    </script>\n",
              "  </div>\n",
              "\n",
              "\n",
              "<div id=\"df-8d40c0f3-fec4-4cd8-b570-47ded2088d7e\">\n",
              "  <button class=\"colab-df-quickchart\" onclick=\"quickchart('df-8d40c0f3-fec4-4cd8-b570-47ded2088d7e')\"\n",
              "            title=\"Suggest charts\"\n",
              "            style=\"display:none;\">\n",
              "\n",
              "<svg xmlns=\"http://www.w3.org/2000/svg\" height=\"24px\"viewBox=\"0 0 24 24\"\n",
              "     width=\"24px\">\n",
              "    <g>\n",
              "        <path d=\"M19 3H5c-1.1 0-2 .9-2 2v14c0 1.1.9 2 2 2h14c1.1 0 2-.9 2-2V5c0-1.1-.9-2-2-2zM9 17H7v-7h2v7zm4 0h-2V7h2v10zm4 0h-2v-4h2v4z\"/>\n",
              "    </g>\n",
              "</svg>\n",
              "  </button>\n",
              "\n",
              "<style>\n",
              "  .colab-df-quickchart {\n",
              "      --bg-color: #E8F0FE;\n",
              "      --fill-color: #1967D2;\n",
              "      --hover-bg-color: #E2EBFA;\n",
              "      --hover-fill-color: #174EA6;\n",
              "      --disabled-fill-color: #AAA;\n",
              "      --disabled-bg-color: #DDD;\n",
              "  }\n",
              "\n",
              "  [theme=dark] .colab-df-quickchart {\n",
              "      --bg-color: #3B4455;\n",
              "      --fill-color: #D2E3FC;\n",
              "      --hover-bg-color: #434B5C;\n",
              "      --hover-fill-color: #FFFFFF;\n",
              "      --disabled-bg-color: #3B4455;\n",
              "      --disabled-fill-color: #666;\n",
              "  }\n",
              "\n",
              "  .colab-df-quickchart {\n",
              "    background-color: var(--bg-color);\n",
              "    border: none;\n",
              "    border-radius: 50%;\n",
              "    cursor: pointer;\n",
              "    display: none;\n",
              "    fill: var(--fill-color);\n",
              "    height: 32px;\n",
              "    padding: 0;\n",
              "    width: 32px;\n",
              "  }\n",
              "\n",
              "  .colab-df-quickchart:hover {\n",
              "    background-color: var(--hover-bg-color);\n",
              "    box-shadow: 0 1px 2px rgba(60, 64, 67, 0.3), 0 1px 3px 1px rgba(60, 64, 67, 0.15);\n",
              "    fill: var(--button-hover-fill-color);\n",
              "  }\n",
              "\n",
              "  .colab-df-quickchart-complete:disabled,\n",
              "  .colab-df-quickchart-complete:disabled:hover {\n",
              "    background-color: var(--disabled-bg-color);\n",
              "    fill: var(--disabled-fill-color);\n",
              "    box-shadow: none;\n",
              "  }\n",
              "\n",
              "  .colab-df-spinner {\n",
              "    border: 2px solid var(--fill-color);\n",
              "    border-color: transparent;\n",
              "    border-bottom-color: var(--fill-color);\n",
              "    animation:\n",
              "      spin 1s steps(1) infinite;\n",
              "  }\n",
              "\n",
              "  @keyframes spin {\n",
              "    0% {\n",
              "      border-color: transparent;\n",
              "      border-bottom-color: var(--fill-color);\n",
              "      border-left-color: var(--fill-color);\n",
              "    }\n",
              "    20% {\n",
              "      border-color: transparent;\n",
              "      border-left-color: var(--fill-color);\n",
              "      border-top-color: var(--fill-color);\n",
              "    }\n",
              "    30% {\n",
              "      border-color: transparent;\n",
              "      border-left-color: var(--fill-color);\n",
              "      border-top-color: var(--fill-color);\n",
              "      border-right-color: var(--fill-color);\n",
              "    }\n",
              "    40% {\n",
              "      border-color: transparent;\n",
              "      border-right-color: var(--fill-color);\n",
              "      border-top-color: var(--fill-color);\n",
              "    }\n",
              "    60% {\n",
              "      border-color: transparent;\n",
              "      border-right-color: var(--fill-color);\n",
              "    }\n",
              "    80% {\n",
              "      border-color: transparent;\n",
              "      border-right-color: var(--fill-color);\n",
              "      border-bottom-color: var(--fill-color);\n",
              "    }\n",
              "    90% {\n",
              "      border-color: transparent;\n",
              "      border-bottom-color: var(--fill-color);\n",
              "    }\n",
              "  }\n",
              "</style>\n",
              "\n",
              "  <script>\n",
              "    async function quickchart(key) {\n",
              "      const quickchartButtonEl =\n",
              "        document.querySelector('#' + key + ' button');\n",
              "      quickchartButtonEl.disabled = true;  // To prevent multiple clicks.\n",
              "      quickchartButtonEl.classList.add('colab-df-spinner');\n",
              "      try {\n",
              "        const charts = await google.colab.kernel.invokeFunction(\n",
              "            'suggestCharts', [key], {});\n",
              "      } catch (error) {\n",
              "        console.error('Error during call to suggestCharts:', error);\n",
              "      }\n",
              "      quickchartButtonEl.classList.remove('colab-df-spinner');\n",
              "      quickchartButtonEl.classList.add('colab-df-quickchart-complete');\n",
              "    }\n",
              "    (() => {\n",
              "      let quickchartButtonEl =\n",
              "        document.querySelector('#df-8d40c0f3-fec4-4cd8-b570-47ded2088d7e button');\n",
              "      quickchartButtonEl.style.display =\n",
              "        google.colab.kernel.accessAllowed ? 'block' : 'none';\n",
              "    })();\n",
              "  </script>\n",
              "</div>\n",
              "\n",
              "    </div>\n",
              "  </div>\n"
            ],
            "application/vnd.google.colaboratory.intrinsic+json": {
              "type": "dataframe",
              "summary": "{\n  \"name\": \"X\",\n  \"rows\": 8,\n  \"fields\": [\n    {\n      \"column\": \"person_age\",\n      \"properties\": {\n        \"dtype\": \"number\",\n        \"std\": 27,\n        \"min\": 80,\n        \"max\": 144,\n        \"num_unique_values\": 5,\n        \"samples\": [\n          144,\n          84,\n          94\n        ],\n        \"semantic_type\": \"\",\n        \"description\": \"\"\n      }\n    },\n    {\n      \"column\": \"person_income\",\n      \"properties\": {\n        \"dtype\": \"number\",\n        \"std\": 2082727,\n        \"min\": 24000,\n        \"max\": 6000000,\n        \"num_unique_values\": 8,\n        \"samples\": [\n          250000,\n          80004,\n          64000\n        ],\n        \"semantic_type\": \"\",\n        \"description\": \"\"\n      }\n    },\n    {\n      \"column\": \"person_home_ownership\",\n      \"properties\": {\n        \"dtype\": \"category\",\n        \"num_unique_values\": 2,\n        \"samples\": [\n          \"MORTGAGE\",\n          \"RENT\"\n        ],\n        \"semantic_type\": \"\",\n        \"description\": \"\"\n      }\n    },\n    {\n      \"column\": \"person_emp_length\",\n      \"properties\": {\n        \"dtype\": \"number\",\n        \"std\": 3.6425069859723185,\n        \"min\": 1.0,\n        \"max\": 12.0,\n        \"num_unique_values\": 5,\n        \"samples\": [\n          4.0,\n          12.0\n        ],\n        \"semantic_type\": \"\",\n        \"description\": \"\"\n      }\n    },\n    {\n      \"column\": \"loan_intent\",\n      \"properties\": {\n        \"dtype\": \"string\",\n        \"num_unique_values\": 4,\n        \"samples\": [\n          \"VENTURE\",\n          \"PERSONAL\"\n        ],\n        \"semantic_type\": \"\",\n        \"description\": \"\"\n      }\n    },\n    {\n      \"column\": \"loan_grade\",\n      \"properties\": {\n        \"dtype\": \"category\",\n        \"num_unique_values\": 3,\n        \"samples\": [\n          \"B\",\n          \"C\"\n        ],\n        \"semantic_type\": \"\",\n        \"description\": \"\"\n      }\n    },\n    {\n      \"column\": \"loan_amnt\",\n      \"properties\": {\n        \"dtype\": \"number\",\n        \"std\": 6531,\n        \"min\": 4800,\n        \"max\": 20400,\n        \"num_unique_values\": 8,\n        \"samples\": [\n          4800,\n          20400\n        ],\n        \"semantic_type\": \"\",\n        \"description\": \"\"\n      }\n    },\n    {\n      \"column\": \"loan_percent_income\",\n      \"properties\": {\n        \"dtype\": \"number\",\n        \"std\": 0.11382160226801037,\n        \"min\": 0.0,\n        \"max\": 0.27,\n        \"num_unique_values\": 7,\n        \"samples\": [\n          0.11,\n          0.02\n        ],\n        \"semantic_type\": \"\",\n        \"description\": \"\"\n      }\n    },\n    {\n      \"column\": \"cb_person_default_on_file\",\n      \"properties\": {\n        \"dtype\": \"category\",\n        \"num_unique_values\": 1,\n        \"samples\": [\n          \"N\"\n        ],\n        \"semantic_type\": \"\",\n        \"description\": \"\"\n      }\n    },\n    {\n      \"column\": \"cb_person_cred_hist_length\",\n      \"properties\": {\n        \"dtype\": \"number\",\n        \"std\": 11,\n        \"min\": 2,\n        \"max\": 27,\n        \"num_unique_values\": 6,\n        \"samples\": [\n          25\n        ],\n        \"semantic_type\": \"\",\n        \"description\": \"\"\n      }\n    }\n  ]\n}"
            }
          },
          "metadata": {},
          "execution_count": 36
        }
      ],
      "source": [
        "X.loc[X['person_age']>=80, :]"
      ]
    },
    {
      "cell_type": "code",
      "execution_count": null,
      "metadata": {
        "id": "bVRVQ6gElMYn"
      },
      "outputs": [],
      "source": [
        "X = X.loc[X['person_age']<80, :]"
      ]
    },
    {
      "cell_type": "code",
      "execution_count": null,
      "metadata": {
        "id": "zvaW7Ra8lQ1m",
        "colab": {
          "base_uri": "https://localhost:8080/",
          "height": 132
        },
        "outputId": "60848719-00f4-42fa-da62-9160d769265c"
      },
      "outputs": [
        {
          "output_type": "execute_result",
          "data": {
            "text/plain": [
              "     person_age  person_income person_home_ownership  person_emp_length  \\\n",
              "210          21         192000              MORTGAGE              123.0   \n",
              "0            22          59000                  RENT              123.0   \n",
              "\n",
              "    loan_intent loan_grade  loan_amnt  loan_percent_income  \\\n",
              "210     VENTURE          A      20000                 0.10   \n",
              "0      PERSONAL          D      35000                 0.59   \n",
              "\n",
              "    cb_person_default_on_file  cb_person_cred_hist_length  \n",
              "210                         N                           4  \n",
              "0                           Y                           3  "
            ],
            "text/html": [
              "\n",
              "  <div id=\"df-72f14c98-d43f-4820-af29-70e942234c58\" class=\"colab-df-container\">\n",
              "    <div>\n",
              "<style scoped>\n",
              "    .dataframe tbody tr th:only-of-type {\n",
              "        vertical-align: middle;\n",
              "    }\n",
              "\n",
              "    .dataframe tbody tr th {\n",
              "        vertical-align: top;\n",
              "    }\n",
              "\n",
              "    .dataframe thead th {\n",
              "        text-align: right;\n",
              "    }\n",
              "</style>\n",
              "<table border=\"1\" class=\"dataframe\">\n",
              "  <thead>\n",
              "    <tr style=\"text-align: right;\">\n",
              "      <th></th>\n",
              "      <th>person_age</th>\n",
              "      <th>person_income</th>\n",
              "      <th>person_home_ownership</th>\n",
              "      <th>person_emp_length</th>\n",
              "      <th>loan_intent</th>\n",
              "      <th>loan_grade</th>\n",
              "      <th>loan_amnt</th>\n",
              "      <th>loan_percent_income</th>\n",
              "      <th>cb_person_default_on_file</th>\n",
              "      <th>cb_person_cred_hist_length</th>\n",
              "    </tr>\n",
              "  </thead>\n",
              "  <tbody>\n",
              "    <tr>\n",
              "      <th>210</th>\n",
              "      <td>21</td>\n",
              "      <td>192000</td>\n",
              "      <td>MORTGAGE</td>\n",
              "      <td>123.0</td>\n",
              "      <td>VENTURE</td>\n",
              "      <td>A</td>\n",
              "      <td>20000</td>\n",
              "      <td>0.10</td>\n",
              "      <td>N</td>\n",
              "      <td>4</td>\n",
              "    </tr>\n",
              "    <tr>\n",
              "      <th>0</th>\n",
              "      <td>22</td>\n",
              "      <td>59000</td>\n",
              "      <td>RENT</td>\n",
              "      <td>123.0</td>\n",
              "      <td>PERSONAL</td>\n",
              "      <td>D</td>\n",
              "      <td>35000</td>\n",
              "      <td>0.59</td>\n",
              "      <td>Y</td>\n",
              "      <td>3</td>\n",
              "    </tr>\n",
              "  </tbody>\n",
              "</table>\n",
              "</div>\n",
              "    <div class=\"colab-df-buttons\">\n",
              "\n",
              "  <div class=\"colab-df-container\">\n",
              "    <button class=\"colab-df-convert\" onclick=\"convertToInteractive('df-72f14c98-d43f-4820-af29-70e942234c58')\"\n",
              "            title=\"Convert this dataframe to an interactive table.\"\n",
              "            style=\"display:none;\">\n",
              "\n",
              "  <svg xmlns=\"http://www.w3.org/2000/svg\" height=\"24px\" viewBox=\"0 -960 960 960\">\n",
              "    <path d=\"M120-120v-720h720v720H120Zm60-500h600v-160H180v160Zm220 220h160v-160H400v160Zm0 220h160v-160H400v160ZM180-400h160v-160H180v160Zm440 0h160v-160H620v160ZM180-180h160v-160H180v160Zm440 0h160v-160H620v160Z\"/>\n",
              "  </svg>\n",
              "    </button>\n",
              "\n",
              "  <style>\n",
              "    .colab-df-container {\n",
              "      display:flex;\n",
              "      gap: 12px;\n",
              "    }\n",
              "\n",
              "    .colab-df-convert {\n",
              "      background-color: #E8F0FE;\n",
              "      border: none;\n",
              "      border-radius: 50%;\n",
              "      cursor: pointer;\n",
              "      display: none;\n",
              "      fill: #1967D2;\n",
              "      height: 32px;\n",
              "      padding: 0 0 0 0;\n",
              "      width: 32px;\n",
              "    }\n",
              "\n",
              "    .colab-df-convert:hover {\n",
              "      background-color: #E2EBFA;\n",
              "      box-shadow: 0px 1px 2px rgba(60, 64, 67, 0.3), 0px 1px 3px 1px rgba(60, 64, 67, 0.15);\n",
              "      fill: #174EA6;\n",
              "    }\n",
              "\n",
              "    .colab-df-buttons div {\n",
              "      margin-bottom: 4px;\n",
              "    }\n",
              "\n",
              "    [theme=dark] .colab-df-convert {\n",
              "      background-color: #3B4455;\n",
              "      fill: #D2E3FC;\n",
              "    }\n",
              "\n",
              "    [theme=dark] .colab-df-convert:hover {\n",
              "      background-color: #434B5C;\n",
              "      box-shadow: 0px 1px 3px 1px rgba(0, 0, 0, 0.15);\n",
              "      filter: drop-shadow(0px 1px 2px rgba(0, 0, 0, 0.3));\n",
              "      fill: #FFFFFF;\n",
              "    }\n",
              "  </style>\n",
              "\n",
              "    <script>\n",
              "      const buttonEl =\n",
              "        document.querySelector('#df-72f14c98-d43f-4820-af29-70e942234c58 button.colab-df-convert');\n",
              "      buttonEl.style.display =\n",
              "        google.colab.kernel.accessAllowed ? 'block' : 'none';\n",
              "\n",
              "      async function convertToInteractive(key) {\n",
              "        const element = document.querySelector('#df-72f14c98-d43f-4820-af29-70e942234c58');\n",
              "        const dataTable =\n",
              "          await google.colab.kernel.invokeFunction('convertToInteractive',\n",
              "                                                    [key], {});\n",
              "        if (!dataTable) return;\n",
              "\n",
              "        const docLinkHtml = 'Like what you see? Visit the ' +\n",
              "          '<a target=\"_blank\" href=https://colab.research.google.com/notebooks/data_table.ipynb>data table notebook</a>'\n",
              "          + ' to learn more about interactive tables.';\n",
              "        element.innerHTML = '';\n",
              "        dataTable['output_type'] = 'display_data';\n",
              "        await google.colab.output.renderOutput(dataTable, element);\n",
              "        const docLink = document.createElement('div');\n",
              "        docLink.innerHTML = docLinkHtml;\n",
              "        element.appendChild(docLink);\n",
              "      }\n",
              "    </script>\n",
              "  </div>\n",
              "\n",
              "\n",
              "<div id=\"df-a268cf8c-5a04-4d8a-95a6-ebdfb584878c\">\n",
              "  <button class=\"colab-df-quickchart\" onclick=\"quickchart('df-a268cf8c-5a04-4d8a-95a6-ebdfb584878c')\"\n",
              "            title=\"Suggest charts\"\n",
              "            style=\"display:none;\">\n",
              "\n",
              "<svg xmlns=\"http://www.w3.org/2000/svg\" height=\"24px\"viewBox=\"0 0 24 24\"\n",
              "     width=\"24px\">\n",
              "    <g>\n",
              "        <path d=\"M19 3H5c-1.1 0-2 .9-2 2v14c0 1.1.9 2 2 2h14c1.1 0 2-.9 2-2V5c0-1.1-.9-2-2-2zM9 17H7v-7h2v7zm4 0h-2V7h2v10zm4 0h-2v-4h2v4z\"/>\n",
              "    </g>\n",
              "</svg>\n",
              "  </button>\n",
              "\n",
              "<style>\n",
              "  .colab-df-quickchart {\n",
              "      --bg-color: #E8F0FE;\n",
              "      --fill-color: #1967D2;\n",
              "      --hover-bg-color: #E2EBFA;\n",
              "      --hover-fill-color: #174EA6;\n",
              "      --disabled-fill-color: #AAA;\n",
              "      --disabled-bg-color: #DDD;\n",
              "  }\n",
              "\n",
              "  [theme=dark] .colab-df-quickchart {\n",
              "      --bg-color: #3B4455;\n",
              "      --fill-color: #D2E3FC;\n",
              "      --hover-bg-color: #434B5C;\n",
              "      --hover-fill-color: #FFFFFF;\n",
              "      --disabled-bg-color: #3B4455;\n",
              "      --disabled-fill-color: #666;\n",
              "  }\n",
              "\n",
              "  .colab-df-quickchart {\n",
              "    background-color: var(--bg-color);\n",
              "    border: none;\n",
              "    border-radius: 50%;\n",
              "    cursor: pointer;\n",
              "    display: none;\n",
              "    fill: var(--fill-color);\n",
              "    height: 32px;\n",
              "    padding: 0;\n",
              "    width: 32px;\n",
              "  }\n",
              "\n",
              "  .colab-df-quickchart:hover {\n",
              "    background-color: var(--hover-bg-color);\n",
              "    box-shadow: 0 1px 2px rgba(60, 64, 67, 0.3), 0 1px 3px 1px rgba(60, 64, 67, 0.15);\n",
              "    fill: var(--button-hover-fill-color);\n",
              "  }\n",
              "\n",
              "  .colab-df-quickchart-complete:disabled,\n",
              "  .colab-df-quickchart-complete:disabled:hover {\n",
              "    background-color: var(--disabled-bg-color);\n",
              "    fill: var(--disabled-fill-color);\n",
              "    box-shadow: none;\n",
              "  }\n",
              "\n",
              "  .colab-df-spinner {\n",
              "    border: 2px solid var(--fill-color);\n",
              "    border-color: transparent;\n",
              "    border-bottom-color: var(--fill-color);\n",
              "    animation:\n",
              "      spin 1s steps(1) infinite;\n",
              "  }\n",
              "\n",
              "  @keyframes spin {\n",
              "    0% {\n",
              "      border-color: transparent;\n",
              "      border-bottom-color: var(--fill-color);\n",
              "      border-left-color: var(--fill-color);\n",
              "    }\n",
              "    20% {\n",
              "      border-color: transparent;\n",
              "      border-left-color: var(--fill-color);\n",
              "      border-top-color: var(--fill-color);\n",
              "    }\n",
              "    30% {\n",
              "      border-color: transparent;\n",
              "      border-left-color: var(--fill-color);\n",
              "      border-top-color: var(--fill-color);\n",
              "      border-right-color: var(--fill-color);\n",
              "    }\n",
              "    40% {\n",
              "      border-color: transparent;\n",
              "      border-right-color: var(--fill-color);\n",
              "      border-top-color: var(--fill-color);\n",
              "    }\n",
              "    60% {\n",
              "      border-color: transparent;\n",
              "      border-right-color: var(--fill-color);\n",
              "    }\n",
              "    80% {\n",
              "      border-color: transparent;\n",
              "      border-right-color: var(--fill-color);\n",
              "      border-bottom-color: var(--fill-color);\n",
              "    }\n",
              "    90% {\n",
              "      border-color: transparent;\n",
              "      border-bottom-color: var(--fill-color);\n",
              "    }\n",
              "  }\n",
              "</style>\n",
              "\n",
              "  <script>\n",
              "    async function quickchart(key) {\n",
              "      const quickchartButtonEl =\n",
              "        document.querySelector('#' + key + ' button');\n",
              "      quickchartButtonEl.disabled = true;  // To prevent multiple clicks.\n",
              "      quickchartButtonEl.classList.add('colab-df-spinner');\n",
              "      try {\n",
              "        const charts = await google.colab.kernel.invokeFunction(\n",
              "            'suggestCharts', [key], {});\n",
              "      } catch (error) {\n",
              "        console.error('Error during call to suggestCharts:', error);\n",
              "      }\n",
              "      quickchartButtonEl.classList.remove('colab-df-spinner');\n",
              "      quickchartButtonEl.classList.add('colab-df-quickchart-complete');\n",
              "    }\n",
              "    (() => {\n",
              "      let quickchartButtonEl =\n",
              "        document.querySelector('#df-a268cf8c-5a04-4d8a-95a6-ebdfb584878c button');\n",
              "      quickchartButtonEl.style.display =\n",
              "        google.colab.kernel.accessAllowed ? 'block' : 'none';\n",
              "    })();\n",
              "  </script>\n",
              "</div>\n",
              "\n",
              "    </div>\n",
              "  </div>\n"
            ],
            "application/vnd.google.colaboratory.intrinsic+json": {
              "type": "dataframe",
              "summary": "{\n  \"name\": \"X\",\n  \"rows\": 2,\n  \"fields\": [\n    {\n      \"column\": \"person_age\",\n      \"properties\": {\n        \"dtype\": \"number\",\n        \"std\": 0,\n        \"min\": 21,\n        \"max\": 22,\n        \"num_unique_values\": 2,\n        \"samples\": [\n          22,\n          21\n        ],\n        \"semantic_type\": \"\",\n        \"description\": \"\"\n      }\n    },\n    {\n      \"column\": \"person_income\",\n      \"properties\": {\n        \"dtype\": \"number\",\n        \"std\": 94045,\n        \"min\": 59000,\n        \"max\": 192000,\n        \"num_unique_values\": 2,\n        \"samples\": [\n          59000,\n          192000\n        ],\n        \"semantic_type\": \"\",\n        \"description\": \"\"\n      }\n    },\n    {\n      \"column\": \"person_home_ownership\",\n      \"properties\": {\n        \"dtype\": \"string\",\n        \"num_unique_values\": 2,\n        \"samples\": [\n          \"RENT\",\n          \"MORTGAGE\"\n        ],\n        \"semantic_type\": \"\",\n        \"description\": \"\"\n      }\n    },\n    {\n      \"column\": \"person_emp_length\",\n      \"properties\": {\n        \"dtype\": \"number\",\n        \"std\": 0.0,\n        \"min\": 123.0,\n        \"max\": 123.0,\n        \"num_unique_values\": 1,\n        \"samples\": [\n          123.0\n        ],\n        \"semantic_type\": \"\",\n        \"description\": \"\"\n      }\n    },\n    {\n      \"column\": \"loan_intent\",\n      \"properties\": {\n        \"dtype\": \"string\",\n        \"num_unique_values\": 2,\n        \"samples\": [\n          \"PERSONAL\"\n        ],\n        \"semantic_type\": \"\",\n        \"description\": \"\"\n      }\n    },\n    {\n      \"column\": \"loan_grade\",\n      \"properties\": {\n        \"dtype\": \"string\",\n        \"num_unique_values\": 2,\n        \"samples\": [\n          \"D\"\n        ],\n        \"semantic_type\": \"\",\n        \"description\": \"\"\n      }\n    },\n    {\n      \"column\": \"loan_amnt\",\n      \"properties\": {\n        \"dtype\": \"number\",\n        \"std\": 10606,\n        \"min\": 20000,\n        \"max\": 35000,\n        \"num_unique_values\": 2,\n        \"samples\": [\n          35000\n        ],\n        \"semantic_type\": \"\",\n        \"description\": \"\"\n      }\n    },\n    {\n      \"column\": \"loan_percent_income\",\n      \"properties\": {\n        \"dtype\": \"number\",\n        \"std\": 0.3464823227814082,\n        \"min\": 0.1,\n        \"max\": 0.59,\n        \"num_unique_values\": 2,\n        \"samples\": [\n          0.59\n        ],\n        \"semantic_type\": \"\",\n        \"description\": \"\"\n      }\n    },\n    {\n      \"column\": \"cb_person_default_on_file\",\n      \"properties\": {\n        \"dtype\": \"string\",\n        \"num_unique_values\": 2,\n        \"samples\": [\n          \"Y\"\n        ],\n        \"semantic_type\": \"\",\n        \"description\": \"\"\n      }\n    },\n    {\n      \"column\": \"cb_person_cred_hist_length\",\n      \"properties\": {\n        \"dtype\": \"number\",\n        \"std\": 0,\n        \"min\": 3,\n        \"max\": 4,\n        \"num_unique_values\": 2,\n        \"samples\": [\n          3\n        ],\n        \"semantic_type\": \"\",\n        \"description\": \"\"\n      }\n    }\n  ]\n}"
            }
          },
          "metadata": {},
          "execution_count": 38
        }
      ],
      "source": [
        "X.loc[X['person_emp_length']>=60, :]"
      ]
    },
    {
      "cell_type": "code",
      "source": [
        "y = y[X.index]"
      ],
      "metadata": {
        "id": "F6V1fWa1yM1j"
      },
      "execution_count": null,
      "outputs": []
    },
    {
      "cell_type": "markdown",
      "metadata": {
        "id": "fAGwug8tlUiJ"
      },
      "source": [
        "### Pipelines"
      ]
    },
    {
      "cell_type": "markdown",
      "metadata": {
        "id": "q9ZCvM6Ulhoi"
      },
      "source": [
        "The main pipeline consists of two distinct stages tailored for preprocessing numerical and categorical variables, respectively:\n",
        "\n",
        "For Numerical Variables:\n",
        "\n",
        "Iterative Imputer: This step employs iterative imputation to handle missing values within numerical features, ensuring comprehensive data integrity.\n",
        "Scaling: Subsequently, scaling techniques are applied to maintain consistent scales among numerical features, which aids in model convergence and performance.\n",
        "For Categorical Variables:\n",
        "\n",
        "One-Hot Encoder: Categorical variables undergo one-hot encoding, enabling the transformation of each categorical feature into a binary format for enhanced model interpretability.\n",
        "Finally, to address the imbalance in the dataset, the Synthetic Minority Over-sampling Technique (SMOTE) is employed. SMOTE generates synthetic samples to rebalance the class distribution, thereby mitigating the effects of data skewness and enhancing the predictive capability of the model."
      ]
    },
    {
      "cell_type": "code",
      "execution_count": null,
      "metadata": {
        "id": "EA0ewpX7nbzv"
      },
      "outputs": [],
      "source": [
        "# Creating a pipeline for numerical columns:\n",
        "num_pipe = Pipeline([\n",
        "    ('impute', IterativeImputer()),     # MICE (Multivariate Imputation by Chained Equations)\n",
        "    ('scale', StandardScaler()),\n",
        "])\n",
        "\n",
        "# Using the Column Transformer class for binding the above numeric pipeline and the preprocessing steps of categorical columns:\n",
        "ct = ColumnTransformer([\n",
        "    ('num_pipe', num_pipe, make_column_selector(dtype_include=np.number)),\n",
        "    ('cat_cols', OneHotEncoder(handle_unknown='ignore'), make_column_selector(dtype_include=object))\n",
        "], remainder='passthrough')\n",
        "\n",
        "# Setting up the models to be tested upon and the parameters for their pipelines:\n",
        "grid = {\n",
        "    XGBClassifier():\n",
        "    {'model__n_estimators':[i*100 for i in range(10)],\n",
        "     'model__max_depth':[6,8,10,12,14,16],\n",
        "     'model__learning_rate':[0.01, 0.05, 0.1, 0.15, 0.2, 0.3],\n",
        "     'coltf__num_pipe__impute__estimator':[LinearRegression(), RandomForestRegressor(random_state=0),\n",
        "                                            KNeighborsRegressor()]},\n",
        "\n",
        "    LGBMClassifier(class_weight='balanced', random_state=0):\n",
        "    {'model__n_estimators':[300,400,500],\n",
        "     'model__learning_rate':[0.001,0.01,0.1,1,10],\n",
        "     'model__boosting_type': ['gbdt', 'goss', 'dart'],\n",
        "     'coltf__num_pipe__impute__estimator':[LinearRegression(), RandomForestRegressor(random_state=0),\n",
        "                                            KNeighborsRegressor()]}\n",
        "}\n"
      ]
    },
    {
      "cell_type": "markdown",
      "metadata": {
        "id": "bmiKu0ZWogUf"
      },
      "source": [
        "**Hyperparameter tuning** is the process of selecting the optimal set of hyperparameter values for a machine learning model. Hyperparameters are settings that are external to the model and cannot be learned from data.\n",
        "\n",
        "Tuning hyperparameters is crucial because they control aspects of the model's training process and complexity, significantly impacting its performance.\n",
        "\n",
        "Common techniques for hyperparameter tuning include:\n",
        "\n",
        "**Grid search** - Exhaustively searches a manually specified subset of hyperparameter combinations.\n",
        "\n",
        "**Random search**- Randomly samples hyperparameter values from predefined distributions.\n",
        "\n",
        "**Bayesian optimization** - Builds a probabilistic model to intelligently explore the hyperparameter space.\n",
        "\n",
        "**Gradient-based methods** - Use gradients of the objective function to optimize hyperparameters."
      ]
    },
    {
      "cell_type": "code",
      "execution_count": null,
      "metadata": {
        "id": "oWahe1FjoBOV",
        "colab": {
          "base_uri": "https://localhost:8080/"
        },
        "outputId": "aae9fd9b-1048-422c-d8c4-b5a914753311"
      },
      "outputs": [
        {
          "output_type": "stream",
          "name": "stdout",
          "text": [
            "1. XGBClassifier(base_score=None, booster=None, callbacks=None,\n",
            "              colsample_bylevel=None, colsample_bynode=None,\n",
            "              colsample_bytree=None, device=None, early_stopping_rounds=None,\n",
            "              enable_categorical=False, eval_metric=None, feature_types=None,\n",
            "              gamma=None, grow_policy=None, importance_type=None,\n",
            "              interaction_constraints=None, learning_rate=None, max_bin=None,\n",
            "              max_cat_threshold=None, max_cat_to_onehot=None,\n",
            "              max_delta_step=None, max_depth=None, max_leaves=None,\n",
            "              min_child_weight=None, missing=nan, monotone_constraints=None,\n",
            "              multi_strategy=None, n_estimators=None, n_jobs=None,\n",
            "              num_parallel_tree=None, random_state=None, ...)\n",
            "\n",
            "List of Hyperparameters: {'model__n_estimators': [0, 100, 200, 300, 400, 500, 600, 700, 800, 900], 'model__max_depth': [6, 8, 10, 12, 14, 16], 'model__learning_rate': [0.01, 0.05, 0.1, 0.15, 0.2, 0.3], 'coltf__num_pipe__impute__estimator': [LinearRegression(), RandomForestRegressor(random_state=0), KNeighborsRegressor()]}\n",
            "\n",
            "--------------------------------------------------\n",
            "2. LGBMClassifier(class_weight='balanced', random_state=0)\n",
            "\n",
            "List of Hyperparameters: {'model__n_estimators': [300, 400, 500], 'model__learning_rate': [0.001, 0.01, 0.1, 1, 10], 'model__boosting_type': ['gbdt', 'goss', 'dart'], 'coltf__num_pipe__impute__estimator': [LinearRegression(), RandomForestRegressor(random_state=0), KNeighborsRegressor()]}\n",
            "\n",
            "--------------------------------------------------\n"
          ]
        }
      ],
      "source": [
        "for i, (clf, param) in enumerate(grid.items(), 1):\n",
        "    print(f\"{i}. {clf}\\n\")\n",
        "    print(f\"List of Hyperparameters: {param}\\n\")\n",
        "    print('-' * 50)\n"
      ]
    },
    {
      "cell_type": "markdown",
      "metadata": {
        "id": "juEenfxqriqG"
      },
      "source": [
        "## DataFrame full_df to store the results of each model's hyperparameter tuning.\n",
        "It also initializes an empty dictionary best_algos to store the best models found during hyperparameter tuning. The loop iterates over each model and its corresponding hyperparameter grid in the grid dictionary.\n",
        "\n",
        "**Inside the loop:**\n",
        "\n",
        "SMOTE is initialized for oversampling.\n",
        "\n",
        "A pipeline is created with preprocessing steps, SMOTE for oversampling, and the model.\n",
        "\n",
        "Randomized SearchCV is used to find the best hyperparameters for the current model.\n",
        "\n",
        "Results are stored in a DataFrame all_res.\n",
        "\n",
        "Relevant columns (params and mean_test_score) are extracted from all_res and concatenated to full_df.\n",
        "\n",
        "The best estimator for the current model is stored in the best_algos dictionary.\n",
        "Finally, full_df contains the results of hyperparameter tuning for all models, and best_algos contains the best models found for each algorithm"
      ]
    },
    {
      "cell_type": "code",
      "execution_count": null,
      "metadata": {
        "id": "lzTV47bQsH9J",
        "colab": {
          "base_uri": "https://localhost:8080/"
        },
        "outputId": "1485cc40-759c-4922-8ff2-cf2a5bf83e67"
      },
      "outputs": [
        {
          "output_type": "stream",
          "name": "stdout",
          "text": [
            "Training XGBClassifier(base_score=None, booster=None, callbacks=None,\n",
            "              colsample_bylevel=None, colsample_bynode=None,\n",
            "              colsample_bytree=None, device=None, early_stopping_rounds=None,\n",
            "              enable_categorical=False, eval_metric=None, feature_types=None,\n",
            "              gamma=None, grow_policy=None, importance_type=None,\n",
            "              interaction_constraints=None, learning_rate=None, max_bin=None,\n",
            "              max_cat_threshold=None, max_cat_to_onehot=None,\n",
            "              max_delta_step=None, max_depth=None, max_leaves=None,\n",
            "              min_child_weight=None, missing=nan, monotone_constraints=None,\n",
            "              multi_strategy=None, n_estimators=None, n_jobs=None,\n",
            "              num_parallel_tree=None, random_state=None, ...)!!\n",
            "\n",
            "Fitting!!\n",
            "\n",
            "Fitting 5 folds for each of 4 candidates, totalling 20 fits\n"
          ]
        },
        {
          "output_type": "stream",
          "name": "stderr",
          "text": [
            "Exception ignored on calling ctypes callback function: <function ThreadpoolController._find_libraries_with_dl_iterate_phdr.<locals>.match_library_callback at 0x7c61b92715a0>\n",
            "Traceback (most recent call last):\n",
            "  File \"/usr/local/lib/python3.10/dist-packages/threadpoolctl.py\", line 1005, in match_library_callback\n",
            "    self._make_controller_from_path(filepath)\n",
            "  File \"/usr/local/lib/python3.10/dist-packages/threadpoolctl.py\", line 1175, in _make_controller_from_path\n",
            "    lib_controller = controller_class(\n",
            "  File \"/usr/local/lib/python3.10/dist-packages/threadpoolctl.py\", line 114, in __init__\n",
            "    self.dynlib = ctypes.CDLL(filepath, mode=_RTLD_NOLOAD)\n",
            "  File \"/usr/lib/python3.10/ctypes/__init__.py\", line 374, in __init__\n",
            "    self._handle = _dlopen(self._name, mode)\n",
            "OSError: dlopen() error\n",
            "Exception ignored on calling ctypes callback function: <function ThreadpoolController._find_libraries_with_dl_iterate_phdr.<locals>.match_library_callback at 0x7c61b92715a0>\n",
            "Traceback (most recent call last):\n",
            "  File \"/usr/local/lib/python3.10/dist-packages/threadpoolctl.py\", line 1005, in match_library_callback\n",
            "    self._make_controller_from_path(filepath)\n",
            "  File \"/usr/local/lib/python3.10/dist-packages/threadpoolctl.py\", line 1175, in _make_controller_from_path\n",
            "    lib_controller = controller_class(\n",
            "  File \"/usr/local/lib/python3.10/dist-packages/threadpoolctl.py\", line 114, in __init__\n",
            "    self.dynlib = ctypes.CDLL(filepath, mode=_RTLD_NOLOAD)\n",
            "  File \"/usr/lib/python3.10/ctypes/__init__.py\", line 374, in __init__\n",
            "    self._handle = _dlopen(self._name, mode)\n",
            "OSError: dlopen() error\n",
            "Exception ignored on calling ctypes callback function: <function ThreadpoolController._find_libraries_with_dl_iterate_phdr.<locals>.match_library_callback at 0x7c61b92715a0>\n",
            "Traceback (most recent call last):\n",
            "  File \"/usr/local/lib/python3.10/dist-packages/threadpoolctl.py\", line 1005, in match_library_callback\n",
            "    self._make_controller_from_path(filepath)\n",
            "  File \"/usr/local/lib/python3.10/dist-packages/threadpoolctl.py\", line 1175, in _make_controller_from_path\n",
            "    lib_controller = controller_class(\n",
            "  File \"/usr/local/lib/python3.10/dist-packages/threadpoolctl.py\", line 114, in __init__\n",
            "    self.dynlib = ctypes.CDLL(filepath, mode=_RTLD_NOLOAD)\n",
            "  File \"/usr/lib/python3.10/ctypes/__init__.py\", line 374, in __init__\n",
            "    self._handle = _dlopen(self._name, mode)\n",
            "OSError: dlopen() error\n"
          ]
        },
        {
          "output_type": "stream",
          "name": "stdout",
          "text": [
            "[CV 1/5] END coltf__num_pipe__impute__estimator=RandomForestRegressor(random_state=0), model__learning_rate=0.3, model__max_depth=10, model__n_estimators=400;, score=0.928 total time= 1.3min\n",
            "[CV 2/5] END coltf__num_pipe__impute__estimator=RandomForestRegressor(random_state=0), model__learning_rate=0.3, model__max_depth=10, model__n_estimators=400;, score=0.926 total time=  49.4s\n",
            "[CV 3/5] END coltf__num_pipe__impute__estimator=RandomForestRegressor(random_state=0), model__learning_rate=0.3, model__max_depth=10, model__n_estimators=400;, score=0.935 total time=  51.6s\n",
            "[CV 4/5] END coltf__num_pipe__impute__estimator=RandomForestRegressor(random_state=0), model__learning_rate=0.3, model__max_depth=10, model__n_estimators=400;, score=0.932 total time=  50.8s\n",
            "[CV 5/5] END coltf__num_pipe__impute__estimator=RandomForestRegressor(random_state=0), model__learning_rate=0.3, model__max_depth=10, model__n_estimators=400;, score=0.934 total time= 1.0min\n",
            "[CV 1/5] END coltf__num_pipe__impute__estimator=RandomForestRegressor(random_state=0), model__learning_rate=0.15, model__max_depth=8, model__n_estimators=900;, score=0.930 total time=  58.3s\n",
            "[CV 2/5] END coltf__num_pipe__impute__estimator=RandomForestRegressor(random_state=0), model__learning_rate=0.15, model__max_depth=8, model__n_estimators=900;, score=0.927 total time= 1.1min\n",
            "[CV 3/5] END coltf__num_pipe__impute__estimator=RandomForestRegressor(random_state=0), model__learning_rate=0.15, model__max_depth=8, model__n_estimators=900;, score=0.937 total time=  59.3s\n",
            "[CV 4/5] END coltf__num_pipe__impute__estimator=RandomForestRegressor(random_state=0), model__learning_rate=0.15, model__max_depth=8, model__n_estimators=900;, score=0.932 total time=  56.4s\n",
            "[CV 5/5] END coltf__num_pipe__impute__estimator=RandomForestRegressor(random_state=0), model__learning_rate=0.15, model__max_depth=8, model__n_estimators=900;, score=0.936 total time=  58.2s\n",
            "[CV 1/5] END coltf__num_pipe__impute__estimator=KNeighborsRegressor(), model__learning_rate=0.05, model__max_depth=16, model__n_estimators=500;, score=0.932 total time=  20.7s\n",
            "[CV 2/5] END coltf__num_pipe__impute__estimator=KNeighborsRegressor(), model__learning_rate=0.05, model__max_depth=16, model__n_estimators=500;, score=0.930 total time=  22.1s\n",
            "[CV 3/5] END coltf__num_pipe__impute__estimator=KNeighborsRegressor(), model__learning_rate=0.05, model__max_depth=16, model__n_estimators=500;, score=0.934 total time=  21.7s\n",
            "[CV 4/5] END coltf__num_pipe__impute__estimator=KNeighborsRegressor(), model__learning_rate=0.05, model__max_depth=16, model__n_estimators=500;, score=0.933 total time=  21.9s\n",
            "[CV 5/5] END coltf__num_pipe__impute__estimator=KNeighborsRegressor(), model__learning_rate=0.05, model__max_depth=16, model__n_estimators=500;, score=0.933 total time=  29.9s\n",
            "[CV 1/5] END coltf__num_pipe__impute__estimator=KNeighborsRegressor(), model__learning_rate=0.01, model__max_depth=14, model__n_estimators=300;, score=0.929 total time=  18.8s\n",
            "[CV 2/5] END coltf__num_pipe__impute__estimator=KNeighborsRegressor(), model__learning_rate=0.01, model__max_depth=14, model__n_estimators=300;, score=0.926 total time=  17.6s\n",
            "[CV 3/5] END coltf__num_pipe__impute__estimator=KNeighborsRegressor(), model__learning_rate=0.01, model__max_depth=14, model__n_estimators=300;, score=0.932 total time=  17.3s\n",
            "[CV 4/5] END coltf__num_pipe__impute__estimator=KNeighborsRegressor(), model__learning_rate=0.01, model__max_depth=14, model__n_estimators=300;, score=0.930 total time=  20.5s\n",
            "[CV 5/5] END coltf__num_pipe__impute__estimator=KNeighborsRegressor(), model__learning_rate=0.01, model__max_depth=14, model__n_estimators=300;, score=0.927 total time=  18.0s\n",
            "Gathering Results!!\n",
            "\n",
            "Training LGBMClassifier(class_weight='balanced', random_state=0)!!\n",
            "\n",
            "Fitting!!\n",
            "\n",
            "Fitting 5 folds for each of 4 candidates, totalling 20 fits\n",
            "[LightGBM] [Info] Number of positive: 16202, number of negative: 16202\n",
            "[LightGBM] [Info] Auto-choosing row-wise multi-threading, the overhead of testing was 0.012897 seconds.\n",
            "You can set `force_row_wise=true` to remove the overhead.\n",
            "And if memory is not enough, you can set `force_col_wise=true`.\n",
            "[LightGBM] [Info] Total Bins 5539\n",
            "[LightGBM] [Info] Number of data points in the train set: 32404, number of used features: 25\n",
            "[LightGBM] [Info] [binary:BoostFromScore]: pavg=0.500000 -> initscore=0.000000\n",
            "[CV 1/5] END coltf__num_pipe__impute__estimator=KNeighborsRegressor(), model__boosting_type=dart, model__learning_rate=0.001, model__n_estimators=300;, score=0.917 total time=  17.1s\n",
            "[LightGBM] [Info] Number of positive: 16202, number of negative: 16202\n",
            "[LightGBM] [Info] Auto-choosing row-wise multi-threading, the overhead of testing was 0.008263 seconds.\n",
            "You can set `force_row_wise=true` to remove the overhead.\n",
            "And if memory is not enough, you can set `force_col_wise=true`.\n",
            "[LightGBM] [Info] Total Bins 5550\n",
            "[LightGBM] [Info] Number of data points in the train set: 32404, number of used features: 25\n",
            "[LightGBM] [Info] [binary:BoostFromScore]: pavg=0.500000 -> initscore=0.000000\n",
            "[CV 2/5] END coltf__num_pipe__impute__estimator=KNeighborsRegressor(), model__boosting_type=dart, model__learning_rate=0.001, model__n_estimators=300;, score=0.918 total time=  16.4s\n",
            "[LightGBM] [Info] Number of positive: 16202, number of negative: 16202\n",
            "[LightGBM] [Info] Auto-choosing row-wise multi-threading, the overhead of testing was 0.010477 seconds.\n",
            "You can set `force_row_wise=true` to remove the overhead.\n",
            "And if memory is not enough, you can set `force_col_wise=true`.\n",
            "[LightGBM] [Info] Total Bins 5546\n",
            "[LightGBM] [Info] Number of data points in the train set: 32404, number of used features: 25\n",
            "[LightGBM] [Info] [binary:BoostFromScore]: pavg=0.500000 -> initscore=0.000000\n",
            "[CV 3/5] END coltf__num_pipe__impute__estimator=KNeighborsRegressor(), model__boosting_type=dart, model__learning_rate=0.001, model__n_estimators=300;, score=0.913 total time=  17.4s\n",
            "[LightGBM] [Info] Number of positive: 16203, number of negative: 16203\n",
            "[LightGBM] [Info] Auto-choosing row-wise multi-threading, the overhead of testing was 0.013637 seconds.\n",
            "You can set `force_row_wise=true` to remove the overhead.\n",
            "And if memory is not enough, you can set `force_col_wise=true`.\n",
            "[LightGBM] [Info] Total Bins 5542\n",
            "[LightGBM] [Info] Number of data points in the train set: 32406, number of used features: 25\n",
            "[LightGBM] [Info] [binary:BoostFromScore]: pavg=0.500000 -> initscore=0.000000\n",
            "[CV 4/5] END coltf__num_pipe__impute__estimator=KNeighborsRegressor(), model__boosting_type=dart, model__learning_rate=0.001, model__n_estimators=300;, score=0.920 total time=  17.3s\n",
            "[LightGBM] [Info] Number of positive: 16203, number of negative: 16203\n",
            "[LightGBM] [Info] Auto-choosing row-wise multi-threading, the overhead of testing was 0.010002 seconds.\n",
            "You can set `force_row_wise=true` to remove the overhead.\n",
            "And if memory is not enough, you can set `force_col_wise=true`.\n",
            "[LightGBM] [Info] Total Bins 5543\n",
            "[LightGBM] [Info] Number of data points in the train set: 32406, number of used features: 25\n",
            "[LightGBM] [Info] [binary:BoostFromScore]: pavg=0.500000 -> initscore=0.000000\n",
            "[CV 5/5] END coltf__num_pipe__impute__estimator=KNeighborsRegressor(), model__boosting_type=dart, model__learning_rate=0.001, model__n_estimators=300;, score=0.909 total time=  20.3s\n",
            "[LightGBM] [Info] Number of positive: 16202, number of negative: 16202\n",
            "[LightGBM] [Info] Auto-choosing row-wise multi-threading, the overhead of testing was 0.010101 seconds.\n",
            "You can set `force_row_wise=true` to remove the overhead.\n",
            "And if memory is not enough, you can set `force_col_wise=true`.\n",
            "[LightGBM] [Info] Total Bins 5200\n",
            "[LightGBM] [Info] Number of data points in the train set: 32404, number of used features: 25\n",
            "[LightGBM] [Info] [binary:BoostFromScore]: pavg=0.500000 -> initscore=0.000000\n",
            "[CV 1/5] END coltf__num_pipe__impute__estimator=LinearRegression(), model__boosting_type=dart, model__learning_rate=0.01, model__n_estimators=300;, score=0.918 total time=  17.2s\n",
            "[LightGBM] [Info] Number of positive: 16202, number of negative: 16202\n",
            "[LightGBM] [Info] Auto-choosing row-wise multi-threading, the overhead of testing was 0.008571 seconds.\n",
            "You can set `force_row_wise=true` to remove the overhead.\n",
            "And if memory is not enough, you can set `force_col_wise=true`.\n",
            "[LightGBM] [Info] Total Bins 5555\n",
            "[LightGBM] [Info] Number of data points in the train set: 32404, number of used features: 25\n",
            "[LightGBM] [Info] [binary:BoostFromScore]: pavg=0.500000 -> initscore=0.000000\n",
            "[CV 2/5] END coltf__num_pipe__impute__estimator=LinearRegression(), model__boosting_type=dart, model__learning_rate=0.01, model__n_estimators=300;, score=0.917 total time=  16.1s\n",
            "[LightGBM] [Info] Number of positive: 16202, number of negative: 16202\n",
            "[LightGBM] [Info] Auto-choosing row-wise multi-threading, the overhead of testing was 0.009277 seconds.\n",
            "You can set `force_row_wise=true` to remove the overhead.\n",
            "And if memory is not enough, you can set `force_col_wise=true`.\n",
            "[LightGBM] [Info] Total Bins 5544\n",
            "[LightGBM] [Info] Number of data points in the train set: 32404, number of used features: 25\n",
            "[LightGBM] [Info] [binary:BoostFromScore]: pavg=0.500000 -> initscore=0.000000\n",
            "[CV 3/5] END coltf__num_pipe__impute__estimator=LinearRegression(), model__boosting_type=dart, model__learning_rate=0.01, model__n_estimators=300;, score=0.921 total time=  16.7s\n",
            "[LightGBM] [Info] Number of positive: 16203, number of negative: 16203\n",
            "[LightGBM] [Info] Auto-choosing row-wise multi-threading, the overhead of testing was 0.009864 seconds.\n",
            "You can set `force_row_wise=true` to remove the overhead.\n",
            "And if memory is not enough, you can set `force_col_wise=true`.\n",
            "[LightGBM] [Info] Total Bins 5546\n",
            "[LightGBM] [Info] Number of data points in the train set: 32406, number of used features: 25\n",
            "[LightGBM] [Info] [binary:BoostFromScore]: pavg=0.500000 -> initscore=0.000000\n",
            "[CV 4/5] END coltf__num_pipe__impute__estimator=LinearRegression(), model__boosting_type=dart, model__learning_rate=0.01, model__n_estimators=300;, score=0.921 total time=  17.0s\n",
            "[LightGBM] [Info] Number of positive: 16203, number of negative: 16203\n",
            "[LightGBM] [Info] Auto-choosing row-wise multi-threading, the overhead of testing was 0.009633 seconds.\n",
            "You can set `force_row_wise=true` to remove the overhead.\n",
            "And if memory is not enough, you can set `force_col_wise=true`.\n",
            "[LightGBM] [Info] Total Bins 5544\n",
            "[LightGBM] [Info] Number of data points in the train set: 32406, number of used features: 25\n",
            "[LightGBM] [Info] [binary:BoostFromScore]: pavg=0.500000 -> initscore=0.000000\n",
            "[CV 5/5] END coltf__num_pipe__impute__estimator=LinearRegression(), model__boosting_type=dart, model__learning_rate=0.01, model__n_estimators=300;, score=0.916 total time=  16.5s\n",
            "[LightGBM] [Info] Number of positive: 16202, number of negative: 16202\n",
            "[LightGBM] [Info] Auto-choosing row-wise multi-threading, the overhead of testing was 0.010359 seconds.\n",
            "You can set `force_row_wise=true` to remove the overhead.\n",
            "And if memory is not enough, you can set `force_col_wise=true`.\n",
            "[LightGBM] [Info] Total Bins 5538\n",
            "[LightGBM] [Info] Number of data points in the train set: 32404, number of used features: 25\n",
            "[LightGBM] [Info] [binary:BoostFromScore]: pavg=0.500000 -> initscore=0.000000\n",
            "[CV 1/5] END coltf__num_pipe__impute__estimator=RandomForestRegressor(random_state=0), model__boosting_type=gbdt, model__learning_rate=0.001, model__n_estimators=300;, score=0.918 total time=  45.3s\n",
            "[LightGBM] [Info] Number of positive: 16202, number of negative: 16202\n",
            "[LightGBM] [Info] Auto-choosing row-wise multi-threading, the overhead of testing was 0.008575 seconds.\n",
            "You can set `force_row_wise=true` to remove the overhead.\n",
            "And if memory is not enough, you can set `force_col_wise=true`.\n",
            "[LightGBM] [Info] Total Bins 5552\n",
            "[LightGBM] [Info] Number of data points in the train set: 32404, number of used features: 25\n",
            "[LightGBM] [Info] [binary:BoostFromScore]: pavg=0.500000 -> initscore=0.000000\n",
            "[CV 2/5] END coltf__num_pipe__impute__estimator=RandomForestRegressor(random_state=0), model__boosting_type=gbdt, model__learning_rate=0.001, model__n_estimators=300;, score=0.919 total time=  44.3s\n",
            "[LightGBM] [Info] Number of positive: 16202, number of negative: 16202\n",
            "[LightGBM] [Info] Auto-choosing row-wise multi-threading, the overhead of testing was 0.009269 seconds.\n",
            "You can set `force_row_wise=true` to remove the overhead.\n",
            "And if memory is not enough, you can set `force_col_wise=true`.\n",
            "[LightGBM] [Info] Total Bins 5549\n",
            "[LightGBM] [Info] Number of data points in the train set: 32404, number of used features: 25\n",
            "[LightGBM] [Info] [binary:BoostFromScore]: pavg=0.500000 -> initscore=0.000000\n",
            "[CV 3/5] END coltf__num_pipe__impute__estimator=RandomForestRegressor(random_state=0), model__boosting_type=gbdt, model__learning_rate=0.001, model__n_estimators=300;, score=0.918 total time=  45.5s\n",
            "[LightGBM] [Info] Number of positive: 16203, number of negative: 16203\n",
            "[LightGBM] [Info] Auto-choosing row-wise multi-threading, the overhead of testing was 0.009902 seconds.\n",
            "You can set `force_row_wise=true` to remove the overhead.\n",
            "And if memory is not enough, you can set `force_col_wise=true`.\n",
            "[LightGBM] [Info] Total Bins 5547\n",
            "[LightGBM] [Info] Number of data points in the train set: 32406, number of used features: 25\n",
            "[LightGBM] [Info] [binary:BoostFromScore]: pavg=0.500000 -> initscore=0.000000\n",
            "[CV 4/5] END coltf__num_pipe__impute__estimator=RandomForestRegressor(random_state=0), model__boosting_type=gbdt, model__learning_rate=0.001, model__n_estimators=300;, score=0.920 total time=  47.8s\n",
            "[LightGBM] [Info] Number of positive: 16203, number of negative: 16203\n",
            "[LightGBM] [Info] Auto-choosing row-wise multi-threading, the overhead of testing was 0.010200 seconds.\n",
            "You can set `force_row_wise=true` to remove the overhead.\n",
            "And if memory is not enough, you can set `force_col_wise=true`.\n",
            "[LightGBM] [Info] Total Bins 5545\n",
            "[LightGBM] [Info] Number of data points in the train set: 32406, number of used features: 25\n",
            "[LightGBM] [Info] [binary:BoostFromScore]: pavg=0.500000 -> initscore=0.000000\n",
            "[CV 5/5] END coltf__num_pipe__impute__estimator=RandomForestRegressor(random_state=0), model__boosting_type=gbdt, model__learning_rate=0.001, model__n_estimators=300;, score=0.918 total time=  45.2s\n",
            "[LightGBM] [Info] Number of positive: 16202, number of negative: 16202\n",
            "[LightGBM] [Info] Auto-choosing row-wise multi-threading, the overhead of testing was 0.010035 seconds.\n",
            "You can set `force_row_wise=true` to remove the overhead.\n",
            "And if memory is not enough, you can set `force_col_wise=true`.\n",
            "[LightGBM] [Info] Total Bins 5539\n",
            "[LightGBM] [Info] Number of data points in the train set: 32404, number of used features: 25\n",
            "[LightGBM] [Info] [binary:BoostFromScore]: pavg=0.500000 -> initscore=0.000000\n",
            "[CV 1/5] END coltf__num_pipe__impute__estimator=KNeighborsRegressor(), model__boosting_type=dart, model__learning_rate=0.1, model__n_estimators=300;, score=0.936 total time=  16.6s\n",
            "[LightGBM] [Info] Number of positive: 16202, number of negative: 16202\n",
            "[LightGBM] [Info] Auto-choosing row-wise multi-threading, the overhead of testing was 0.008869 seconds.\n",
            "You can set `force_row_wise=true` to remove the overhead.\n",
            "And if memory is not enough, you can set `force_col_wise=true`.\n",
            "[LightGBM] [Info] Total Bins 5550\n",
            "[LightGBM] [Info] Number of data points in the train set: 32404, number of used features: 25\n",
            "[LightGBM] [Info] [binary:BoostFromScore]: pavg=0.500000 -> initscore=0.000000\n",
            "[CV 2/5] END coltf__num_pipe__impute__estimator=KNeighborsRegressor(), model__boosting_type=dart, model__learning_rate=0.1, model__n_estimators=300;, score=0.932 total time=  16.5s\n",
            "[LightGBM] [Info] Number of positive: 16202, number of negative: 16202\n",
            "[LightGBM] [Info] Auto-choosing row-wise multi-threading, the overhead of testing was 0.014220 seconds.\n",
            "You can set `force_row_wise=true` to remove the overhead.\n",
            "And if memory is not enough, you can set `force_col_wise=true`.\n",
            "[LightGBM] [Info] Total Bins 5546\n",
            "[LightGBM] [Info] Number of data points in the train set: 32404, number of used features: 25\n",
            "[LightGBM] [Info] [binary:BoostFromScore]: pavg=0.500000 -> initscore=0.000000\n",
            "[CV 3/5] END coltf__num_pipe__impute__estimator=KNeighborsRegressor(), model__boosting_type=dart, model__learning_rate=0.1, model__n_estimators=300;, score=0.937 total time=  17.0s\n",
            "[LightGBM] [Info] Number of positive: 16203, number of negative: 16203\n",
            "[LightGBM] [Info] Auto-choosing row-wise multi-threading, the overhead of testing was 0.009230 seconds.\n",
            "You can set `force_row_wise=true` to remove the overhead.\n",
            "And if memory is not enough, you can set `force_col_wise=true`.\n",
            "[LightGBM] [Info] Total Bins 5542\n",
            "[LightGBM] [Info] Number of data points in the train set: 32406, number of used features: 25\n",
            "[LightGBM] [Info] [binary:BoostFromScore]: pavg=0.500000 -> initscore=0.000000\n",
            "[CV 4/5] END coltf__num_pipe__impute__estimator=KNeighborsRegressor(), model__boosting_type=dart, model__learning_rate=0.1, model__n_estimators=300;, score=0.939 total time=  15.7s\n",
            "[LightGBM] [Info] Number of positive: 16203, number of negative: 16203\n",
            "[LightGBM] [Info] Auto-choosing row-wise multi-threading, the overhead of testing was 0.009329 seconds.\n",
            "You can set `force_row_wise=true` to remove the overhead.\n",
            "And if memory is not enough, you can set `force_col_wise=true`.\n",
            "[LightGBM] [Info] Total Bins 5543\n",
            "[LightGBM] [Info] Number of data points in the train set: 32406, number of used features: 25\n",
            "[LightGBM] [Info] [binary:BoostFromScore]: pavg=0.500000 -> initscore=0.000000\n",
            "[CV 5/5] END coltf__num_pipe__impute__estimator=KNeighborsRegressor(), model__boosting_type=dart, model__learning_rate=0.1, model__n_estimators=300;, score=0.937 total time=  15.9s\n",
            "[LightGBM] [Info] Number of positive: 20253, number of negative: 20253\n",
            "[LightGBM] [Info] Auto-choosing row-wise multi-threading, the overhead of testing was 0.011937 seconds.\n",
            "You can set `force_row_wise=true` to remove the overhead.\n",
            "And if memory is not enough, you can set `force_col_wise=true`.\n",
            "[LightGBM] [Info] Total Bins 5671\n",
            "[LightGBM] [Info] Number of data points in the train set: 40506, number of used features: 25\n",
            "[LightGBM] [Info] [binary:BoostFromScore]: pavg=0.500000 -> initscore=0.000000\n",
            "Gathering Results!!\n",
            "\n"
          ]
        }
      ],
      "source": [
        "from sklearn.model_selection import RandomizedSearchCV\n",
        "from imblearn.over_sampling import SMOTE\n",
        "\n",
        "# Create an empty DataFrame to store results\n",
        "full_df = pd.DataFrame()\n",
        "\n",
        "# Dictionary to store the best models\n",
        "best_algos = {}\n",
        "\n",
        "# Changing the ordering of the columns for ease of understanding\n",
        "X = X[X.select_dtypes(include=[np.number]).columns.append(X.select_dtypes(\"O\").columns)]\n",
        "\n",
        "# Loop through each model and its parameters in the grid\n",
        "for model, param in grid.items():\n",
        "    # Initialize SMOTE for oversampling\n",
        "    smt = SMOTE(random_state=42)\n",
        "\n",
        "    # Create a pipeline for preprocessing, SMOTE, and the model\n",
        "    pipe = Pipeline([\n",
        "        ('coltf', ct),  # Column transformer for preprocessing\n",
        "        ('smote', smt),  # SMOTE for oversampling\n",
        "        ('model', model)  # Model to train\n",
        "    ])\n",
        "\n",
        "    print(f\"Training {model}!!\\n\")\n",
        "\n",
        "    # Conduct Randomized Search to find the best hyperparameters\n",
        "    gs = RandomizedSearchCV(estimator=pipe, param_distributions=param, scoring='accuracy', verbose=3, n_iter=4, random_state=0)\n",
        "\n",
        "    print(\"Fitting!!\\n\")\n",
        "    gs.fit(X, y)\n",
        "\n",
        "    print(\"Gathering Results!!\\n\")\n",
        "\n",
        "    # Extract results and store in DataFrame\n",
        "    all_res = pd.DataFrame(gs.cv_results_)\n",
        "    temp = all_res.loc[:, ['params', 'mean_test_score']]\n",
        "    algo_name = str(model).split('(')[0]  # Extract the name of the algorithm\n",
        "    temp['algo'] = algo_name\n",
        "\n",
        "    # Concatenate results to full DataFrame\n",
        "    full_df = pd.concat([full_df, temp], ignore_index=True)\n",
        "\n",
        "    # Store the best estimator for each algorithm\n",
        "    best_algos[algo_name] = gs.best_estimator_\n"
      ]
    },
    {
      "cell_type": "code",
      "source": [
        "full_df.sort_values('mean_test_score', ascending=False)\n",
        "\n"
      ],
      "metadata": {
        "id": "4JZFP_7v3wWt",
        "colab": {
          "base_uri": "https://localhost:8080/",
          "height": 300
        },
        "outputId": "61b7411f-9e78-4c36-fdd3-61e3ed29c1cb"
      },
      "execution_count": null,
      "outputs": [
        {
          "output_type": "execute_result",
          "data": {
            "text/plain": [
              "                                              params  mean_test_score  \\\n",
              "7  {'model__n_estimators': 300, 'model__learning_...         0.936160   \n",
              "2  {'model__n_estimators': 500, 'model__max_depth...         0.932534   \n",
              "1  {'model__n_estimators': 900, 'model__max_depth...         0.932225   \n",
              "0  {'model__n_estimators': 400, 'model__max_depth...         0.931068   \n",
              "3  {'model__n_estimators': 300, 'model__max_depth...         0.928869   \n",
              "6  {'model__n_estimators': 300, 'model__learning_...         0.918647   \n",
              "5  {'model__n_estimators': 300, 'model__learning_...         0.918338   \n",
              "4  {'model__n_estimators': 300, 'model__learning_...         0.915445   \n",
              "\n",
              "             algo  \n",
              "7  LGBMClassifier  \n",
              "2   XGBClassifier  \n",
              "1   XGBClassifier  \n",
              "0   XGBClassifier  \n",
              "3   XGBClassifier  \n",
              "6  LGBMClassifier  \n",
              "5  LGBMClassifier  \n",
              "4  LGBMClassifier  "
            ],
            "text/html": [
              "\n",
              "  <div id=\"df-e0314c77-7889-402c-b358-d1366f8439fd\" class=\"colab-df-container\">\n",
              "    <div>\n",
              "<style scoped>\n",
              "    .dataframe tbody tr th:only-of-type {\n",
              "        vertical-align: middle;\n",
              "    }\n",
              "\n",
              "    .dataframe tbody tr th {\n",
              "        vertical-align: top;\n",
              "    }\n",
              "\n",
              "    .dataframe thead th {\n",
              "        text-align: right;\n",
              "    }\n",
              "</style>\n",
              "<table border=\"1\" class=\"dataframe\">\n",
              "  <thead>\n",
              "    <tr style=\"text-align: right;\">\n",
              "      <th></th>\n",
              "      <th>params</th>\n",
              "      <th>mean_test_score</th>\n",
              "      <th>algo</th>\n",
              "    </tr>\n",
              "  </thead>\n",
              "  <tbody>\n",
              "    <tr>\n",
              "      <th>7</th>\n",
              "      <td>{'model__n_estimators': 300, 'model__learning_...</td>\n",
              "      <td>0.936160</td>\n",
              "      <td>LGBMClassifier</td>\n",
              "    </tr>\n",
              "    <tr>\n",
              "      <th>2</th>\n",
              "      <td>{'model__n_estimators': 500, 'model__max_depth...</td>\n",
              "      <td>0.932534</td>\n",
              "      <td>XGBClassifier</td>\n",
              "    </tr>\n",
              "    <tr>\n",
              "      <th>1</th>\n",
              "      <td>{'model__n_estimators': 900, 'model__max_depth...</td>\n",
              "      <td>0.932225</td>\n",
              "      <td>XGBClassifier</td>\n",
              "    </tr>\n",
              "    <tr>\n",
              "      <th>0</th>\n",
              "      <td>{'model__n_estimators': 400, 'model__max_depth...</td>\n",
              "      <td>0.931068</td>\n",
              "      <td>XGBClassifier</td>\n",
              "    </tr>\n",
              "    <tr>\n",
              "      <th>3</th>\n",
              "      <td>{'model__n_estimators': 300, 'model__max_depth...</td>\n",
              "      <td>0.928869</td>\n",
              "      <td>XGBClassifier</td>\n",
              "    </tr>\n",
              "    <tr>\n",
              "      <th>6</th>\n",
              "      <td>{'model__n_estimators': 300, 'model__learning_...</td>\n",
              "      <td>0.918647</td>\n",
              "      <td>LGBMClassifier</td>\n",
              "    </tr>\n",
              "    <tr>\n",
              "      <th>5</th>\n",
              "      <td>{'model__n_estimators': 300, 'model__learning_...</td>\n",
              "      <td>0.918338</td>\n",
              "      <td>LGBMClassifier</td>\n",
              "    </tr>\n",
              "    <tr>\n",
              "      <th>4</th>\n",
              "      <td>{'model__n_estimators': 300, 'model__learning_...</td>\n",
              "      <td>0.915445</td>\n",
              "      <td>LGBMClassifier</td>\n",
              "    </tr>\n",
              "  </tbody>\n",
              "</table>\n",
              "</div>\n",
              "    <div class=\"colab-df-buttons\">\n",
              "\n",
              "  <div class=\"colab-df-container\">\n",
              "    <button class=\"colab-df-convert\" onclick=\"convertToInteractive('df-e0314c77-7889-402c-b358-d1366f8439fd')\"\n",
              "            title=\"Convert this dataframe to an interactive table.\"\n",
              "            style=\"display:none;\">\n",
              "\n",
              "  <svg xmlns=\"http://www.w3.org/2000/svg\" height=\"24px\" viewBox=\"0 -960 960 960\">\n",
              "    <path d=\"M120-120v-720h720v720H120Zm60-500h600v-160H180v160Zm220 220h160v-160H400v160Zm0 220h160v-160H400v160ZM180-400h160v-160H180v160Zm440 0h160v-160H620v160ZM180-180h160v-160H180v160Zm440 0h160v-160H620v160Z\"/>\n",
              "  </svg>\n",
              "    </button>\n",
              "\n",
              "  <style>\n",
              "    .colab-df-container {\n",
              "      display:flex;\n",
              "      gap: 12px;\n",
              "    }\n",
              "\n",
              "    .colab-df-convert {\n",
              "      background-color: #E8F0FE;\n",
              "      border: none;\n",
              "      border-radius: 50%;\n",
              "      cursor: pointer;\n",
              "      display: none;\n",
              "      fill: #1967D2;\n",
              "      height: 32px;\n",
              "      padding: 0 0 0 0;\n",
              "      width: 32px;\n",
              "    }\n",
              "\n",
              "    .colab-df-convert:hover {\n",
              "      background-color: #E2EBFA;\n",
              "      box-shadow: 0px 1px 2px rgba(60, 64, 67, 0.3), 0px 1px 3px 1px rgba(60, 64, 67, 0.15);\n",
              "      fill: #174EA6;\n",
              "    }\n",
              "\n",
              "    .colab-df-buttons div {\n",
              "      margin-bottom: 4px;\n",
              "    }\n",
              "\n",
              "    [theme=dark] .colab-df-convert {\n",
              "      background-color: #3B4455;\n",
              "      fill: #D2E3FC;\n",
              "    }\n",
              "\n",
              "    [theme=dark] .colab-df-convert:hover {\n",
              "      background-color: #434B5C;\n",
              "      box-shadow: 0px 1px 3px 1px rgba(0, 0, 0, 0.15);\n",
              "      filter: drop-shadow(0px 1px 2px rgba(0, 0, 0, 0.3));\n",
              "      fill: #FFFFFF;\n",
              "    }\n",
              "  </style>\n",
              "\n",
              "    <script>\n",
              "      const buttonEl =\n",
              "        document.querySelector('#df-e0314c77-7889-402c-b358-d1366f8439fd button.colab-df-convert');\n",
              "      buttonEl.style.display =\n",
              "        google.colab.kernel.accessAllowed ? 'block' : 'none';\n",
              "\n",
              "      async function convertToInteractive(key) {\n",
              "        const element = document.querySelector('#df-e0314c77-7889-402c-b358-d1366f8439fd');\n",
              "        const dataTable =\n",
              "          await google.colab.kernel.invokeFunction('convertToInteractive',\n",
              "                                                    [key], {});\n",
              "        if (!dataTable) return;\n",
              "\n",
              "        const docLinkHtml = 'Like what you see? Visit the ' +\n",
              "          '<a target=\"_blank\" href=https://colab.research.google.com/notebooks/data_table.ipynb>data table notebook</a>'\n",
              "          + ' to learn more about interactive tables.';\n",
              "        element.innerHTML = '';\n",
              "        dataTable['output_type'] = 'display_data';\n",
              "        await google.colab.output.renderOutput(dataTable, element);\n",
              "        const docLink = document.createElement('div');\n",
              "        docLink.innerHTML = docLinkHtml;\n",
              "        element.appendChild(docLink);\n",
              "      }\n",
              "    </script>\n",
              "  </div>\n",
              "\n",
              "\n",
              "<div id=\"df-4f181653-9e1d-4d90-b4f3-12b1a803d470\">\n",
              "  <button class=\"colab-df-quickchart\" onclick=\"quickchart('df-4f181653-9e1d-4d90-b4f3-12b1a803d470')\"\n",
              "            title=\"Suggest charts\"\n",
              "            style=\"display:none;\">\n",
              "\n",
              "<svg xmlns=\"http://www.w3.org/2000/svg\" height=\"24px\"viewBox=\"0 0 24 24\"\n",
              "     width=\"24px\">\n",
              "    <g>\n",
              "        <path d=\"M19 3H5c-1.1 0-2 .9-2 2v14c0 1.1.9 2 2 2h14c1.1 0 2-.9 2-2V5c0-1.1-.9-2-2-2zM9 17H7v-7h2v7zm4 0h-2V7h2v10zm4 0h-2v-4h2v4z\"/>\n",
              "    </g>\n",
              "</svg>\n",
              "  </button>\n",
              "\n",
              "<style>\n",
              "  .colab-df-quickchart {\n",
              "      --bg-color: #E8F0FE;\n",
              "      --fill-color: #1967D2;\n",
              "      --hover-bg-color: #E2EBFA;\n",
              "      --hover-fill-color: #174EA6;\n",
              "      --disabled-fill-color: #AAA;\n",
              "      --disabled-bg-color: #DDD;\n",
              "  }\n",
              "\n",
              "  [theme=dark] .colab-df-quickchart {\n",
              "      --bg-color: #3B4455;\n",
              "      --fill-color: #D2E3FC;\n",
              "      --hover-bg-color: #434B5C;\n",
              "      --hover-fill-color: #FFFFFF;\n",
              "      --disabled-bg-color: #3B4455;\n",
              "      --disabled-fill-color: #666;\n",
              "  }\n",
              "\n",
              "  .colab-df-quickchart {\n",
              "    background-color: var(--bg-color);\n",
              "    border: none;\n",
              "    border-radius: 50%;\n",
              "    cursor: pointer;\n",
              "    display: none;\n",
              "    fill: var(--fill-color);\n",
              "    height: 32px;\n",
              "    padding: 0;\n",
              "    width: 32px;\n",
              "  }\n",
              "\n",
              "  .colab-df-quickchart:hover {\n",
              "    background-color: var(--hover-bg-color);\n",
              "    box-shadow: 0 1px 2px rgba(60, 64, 67, 0.3), 0 1px 3px 1px rgba(60, 64, 67, 0.15);\n",
              "    fill: var(--button-hover-fill-color);\n",
              "  }\n",
              "\n",
              "  .colab-df-quickchart-complete:disabled,\n",
              "  .colab-df-quickchart-complete:disabled:hover {\n",
              "    background-color: var(--disabled-bg-color);\n",
              "    fill: var(--disabled-fill-color);\n",
              "    box-shadow: none;\n",
              "  }\n",
              "\n",
              "  .colab-df-spinner {\n",
              "    border: 2px solid var(--fill-color);\n",
              "    border-color: transparent;\n",
              "    border-bottom-color: var(--fill-color);\n",
              "    animation:\n",
              "      spin 1s steps(1) infinite;\n",
              "  }\n",
              "\n",
              "  @keyframes spin {\n",
              "    0% {\n",
              "      border-color: transparent;\n",
              "      border-bottom-color: var(--fill-color);\n",
              "      border-left-color: var(--fill-color);\n",
              "    }\n",
              "    20% {\n",
              "      border-color: transparent;\n",
              "      border-left-color: var(--fill-color);\n",
              "      border-top-color: var(--fill-color);\n",
              "    }\n",
              "    30% {\n",
              "      border-color: transparent;\n",
              "      border-left-color: var(--fill-color);\n",
              "      border-top-color: var(--fill-color);\n",
              "      border-right-color: var(--fill-color);\n",
              "    }\n",
              "    40% {\n",
              "      border-color: transparent;\n",
              "      border-right-color: var(--fill-color);\n",
              "      border-top-color: var(--fill-color);\n",
              "    }\n",
              "    60% {\n",
              "      border-color: transparent;\n",
              "      border-right-color: var(--fill-color);\n",
              "    }\n",
              "    80% {\n",
              "      border-color: transparent;\n",
              "      border-right-color: var(--fill-color);\n",
              "      border-bottom-color: var(--fill-color);\n",
              "    }\n",
              "    90% {\n",
              "      border-color: transparent;\n",
              "      border-bottom-color: var(--fill-color);\n",
              "    }\n",
              "  }\n",
              "</style>\n",
              "\n",
              "  <script>\n",
              "    async function quickchart(key) {\n",
              "      const quickchartButtonEl =\n",
              "        document.querySelector('#' + key + ' button');\n",
              "      quickchartButtonEl.disabled = true;  // To prevent multiple clicks.\n",
              "      quickchartButtonEl.classList.add('colab-df-spinner');\n",
              "      try {\n",
              "        const charts = await google.colab.kernel.invokeFunction(\n",
              "            'suggestCharts', [key], {});\n",
              "      } catch (error) {\n",
              "        console.error('Error during call to suggestCharts:', error);\n",
              "      }\n",
              "      quickchartButtonEl.classList.remove('colab-df-spinner');\n",
              "      quickchartButtonEl.classList.add('colab-df-quickchart-complete');\n",
              "    }\n",
              "    (() => {\n",
              "      let quickchartButtonEl =\n",
              "        document.querySelector('#df-4f181653-9e1d-4d90-b4f3-12b1a803d470 button');\n",
              "      quickchartButtonEl.style.display =\n",
              "        google.colab.kernel.accessAllowed ? 'block' : 'none';\n",
              "    })();\n",
              "  </script>\n",
              "</div>\n",
              "\n",
              "    </div>\n",
              "  </div>\n"
            ],
            "application/vnd.google.colaboratory.intrinsic+json": {
              "type": "dataframe",
              "summary": "{\n  \"name\": \"full_df\",\n  \"rows\": 8,\n  \"fields\": [\n    {\n      \"column\": \"params\",\n      \"properties\": {\n        \"dtype\": \"object\",\n        \"semantic_type\": \"\",\n        \"description\": \"\"\n      }\n    },\n    {\n      \"column\": \"mean_test_score\",\n      \"properties\": {\n        \"dtype\": \"number\",\n        \"std\": 0.007921610693038324,\n        \"min\": 0.9154448894008119,\n        \"max\": 0.9361595652225676,\n        \"num_unique_values\": 8,\n        \"samples\": [\n          0.9325335875090778,\n          0.9186467969094135,\n          0.9361595652225676\n        ],\n        \"semantic_type\": \"\",\n        \"description\": \"\"\n      }\n    },\n    {\n      \"column\": \"algo\",\n      \"properties\": {\n        \"dtype\": \"category\",\n        \"num_unique_values\": 2,\n        \"samples\": [\n          \"XGBClassifier\",\n          \"LGBMClassifier\"\n        ],\n        \"semantic_type\": \"\",\n        \"description\": \"\"\n      }\n    }\n  ]\n}"
            }
          },
          "metadata": {},
          "execution_count": 43
        }
      ]
    },
    {
      "cell_type": "code",
      "source": [
        "full_df.sort_values('mean_test_score', ascending=False).iloc[0, 0]"
      ],
      "metadata": {
        "id": "swnYaDfh4G0f",
        "colab": {
          "base_uri": "https://localhost:8080/"
        },
        "outputId": "f19b30b9-7486-4b82-fa53-a2a5488b548c"
      },
      "execution_count": null,
      "outputs": [
        {
          "output_type": "execute_result",
          "data": {
            "text/plain": [
              "{'model__n_estimators': 300,\n",
              " 'model__learning_rate': 0.1,\n",
              " 'model__boosting_type': 'dart',\n",
              " 'coltf__num_pipe__impute__estimator': KNeighborsRegressor()}"
            ]
          },
          "metadata": {},
          "execution_count": 44
        }
      ]
    },
    {
      "cell_type": "code",
      "source": [
        "## Getting the pipeline of the best XGB Algorithm and LGB Algorithm:\n",
        "be_xgb = best_algos['XGBClassifier']\n",
        "be_lgb = best_algos['LGBMClassifier']\n",
        "be_xgb,be_lgb"
      ],
      "metadata": {
        "id": "d0oK7vgG4Nin",
        "colab": {
          "base_uri": "https://localhost:8080/"
        },
        "outputId": "442c12f0-02aa-4769-b758-f2bf05dbca97"
      },
      "execution_count": null,
      "outputs": [
        {
          "output_type": "execute_result",
          "data": {
            "text/plain": [
              "(Pipeline(steps=[('coltf',\n",
              "                  ColumnTransformer(remainder='passthrough',\n",
              "                                    transformers=[('num_pipe',\n",
              "                                                   Pipeline(steps=[('impute',\n",
              "                                                                    IterativeImputer(estimator=KNeighborsRegressor())),\n",
              "                                                                   ('scale',\n",
              "                                                                    StandardScaler())]),\n",
              "                                                   <sklearn.compose._column_transformer.make_column_selector object at 0x7c61b91c41c0>),\n",
              "                                                  ('cat_cols',\n",
              "                                                   OneHotEncoder(handle_unknown='ignore'),\n",
              "                                                   <sklearn.compose._...\n",
              "                                feature_types=None, gamma=None, grow_policy=None,\n",
              "                                importance_type=None,\n",
              "                                interaction_constraints=None, learning_rate=0.05,\n",
              "                                max_bin=None, max_cat_threshold=None,\n",
              "                                max_cat_to_onehot=None, max_delta_step=None,\n",
              "                                max_depth=16, max_leaves=None,\n",
              "                                min_child_weight=None, missing=nan,\n",
              "                                monotone_constraints=None, multi_strategy=None,\n",
              "                                n_estimators=500, n_jobs=None,\n",
              "                                num_parallel_tree=None, random_state=None, ...))]),\n",
              " Pipeline(steps=[('coltf',\n",
              "                  ColumnTransformer(remainder='passthrough',\n",
              "                                    transformers=[('num_pipe',\n",
              "                                                   Pipeline(steps=[('impute',\n",
              "                                                                    IterativeImputer(estimator=KNeighborsRegressor())),\n",
              "                                                                   ('scale',\n",
              "                                                                    StandardScaler())]),\n",
              "                                                   <sklearn.compose._column_transformer.make_column_selector object at 0x7c61b91c48b0>),\n",
              "                                                  ('cat_cols',\n",
              "                                                   OneHotEncoder(handle_unknown='ignore'),\n",
              "                                                   <sklearn.compose._column_transformer.make_column_selector object at 0x7c61b91c5120>)])),\n",
              "                 ('smote', SMOTE(random_state=42)),\n",
              "                 ('model',\n",
              "                  LGBMClassifier(boosting_type='dart', class_weight='balanced',\n",
              "                                 n_estimators=300, random_state=0))]))"
            ]
          },
          "metadata": {},
          "execution_count": 45
        }
      ]
    },
    {
      "cell_type": "markdown",
      "source": [
        " Training the best pipelines:\n",
        "\n",
        "Repeated k-Fold Cross-Validation provides a way to improve the estimated performance of a machine learning model. This involves simply repeating the cross-validation procedure multiple times and reporting the mean result across all folds from all runs. This mean result is expected to be a more accurate estimate of the true unknown underlying mean performance of the model on the dataset, as calculated using the standard error.\n",
        "\n",
        "We will use this technique here to test model performance once again before evaluating it.\n",
        "\n",
        "- Training the XGB Model:"
      ],
      "metadata": {
        "id": "yWXJtA684Svc"
      }
    },
    {
      "cell_type": "code",
      "source": [
        "%%time\n",
        "## A dry run of the best pipeline:\n",
        "pipe_xgb = be_xgb\n",
        "# evaluate pipeline using k-fold cross validation:\n",
        "cv = RepeatedStratifiedKFold(n_splits=5, n_repeats=3, random_state=1)\n",
        "scores = cross_val_score(pipe_xgb, X, y, scoring='accuracy', cv=cv, n_jobs=-1)\n",
        "print(f\"The MEAN of score obtained after CROSS VALIDATION of the XGB Based Pipeline is: {scores.mean()} or {scores.mean()*100:.2f}%\")"
      ],
      "metadata": {
        "id": "eVvNacs84Tuw",
        "colab": {
          "base_uri": "https://localhost:8080/"
        },
        "outputId": "a1914494-e48f-4920-d8eb-227c1095c272"
      },
      "execution_count": null,
      "outputs": [
        {
          "output_type": "stream",
          "name": "stdout",
          "text": [
            "The MEAN of score obtained after CROSS VALIDATION of the XGB Based Pipeline is: 0.9327650169053657 or 93.28%\n",
            "CPU times: user 3.63 s, sys: 754 ms, total: 4.39 s\n",
            "Wall time: 4min 42s\n"
          ]
        }
      ]
    },
    {
      "cell_type": "code",
      "source": [
        "%%time\n",
        "## Fitting into best pipeline for evaluation:\n",
        "pipe_xgb.fit(X, y)\n",
        "## Getting predictions:\n",
        "preds_xgb = pipe_xgb.predict(X_test)\n",
        "## Getting probabilities:\n",
        "probs_xgb = pipe_xgb.predict_proba(X_test)\n",
        "## Accuracy Score:\n",
        "print(f\"The ACCURACY SCORE produced on the TEST SET by the XGB Based Pipeline is: {accuracy_score(y_test,preds_xgb)} or {accuracy_score(y_test,preds_xgb)*100}%.\")"
      ],
      "metadata": {
        "id": "9v2x31b1lKI8",
        "colab": {
          "base_uri": "https://localhost:8080/"
        },
        "outputId": "4640d1d2-9cb7-4a81-9d24-d520ffa6a396"
      },
      "execution_count": null,
      "outputs": [
        {
          "output_type": "stream",
          "name": "stdout",
          "text": [
            "The ACCURACY SCORE produced on the TEST SET by the XGB Based Pipeline is: 0.9316779765576805 or 93.16779765576804%.\n",
            "CPU times: user 45.9 s, sys: 289 ms, total: 46.2 s\n",
            "Wall time: 25.8 s\n"
          ]
        }
      ]
    },
    {
      "cell_type": "code",
      "source": [
        "from sklearn.pipeline import Pipeline\n",
        "from lightgbm import LGBMClassifier\n",
        "\n",
        "\n"
      ],
      "metadata": {
        "id": "FAbQ2xAV7GTI"
      },
      "execution_count": null,
      "outputs": []
    },
    {
      "cell_type": "code",
      "source": [
        "%%time\n",
        "## A dry run of the best pipeline:\n",
        "pipe_lgb = be_lgb\n",
        "# evaluate pipeline using k-fold cross validation:\n",
        "cv = RepeatedStratifiedKFold(n_splits=5, n_repeats=3, random_state=1)\n",
        "scores = cross_val_score(pipe_lgb, X, y, scoring='accuracy', cv=cv, n_jobs=-1)\n",
        "print(f\"The MEAN of score obtained after CROSS VALIDATION of the LGBM Based Pipeline is: {scores.mean()} or {scores.mean()*100:.2f}%\")"
      ],
      "metadata": {
        "id": "Fri1OoyP6MoV",
        "colab": {
          "base_uri": "https://localhost:8080/"
        },
        "outputId": "6d19229f-101a-402d-ac93-2698b0853557"
      },
      "execution_count": null,
      "outputs": [
        {
          "output_type": "stream",
          "name": "stdout",
          "text": [
            "The MEAN of score obtained after CROSS VALIDATION of the LGBM Based Pipeline is: 0.936300983963713 or 93.63%\n",
            "CPU times: user 3 s, sys: 473 ms, total: 3.48 s\n",
            "Wall time: 4min 13s\n"
          ]
        }
      ]
    },
    {
      "cell_type": "code",
      "source": [
        "%%time\n",
        "## Fitting into best pipeline for evaluation:\n",
        "pipe_lgb.fit(X, y)\n",
        "## Getting predictions:\n",
        "preds_lgb = pipe_lgb.predict(X_test)\n",
        "## Getting probabilities:\n",
        "probs_lgb = pipe_lgb.predict_proba(X_test)\n",
        "## Accuracy Score:\n",
        "print(f\"The ACCURACY SCORE produced on the TEST SET by the LGBM Based Pipeline is: {accuracy_score(y_test,preds_lgb)} or {accuracy_score(y_test,preds_lgb)*100}%.\")"
      ],
      "metadata": {
        "id": "Xo8RjzUd552z",
        "colab": {
          "base_uri": "https://localhost:8080/"
        },
        "outputId": "2eabb0ae-135b-468d-adce-90a51287f883"
      },
      "execution_count": null,
      "outputs": [
        {
          "output_type": "stream",
          "name": "stdout",
          "text": [
            "[LightGBM] [Info] Number of positive: 20253, number of negative: 20253\n",
            "[LightGBM] [Info] Auto-choosing row-wise multi-threading, the overhead of testing was 0.011394 seconds.\n",
            "You can set `force_row_wise=true` to remove the overhead.\n",
            "And if memory is not enough, you can set `force_col_wise=true`.\n",
            "[LightGBM] [Info] Total Bins 5671\n",
            "[LightGBM] [Info] Number of data points in the train set: 40506, number of used features: 25\n",
            "[LightGBM] [Info] [binary:BoostFromScore]: pavg=0.500000 -> initscore=0.000000\n",
            "The ACCURACY SCORE produced on the TEST SET by the LGBM Based Pipeline is: 0.9315237507711289 or 93.1523750771129%.\n",
            "CPU times: user 21.1 s, sys: 64.7 ms, total: 21.2 s\n",
            "Wall time: 21.4 s\n"
          ]
        }
      ]
    },
    {
      "cell_type": "code",
      "source": [
        "probs_xgb[:10]"
      ],
      "metadata": {
        "id": "8xZifzCRqPsA",
        "colab": {
          "base_uri": "https://localhost:8080/"
        },
        "outputId": "cf5731b2-a292-4d3c-a8c7-07131f829e8d"
      },
      "execution_count": null,
      "outputs": [
        {
          "output_type": "execute_result",
          "data": {
            "text/plain": [
              "array([[9.9691719e-01, 3.0827965e-03],\n",
              "       [7.4809790e-04, 9.9925190e-01],\n",
              "       [9.9611121e-01, 3.8887833e-03],\n",
              "       [9.9885905e-01, 1.1409606e-03],\n",
              "       [9.9778003e-01, 2.2199482e-03],\n",
              "       [9.8285812e-01, 1.7141880e-02],\n",
              "       [9.8815072e-01, 1.1849255e-02],\n",
              "       [9.9704581e-01, 2.9541841e-03],\n",
              "       [9.9771184e-01, 2.2881657e-03],\n",
              "       [8.8744122e-01, 1.1255878e-01]], dtype=float32)"
            ]
          },
          "metadata": {},
          "execution_count": 51
        }
      ]
    },
    {
      "cell_type": "code",
      "source": [
        "probs_lgb[:10]"
      ],
      "metadata": {
        "id": "BGDPOIeoqRNh",
        "colab": {
          "base_uri": "https://localhost:8080/"
        },
        "outputId": "689defd8-f192-4be3-b880-52cd3b15ef57"
      },
      "execution_count": null,
      "outputs": [
        {
          "output_type": "execute_result",
          "data": {
            "text/plain": [
              "array([[0.98148129, 0.01851871],\n",
              "       [0.01339898, 0.98660102],\n",
              "       [0.92056246, 0.07943754],\n",
              "       [0.94536429, 0.05463571],\n",
              "       [0.89967949, 0.10032051],\n",
              "       [0.92183888, 0.07816112],\n",
              "       [0.79212826, 0.20787174],\n",
              "       [0.96344237, 0.03655763],\n",
              "       [0.93960069, 0.06039931],\n",
              "       [0.80015205, 0.19984795]])"
            ]
          },
          "metadata": {},
          "execution_count": 52
        }
      ]
    },
    {
      "cell_type": "markdown",
      "source": [
        "Learning Curve"
      ],
      "metadata": {
        "id": "YlcmRM91qTbh"
      }
    },
    {
      "cell_type": "code",
      "source": [
        "%%time\n",
        "def funct_lc(be,X_train,y_train,title):\n",
        "    a, b, c = learning_curve(be, X_train, y_train, n_jobs=-1, scoring='accuracy')\n",
        "    plt.title(f\"{title}\")\n",
        "    plt.plot(a, b.mean(axis=1), label='Training Accuracy')\n",
        "    plt.plot(a, c.mean(axis=1),  label='Validation Accuracy')\n",
        "    plt.xlabel('Training sample sizes')\n",
        "    plt.ylabel('Accuracy')\n",
        "    plt.legend()\n",
        "    plt.show()\n",
        "\n",
        "funct_lc(be_xgb,X,y,\"XGB Pipeline\")\n",
        "funct_lc(be_lgb,X,y,\"LGB Pipeline\")"
      ],
      "metadata": {
        "id": "0YDNLkb1qVoT",
        "colab": {
          "base_uri": "https://localhost:8080/",
          "height": 962
        },
        "outputId": "76761844-9acf-42ff-ff2f-f61e47a90871"
      },
      "execution_count": null,
      "outputs": [
        {
          "output_type": "display_data",
          "data": {
            "text/plain": [
              "<Figure size 640x480 with 1 Axes>"
            ],
            "image/png": "[encoded data removed]"
          },
          "metadata": {}
        },
        {
          "output_type": "display_data",
          "data": {
            "text/plain": [
              "<Figure size 640x480 with 1 Axes>"
            ],
            "image/png": "[encoded data removed]"
          },
          "metadata": {}
        },
        {
          "output_type": "stream",
          "name": "stdout",
          "text": [
            "CPU times: user 7.33 s, sys: 1.35 s, total: 8.68 s\n",
            "Wall time: 8min 29s\n"
          ]
        }
      ]
    },
    {
      "cell_type": "markdown",
      "source": [
        "## Best model Selection"
      ],
      "metadata": {
        "id": "H6whA2eGqyTA"
      }
    },
    {
      "cell_type": "code",
      "source": [
        "from sklearn.metrics import confusion_matrix\n",
        "from sklearn.metrics import  confusion_matrix, classification_report"
      ],
      "metadata": {
        "id": "k7Vb8LAMuxrc"
      },
      "execution_count": null,
      "outputs": []
    },
    {
      "cell_type": "code",
      "source": [
        "## Function for confusion matrix:\n",
        "def funct_cm(be,X_test,y_test,preds,title):\n",
        "    ## Simple Confusion Matrix:\n",
        "    print(confusion_matrix(y_test, preds))\n",
        "\n",
        "   # print(f\"\\nThe Confusion Matrix for the {title}:\")\n",
        "    ## Plotting the Confusion Matrix:\n",
        "   # plot_confusion_matrix(be, X_test, y_test)\n",
        "   # plt.show()\n",
        "\n",
        "    print(f\"\\nThe Classification Report for the {title}:\")\n",
        "    ## Classification Report:\n",
        "    print(classification_report(y_test, preds))\n",
        "\n",
        "    print(f\"\\nThe Final Accuracy Score for the {title}: {be.score(X_test, y_test)}\")\n",
        "    ## Accuracy Score\n",
        "    print(\"\\n\")\n",
        "\n",
        "funct_cm(be_xgb,X_test,y_test,preds_xgb,\"XGB Pipeline\")\n",
        "funct_cm(be_lgb,X_test,y_test,preds_lgb,\"LGB Pipeline\")"
      ],
      "metadata": {
        "id": "VOk0ADhQqxii",
        "colab": {
          "base_uri": "https://localhost:8080/"
        },
        "outputId": "fb8fc61d-3541-47c1-d541-d442c5557e27"
      },
      "execution_count": null,
      "outputs": [
        {
          "output_type": "stream",
          "name": "stdout",
          "text": [
            "[[4995   71]\n",
            " [ 372 1046]]\n",
            "\n",
            "The Classification Report for the XGB Pipeline:\n",
            "              precision    recall  f1-score   support\n",
            "\n",
            "           0       0.93      0.99      0.96      5066\n",
            "           1       0.94      0.74      0.83      1418\n",
            "\n",
            "    accuracy                           0.93      6484\n",
            "   macro avg       0.93      0.86      0.89      6484\n",
            "weighted avg       0.93      0.93      0.93      6484\n",
            "\n",
            "\n",
            "The Final Accuracy Score for the XGB Pipeline: 0.9316779765576805\n",
            "\n",
            "\n",
            "[[5031   35]\n",
            " [ 409 1009]]\n",
            "\n",
            "The Classification Report for the LGB Pipeline:\n",
            "              precision    recall  f1-score   support\n",
            "\n",
            "           0       0.92      0.99      0.96      5066\n",
            "           1       0.97      0.71      0.82      1418\n",
            "\n",
            "    accuracy                           0.93      6484\n",
            "   macro avg       0.95      0.85      0.89      6484\n",
            "weighted avg       0.93      0.93      0.93      6484\n",
            "\n",
            "\n",
            "The Final Accuracy Score for the LGB Pipeline: 0.9315237507711289\n",
            "\n",
            "\n"
          ]
        }
      ]
    },
    {
      "cell_type": "markdown",
      "source": [
        "## Precision_recall curve"
      ],
      "metadata": {
        "id": "VYGfOWzZv5EZ"
      }
    },
    {
      "cell_type": "code",
      "source": [
        "%%time\n",
        "import matplotlib.pyplot as plt\n",
        "from sklearn.metrics import precision_recall_curve\n",
        "from sklearn.metrics import auc\n",
        "\n",
        "def plot_custom_precision_recall_curve(model, X_test, y_test, title):\n",
        "    # Compute precision and recall\n",
        "    precision, recall, _ = precision_recall_curve(y_test, model.predict_proba(X_test)[:, 1])\n",
        "\n",
        "    # Compute area under the curve (AUC) for precision-recall curve\n",
        "    pr_auc = auc(recall, precision)\n",
        "\n",
        "    # Plot precision-recall curve\n",
        "    plt.figure(figsize=(8, 6))\n",
        "    plt.plot(recall, precision, label=f'Precision-Recall curve (AUC = {pr_auc:.2f})', color='b')\n",
        "    plt.xlabel('Recall')\n",
        "    plt.ylabel('Precision')\n",
        "    plt.title(title)\n",
        "    plt.legend(loc='best')\n",
        "    plt.show()\n",
        "\n",
        "# Example usage:\n",
        "# Assuming you have a classification model called 'model' trained on data X_train, y_train\n",
        "# and you want to plot precision-recall curve for test data X_test, y_test\n",
        "plot_custom_precision_recall_curve(pipe_xgb, X_test, y_test, \"XGB Pipeline Precision-Recall Curve\")\n",
        "plot_custom_precision_recall_curve(pipe_lgb, X_test, y_test, \"LGB Pipeline Precision-Recall Curve\")\n"
      ],
      "metadata": {
        "id": "-p51Rrmmv4iG",
        "colab": {
          "base_uri": "https://localhost:8080/",
          "height": 1000
        },
        "outputId": "bea24984-83d5-45d3-e1cb-783b8b8dd704"
      },
      "execution_count": null,
      "outputs": [
        {
          "output_type": "display_data",
          "data": {
            "text/plain": [
              "<Figure size 800x600 with 1 Axes>"
            ],
            "image/png": "[encoded data removed]"
          },
          "metadata": {}
        },
        {
          "output_type": "display_data",
          "data": {
            "text/plain": [
              "<Figure size 800x600 with 1 Axes>"
            ],
            "image/png": "[encoded data removed]"
          },
          "metadata": {}
        },
        {
          "output_type": "stream",
          "name": "stdout",
          "text": [
            "CPU times: user 1.67 s, sys: 181 ms, total: 1.85 s\n",
            "Wall time: 1.66 s\n"
          ]
        }
      ]
    },
    {
      "cell_type": "markdown",
      "source": [
        "## ROC Curve"
      ],
      "metadata": {
        "id": "zkh5ndMOwj8F"
      }
    },
    {
      "cell_type": "code",
      "source": [
        "def funct_roc(y_test,preds,title):\n",
        "    fpr, tpr, threshold = roc_curve(y_test, preds)\n",
        "    roc_auc = auc(fpr, tpr)\n",
        "\n",
        "    # method I: plt\n",
        "    plt.figure(figsize=(8,8))\n",
        "    plt.title(f'Receiver Operating Characteristic of {title}')\n",
        "    plt.plot(fpr, tpr, 'b', label = 'AUC = %0.2f' % roc_auc)\n",
        "    plt.legend(loc = 'lower right')\n",
        "    plt.plot([0, 1], [0, 1],'r--')\n",
        "    plt.xlim([0, 1])\n",
        "    plt.ylim([0, 1])\n",
        "    plt.ylabel('True Positive Rate')\n",
        "    plt.xlabel('False Positive Rate')\n",
        "    plt.show()\n",
        "\n",
        "#     # method II: ggplot\n",
        "#     from ggplot import *\n",
        "#     df = pd.DataFrame(dict(fpr = fpr, tpr = tpr))\n",
        "#     ggplot(df, aes(x = 'fpr', y = 'tpr')) + geom_line() + geom_abline(linetype = 'dashed')\n",
        "\n",
        "funct_roc(y_test,preds_xgb,\"XGB Pipeline\")\n",
        "funct_roc(y_test,preds_lgb,\"LGB Pipeline\")\n"
      ],
      "metadata": {
        "id": "vEDvf4pjwjkl",
        "colab": {
          "base_uri": "https://localhost:8080/",
          "height": 1000
        },
        "outputId": "15a40899-c82f-499f-b2d8-b6af38512b82"
      },
      "execution_count": null,
      "outputs": [
        {
          "output_type": "display_data",
          "data": {
            "text/plain": [
              "<Figure size 800x800 with 1 Axes>"
            ],
            "image/png": "[encoded data removed]"
          },
          "metadata": {}
        },
        {
          "output_type": "display_data",
          "data": {
            "text/plain": [
              "<Figure size 800x800 with 1 Axes>"
            ],
            "image/png": "[encoded data removed]"
          },
          "metadata": {}
        }
      ]
    },
    {
      "cell_type": "code",
      "source": [
        "print(f\"The MCC score of XGB Pipeline is:{matthews_corrcoef(y_test, preds_xgb)}\")\n",
        "print(f\"The MCC score of LGB Pipeline is:{matthews_corrcoef(y_test, preds_lgb)}\")"
      ],
      "metadata": {
        "id": "P71DsRwjwwDY",
        "colab": {
          "base_uri": "https://localhost:8080/"
        },
        "outputId": "13cf1253-708a-4303-9efe-20d87e11e03d"
      },
      "execution_count": null,
      "outputs": [
        {
          "output_type": "stream",
          "name": "stdout",
          "text": [
            "The MCC score of XGB Pipeline is:0.7921420953064902\n",
            "The MCC score of LGB Pipeline is:0.7924988576168074\n"
          ]
        }
      ]
    },
    {
      "cell_type": "code",
      "source": [
        "from sklearn.preprocessing import OneHotEncoder\n"
      ],
      "metadata": {
        "id": "ueL8VvCsyRv0"
      },
      "execution_count": null,
      "outputs": []
    },
    {
      "cell_type": "code",
      "source": [
        "from sklearn.preprocessing import OneHotEncoder\n",
        "import pandas as pd\n",
        "import matplotlib.pyplot as plt\n",
        "\n",
        "def funct_fi(p, cols):\n",
        "    fi = p.steps[2][1].feature_importances_  # Returns the list of feature importance from model inside the pipeline\n",
        "    feat_importances = pd.Series(fi, index=cols)\n",
        "    feat_importances.nlargest(5).plot(kind='barh')\n",
        "    plt.show()\n",
        "\n",
        "# Check if 'loan_status' is in the column names before attempting to delete it\n",
        "if 'loan_status' in ncol:\n",
        "    ncol = ncol.delete(ncol.get_loc(\"loan_status\"))  # ncol is an index object, not an array object\n",
        "\n",
        "# Check if 'loan_int_rate' is in the column names before attempting to delete it\n",
        "if 'loan_int_rate' in ncol:\n",
        "    ncol = ncol.delete(ncol.get_loc(\"loan_int_rate\"))  # ncol is an index object, not an array object\n",
        "\n",
        "# Check if 'loan_status' and 'loan_int_rate' were successfully deleted before proceeding\n",
        "if 'loan_status' not in ncol and 'loan_int_rate' not in ncol:\n",
        "    train_col = list(ncol) + list(ccol)  # Final list of columns\n",
        "\n",
        "    print(\"FOR XGB PIPELINE:\\n\")\n",
        "    funct_fi(pipe_xgb, train_col)\n",
        "    print(\"\\nFOR LGBM PIPELINE:\\n\")\n",
        "    funct_fi(pipe_lgb, train_col)\n",
        "else:\n",
        "    print(\"'loan_status' or 'loan_int_rate' not found in column names. Please verify the column names in your DataFrame.\")\n",
        "\n"
      ],
      "metadata": {
        "id": "1vxnoeMnw3y2",
        "colab": {
          "base_uri": "https://localhost:8080/",
          "height": 838
        },
        "outputId": "8960d322-cc84-45c9-aa85-75a41e97ec5e"
      },
      "execution_count": null,
      "outputs": [
        {
          "output_type": "stream",
          "name": "stdout",
          "text": [
            "FOR XGB PIPELINE:\n",
            "\n"
          ]
        },
        {
          "output_type": "display_data",
          "data": {
            "text/plain": [
              "<Figure size 640x480 with 1 Axes>"
            ],
            "image/png": "[encoded data removed]"
          },
          "metadata": {}
        },
        {
          "output_type": "stream",
          "name": "stdout",
          "text": [
            "\n",
            "FOR LGBM PIPELINE:\n",
            "\n"
          ]
        },
        {
          "output_type": "display_data",
          "data": {
            "text/plain": [
              "<Figure size 640x480 with 1 Axes>"
            ],
            "image/png": "[encoded data removed]"
          },
          "metadata": {}
        }
      ]
    },
    {
      "cell_type": "markdown",
      "source": [
        "## Pickling the best Pipeline:"
      ],
      "metadata": {
        "id": "b0OjBgeky1Ac"
      }
    },
    {
      "cell_type": "code",
      "source": [
        "# Save the ML Pipeline:\n",
        "import joblib\n",
        "joblib.dump(pipe_lgb, 'best_pipeline.pkl')"
      ],
      "metadata": {
        "id": "Rx_itxLLy47F",
        "colab": {
          "base_uri": "https://localhost:8080/"
        },
        "outputId": "8f130fad-3a99-4133-fb75-204d4e0b4313"
      },
      "execution_count": 68,
      "outputs": [
        {
          "output_type": "execute_result",
          "data": {
            "text/plain": [
              "['best_pipeline.pkl']"
            ]
          },
          "metadata": {},
          "execution_count": 68
        }
      ]
    },
    {
      "cell_type": "code",
      "source": [
        "X.person_home_ownership.unique()"
      ],
      "metadata": {
        "colab": {
          "base_uri": "https://localhost:8080/"
        },
        "id": "kRniDni8amZb",
        "outputId": "4490acc2-6736-4e45-e937-8363e4775d6b"
      },
      "execution_count": 70,
      "outputs": [
        {
          "output_type": "execute_result",
          "data": {
            "text/plain": [
              "array(['OWN', 'MORTGAGE', 'RENT', 'OTHER'], dtype=object)"
            ]
          },
          "metadata": {},
          "execution_count": 70
        }
      ]
    },
    {
      "cell_type": "code",
      "source": [
        "model = joblib.load('best_pipeline.pkl')"
      ],
      "metadata": {
        "id": "EvrexGQEMDIh"
      },
      "execution_count": 69,
      "outputs": []
    },
    {
      "cell_type": "markdown",
      "source": [
        "### **For Streamlit **"
      ],
      "metadata": {
        "id": "kPo5VEAteSbv"
      }
    },
    {
      "cell_type": "code",
      "source": [
        "import streamlit as st\n",
        "from PIL import Image\n",
        "import joblib\n",
        "import json\n",
        "import pandas as pd\n",
        "\n",
        "# Sidebar Options:\n",
        "SIDEBAR_OPTIONS = [\"Introduction\", \"Predict your Credit Score\"]\n",
        "st.sidebar.subheader(\"Options:\")\n",
        "selected_option = st.sidebar.selectbox(\"Select an option:\", SIDEBAR_OPTIONS)\n",
        "\n",
        "def display_intro():\n",
        "    # Introduction Section\n",
        "    image = Image.open('Credit_Risk.jpg')\n",
        "    st.image(image, use_column_width=\"always\")\n",
        "    st.title(\"Welcome to the Credit Risk Simulator\")\n",
        "    st.header(\"Predict Credit Eligibility with Confidence\")\n",
        "    st.subheader(\"Let's get started...\")\n",
        "\n",
        "def predict_credit_score():\n",
        "    # Input Section\n",
        "    st.header(\"Provide Your Details for Credit Assessment\")\n",
        "\n",
        "    data = {}\n",
        "    columns = st.columns(2)\n",
        "    data['person_age'] = columns[0].number_input(\"Age:\", 18, 70)\n",
        "    data['person_income'] = columns[1].number_input(\"Annual Income ($):\", 1000, 100000)\n",
        "    data['person_emp_length'] = st.number_input(\"Employment Length (years):\", 1, 50)\n",
        "    data['loan_amnt'] = st.number_input(\"Loan Amount ($):\", 100, 50000)\n",
        "    data['loan_percent_income'] = st.number_input(\"Loan Percent Income (%):\", 0, 100)\n",
        "    data['cb_person_cred_hist_length'] = st.slider(\"Credit History Length (years):\", 0, 50)\n",
        "    data['person_home_ownership'] = st.selectbox(\"Home Ownership:\", [\"RENT\", \"OWN\", \"MORTGAGE\", \"OTHER\"])\n",
        "    data['loan_intent'] = st.selectbox(\"Loan Intent:\", ['EDUCATION', 'MEDICAL', 'VENTURE', 'PERSONAL', 'DEBT CONSOLIDATION', 'HOME IMPROVEMENT'])\n",
        "    data['loan_grade'] = st.selectbox(\"Loan Grade:\", ['A', 'B', 'C', 'D', 'E', 'F', 'G'])\n",
        "    data['cb_person_default_on_file'] = st.selectbox(\"Previous Defaults:\", [\"No\", \"Yes\"])\n",
        "\n",
        "    # Display Data\n",
        "    if st.button(\"Display Data\"):\n",
        "        data_json = json.dumps(data, indent=4)\n",
        "        st.write(\"Input Data (JSON Format):\")\n",
        "        st.code(data_json)\n",
        "        st.write(\"Input Data (Tabular Format):\")\n",
        "        st.write(pd.DataFrame(data, index=[0]))\n",
        "\n",
        "    # Predict Credit Score\n",
        "    if st.button(\"Predict Credit Score\"):\n",
        "        input_data = pd.DataFrame([data])\n",
        "        pipeline = joblib.load('best_pipeline.pkl')\n",
        "        prediction = pipeline.predict(input_data)\n",
        "        result = \"Risk Assessment: Risky\" if prediction[0] else \"Risk Assessment: Not Risky\"\n",
        "        st.write(\"Prediction Result:\", result)\n",
        "\n",
        "# Main\n",
        "if selected_option == SIDEBAR_OPTIONS[0]:\n",
        "    display_intro()\n",
        "elif selected_option == SIDEBAR_OPTIONS[1]:\n",
        "    predict_credit_score()\n",
        "\n"
      ],
      "metadata": {
        "id": "l2dH3jlQzO_y"
      },
      "execution_count": null,
      "outputs": []
    },
    {
      "cell_type": "markdown",
      "source": [
        "![image.png](data:image/png;base64,iVBORw0KGgoAAAANSUhEUgAAAxMAAAMTCAYAAADaWkpQAAAAAXNSR0IArs4c6QAAAARnQU1BAACxjwv8YQUAAAAJcEhZcwAAEnQAABJ0Ad5mH3gAAIqoSURBVHhe7d0JnE3lG8DxZ2IY2zCWLIVkzb7va0IohLILJVuSlJT+rVJIKRJZS2RJJVmyhqxZa+xbkX1LiRmj/O/zzjnjznVnzBxj7h3z+3I+933fc+857z13mfc57/ueGxAckv2qAAAAAEA83WHdAgAAAEC8EEwAAAAAcIRgAgAAAIAjBBMAAAAAHCGYAAAAAOAIwQQAAAAARwgmAAAAADhCMAEAAADAEYIJAAAAAI4QTAAAAABwhGACAAAAgCMEEwAAAAAcIZgAAAAA4AjBBAAAAABHCCYAAAAAOEIwAQAAAMARggkAAAAAjhBMAAAAAHCEYAIAAACAIwQTAAAAABwhmAAAAADgCMEEAAAAAEcIJgAAAAA4QjABAAAAwBGCCQAAAACOEEwAAAAAcIRgAgAAAIAjAcEh2a9aaQAJoFSpErJt269WDkgYuXLllHRp08reffutksSn7+16D9SVzCEh8scfR2TxkqU+rc/tqmCB/PLPxYty9OgxqwQA/Bc9E0AC0cbets3rZemi+XJw3w6pWqWStSZutv+6SU6fOGyW118baJUCYt4PWzaulbWrf5SJ48dYpZE+mzQu6n2j6Vvly6mfmff2gP795KmuXeTNN/4nk2/h/m5nsX3W9fXV11lfb74HACQFBBPwmWlfTJaF8+d4XeZ8PVP+N3CAOROaVHTp1FHuuiuXSWfIkEFatXrUpP3BQ40bRTu+jRo2sNZcT4+9fb9ePbpZpUmL+3N1X5Li+0q1aN5MUqRIYdIP1K1jbhPTKy+/KPUeuN/KXbN79x4r5Xtt2zwmyxbPl0MHd0c11HeGbpGxn4w0gX5S0bjRg+ZWX+9GD8b8Ob0ZPbp1jfa50M8EADhFMAGf0QZd+XJlvS7VqlWRPs/0MmdCv509I0k0BjZv2Sr//vuvlRP55Rf/Ger0/bz5ki5duqjj26F9W2tNdP2f72uOvd6n6H1F5Js531lrkhb7eXou7u8rbXjqcJKE9ESXx2X/nlCz6Bn8hHLw4O9WSuT3Q4etVOJp6BZ86hC+uvUbScvH2smsr762Sn1HvxtWLPtBPhoxXEqWLCFp06a11ohky5bVBGKrVy6Vzq5gPynQ4WO2/QcOWqlIZUqXinp/jR41wiqNv5YtHon2uWjW9GFrDW43CfWeAWJDMAG/cPHiRTl//rxZwsLDrdJI1atXlSmTJ1g5/zV/wQ/yeOeu8um4idK95zMyYeJn1hr/MHXadCslUqNGNa8B2sMPN7ZSInO/n39bjNn++++/zfsqIiLCKomkDc+lroCiQ7s2VsnNy537bsmYMaNZgtIEWaU3r3vP3vLu0OHy4UcfS6s2HazSxJM3bx4rJTL5sykmoPhxxUpZsHCRVeob+h7+YcF3UqxYUatETEBvf5fYwb32FD7rCiKTgtZtO5rXWV/vNu0et0ojFS5cMOr9pScHnNBjVrx45PGyj4++vtroxO0nId4zwI0QTMAvTJz8ueQvVNwsd+cpIFWq1ZZ58xdaayN7Mfo918fK+a+FPyyWl195Tb6a/Y1V4j/GjB0vv/9+yKSDUqeWfn2fMWmbDn26r0hhk9aA7u13hpp0UvfSwFfN+yrn3feaM+r6vrIbUXoW++1BrydYz1ee3LmtVMLSoO694SPkrbff9UmAp+8XW8SV6EGZL40ZPVJy5shh5cS8tmXKV4n6Lqles6789NMac7KiR6/o73d/pRPa9XXW19tTgfw335Om813sIXP6fWVr3661lcLtJCHeM8CNcDUn+IxOQsx+550mPWr0GHn9jbdN2t28uV9LpYoVTFr/8LXv2MWkNbiwH7to8VJz+2CDetLp8Q6SKVNG+ebb72Tsp9F7M3T9I82amLNw4WHhsmr1Gpn25YzrGme1a9WUVKkCTfrgwd+8Xq3GnN2zzoZevhxhztKq+vXqmltl18uTDq3p0vlxKVOmlPz553lZumy5jBs/KU7HQ/Xs/pTUrFndPE8NDvS5ujcKYqPDmPq/8JxJnzv3pxQscm3ugE6wtcfFz/76W+nWo7dJu3Pf94kTJ+WHRYtdx3CmtTa6ypUqSnBwBpM+cfLkdVe4cn8NPdc7eX3d6Xh529PP9JXpM76ycpG0N+K9Ye9ENaq0Eaq9St5oXXS/GmjF9L6xn+uTT3SS++vUNmVTpn4pCxb8YNLu7xGbzmOpW7d2VAC3c9fuqLP+nmI7Vjrp2h5nH9PzcH8OKrZ9ubM/Czq/yaYN3Z07d8lff/0t69ZvsEojee5n9eq1rmM/K8YrPtnHzf346NyHVo+2NOkvpk2PcSiVDikb8s4gKxcZLL/y6htWLjr9zLnXwf3za3/G9T69enWXIoULyf79B6RX775mvS0u7wNPTj7r7p8bu27266/DzeyetGXLf5TxE669LjF933jSIX66PQ2oNdjSyd5q9569Uq3G9fNi3Olr06B+Pcme/c4bHgN97q1bPWqGFqq4fFfF9xjHdx9xrb/9Pe7+WXu+37NmvpL9OPdgT99Pbdu0ilr/w6IlMnrMp9Za7+LzXL3Vx/27eMuWbTJx0mfR3uMJ+Z4BboRgAj4Tl8aze0NJv0T1zLJyL9dhARoktHossgGivps7T7o82d2k9Q/O559NMLeedOjLqI/HRDsLP2vGF1Kndi2TXv7jCnm0VXuTdqdXWXm6Z+T212/4WRo/3Nyk3RuxWbNff5Z64Ev95WlXgyUwMDJYsekfgfTp0knOnJFnWb0dDx3z/eorA8yQDU969rVZi1ZWLnZbN62Tu+++y6S18aWNMP1juGHdKnMGWnslHm7SQrZs3Wbuo2Lb98lTp6TX033NsXJnN1qUt0ZubI3g+Ly+3twomFDu+/jrr7/k3oLFTNqmx2T0yBFmmJ0nHTr16mtvmYBBuT9Xb7QRUKxEOZN+9X8vS8f2bU0jwJM28L5wbbPfCy9ZJZHieqy8HeePR35gxsjbgZO7nzdukmf69IvWCHHn/hn15P55jO1Y6XP6ds5cr8Gpfdz0Pac9kt99+1W0q6CN+HCUDBo8xMpF535fnWdQulxlk46L1q1ayqiPPjDpGTO/knXrNpgeKnu+xbHjx6VEqciTGPF5H7hz+ll3fy/Z69xf45h4+77x5P45t4OHTRtWRw1jq9fgoWife5s+bvasL2P8Dp382RemB9CmJy36Ptv7uueu9Pm/PPC1aN8XTo5xfPYR3/rb3x+bNm+Rd4cMl49HfSB3ZstmymwHDhw037k652TYkMGSJUtma00k98+HOyfP1bM+I94fGnWxD5v2vul35Zq1600+od4zQFwwzAlJxpV/r1ip6Dwbmmr7jp3mVr+4v5493esfEaV/iPQPkvslGJcuizxTp4oWvc9KRVejWjUrJbJixSorFTvdR0x//LR+duPCGz2z9O7gN6Ma8/oHUMeE2/QPk/7xiItvv5trpUQefijyj12f3r2ihrKsWrU6WoPCc9+e9I/sZ5M+jfelcOMqttf3Zkz5YpqVEgkODpbmjzS1cpF0no77H3z9Q2/P59FjoY3P+D5nbcQ+83QPr4GE0gb/4x3bm/slBB0aqMfODiT0ObjPJShbprQ5E36zPI+VO923ToKO7f2p7z0NejyPp2fPh7vixa59NvWMv1M6ltw9kFDuE96dvA9u5rN+K7Vv2zrqc77PCiBDt+8wt0rP8nujw8ns71B97+h7SI+D0uf40EMNzXet0uGS+r6zn7s9H86es6TbqVWruknb4nuM47uP+NTfnZ500e82z0BC3XtvPrNdvVqYZyChNCB07zmz3cz3il0fz0BC6ft3yLvee7OBW41gAn5Lv9zLly9r5a798fOkjSX9A7F4yTJp276TOQO6zAoI3MdU6x+cZ57tZ87G6JwM+wyO0ksl2pdL1TP1OgRI6VlZz4ad1qtwkUImrX8Ehr4XeYYzNvoYvXSs7cyZs2bIltbloSYtzBnimOhj9Q+M3SDUIUg6/l/HhDdp1tKcRVU6DMh+DrHRM53289OzajrxskH9B0xej+PQYe+btPLctw6P0bNtWm+tvz4PpX/IRn547XEJKbbX92YsWbo86o+4KlmyuJWKPJtvnx3W56i9U/kKFDVnzz/7/AtTrs95wIsvmPTA/71u6rbDLcjRs4tapov23CjtIdGeLO3N+WjUJ1KyTEVzLPWY2q+jiulqW/HlPuxOh9foc7DnEqxes04+GTvO61l1m9Zb6+9OhzlpmT5n5X6s9HUa4nr/6HPS56bvVZueJY1t3pO+ztoY1KFNun3tndHXyBt9z2oAaIvt83Mj+rnR11LPZus+dd/jJ0wy6+L7PlA381mPyfsjPjL10mEqNk1rmb3ERa1aNayUyMpVP5nbteuufQ9Wreq9d6dSxfLmVj8vrds+bt5Dehz0QhN63Lp1fzpqeI57L5h+ZvPkK2zuX65iNfN+0N4z954YJ8c4vvuIT/3d6fe/7lv3oa+dfve4f0610X/HHXeY/dnr7e9W5RlgO3mu7uz66AkfvZqa7tO9h0eHTNkT6RPqPQPEBcEE/JKendVLwtpDLLSR4j7W05M2ivTKJzoGVP+Y6Jl1/VK1/4ioD0eOFnt8v/4B0Ya4PSFZ/zC5N+A2btpspSRqyJOtTevHos7ubd681dzeiE521j8CSp9L5yeeihrXq2dfGzZuZobCeKO9BvZjNQByHy6i+SlTIs+w63O4Ube27etv5phbfcx7Q9+JGva0bPmKaL0S7vvWYEyvJGSP2dX69+3X3zwfpUMldBz7reDt9U0IeobSm/r1rgVX+hzd/2Brg9O+fGfZsqXNrb6GWreIiGu9Z7ptLdPFfb7Es31fkKLFy8qbbw2OasDoMbVfR3VvvnxW6uZkzZLFSkm0QEff/00feTRag8sbrbfW392JEydMmd1rYB8rpRceGGYF1/rc9L3qHrTHdglSPdb9Xxxojo9u325ceaNXqHHnbRhbfOjx1xMMuk/dtw6jU/F9H6ib+azHROun9bp0KcwqEZPWMnu5EQ1ySpUqadI6rG+CdbU5PXmieVWoYIHrruqk8wDshvvff/0d7Rjo6+15YiZr1qxWSszcE5v9fvAchufkGMdnH/GtvycdaqbfPfra6XePDolyN8gVXOv+7PU6bM6mvxTvzslz9aSv1yMtW5vPpu6zj+vzotuz2XOBEuI9A8QVwQT8gs4/0HGh9jJ82DumG9mmjcmYGpAaEHhrFLn/0NepU6dl+PsfmrQ790ZeaesPrVqydJmVijx7765ypcix1GrFyrgNcSpe/Np4/PUbNsb6x8uTe0A0f8G1K1zZ9EyurYDVlX8jH478OOoMmvtZ5ZGjRpu0zX3fK1etvu7snV4Od5/bH3PPwCshxPT63io6rCskJJNJ63PT5+jJHhqiQaXn8Kgb0Ya8Ox1mpJMpC7oacjb9fYSEcMTt9dJfrH7h+eiTim+W+7FS3q4A5v6e1TOn2qj1Rj8XsfWS3Cr6vh/+wfXfDU7fBzfzWb+V3E+ChG6PPkzQzuv3pedQJ/cePH1f6oRt7c2JyeHD1+Yr6cmFd95+M8bX3Okxjs8+4lt/T57fPUeOXPsdEDXy4+i/SB+6fbuViv45TqjvFc+LDOh38ukzZ6ycSP4C91opIPEQTMCv6RVQ3njz7Vgbk+5jft3pNf9tno1gm/uQA/cvfj1rZ5891DPu7mfrypUtY271D5S3AMUb+8y/cv9DGBfZ7rw2XvfFF56L+gEie1n147Url6RMkdJKxU6Px6LFS6xcJG8NH/d979vvfZiZ+/Az98t0JpSYXt+EkCbo+t+CcP9jfG++e6473rrUrl3TuodEXfkrPrQxs2Det/LHoX3y/XezTUNf54YktHeHDDM9SkrHY+v7R/epvX52EHkz3I+Vfl68fc70TKq7mjWuzTdyt3nLFit1Y3r1J3fxDejcaUPMW8PO6fvgZj7rt1KtmteGOGmArkPg7MXuoVWeJ0+UPexL6dyDLz6fKHt2/uK1Ea8BpT0USOcjdH2ys5nkrT8S6dmId3qM47MPFZ/63yqJ8b0C+ArBBPyCXgJRhxbpouNP9YffdExogcLFrzvzk1g2brw21Mm+BrvOn7DHaq9du87cxtep06etVPxpg9D+ASL3xQnPs8izZs22UsmD57j7/fuu9bDYtKHi7XjbZ3id0EvwamOmQvlyZjs6T+C33343v6Ce0DQ41Cu8uAfNuk8dy71owVzTA5gU6TA996Ed+VyNs1vJ6fvgZj7rCc196Eyb1o+ay/3ai+Zt+oN2ng1sPZnzfP+XzVwfW+bMIaYRr78u3sTtxy41oGzQsImZZ2C/Rnr89Eci9X2v739v4nOM47uP+NQ/MdyK7xXAlwgm4BfmLVgoDzZqahYdf6o//OY+BOlmpUjh/a0emDLmsz/uY19Ll4rsmXAfxuN+1af4uJkfNrMnv8a02JNi48LzLPKNfowspl4PeyhZUuM+nEN7mbwNsdF5Bt6Os/uiw7/iShvv9m95aI+BTlbWyfTlK1U314m/FTSg0HH6OslbA3V7yIe+bjo3KaF+DPKOAO+fsVt15tceX67ur5Pww+vcOX0f3KofMYwvfY3j2lDV94X+sJ0n/V0SneujF7H45ZdfoxrxeoJj1EfvR3ud9btF5xnoRH8dhqk9zDZ9/+tEZE/xPcbx3Ud86n+rJfT3CuBrBBO4be3du89KiRQoWMDrHwv3q224X6VD6dAHu8FiX73JHgKgExY9h2/Exr3hkzdP5DXd48r9sUXvKxJtAp3nYk+KTSju+9Yf3vLGnvCnfj90bbjEjfgyCNGrsLifjd227RcrJa6GRqiVErk3/71mmJW3Y20vnkFZbOpbV81SOlHZnqycGHRCpgbqFSvXMGmb+/CX+HI/VjpM0NvVxPRypDZtwN3sZGnbT2vWWqnIz2VsVzKzLwsaH07fBzfzWb9V3Od5fT9vvtfGq5bb3C997UkvYnF/vUbmqkj2EDqdcK5zMjzp/CCdUK89zO4/JGdfjjghPms32oen+NQ/Id3K7xXA1wgmcNuaOPnzqLOwelZOr7LiToOLhg/Wt3Iia9ZcP2xJL+Op9PH6y9H2jzvpjwfFR2jotUl5OozA8zri2uOh3dzeLHW7PKbWN6ZrkN8K7vvWBpvnvvWMp/sYcb06iu3sucjLxir3yfRKJyPaZ+gTm15WctKET6Ndcefj0WNNWukQGrtBqK+7jqt2okD+6xuwehlJm+cQmBy3YL6JNrA9J8VrI2XV6mtnPdNZx8EJ92OlOnfqYKWucf+NEPerpN2sIUOHRzUGNTD9YPhQrxcA0B9cXLp4frTfkokLp++Dm/msx0fePHHv9bDneSltcHtrvLo3xD2HOukx9DwZo1ci2rv32nypDBnSm1u9n97fk3uwEpQmcq6S02Mcn32o+NT/Vkmo75WbEZ/3DBAfBBO4bWmjac6caz/Q1t7VgNWxtDrhUK+es3zJwmiXPX3jrcEm7W7WV19bKYl27Xj3P7xx8cXU6dGGl0ydMsn8ErLWRX/0aNoXk8wfGG/0dyzsXhOtr/1YnUCriz6XLRvXeh06cLN03+6Xz3Wv94gPhplfobXpcBr3iazuPyynV/HRSb+DB71hXoP3hr2TaD0TenwWzp9jFp10OWb0R9F+ZEqvFOY5Adc9KNLL7epkab06mNLnrj/Atm936HUNFPeeGZ1orFdP0vt3ejyykR3mdpnGXj27m3W66DF56cXnrTXxYw/XUPq7LLVrRU7i1LoNeXeQTJ/2mdm+Xa5nbO3nonbt3m2lnHEfHqYNZftY6RCqDWtXRgXgnkHbzdLPt17u2aavqT5X3b++zz54f6hsXP+TDBvytvnc6G/JxHeitpP3wc181m/Evbf1vvuKmAapblfH/seke7cno+YG6ST5mHqGtNy+RKzW2+5R0sBff7RS5xbY3zuqV49uJuiw6a/wK/1RNj3m7sdKH9P1iWtDp/bvP2ilnB3j+OwjvvW/lZx+r9wMJ+8ZIL4CgkOyX7XSQKLa/uumqN+R0Gt5x+fyn/qla/+mgo4D97x2ubsfFnwX7cycJ50Aq9e3j+mylHqVELtBpPSSqgWLeL8Sjl7W1qY/UuVOz4zqJXBjoj9iZDdyPY+Hnt3URomO742JBkSVq9WOV/e4e32ffqav14ZGXPZ95MhRafhQs2j71j+I61b/GBWwudOG5beuQM/+Q+r5Gsbn9fXG/XnFRF/3we8MjXGC/8TxY244MVPn1fTqfS2g0mP1jSto8gyU9NLE9xUvY+ZMaCPbG62PLvbxcn//xHY8tHfIPRCx96WBjF69KTanT5+R++s1vOF75kbvkxsdK329NWjz/IwvXTQ/qnEX3+8Amwa0egxuFJxqsKu/LaP0QgqjPooMvrWBXaxEOZP2xsn74GY+67EdE/1MrVi2KNrleG36I4HeXsdZM76I6rHRs/H6Q2kx+e7br6J6UrRXtvHDzc3Vxm70K+k6EVrnLzzUuJFMGDc61tdC3+MtHm0T7cpx8TnG8d1HfOpvi+173P29o+K73sn7Kbb6qNj+ljp5zwDxRc8Ebnt61Q/99V/7bKG7Xbv3SNv2nWO9vr3nRHCnQzX0C/6DESOvq8fff/8tgwYPidZF70n/KNZ/8GFzVR73M9G24ydOyPuubd+KPwyx7Vv/aGvj1jOQUJof+Mrr5j7u9PkOePnVeM05SSh67LVeOmFTfy03tiuFdXmyu3ld3Cd22vQ56ZnMER+Oskoi6bHSywV7PmedT6Dzc/SHqfR4eR5HfR9q40d/YTy+dH/ucyB0X9qA0PkY+gu/um1vdKx5lye7Jch7JrZjpe9NbRg5CRTiQnvPdPy7+6Rad1onrZsdSMSXk/fBzXzWY6Ovlf7YoW7Hkw7f88b9RMq69ZHDNmPifnle/YE7fR/pryzrr7V7e/56vPX9bDfE9XnpaxHT95ReTcnzhwxVfI5xfPcRn/onBifvp5vh5D0DxBc9E0hWtHu3UsUKcujwH7J127ZojbDEpPXQYSc690J/NTU+9A+8TnrWx+/eszdRn4dOZNXLL2oDRYMsnUR4o8ao1rdK5UpRj9Hx2UmNntksW6a0OZusZ2xv9Bzcn7O+xtrQdf+xOj3zXK1KFZNevXZtgrx++n7Q95W3Y+z+ut3q94zWQ4dbXfznorncbUJfFCA27p8NHZ+e0PuP7/tA3cxnPTb2dhPzO8B+/jpP6kaff6evRXyOcXz3EZ/6JwYn76eb4Yv3DJIHggkAAAAAjjDMCQAAAIAjBBMAAAAAHCGYAAAAAOAIwQQAAAAARwgmAAAAADhCMAEAAADAEYIJAAAAAI4QTAAAAABwhGACAAAAgCMEEwAAAAAcIZgAAAAA4AjBBAAAAABHCCYAAAAAOEIwAQAAAMARggkAAAAAjhBMAAAAAHCEYAIAAACAIwQTAAAAABwhmAAAAADgCMEEAAAAAEcIJgAAAAA4QjABAIAXL734vJXyT1WrVJLBg96wciJzvp5ppUQaN24o/Z/va+UA4NYhmIDPrFy+SD4c8Z6VA4AbS8zvjfbt21ipa9atWWGlfK/30z3lp9VrTPr9996VihXLy08rl5ogY968BdKgfj2zDgBuJYIJ+MQDdevIn+f/kooVylslkQoWyC/169U1S+1aNU1Zrlw5TV7X2SpXqmilACQX3r439HtBl1KlSpjvCZv9HaHfI+7fF/b3itJy/X5R9veMbic2GTKkN7cx7VdpuZbZ21aad6+H++PtOrmnbd62b7v77rtk/oIfzHGpVq2K5Lz7Xnlv+AhJnTrIrN+6bZv0e66PSfOdCeBWIZiATzzasrls3rJFLv5zUVq3amnK9Pabr2dIw4YNZPyno6VH9yfNGbZFC+dKi+bNzDq9z4D+/WTm9CnmMQCSD2/fG+3atZavZ0+XkSOGy7Ahg2XqlEmm/O23Xpef162SAS/2ky+nTpYnujxuyj8e9YG5VXqfmjWqSbFiRWXhvDnSrm1r130/i7pvbGLa7+uvDZQ5384y25rmKtOAYvPPa6Rn96fkk48/lInjx5j72Y8fPvRd+fCDYTLnm1lmW5r+eGRkHXVbkyd8ar7/dBvu9Pn//vshKyeSNm1aE5x8O2euLP8xsvdk69ZfpEzpUib9jWtfz/TuadIAkJAIJuAT5cuVlU/HTZRVq1dLwwcbmDK9/Wr2N9L3uf6uP4Yr5ddft5tu/M8/nyrdevSWIUOGS9s2reXdocOlbr1G5jEAkg9v3xsqNHSH1KxTX94ZMkxKlixulYqMHjNOHmzUVFauWi3VqlaxSq+3ffsOKVmmogx6+11ZuvRHV4BR3VoTO2/7bef6jnqyaw95vHNXqV33QenTu5fsP3BAmrVoJWXKV5Ea1atFNfC3bftVHmjQWD4ZO04yBmeI2laRwoXNeg0iGjdpbr7/duzcFdXLoIoUKSyXL1826SVLl8unn06QeXO/kc8mjTNlKtT1vHLmyGHSNWvXk49GjjZpAEhIBBNIdI0aNjDd86t+XCyPd2gn5cuXNeVr162XuvfXMX9AS5cqKfPmL5Q7s2WThxo3lIXz55gzefaZuL379ptbAMlDTN8bym5UqzvuuPZn7dKli1ZKJEWKFFbqetq417kY2sOQK1dk4zsuvO33csRlWbN2vUmrHDmyy/YdO62cyKFDh6Vw4YIm/e+//5rbP//805X+z6TdhYSEmJ4M/f7LmjWLnD9/3loT6dKlS1ZKZOTHY1zBi+sY3XVX1JySEydPmlvFdyaAW4VgAomuaZOH5IupX0r+QsUlX4Girj+k502XfapUqWT//v1SrmwZ6dj5SdmydZv8ceSI/Lxxkzm7qEvvPs+ZbTD+F0heYvrecMKey5A+Qzpz++QTnWSz6/tGew927txtypxKFZjKDM9Uup/jx09IyeKRvRaaz5Mnt+zevdfkb+TcuXPy5luDo77/xk+YbK0R2b/vgGTMmNGkdbu6HD16zPTa5Mpp9UbUqCbHjh83ab4zAdwqBBNIdJUqVnA1CqZbOZF169a7GgoPy8mTJ6Wia13ZsqVlyDuD5OUBL8hLA1+VOrVryfIlC8yZw/8NHMCcCSAZiul7I75++SVUFnz/raxetUyuXInsGVj102ozyVm/Z2rXvjYB+uzZc9EuvRoX48ZPlMkTx5nehHnffS0vvvSKZMmS2exP538tWrzEnCiJi6FD34/a1sb1P8l9RSKHP6mly3+MGsLU8MH6snTRfHO/tq1byXffzTPlFcqXk337I3skmDMB4FYJCA7JftVKAz6lEx9XrFwlY8aON1cw+ear6XJvwWJmnZ5VO3T4sDnzpnSiId32AJzQ75N16zdYuUj6naLcv1f0bH+2bFnN3Ib48tyHfqedOnU66jssPvQKTz+uWGnlrvnu26/ktdffigpOfly60MzTsP2w4Dvp/EQ3s0++MwHcKgQT8BsaTKRMmULGjZ8kbds8JtmzZ5eGjZtZawEA7nQeiU5Edx/+aQcw+qN12tvS51n//uE9AEkfwQT8yuMd20vhQgXNBMbv5823SgEAAOCPCCYAAAAAOMIEbAAAAACOEEwAAAAAcIRgAgAAAIAjBBMAAAAAHCGYAAAAAOAIV3OCzwWnD5Y0adNKgOsfgNtLxJUI+eefCxIWHmaVJAy+N4Db16363sCtQTABn7kjRUrJljmrBATQGABud1ciIuTM+bNy9b//rBJn+N4Ako+E+t7ArcUwJ/gMDQIg+UgZGChZMma2cs7xvQEkHwn1vYFbi2ACPqFDFGgQAMmLNgyCUgdZufjjewNIfm72ewO3HsEEfELHOgNIftKlS2+l4o/vDSB5upnvDdx6BBPwCSZNAslTYMpAKxV/fG8AydPNfG/g1iOYAAAAAOAIwQQAAAAARwgmAAAAADhCMAEAAADAEYIJAAAAAI4QTMDv5CvbQB5/Y4RMHfSYVRKpfOe3ZObipbJ2xdfySc8yVikAiJQtW1refOMVGTToVaskUosWTWXJ4rlmaVC/rlUa/3IAgHcEE/A7VZq3kvrli0upgjmsEpfiL8jAHvlk04C6UqXTNxLYur8MLG6tA+AzkyaNMYuvNW/eRMqXLyOFChawSkRy5Mguz/bpJa++NkiGDRshb7iCDS2LbzmAhOUv3xtIGAQT8DvTXuki7ZYdtXKWTOkkzaXjsm+TK31wkew9ESyZ80SuAoBXXnlTli1bYeUitWrVQg4f/kPWrFkvPyxaKn/8cUSaNm0c73IAQMwIJpA0/PSJjNtSSPp9N1R6dH9Bql/+Qb6cb60DcJ22Hbp6XRKKObM48RMpXKigWTStiz/Jkye3nDp12sqJHDlyVPLmyRPvciC58PadoUtCSQrfG4g/ggkkDTkqS7l7w2TP5nCp8EgZCY64ZK0A4DMBAa7/kYumzeJHUqZIYaWuSR2UOt7lABKQn39vIP4CgkOyX7XSQKLJcWdOKxWDfp9LaMWNUrzVRyZb4+1v5H8pR0j9F3UYwz3SZ+pnUnt7D3lk8A6zHoBv2OOeO3fubm7j4vjJY1Yqfm70vfF8v2ekYsXy8lirjib/Yv++kj//vfJUt94mP23qRNm8eaukcAUN8Sl/b3jk9xCAhJGY3xu49eiZQJKRKk0miZySfUn+uvSvpEmXyeQAwBud+1Cs2H1Rk6tz575LFv6wJN7lAICY0TMBn4j5DGM3mbTmMSmSMo1kCIyQvy9dkV3T6krnr5rK8MnPSpmwg3JMckmhtFvk3Y4vyezj1sMAJBm3omdi7ZqlkjJlSgkMDJRLly7J1GkzZdSosTJ8+DtSvlzkpaQ3btoi/fq9ZNLxLQfgW/RM+C+CCfjEDYc5xSBH0UqST36TtTtOWCUAkppbNcwpJkWLFnEFGGFy8OBvVkmk+JYD8B2CCf9FMAGfcNooAJD0JXYwASDpI5jwX8yZAAAAAOAIwQQAAAAARwgmAAAAADhCMAGfuOr6ByD5ibgSYaXij+8NIHm6me8N3HoEE/CJSxcvWikAyck//1ywUvHH9waQPN3M9wZuPYIJ+MRfF/6Sq1c5ywgkJ1ciIiQsPMzKxR/fG0Dyc7PfG7j1CCbgM6fOnqZhACQT2iA4c/6slXOO7w0g+Uio7w3cWvzOBHwuOH2wpEmbVgJc/wDcXnSssw5RSOgzi3xvALevW/W9gVuDYAIAAACAIwxzAgAAAOAIwQQAAAAARwgmAAAAADhCMAEAAADAEYIJAAAAAI4QTAAAAABwhGACAAAAgCMEEwAAAAAcIZgAAAAA4AjBBAAAAABHCCYAAAAAOEIwAQAAAMARggkAAAAAjhBMAAAAAHCEYAIAAACAIwQTAAAAABwhmAAAAADgCMEEkrwypUtJrx7drFzy89KLz1upmL3/3rtyX5HCVi7h6baHvvu2lQMAAMkFwQR8Ys/OX2Tzz2vM8sOC76xSZwoXLijNH2lq5Xxn5IfvW6lrRo8aIQP697NyCcd9X+3bt7FS3mmwVaBAAdm5a7dVkvB020VcAYXuCwAAJB8EE/CJiCsRUrZCVbM0aNjElFWuVNHc1q5VU0qVKnFdWtn3qV+vrhQskN+kPeXKldOstx+n93Pfhqa1zNu2vG3XfVvK/XHu5TWqV73u8enSpZOgNEFW7hp9nN7Xpo/RxbNc6f60zN7fA3XrSKmSxU1en6vNXu/pySc6yYqVq8w697rpdu3Ha1qPtTvNu5e5P299nOdxnr9godmX0nXe6gIAAG4vAcEh2a9aaSDRbP91kxQrUc7KRVq6aL6kDkotFy5ckMKFCsqmzVskffr0Jt2rd19XY/UH87gzp8/IxUuXTPlLA181j+36RBepW7+RVK1SSSZPHCebt2yV4sWLylezv5ENGzbKwJdflGo17jf33bRhtTz5VE/5YspEOXr0mPz7779yT968snffPgkMDDTbrVYzskH//ZzZ8mvodinkKps3b4EMGjwkWh2KFy8mDzdpIS8831dq1qwuoa776j7HT5hsHv/ZpHFy8Lff5PU3rg0Bev21gdL04Ydkw88bpUL5ciag0rIWzZvJubPnJGPGjBK6fYe069BZPh0zSvLmzSNnXeWVKpaXSZOnSL0H7pecOXPK/gMH5L3hI+TDEe9dV58tW7dZe4s8rh06PSHt27aWChXKyaOt2pty+zWYOH6M5L83nxw9dlwyZcooDRs3k4Xz58iff56XnDmyyx9Hjpq6uL8+XZ7sLgu+/1aW/bhCypUpLUPfG+E65ltk2pRJUrvug6bepUuVlIpVogcoAADg9kLPBHwia5Yssn9PqFl0KJBt7Njx8mCjprJx02bZtWuPSa9ctVoquhrSttbtHjflU6fNMA1wd72f7ilzv58nrdt2lA4dn5B2bVqbIOS///6TRg0bmGE42ui2G9uPd+5qtnXm7FmZOXO2SR848JvUrFFN+vTuJT9v3GTu0+LRNvJIs8geFPVE1x7mvrtddWzc6EFp276TnD9/3pTZgURMtM6NmzSXbj16y46du6Tfc31MeWjoDqlZp768M2SYlCxZ3JRVq1bF9Ny0cT3nfy5elLfefldGj/lUDh06bPa1ZOlycz/P+ri7M3s2EzQNfe8DMxRJew26d3tSfvkl1ByPUiVLSK37G5h9pAkKMj0fui09hkNdwUrp0iWtLYlrf8vMuux33impU6eWyZ9NMXX+ft58s4/AVKnM/Z7q/rQJQAAAwO2NYAI+cfrMGclfqLhZej79rFUaOfxJXbx4Sa78e8WkPWmjVe3evUcyh2Q2adud2bKZAEBpwHA54rJJL122XJo2eUjat2sta9asM2XK3lbYpbCofdty5MguZcuUNmfp9ez97j17rTUie/ftt1IiKQNTWqm4CQkJMdvT7WbNmsUEIery5ci6qjvuiPxoaoN/1EcfmJ6Ps2fOmjJvYqvP5fBr2928eavpoah7f20TGOh8k+DgYFMXXcLCw839tH7r166QalUqm7xtlzXvQo/tu0OHy4RPP5Fli+dHDZeKcHsO7nUCAAC3J4IJJDl2w7V69aryx5EjJm07eeqUVK5cyaR1yFOqwMgz5Z+Omyjly5WVihUryPQZs0zZjejwpN9+/92ciddFex9ic0dA3D5O586dkzffGhy13dh6MrSnQOtw9epVaeO2/xQp4v7R/fvvv6OO2YyZX0mD+vUk3z33yISJn5leHx3mpcOW7PqoYsXuk0pVasmo0WNM3ptFi5dI+UrVzfCop7p2sUojMWcCAIDkgWACPuE+zEmX+Jg1Y6osX7LAzDfQORO7d++Ve++9xwzPGTrsfalZvZpZr3Mnxo2faB6jPRB79u6TixcvRptPEBud56Bn7VevWma2N2b0R9Ya77TRrvd7pndPqyRSl04do56nXtlp6ND3Td20J2Dj+p9ivWTr+b/+MsOr9Ll9MupDafJwY1cw9JWZR6GPj8tVrLRHRR+ndMhXypQpZPuOnSavx2X6zFmyaOFcs72VyxeZoVNBqYNM/pvZ083cCU+Pd2xv5lDofUqWKG7mpejQqd8PHTbrX391oIwb87FJAwCA2xcTsJGk2JOG9cpC69ZvsEojr4506tTpqGFLnuvV2E9Gyv79B8zcgfjQbV/852Kchu14229M9EpJP65YaeW806FGj7RobZ6XDnV6sH49M9FcxXVfOlekQ/u2Zk6Emjf3a/l49FgTWNi0JyFP7tzRtheX7bs/hy+nfiZTvpgWtV29chRDnQAAuL0RTCBJ8XYVqBvRhrLOAdD5FHrlpKTk120/y6yvvpHffz8kXTp1kMVLlpkrSsXX55PHy0+r10ibVo+aeRF6xaaEpL0rLw14QTp2etIqAQAAyQHBBJKUuJzN96TBRPFiRWXR4qVWSdKhZ/ebNn3YzJ347vt5sm3br9aa+NNt3XXXXfE+fgAAADEhmAAAAADgCBOwAQAAADhCMAEAAADAEYIJAAAAAI4QTAAAAABwhGACAAAAgCNczQk+F5w+WNKkTSsBrn8AACB5i7gSIf/8c0HCwsOsEvgzggn4zB0pUkq2zFklIIAgAgAARHclIkLOnD8rV//7zyqBP2KYE3yGQAIAAMQkZWCgZMmY2crBXxFMwCd0aBOBBAAAiI0GFEGpg6wc/BHBBHxC50gAAADcSLp06a0U/BHBBHyCydYAACAuAlMGWin4I4IJAAAAAI4QTAAAAABwhGACAAAAgCMEEwAAAAAcIZgAAAAA4AjBBPxO2bKl5c03XpFBg161SgAAAOCPCCbgd5o3byLly5eRQgULWCUAAOB2MWnSGLPg9kAwAb/zyitvyrJlK6wcAAAA/FVAcEj2q1YaSDQ57sxppbx7vt8zUrFieXmsVUerBAAA3EptO3S1UtFNmzLOSt0c0xtx9aoULlzI5Hfv3mNuO3fpYW5jc/zkMSsFf0PPBAAAABJHQIDrf+SiabMgSaNnAj5BzwQAAMmTPV+ic+fu5jYu6JnwX/RMAAAAAHCEngn4RGw9E2vXLJWUKVNKYGCgXLp0SaZOmymjRo211gIAgOSGngn/RTABn7jRMCcAAAAbwYT/YpgTAAAAAEcIJgAAAAA4QjABAAAAwBGCCQAAAACOEEzAJ666/gEAANxIxJUIKwV/RDABn7h08aKVAgAAiNk//1ywUvBHBBPwib8u/CVXr9I7AQAAYnYlIkLCwsOsHPwRwQR85tTZ0wQUAADAKw0kzpw/a+Xgr/jROvhccPpgSZM2rQS4/gEAgORN50jo0CZ6JJIGggkAAAAAjjDMCQAAAIAjBBMAAAAAHCGYAAAAAOAIwQQAAAAARwgmAAAAADhCMAEAAADAEYIJAAAAAI4QTAAAAABwhGACAAAAgCMEEwAAAAAcIZgAAAAA4AjBBAAAAABHCCYAAAAAOEIwAQAAAMARggkAAAAAjhBMAAAAAHCEYAIAAACAIwQTQCKpWqWSDB70hpUTmfP1TCsl0rhxQ+n/fF8rBwAAkDQQTMAn1q1ZYaVunZ2hW6Tfc32sXOL538AB8kDdOlbumt5P95SfVq8x6fffe1cqViwvP61caoKMefMWSIP69cw6AACApIJgAj6RIUN6KxVd/Xp1pXKlilYukua13FawQH6zlCpVIlq5Ow0itv3yq9xfp5ZVErkdpY/Rx3umbZ51sPelcuXKGbXOvq1dq2a0+1eoUF6KFSsarUzdffddMn/BDybQqFatiuS8+155b/gISZ06yKzfum1bVPCj+9N9AQAA+LOA4JDsV600kGi2/7pJipUoZ+UiG+nfz5kthw4dlrx588iWrduky5PdZfLEsZI9e3YJDwuXkJBMUuv+BvL6awOlRfNmcu7sOcmYMaOEbt8h7Tp0trYUad7cr2XKF9Nk4MsvSoOGTeTo0WNmn3r777//yj1588reffskMDBQChcqKNVqRgYl3uqg+8t3zz3yeOeu0rpVS+n6RBepW7+RLF00X4KDM8iZs2fNNgYNHiK5cuaUjh3aybFjx1zBTKj07vOc2a4+7qHGjaR9xy4mmPjg/aHSvEVrVx32m/WqQ7s20qBBPXOfbZvXy48rV0mfZ5+31gIAAPgfeibgF/r07iX7DxyQZi1aSZnyVaRG9WpSpnQp6dSlmzRs3ExGfPSx5HQ11G2hoTukZp368s6QYVKyZHGrNJIGJjlcAcj0GV/J5s1b5amuXaw1YgKCBxs1NQHAzJmzTfrAgd+kZo1qMdYhNqPHjDPbWLlqtVSrWkXeevtdE4yMHvNpVCChihQpLJcvXzbpJUuXy6efTnAFPN/IZ5PGmTKlQVHOHDlMuuVjbQkkAACA3yOYgF/IkSO7bN+x08qJaZAXLlzQ9Aps2bhWmjZ9SFKmTGGtlaiGubrjjuhv4/ZtW5uAYv+eUKlTu6bUqFbNWiOmZ0KFXQqTiCsRJm2LqQ6xuXTpopUSSZHiWv28uXTpkpUSGfnxGKldt4Hcfddd8uGI90zZiZMnza1y77EAAADwVwQT8AvHj5+QksUjexg0EMiTJ7fs3r1XWj3a0vQS9H2uv4SHXwsgYlOrVg15463Bkr9QccmTr7DZVlzmH8RUB2UHCtmyZjW3NxKYMtBKRdq/74AZkqV027poYLNq9WrJlTOyN0J7R44dP27SzJkAAABJAcEEfCJrliym50AXvbLTiy+9IlmyZJbVq5bJooVzZdHiJWbOwqHDh2X5kgWyfu0K+e/qf9ajY6YN8HvuyStjxo63SiInNusQphuJqQ6LFi2R2rVrmno8UPd+694xC92xQ57v96yMG/uxVSKydPmPUUOYGj5Y38y3WDh/jrRt3Uq++26eKa9Qvpzs2x/ZI/H5pPHyYv9+Jg0AAOCvmIANv6Jn5E+dOh01HEnpVZHWrd9g5W49b3XQICVbtqyybduvVknsvG3ju2+/ktdef8sEKOrHpQuldt0HTVr9sOA76fxEN/MYvYIUQ50AAIC/I5gAEkmjhg2k4YMNoiZmuwdJ+qN1eklaJl0DAICkhGACAAAAgCPMmQAAAADgCMEEAAAAAEcIJgAAAAA4QjABAAAAwBGCCQAAAACOEEwAAAAAcIRLw8LngtMHS5q0aSXA9Q8AACRvEVci5J9/LkhYeJhVAn9GMAGfuSNFSsmWOasEBBBEAACA6K5ERMiZ82fl6n//WSXwRwxzgs8QSAAAgJikDAyULBkzWzn4K4IJ+IQObSKQAAAAsdGAIih1kJWDPyKYgE/oHAkAAIAbSZcuvZWCPyKYgE8w2RoAAMRFYMpAKwV/RDABAAAAwBGCCQAAAACOEEwAAAAAcIRgAgAAAIAjBBMAAAAAHCGYgN8pW7a0vPnGKzJo0KtWSaQWLZrKksVzzdKgfl2rNOZyAADgfyZNGmMW3B4IJuB3mjdvIuXLl5FCBQtYJSI5cmSXZ/v0kldfGyTDho2QN1zBhpbFVA4AAIBbLyA4JPtVKw0kmhx35rRS3j3f7xmpWLG8PNaqo8n36dNTKrnybdt1MfmvZn0hi5csk6CgIK/lY8dONHkAABA3bTt0tVLRTZsyzkrdHNMbcfWqFC5cyOR3795jbjt36WFuY3P85DErBX9DzwSShDx5csupU6etnMiRI0clb548MZYDAAA/FBDg+h+5aNosSNIIJpAkpEyRwkpdkzoodYzlAAAgfrQHwtuSUDp37m6WXbv3mMXOI2kjmECScPToMUmTJo2VE8mWLascc5XFVA4AAIBbj2ACScKaNeulWLH7oiZd5859lyz8YUmM5QAAwD/RI3F7YQI2fCK2Cdhr1yyVlClTSmBgoFy6dEmmTpspo0aNleHD35Hy5cqY+2zctEX69XvJpGMqBwAAtwcmYPsvggn4xI2u5hSTokWLuAKMMDl48DerJFJM5QAAIOkjmPBfBBPwCafBBAAASH4IJvwXcyYAAAAAOEIwAQAAAMARggkAAAAAjhBMwCeuuv4BAADcSMSVCCsFf0QwAZ+4dPGilQIAAIjZP/9csFLwRwQT8Im/LvwlV6/SOwEAAGJ2JSJCwsLDrBz8EcEEfObU2dMEFAAAwCsNJM6cP2vl4K/4nQn4XHD6YEmTNq0EuP4BAIDkTedI6NAmeiSSBoIJAAAAAI4wzAkAAACAIwQTAAAAABwhmAAAAADgCMEEAAAAAEcIJgAAAAA4QjABAAAAwBGCCQAAAACOEEwAAAAAcIRgAgAAAIAjBBMAAAAAHCGYAAAAAOAIwQQAAAAARwgmAAAAADhCMAEAAADAEYIJAAAAAI4QTAAAAABwhGACSEZy5copH454z6QLFsgvtWvVNGlvPhg+xNwfAAAgJgQT8Il1a1ZYqYTX/JGmsjN0i2z+eY1s/3WTfDZpnLXm1nryiU5m8TTn65mmTv6gT+9ecuSPIyZI+PyzCdLp8XYycfwYs65M6VLRjtWxY8fN/QEAAGJCMAGfyJAhvZWKrn69ulK5UkUrF0nzWm7TM+q6lCpVIlq5LVWqQDl69JiUrVBVipUoJwVc9+3e7UmzTrflfjbe3pduxz4Lr+vd66Dlul73qWLavzbGixUret3Z/vTp05s66Xb0MfpY9/3ZtEzX2zyft+fjlXva5llfd1WrVpah730gbVo/JkuXLpdOXbpJ3jx5zLr+LzwnYz8db9JK71e+XFkrd+1YAQAA2AKCQ7JftdJAotEeA23o27QB/P2c2XLo0GHJmzePbNm6Tbo82V0mTxwr2bNnl/CwcAkJySS17m8gr782UFo0bybnzp6TjBkzSuj2HdKuQ2drSyKtW7WUrk90kbr1G5n8rBlfyLZtv8q99+aT/K7l6LHjkilTRmnYuJksXTRfUgellgsXLsjLA1+TSRPGysGDv5l9fTNnrmzY8LN8OvZjWb16rVSrVkUGvf2uFClS+Lr9L/9xhfR5ppeEXQqTvfv2S9v213oodB/jJkw06f+98pLZ11XXpy48LMw8n6pVKsnnkyfI6jVrpVjR++T1NwdL80eamODk998PSZ48ueWhpi2kZo1q5vFnTp+RVKlddf77gglSNH3y5Clp0qyl2ZZnfafP+MrsW/24dKHUrvug9Huuj+TKmUP6vfCSqd//XntDnnyis3w48mNJE5RG1q3fEHX/tq5j27F9W+nZ4ynJk6+wKQcAAFD0TMAv6HCa/QcOSLMWraRM+SpSo3o105jWM+fa6B/x0ceSM+e1M/mhoTukZp368s6QYVKyZHGr9JrMmUNk8KA35NvZM1wBxL2y4eeNUqpkCdN4b9PucVeDOUgeqFvH3HfJ0mXyYKOm0uqxlrJ/f2Qd9H4jPhwlvZ/uKZ9/PlW69egtQ4YMl7ZtWpvHeO5//ITJsnnzVpm3wNX4dgskPGkgUKlKLalctZYJSpTu4/v5C+Txzl2lfKXqcuTIkcjn7zoOWpfde/ZKv77PmPuecgUNut8ePZ+Ru+7KZdK6rfz585n1MdVXaZAVfvmySX85faYUdQUuGqyF7tghz7iO//LlK+SjD96Tlwa8IK+8/KK536nTp00Q8+7Q4VK3XmRwBgAAYCOYgF/IkSO7bN+x08qJ6aEoXLig6YXYsnGtNG36kKRMmcJaK3LZahSrO+64/m38999/y48rVsroMZ+a4U4aXAQHB8vC+XPMEhYebt1TZNeu3eZW6/BLaKhJ2+7Mlk0eatzQPKZdu9amp0DdaP8xiYi4YqVEUqSIfD66j3Xr1pu00uetz9+2e88eyZo1q0n/++9/5lZ7bv67Gpl2F1N9beHhkfXWYWAapH3gCpjWrl0nZ86ckTp1apmgqEevZ6SGK4BQ9v2V9rgAAAC4I5iAXzh+/ISULB7Zw6BDnnRoz+7de6XVoy3NGfq+z/WP1rC9EW20L1q81Cxq5arVrob4v2bolPZC6LJk6XKzzuZeB6X1+OPIEfl546aox/Tu85y11ruUKVJaqbg7eeqUVK5cyaR1n/q89flrWmmdtG5xEVt99RgEe8xV0eFfTZs8LG+/M1QuXbpkyrLfeWfUsc6ZI4d5nGLOBAAA8EQwAZ/ImiWL7N8Taha9stOLL70iWbJkltWrlsmihXNdQcASc/b90OHDsnzJAlm/doXXM/FxpWfip8+cZbatZ+1XLl9krblG5wvkdDXgtQ4b1/8k3Z56Ql4a+KrUqV3L1EEf87+BA6x7X2/T5i3yaMvmMnvWNKskbkaOGm2GXOk+Fs6bIyVLlpCvv5lj6qp10Tpp3eIitvrqMfCkE9OPHj1q1s2bv1A6Pd5BXn3lJVmxcpVZH5QmyKwb0L+fzJw+xZQBAADYmIANv6JXKzp16nS0hq+eEbcnBN8s0+uRO3es24upDhrYeGuQu7OvoORkSJDn89S6ZsuW1fQexFdM9R37yUgzf2TCxM9MXp+r+/Z1n+nSpjX1f6LL41KxQnkz/0Lpc2OoEwAAcEcwASQjGiy8N/SdWCeJ26Z9MVme7//SDQMoAACQfBFMAAAAAHCEORMAAAAAHCGYAAAAAOAIwQQAAAAARwgmAAAAADhCMAEAAADAEYIJAAAAAI4QTAAAAABwhN+ZgM8Fpw+WNGnTSoDrHwAASN4irkTIP/9ckLDwMKsE/oxgAj5zR4qUki1zVgkIIIgAAADRXYmIkDPnz8rV//6zSuCPGOYEnyGQAAAAMUkZGChZMma2cvBXBBPwCR3aRCABAABiowFFUOogKwd/RDABn9A5EgAAADeSLl16KwV/RDABn2CyNQAAiIvAlIFWCv6IYAIAAACAIwQTAAAAABwhmAAAAADgCMEEAAAAAEcIJgAAAAA4QjABv9OiRVNZsniuWRrUr2uVAgCA28GkSWPMgtsDwQT8So4c2eXZPr3k1dcGybBhI+SNN14xZQAAAPA/AcEh2a9aaSDR5Lgzp5WKrk+fnlKpYnlp266LyX816wtZvGSZjB070eQBAMCt0bZDVysV3bQp46zUzTG9EVevSuHChUx+9+495rZzlx7mNjbHTx6zUvA39EzAr+TJk1tOnTpt5USOHDkqefPksXIAACBJCwhw/Y9cNG0WJGn0TMAnYuqZ+HDEUHPb59n+5lbzV/79V/r1e8nkAQBA0mbPl+jcubu5jQt6JvwXPRPwK0ePHpM0adJYOZFs2bLKMVcZAAAA/A/BBPzKmjXrpVix+8yka11y575LFv6wxFoLAACSOu2RiE+vBPwbwQT8yqqf1si69T/LjOmfmWXDz5slNHSHtRYAAAD+hDkT8ImY5kzYihYtIpcuhcnBg79ZJQAAILlizoT/IpiAT9womAAAALARTPgvhjkBAAAAcIRgAgAAAIAjBBMAAAAAHCGYgE9cdf0DAAC4kYgrEVYK/ohgAj5x6eJFKwUAABCzf/65YKXgjwgm4BN/XfhLrl6ldwIAAMTsSkSEhIWHWTn4I4IJ+Myps6cJKAAAgFcaSJw5f9bKwV/xOxPwueD0wZImbVoJcP0DAADJm86R0KFN9EgkDQQTAAAAABxhmBMAAAAARwgmAAAAADhCMAEAAADAEYIJAAAAAI4QTAAAAABwhGACAAAAgCMEEwAAAAAcIZgAAAAA4AjBBAAAAABHCCYAAAAAOEIwAQAAAMARggkAAAAAjhBMAAAAAHCEYAIAAACAIwQTAAAAABwhmAAAAADgCMEEkrSXXnze3FauVFEKFshv0vGlj9PH3y7sYxKTXLlyyocj3rNyt8Z9RQrL0HfftnIAAOB2RTABn+jQro3s2fmL7N8TKjtDt5i8E+3bRz7utVdfloYNG5j0/wYOkAfq1jFpW/NHmsqcr2dauej5du1aS99nnzZpT08+0cksCWX0qBEyoH8/K5dwRn74vpW6dkxi0qd3LznyxxErd2vs3LVbirgCijKlS1klAADgdkQwgUSnDcxXXA3+bj16S/5CxeWJrt1l/4ED5ox5qVIlzGL3FGi6fr26Jm3T+2mZe0/EG28Olq9mf2PSFSqUl2LFikbrbUiVKlDSp09v5aLnp06dLoPfHWbS9rZ1v0rrqtuqXaumyXuuV/Z+tLxatSrR1mnavZ7p0qWToDRBVu4az+dpb1P369lromV6X1102xo4lSpZ3OS1fjbNu9fFVrVqZRn63gfX1U33Yz/e87E3et663n4O9jbmL1gYFYjpOve6AQCA20NAcEj2q1YaSBSvvPyiaVw+2qq9VRKpdauWMqD/8xJ+OVwWLFxkypo+/JBs+HmjVChfTspWqCpVq1SSzydPkH3790vaNGkkS9YsUqxEOVm6aL6MmzDR1TguIB07tJNjx47Jtl9CpXef58x2dNtdn+gides3ui7/+msDJd8998jjnbvKts3rZdmPK6RcmdKyees2qXt/bQm7FCZ79+2XUR9/IpMnjpPNW7ZK8eJFTfDy+htvm32nDkotFy5cMIFJ9+5dpVqN+81+Nm1YLU8+1VO2uLalPps0Tg7+9pt5nE337/k8dZvBwRnkzNmzUrhQQRk0eIhMmPiZLJj3rfz553nJnDlE7r77LvlgxEjp2L6t5MyZ0wRk7w0fYYYwnTl9Ri5euuSqZzF5uEmLqP2rH5culNp1H5T+z/d1BV7lol6H7b9uknoNHpLv58yWX0O3SyHXfufNWyDfzJkrX34x2WxD7z/8/Q9NXdyf95w530v3bk+aY1eyeHFzXDV4mDZlktmXHtcfV66SPs/GPgQLAAAkLfRMINEVLFhALl68ZOWiC0wVKJWq1DKN7RbNm0njJs1ND8aOnbuk33N9pPfTPeX7+QvkwUZNpWad+tajrnnr7Xfl0KHDMnrMp1GBhK1o0SJmWJUu77z9plV6jfZCpE6dWiZ/NsVs+9m+L8jmzVtl3oKF0rZ9J7Pvud/Pk9ZtO0qHjk9IuzatrUeKLFm6zNRpytQv5b///pNGDRuY7WmD3r0h742356lGjxlntrly1WqpVrWKKcuTJ7e0afe4NGjYxOxn/ITJ5rnqc9b7Llm63Nzvia49TH73rj3SuNGDpkxpEBV++bJJa++EDkXSRr8GAr+4gi8dAvXzxk0msGrxaBt5pFkT2b59h5QsU1EGuY7t0qU/Ss0a1c3jlf2877knr+zff0CGubZpB2xHjx5zvZ6pTLrlY20JJAAAuA0RTCDRHT78h6RNm8bKRXf82AkrJRISEiITx4+RhfPnSNasWeT8+fNyZ7Zssm7deuse8bNjxy4zrEqXlwa+apVeo43+d4cOlwmffiLLFs+/bliO7lsb2krvezkislGudu3abaVEli5bLk2bPCTt27WWNWvWWaUx8/Y81aVLF82tSpEihbk9e/acvPB8XxnxwTAJDd1hyrzRnhRbysCUVipSePi1emuw1L5ta9MDo4FBjhzZpWyZ0qYuWqfde/aaoGjl8kUybMhg1zHJYT0ykv28X3zpFTn0xx+mt+L99941ZSrCClzc6wMAAG4fBBNIdLO//lbKlytrhiwpbbQ3ebixSbs7d+6cvPnWYHPmWxc9C3/y1CmpXDnyce7j/T0Fpgy0UvGzaPESKV+puhw9dlye6trFlKVMEdkYd9+31j1VYORZd0+fjptonl/FihVk+oxZVmnMvD3PmFy8eFGuXr0qe3bvNT0UthQp4vZR1l6O4AzX5o7MmPmVNKhfzwzz0qFLOgTrt99/j6qL9sjovAcd8tWsRSvZufNa0OROX0PtybmveBlp+GDkRHh3zJkAAOD2RDCBRKdn9T8ZM06mTplkzoCvXrlUihQuZK29ZujQ980cBb3PxvU/mcuNjhw1Wh5q1FCWL1kgE8Z9Yt0zutAdO+T5fs/KuLEfWyVx83jH9ubMuu6vZInismHDRtm0eYs82rK5zJ41TYYOe19qVq9m9q31Gjd+ovXI6HR4z569+0zD39sQpy6dOkYNt9IrO3l7nrFp3LCBNGnSWKZP+9wENdNnfCV58+Yxj9erVMVG6+Zu/oIfJGXKFLJ9x06T1+FlwcHBsnrVMvM8x4z+SFb9tNpMrNZ87dqRE9E9DR70uqm73kfnqygdOvX7ocMm/fmk8fLiLbiKFQAA8C0mYMOn9MpEP65YaeW883YfPdO9bduvVu56uv7UqdPXNZ7jwnN/dg+IPVRHr2K0bv0Gk47J2E9GmjkEOi8hrm50LHS40UcfDpcatR4weW3op0mTxsxvUHGpl9K66WRv7YlQ8+Z+LR+PHmsCC5sev4v/XIx6zp7HwBvteciTO3dUHb6c+plM+WKa2a4+nqFOAADcfggmgASkDWqda6DzK/SqTAlJgwntjfjwo8geFx1+NPS9903PRHxoHd8b+o58MfVLeaHfsxIWHi4NGzez1iYM7V15acAL0rHTk1YJAAC4HRFMAAlIG+rFixWVRYuXWiUJS3sMmjzUWC6FhcmcOXNv6my/9hbcddddN+wZAgAAiAnBBAAAAABHmIANAAAAwBGCCQAAAACOEEwAAAAAcIRgAomiQvp08lvFMmZ5KXcuqxQAAABJGcEEEsXnRQpIpS2hcs+GLXJ/pmApEBRkrQEAAEBSRTCBW65YurSy71KYnIiIMPkvT52VR7NlNmkAAAAkXQQTuOXSBgTIblcw0e/unLKweGG58t9/kjFFCmstAAAAkiqCCdxyERL5UyZHwi/Lb2HhJg0AAICkj2ACt1yEK5YonCZIpp86I933/SYZU6aU8//+a60FAABAUkUwgVtu+z8XJUvKFJI9MFBS3REgbbJlllmnzlprAQAAkFQRTCBR9Nn/u6wodZ/sKV9a5p79U/aFhVlrAAAAkFQFBIdkjxzQDgAAAADxQM8EAAAAAEcIJgAAAAA4QjABAAAAwBGCCQAAAACOMAEbieb1vHdLy6yZJXfqVHI4/LJ8dfqsvP77H9ZaAAAAJDUEE0gU84sXkWrB6a3cNav/uiCNQndZOQAAACQlDHPCLac9Et4CCaXluh4AAABJDz0TuOVCy5U0Q5ticuy/q9L0T37EDgAAePfnn+fkxPGjVg7+hJ4J3HKxBRIq5x0BVgoAAOB6mTKFWCn4G4IJ3HI62To22jMBAAAQE+2ZgH9imBNuOZ0T0feuHFbueh8cOc5VnQAAAJIgggkkCq7mBAAAcPtJkTpN+tetNHDLTD15WoLuuEPuTp1KMqZMYYY+TTxxSrruPWDdAwAAAEkNPRMAAAAAHGECNgAAAABHCCYAAAAAOEIwAQAAAMARggkAAAAAjhBMAAAAAHCEYAIAAACAIwQTAAAAABwhmIBPdGjXRg7u22GWj0d+YJUCAIDkonWrlnLsjwOyf0+oWeZ8PdNaI/L6awOj2gn9n+9rlcIfEUzAJwa+/KK069BZ8hUoKqVLl5JGDRtYawAAQHLx0+o1kr9QcbM0bf6YKSvjahe0fuxRqVazrlk6dGgruXLlNOvgfwgmkOiaP9JUjh8/LmvWrjf55ctXSONGD5o0AABIHooUKSwXL16yctdom2Djps1y9Ogxs2zb9qu0aR0ZaMD/EEwg0aVLm1b+OHJUPhzxnqxasUSu/HtF0qdPb60FAADJRc0a1eTQwd3yy5YNZgi0CgoKkt9++12+nT1Dvpz6mfz777+SIQPtBH9FMIFEF3ElwtyeOnlKTpw4YdIAACB5mTp1unR5sofkyVdYPvhwlAwY8Lwp15OM6uSpU2aBfyOYQKK7fDlC7r4rlwwaPERaPtZOMqRPLxcuXLDWAgCA5GDvvv2y/McVJj1p8ucSmDLQpK9EXJF77skrT3V/Wvo8+7ykTZtG/v6bdoK/IphAovv6mzmSIUMGqVqlkplQVbtWTZk3f6G1FgAAJAcvD3ghamJ1504d5eLFiyY90RVYlCpVwqwrWCC/lCxRQr6cfu1KT/AvBBPwiREfjpLJE8fJ6pVLZd36DTJ/wQ/WGgAAkBwEBATIqh8Xm8vC9nvuGXn19bdMuU66njJlmmkjLFo4VyZMnGzK4J8CgkOyX7XSAAAAABBn9EwAAAAAcIRgAgAAAIAjBBMAAAAAHCGYAAAAAOAIwQQAAAAARwgmAAAAADhCMAEAAADAEYIJAAAAAI4QTAAAAABwhGACAAAAgCMEEwAAAAAcIZgAAAAA4AjBBAAAAABHCCYAAAAAOEIwAQAAAMARggkAAAAAjhBMAAAAAHCEYAIAAACAIwQTAAAAABwhmAAAAADgCMEEkEjKlC4lvXp0s3LXFCyQXypXqmjlAAAAkg6CCfjEujUrrFQkz3xCy5Urp3w7e4bs3xMqB/ftMGktS0yFCxeU5o80tXLXtGvXWvo++7SVAwAASDoIJuATGTKkt1KR3PPayK9fr66UKlXCKpGoM/e1a9WMKndP2/R+Wu7pnbfflAv//CP5CxWXfAWKyqWwMBn05mvRegV0v+49BLodLdN96P20Tu4BiF1PXWfn9b662NvR9e7bVJ7bmjp1ugx+d5hJuz/O3q7y3AYAAIA/CAgOyX7VSgOJZvuvm6RYiXJW7lq+apVKMnniONm8ZasUL15Uvpr9jbz+xtuydNF8SR2UWi5cuCCFCxWUTZu3SPr06U26V+++Mn/BDzJx/BjJf28+OXrsuGTKlFEaNm5mbV1kZ+gWadu+k2zZus3kH6hbRz54f6h0fPxJGf/paClXsZr0e66PdH/qSSlYpIR0aNdGHn20hUz7crr875WXzH6vuj4p4a4gpNb9DUw9Px37saxevVaqVasig95+12x3QP/nJfxyuCxYuEiqVK4kx44dk+zZs8sPi5bI8ePHvW7r9dcGSr577pHHO3c1x+HM6TNy8dIl89xeGviqTJ/xlRz744C8M+Q9+WjkaLMfAAAAf0DPBHwia5YsZsiRvdh6P91T5n4/T1q37SgdOj4h7dq0ttaIjB07Xh5s1FQ2btosu3btMemVq1ZLxYrlzXyEUiVLmMZ5m3aPS5qgIBMw2LJlyxoVSKglS5dLzhw5osr08ZUrVZA9e/dK61YtpXLliq6AZotZp437SlVqSeWqtaRIkcKmTOv5+edTpVuP3jJkyHBpa9UzMFWgua8GQHnz5DGBgAY1Iz4cZdZ725an1q7663ObOm2GtGgeGRDVrF2PQAIAAPgdggn4xOkzZ8yQI3ux3Zktm/y8cZNJa0P/csRlk1YRVyLM7cWLl+TKv1dM2qbzEYKDg2Xh/DlmCQsPt9ZEOnXqtAkYbJo+cfKkSYdu3yGNGz0omUMyy7LlK6RG9WpSrOh98tNPa8z6iIhr+0qRIoW51Xo+1Lih2ZfOefj990Om/PixE+ZW9R8wUPo/31c2rv/J9GQob9vydPToMXO7e/ceUye1d99+cwsAAOBPCCbgV06eOiWVK0c2vLUBniowlUnfiPZQ/Pvvv9Llye7mrL4u2vtg27rtF3m2z7VJzjqk6ZdfIntE1q5bL2XLlJaz587Kl9NnSpHChSVDhgzRHu/pjyNHTNBj76t3n+esNddoD8r99RrJwh8WS7ennrRKb8yeS1G9elWzH8WcCQAA4I8IJuBXhg57X2pWrybLlywwcyfGjZ9orYmdns2fPnOWLFo41/QWrFy+yFoTqd8LA6RQoYKml0CX/PnvNWVqzNjxUr58Wdm27VezHZ0MfuDgQbMuJjqXoU7tWqaeuq//DYzclk0DAZ3noXVp8nBjWbdug7XmxmbNmGq2W6F8ObMf9c3s6fJM754mDQAA4C+YgA2/pGfi162PewPcpmf18+TOHeNj7SskJdSwIa3nocOHo4YmebrRek/2RHTP56/1ZqgTAADwNwQTgB/xvMoVAACAP2OYE+BHej3d10oBAAD4P3omAAAAADhCzwQAAAAARwgmAAAAADhCMAEAAADAEYIJAAAAAI4wARs+lSlTZgnSX7kOCLBKAABAsnf1qoRFXJY//zxrFcBfEUzAJ1KlSi2ZM4YQRAAAgJi5goqz58/J5cvhVgH8DcOc4BMEEgAA4IZcbQXTZoDfIphAotOhTQQSAAAgTlxtBtN2gF8imECiM3MkAAAA4oi2g/8imEDio1cCAADEB20Hv0UwAQAAAMARggkAAAAAjhBMAAAAAHCEYAIAAACAIwQTAAAAABwhmAAAAADgSEBwSParVhpIFDnuzGmlYvbO4Neldu0aVk7k8B9HZOiQD2Tjpi0yaeInUqRIIWtNpCpV60qjRg3kf6/0l3eHvC9z5swz5bodteqntWadp1279kjnLj2sHAAA8FfHTx6zUvAn9EzAL6VNm1Y2bNhkggRdTp8+I/379zXr0qVLJ7Nnz4lap4sKDEwpERFXpEvnjiavdDu6zJ//Q9R9w8Mvm4BD0wQSAADcGnfdlcssnmIqR9JEMIEkYenSHyVr1ixWLmb//fefK1gIlz59elolAADAF3r27CqzZk6JNppA01qm63B7IJiA3woKCpKaNatJ40YNpH371rJl6y/WGpH7768lU6dONEvbNo9ZpZHGjp0gLVs0lRw5slslAAAgsU2Z8qUEBATIxAmRw5N10bSW6TrcHggm4LcKFswv3bo9Ie+884Zs3rRV+vV7yVoj8vPPm03QoMvadRus0khLl62QrVt/lWd6M4QJAABfiZyX2D0qoLADCS3Tdbg9EEzAb/3663Zp166LrFjxk+TOfbdVGunvv/+WlStXm+Xgwd+s0mveHjxMatSoKmfOnrVKAABAYnMPKAgkbk8EE/B7GhiUKVNSmjZtbJXc2PHjJ2TxkmXSoP4DVgkAAPAFDR5aPtreLAQStx+CCfg9DQzmfr8g2lWaWrVqIWvXLI1avHnzzXdNDwYAAPCtI0eOmgW3H35nAokuLr8zAQAA4I7fmfBP9EwAAAAAcIRgAgAAAIAjBBMAAAAAHCGYAAAAAOAIwQQAAAAARwgmkPiucgExAAAQD7Qd/BbBBBJdWMRlKwUAAHBjtB38F8EEEt2ff57lDAMAAIgbV5vBtB3glwgm4BNnz58joAAAALFztRVMmwF+i1/Ahk9lypRZggJTud6JAVYJAABI9lxBhA5tokfC/xFMAAAAAHCEYU4AAAAAHCGYAAAAAOAIwQQAAAAARwgmAAAAADhCMAEAAADAEYIJAAAAAI4QTAAAAABwhGACAAAAgCMEEwAAAAAcIZgAAAAA4AjBBAAAAABHCCYAAAAAOEIwAQAAAMARggkAAAAAjhBMAAAAAHCEYAIAAACAIwQTAAAAABwhmIBPrFuzwkolvOaPNJU5X8+0ct79b+AAeaBuHSsXd08+0cksAAAAIJiAj2TIkN5KRVe/Xl2pXKmilYukeS23FSyQ3yylSpWIVm5LlSpQ0qeP3L69rdq1akbbboUK5aVYsaJRZZ7bimkfZUqXMo/T7SnPugIAACQnAcEh2a9aaSDRbP91kxQrUc7KieTKlVO+nzNbDh06LHnz5pEtW7dJlye7y+SJYyV79uwSHhYuISGZpNb9DeT11wZKi+bN5NzZc5IxY0YJ3b5D2nXobG1JpHWrltL1iS5St34jWbpovgQHZ5AzZ89K4UIFZdDgIZIrZ07p2KGdHDt2TLb9Eupad0aaPvyQbPh5o1QoX07KVqjqdR/Lf1whfZ7pJWGXwmTvvv3Stn0nOfbHAXlnyHvy0cjR1t4BAACSD3om4Bf69O4l+w8ckGYtWkmZ8lWkRvVqphegU5du0rBxMxnx0ceS0xUE2EJDd0jNOvVdDflhUrJkcavUu9FjxsmDjZrKylWrpVrVKvLW2++aoGX0mE+ld5/nTNDQuElz6dajt+zYuUv6PdfHPM5zH+MnTJbNm7fKvAULTSChatauRyABAACSLYIJ+IUcObLL9h07rZyYxn7hwgVND8GWjWuladOHJGXKFNZakcuXL1sp15v4jtjfxpcuXbRSIilSXNuGLSQkRCaOHyML58+RrFmzyPnz5015XPahPRQAAADJFcEE/MLx4yekZPHIHgYd8pQnT27ZvXuvtHq0pemp6PtcfwkPv9a4TwiBKQPN7blz5+TNtwab3gtdtAciNilTpLRSzJkAAADJG8EEfCJrliyyf0+oWfTKTi++9IpkyZJZVq9aJosWzpVFi5eYeROHDh+W5UsWyPq1K+S/q/9Zj755oTt2yPP9npVxYz+WoUPfl8kTx5meiY3rf5L7ihS27nW9TZu3yKMtm8vsWdNM/pvZ0+WZ3j1NGgAAILlhAjb8il496dSp03L06DGrJPLs/7r1G6xcwvHcl16h6ccVK006NnqVJ6VDnDTNUCcAAJBcEUwAAAAAcIRhTgAAAAAcIZgAAAAA4AjBBAAAAABHCCYAAAAAOEIwAQAAAMARggkAAAAAjnBpWPhUpkyZJSgwleudGGCVAACAZO/qVQmLuCx//nnWKoC/IpiAT6RKlVoyZwwhiAAAADFzBRVnz5+Ty5fDrQL4G4Y5wScIJAAAwA252gqmzQC/RTCBRKdDmwgkAABAnLjaDKbtAL9EMIFEZ+ZIAAAAxBFtB/9FMIHER68EAACID9oOfotgAgAAAIAjBBMAAAAAHCGYAAAAAOAIwQQAAAAARwgmAAAAADhCMAEAAADAkYDgkOxXrTSQKHLcmdNKxeydwa9L7do1rFyktwYNNbf/e6W/uVUHDvwmH3wwSjZu2mLykyZ+Ips2b5VRo8aavFq7ZqlUqVrXpHPkyC7D3xssRYoUNvnDh/+Q7j36yPHjJ0x+zCcfmvs0e6S1yX8/d5ZkyXL9D+Xo9ty3q4YMeUseqFtHIiIi5MqVKzJy1BiZMWO2Waf1uiNFCnn88adMXnk+HgAAxOz4yWNWCv6Engn4pbRp08qGDZtMY9te5s//QQIDU0p4+GWTf6R5W9m//6B88skIEwCodOnSSVDq1CZty5Ahg5US+ejDYfLPPxelXPnqZlm2bIWkSZPGWiuuIKOQBAQESN37a5n8Qw8/avaldXGvj3Lf7uC3X5cK5ctKy0fbS+UqdUwg8dKAflK+XBmzXuuV75680qFDG5NX7o8HAOB2c9dducziKaZyJE0EE0iytDfh1dcGyR9HjspTT3W2SmPWtGljyZPnbnmqW2+rxBVcjPxEDh78zaS7desiv/1+SLZv3yn1GzxgyuKqatVKMmnyF1Hb0h4JDT7cg4ctW7ZJ507trRwAALe3nj27yqyZU8yJOpumtUzX4fZAMAG/VaJEMZk6daJZnn22l1V6vUO/H5a777rLysWsYIH8cujQH1buelWqVHIFABtl6dLlUqZ0Sas0brJmzSJTpnxp5SLt339AcubMYeUih1Qdci2vvjrAKgEA4Palfxe1t3/ihE9MEKGLprXM828mki6CCfitvXv3y9ixE8yyaNFSq9S7VKlTWSlndJhUieLFZM+efRJx5YoZZmUPdUpIo0aOkXoP3B81LAsAgNvVrl17pHOX7lEBhR1IaJmuw+2BYAJ+KywsTFauXG2WHTt2WaXX07P/R49ETsr688/zkjnz9ROm1ZGjx8wwJ2+aN28iFy9elM6dO0i3bk/IpUuX4jXU6fTpM9GGNKn8+e+VY8eOW7lIOlF81ao1Zj6FPgYAgNuZe0BBIHF7IphAktbnmR6SL19emfblTJP//fdDUqzYfSatXuzfV/7444hJf/nlLBNsvPnGKyavNHjQSdJVKleUhQsXS7t2XcwycdKUeA11WrNmvTRt0jiqx6FB/bpSsWI5+e67eSbvTudplC1bSoKCok8UBwDgdqTBg16gRBcCidsPwQT8VvXqVc3lU+2lUaMGpjxz5hCT/3nDCnn44UbyyitvSmjoDrPu7cHD5MKFC2ad3ueRR5rIuPGTzTql961evYqsW7vcrO/0eDsTABQtep/McWv4a+ARHJwhzkOdXh74uvz1198y7/vZZruDB78hn46bJEuXrbDucY1OHP9i6gxJnz69VQIAwO3tyJGjZsHth9+ZQKKLy+9M3Kx8+e4xQcLateutkuiKFi0iQUFBsnnzVqskYeg+dd8x7RcAADjD70z4J4IJJLrECCYAAMDthWDCPzHMCQAAAIAjBBMAAAAAHCGYAAAAAOAIwQQAAAAARwgmkPiuMucfAADEA20Hv0UwgUQXFnHZSgEAANwYbQf/RTCBRPfnn2c5wwAAAOLG1WYwbQf4JYIJ+MTZ8+cIKAAAQOxcbQXTZoDf4kfr4FOZMmWWoMBUrndigFUCAACSPVcQoUOb6JHwfwQTAAAAABxhmBMAAAAARwgmAAAAADhCMAEAAADAEYIJAAAAAI4QTAAAAABwhGACAAAAgCMEEwAAAAAcIZgAAAAA4AjBBAAAAABHCCYAAAAAOEIwAQAAAMARggkAAAAAjhBMAAAAAHCEYAIAAACAIwQTAAAAABwhmAAAAADgCMEEEIuXXnzeSgEAAMATwQR8Yt2aFVbq1ujdq7vsDN0i+/eEmtsO7dpYa+KnfXtnjwMAAEgOCCbgExkypLdS0dWvV1cqV6po5SJpXsttBQvkN0upUiWildsaNWwgvXp2lye6dpf8hYpLk2YtZf+BA2adbitXrpxRj/PctrLX6z7ceZZrXusAAACQXAUEh2S/aqWBRLP9101SrEQ5KxfZMP9+zmw5dOiw5M2bR7Zs3SZdnuwukyeOlezZs0t4WLiEhGSSWvc3kNdfGygtmjeTc2fPScaMGSV0+w5p16GztSWRiePHyLlz56TfCy9ZJdfofo8ePSZnz56VS5cuXbftqlUqyeeTJ8i+/fslbZo0kiVrFlNPLf907MeyevVaqVatigx6+125v05tKV2qpFSsUtPaOgAAQPJCzwT8Qp/evUzvQbMWraRM+SpSo3o1KVO6lHTq0k0aNm4mIz76WHLmzGndWyQ0dIfUrFNf3hkyTEqWLG6VRsqbJ4/8feGCSY/88H1ZOH+OubVNmDhZWrXp6HXbvZ/uKd/PXyAPNmpqtm/T8s8/nyrdevSWIUOGS9s2reWp7k9HC2IAAACSG4IJ+IUcObLL9h07rZyYHorChQuaXogtG9dK06YPScqUKay1IpcvX7ZSrjfxHdHfxseOH5cM6SOHUU2dNl0WLFwkRe8rYvJq+oyvzK23bd+ZLZusW7fepN1p+UONG5rApF271vL774dM+d59+80tAABAckQwAb9w/PgJKVk8sodBhzzlyZNbdu/eK60ebWl6Kvo+11/Cw68FELFZ/uMKqV//AbOddes3yIkTJ6w10Xnb9slTp6Ry5Uom7T5n4o8jR+TnjZtMj4Uuvfs8x5wJAACQ7DFnAj5x4uhvcsEainTq9BmpXLWWrFj2g6QMDJSMGYNlxYpV0qt3X/lhwXeSylWWNl1aSZ8+vZm/oD0K+e65Rx7v3FVat2op/3vlpWjzL9TwYe9I80eayu49e82wp0VLlkqfZ5+PNlfD27btOROHDx+WFClSRM2ZsOd0nD9/3pQvXrJMcue+mzkTAAAgWSOYgF/RM/2nTp02k6RtesUl7WFwQq++tGjxUit3vZi2rfXYtu1XK3eN3v+QK9Cw66e9Fwx1AgAAyRXBBAAAAABHmDMBAAAAwBGCCQAAAACOEEwAAAAAcIRgAgAAAIAjBBMAAAAAHCGYAAAAAOAIl4aFT2XKlFmCAlO53okBVgkAAEj2rl6VsIjL8uefZ60C+CuCCfhEqlSpJXPGEIIIAAAQM1dQcfb8Obl8OdwqgL9hmBN8gkACAADckKutYNoM8FsEE0h0OrSJQAIAAMSJq81g2g7wSwQTSHRmjgQAAEAc0XbwXwQTSHz0SgAAgPig7eC3CCYAAAAAOEIwAQAAAMARggkAAAAAjhBMAAAAAHCEYAIAAACAIwQTAAAAABwhmIBfW7niB3nrzVesHAAASCruuiuXWTzFVI6kiWACfqtbty7y22+/S6VKFawSAACQVPTs2VVmzZwiRYoUskrEpLVM1+H2QDABv1WlSiVZvWad/Pfff1L3/lpWKQAASAqmTPlSAgICZOKET0wQoYumtUzX4fZAMAG/VbBAfpkzZ55s+yVU6jd4wCoFAABJwa5de6Rzl+5RAYUdSGiZrsPtgWACfkm7P0+fPiOFChWQgwd+kzKlS1prAABAUuEeUBBI3J4CgkOyX7XSQKLIcWdOKxWzKZ+Pk5CQTHL+r79NvlDB/DJgwKuydNkKkwcAAEmHPeH6yJGj5taJ4yePWSn4E4IJJLq4BBM/b1ghnbv0kNDQHSY/evQH8vffF+TFF/9n8gAAIHkhmPBPDHOCXzp69HhUIKHWrt3AUCcAAAA/Q88EEl1ceiYAAADc0TPhn+iZAAAAAOAIwQQAAAAARwgmAAAAADhCMAEAAADAEYIJAAAAAI4QTCDxXeUCYgAAIB5oO/gtggkkurCIy1YKAADgxmg7+C+CCSS6P/88yxkGAAAQN642g2k7wC8RTMAnzp4/R0ABAABi52ormDYD/Ba/gA2fypQpswQFpnK9EwOsEgAAkOy5gggd2kSPhP8jmAAAAADgCMOcAAAAADhCMAEAAADAEYIJAAAAAI4QTAAAAABwhGACAAAAgCMEEwAAAAAcIZgAAAAA4AjBBAAAAABHCCYAAAAAOEIwAQAAAMARggkAAAAAjhBMAAAAAHCEYAIAAACAIwQTAAAAABwhmAAAAADgCMEEkryCBfJL5UoVrZxvDHrzNVk4f47cV6SwVXJjDR+sL+3atLJyAAAASQ/BBHxiz85fZPPPa+TXbT/LgnnfSq5cOa018deuXWvp++zTVi5hzPl6pmzbvN7Ub9ni+VK1SiVrzfUeqFtHHnmkibw7ZLjs3LXbKr2xSpUqSP36D5j0/wYOMNsBAABISggm4BMRVyKkbIWqUqJUBblw4YL06/uMCShKlSphFrunQdP169U1aVW7Vk0rJeb+er+pU6fL4HeHWaViytwfY9/P5r4Nz/va0qdPL+8MGWbqt2btehn54fvWmuvrlDNHDjlz+oyVi+wp0fV6q2Lbv61ChfJSrFjRqPt51sv98QAAAP4iIDgk+1UrDSSa7b9ukmIlypn08GHvSEhIiCxavEQG9H9ewi+Hy4KFi8y6pg8/JBt+3igVypczwcfWTeuk8xPdZMvWbfLxyA8kLCxM/nYFI/nuuUce79xVJo4fI2VKl5Lffz8kefLkloeatpCaNapJ1ye6SN36jcw27X2/8vKL0qBBPdmxY6dkzhwij7Zqb9arpYvmy7gJE2X6jK9MftOG1fL2O0OlZMni19VJezGKFr1Pft64SX5YtER69+ou213brFa1imub7aRw4YJe9//6awNNvfft2y8dO7STY8eOybZfQuXEiRPX1evYHwdcwc178tHI0WYbAAAA/oCeCfhEmqAgGTzoDfls0jh5+KHGMn7CJFMemCpQKlWpJa+/8ba0aN5MGjdpLt169JYdO3dJv+f6yPoNP0v7dq3NfbUx/8XU6SatNIioUb2alClfRZq1aCW79+w1PR4x0Z6Abdt+Ndt3DyS8+fPP81KoYAGvdfpyxkw5dOiwtG3fST77/AspX6m6vD/iI1dg8Is0bfqQtYWYvfX2u+bxo8d8Kr37POe1XjVr1yOQAAAAfodgAj4RHn5ZflyxUqZOmy616zYwQ4nU8WMnzK3S3grtadCJzVmzZpHz58/LrK++lsqVK5n5BeGXL5seCpv2AGij3LZ7zx7X47Jauev1e2GAZMiQXnaGbpH+z/e1Sr3LlCmj7Nm7z2ud3Omk6i0b18pzzz4jmV33dcJbvfbu229uAQAA/AnBBHziv6v/yaLFS81y9OgxqzS6c+fOyZtvDZYHGzU1y/gJk2XJ0uXy33//SYf2bWXpsuXWPSPt3r3XDG2yJ3OXLF5cjh+PDE5SpIh8q3tOpNahUTr86PHHY+6Z6NypowSlCZKvv5njtU7uenR/SiZO+sxs94jb84pp/+4CUwZaqevrxZwJAADgjwgm4LeGDn1fJk8cZ3oBNq7/Keqyq2vWrJM6tWvKp+MmmrxNeym0wb9o4VxZvWqZ5HQFFR+O/FhWrlotOXLkkOVLFsjbb71uhiwp7WHQ+82aMVW2bv3FlLl75+03Zf+eUOnb52l5uvdzpiymOtk2bPhZnnyis6xcvsgMi1Ix7f/w4T+igoTQHTvk+X7PyrixH3ut1zezp8szvXuaNAAAgL9gAjb8nl79SIdExZX2TGTLltXMO3CnDfd16zdYuUh6xaW06dJed98bia1OerWnU6dOX9fj4m3/7vd1T3vWS/MMdQIAAP6GYAIAAACAIwxzAgAAAOAIwQQAAAAARwgmAAAAADhCMAEAAADAEYIJAAAAAI4QTAAAAABwhGACAAAAgCP8zgR8KlOmzBIUmMr1TgywSgAAQLJ39aqERVyWP/88axXAXxFMwCdSpUotmTOGEEQAAICYuYKKs+fPyeXL4VYB/A3DnOATBBIAAOCGXG0F02aA3yKYQKLToU0EEgAAIE5cbQbTdoBfIphAojNzJAAAAOKItoP/IphA4qNXAgAAxAdtB79FMAEAAADAEYIJAAAAAI4QTAAAAABwhGACAAAAgCMEEwAAAAAcIZgAAAAA4AjBBPzSO4Nfl/nzZlu5SN/PnSWNGjWwcgAAwJ/ddVcus3iKqRxJE8EE/FLatGklffr08uqrA6wSMfnAwJRWDgAA+LOePbvKrJlTpEiRQlaJmLSW6TrcHggm4Ld27doj9R64X4oXL2qVXFO+XBn59pvpsm7tcvlp1WJp0aKptQYAAPiDKVO+lICAAJk44RMTROiiaS3Tdbg9EEzAb126dElWrVojz/TuYZVcM2jQq7J+w0apXKWOfDBilAx48TnJkSO7tRYAAPianhTs3KV7VEBhBxJaputweyCYgF/7aOQnUqDAvVL3/lpWiZieily5cso777xn8rNnz5EzZ85KvXr3mzwAAPAP7gEFgcTtiWACfu348RMyY+Zs6dbtCTl58pQpC8mUSSIirpi0LTz8sqRNm8bKAQAAf6HBQ8tH25uFQOL2QzABvzd27ERJnTp11JUfVv20RsLCwqRDhzYmr/Mn8ubNLatXrzN5AADgX44cOWoW3H4IJpAkfPTRaMmQIb2VE3n/g5HSo/uTsmD+1/LJJyPk03GTJDR0h7UWAAAAiSEgOCT7VSsNJIocd+a0UjevSpVKsnbteisHAABuV8dPHrNS8Cf0TCBJI5AAAADwHYIJAAAAAI4QTAAAAABwhGACAAAAgCMEEwAAAAAcIZhA4rvKBcQAAEA80HbwWwQTSHRhEZetFAAAwI3RdvBfBBNIdH/+eZYzDAAAIG5cbQbTdoBfIpiAT5w9f46AAgAAxM7VVjBtBvgtfgEbPpUpU2YJCkzleicGWCUAACDZcwUROrSJHgn/RzABAAAAwBGGOQEAAABwhGACAAAAgCMEEwAAAAAcIZgAAAAA4AjBBAAAAABHCCYAAAAAOEIwAQAAAMARggkAAAAAjhBMAAAAAHCEYAIAAACAIwQTAAAAABwJCA7JftVKA4kuR46cEhKSWdKmTePKBUQWwsNVuXjxkpw7d1aOHz9mlQEAAPgewQR8Iih1asl3bwG5fPmynDl7Vv7556K1Bt6kS5dWsmTOLKlSpZKDB/ZJWHi4tQYAAMB3CCbgE/fdV0z+PH9eTp8+Y5UgLrJmzSKZMmaUnTu3WyUAAAC+w5wJJDod2qQ9EgQS8afHTI+dHkMAAABfI5hAotM5Ejq0Cc7osdNjCAAA4GsEE0h0OtmaORLO6bGLnLAOAADgWwQT8AGu2nTzOIYAAMD3CCYAAAAAOEIwAQAAAMARggkAAAAAjhBMIMmqVbO6WZz4fs5MKwUAAACnCCbg13Zt3xi1rFg2Xx5+qKG1RqR3r6fM4kS5sqWtlHOzZ06Jqtum9SvkzddettbErHSpEtL9qS5WDgAAIGkjmIBfyxgcLEWKlTfLnO/my8cjh8uDDR4w61q26mgWX0mfPp1M+3KWqdvLr7xpAp2PPhhqrfWudq0a8kizh6wcAABA0kYwgSTj/RGjZOXK1dKpY1uTHzliqFmUNuL37NxseglGj3rflGnPgQYfWrZ/9zavDf1cuXLKVzM+j7rPp598aMpfHtBPpk+bZNLq6Z5PyZyvv7Ry1/th8VL5aNQYadCgrsn37P6k6a0wPRehP0vlShXkkaYPSe9e3eS++4qYcs1rb8avW9aauq9fs8zUBwAAIKkgmECSsmfvPsmZM4dJp0uXziyq+SMPS+26jU0vwYyZX5sy7TmwezYaNH5EmjzcUB579BGzznb06DH5avYcc58adR6U+vXul/vr1JTJn0+TUiWKRzXu695fSzZt3mrSMZn02VQJzpDBDGU6/McRadWus9nu0uUr5cUXnpVv5nwvn02ZJjt37jLlmt/6S6irbs2l0H1l5cTxkzLghb7W1gAAAPwfwQSSnNSpU1upa/bu2y8zpk6S1o+1kBUrf7JKI4MPtW/fAdm9Z68UKVzI5N1t3LzF9ETYvRJZs2YxQcbevftNj4TSx42f+LlJ30jmzCEy9/sFUr5sGZk47mMpU7pkjL9Y/fU338nDjR+UqZ+Pl9y57zIBEAAAQFJBMIEk5Z68eeTYseNW7po6DzwkX0ybIc/1fVrmfjvDKr0xHX709awvJCwsXJ7tN0DO//WXtUbkmzlzpVrVStL1yU4msNAAIzba6xEeHi7Llq80QUSH9q1ND8fCH5ZY97jeD/O/lkoVy8uHIz+RLVt/sUoBAACSBoIJJBmPd2hrLgX75YyvrJJrtHzsuElSsUod0xNgS5kihbnVoKFwoYKy4edNJm/TYU0HD/5u5mNcvHhJgoKCrDWRw5bSpkkjDRs8ICt/Wm2VelegwL3y3LNPy6LFy0y+XLnSMnLUWFm5arVkzBhsymwp7oisk9Iejy5de5l6pU+f3ioFAABIGggm4Pd0srJOUNZ5B8M/GCkzZ31jrYmkE5k/GfW+uXTslo0/yfwFi6w1Ig8/3EjW/rTEDCP6bu6CqF4CDRzeGzLINP7vu6+wLF7wrXw7e5qcP3+tZ0ItXvqjlC1TSt57f6RVEp0GOFq/H+Z9Izt27JKnevQx5Zs2bZWhQ96U1SsWRRta9d3c+ZInb25TVx1CtWv3HtmwdrlZMmbMYN0LAAAgaQgIDsl+1UoDiaJcuQryy6+hVi7hVKxQTs6eO2fmRygdQrR6zXr5ds48uXjpYlS50p6EzCEhpkdAJ1kXyH+v6UXw9OorL5qejkdatrNK4s6zPjbP/dWsUU327T9ww2FU7kqWKO4KWH62cgAAAL5BMIFEd6uCCU92MPHmoCFWSdzpFZlaNG8qrR5rLs882z/WeQ++QDABAAD8AcOccNv65tvvZcOG6HMk4iokJETuypVTBrz8ut8FEgAAAP6CngkkunLlyssvv263cnCiZIlismnTRisHAADgG/RMINHp5Od06dJaOcSXHjs9hgAAAL5GMIFEd+7cWcmSObOVQ3zpsdNjCAAA4GsEE0h0x48fk1SpUplfmkb86DHTY6fHEAAAwNeYMwGfCEqdWvLdW0AuX74sZ86elX/+uWitgTc6tEl7JDSQOHhgn4SFh1trAAAAfIdgAj6VI0dOCQnJLGnTpnHlAiIL4eGqmSOhQ5vokQAAAP6EYAIAAACAI8yZAAAAAOAIwQQAAAAARwgmAAAAADhCMAEAAADAEYIJAAAAAI4QTAAAAABwhGACAAAAgCMEEwAAAAAcIZgAAAAA4AjBBAAAAABHCCYAAAAAOBIQHJL9qpUGEt2zd+eSllkzS/G0QRJglcH/6ZdG6MUw+er0WRnxx9HIQgAAkOwQTMAnCriCh8mFCsieS2Ey6fQ5Wf/3RdNARdKggV+lDGmlc9YQKZQmSDrt2Sf7XMEFAABIXggm4BM/lS4us86el9HHT1slSKp65sgqj2bOKNW3hlolAAAguWDOBBKdDm3SHgkCiduDvo76eurrCgAAkheCCSQ6nSOhQ5tw+9DXU19XAACQvBBMINHpZGudI4Hbh76e+roCAIDkhWACiU4n7zJR5/airydX4wIAIPkhmAAAAADgCMEEAAAAAEcIJgAAAAA4QjCBZKVVlkxmUXenCjSLP6iWIZ30y5nNpFMFBEjZdGlMGgAAwJ8RTMCv7S5dOGpZV7yANMyUwVrjTMm0QWZRr96d3SyxaZE5o5W6XqdsmeVw2ftkb+kisrNUYSl/EwFAvtSppHKGtCZdJ2N6+apQXpNWMdXhEVe5vf9Q1/6rWI8HAABILAQT8GtZUqaUwlt3m6XN3kMy9t67Ja+r4Z0Qnjrwh1li88E93n+IrX3WEOmZPYuU+3WvFNy6S5rt+U0C70iY6xn98Offcu+WXVbOex209+LjfHdF7f/BnQck4j+ukQUAABIXwQSSjIPhl2XTP5ekRoZ0UixNkIxzBRZTCuSRQ2XvM+u1p8Duxeif605TpjStZ/C1vHpwOqtU5EVXuS5KG+e6rYNlIs/0N8iUQRbfd6+kveMO8zj7frbncmaT/oeOycmIKya/+1K4rLV+O0Mf98bd2eV4uaIm8HkgY3rZWrKQ2c6nrjrb7J4FLe9y57UffNPnpttQMdUhXYo7on14/7gcIRtdx0Z5ey5Kj4/mdXGvhx5HDY60Lnqs7gxMKfOL5DP71N4gzQMAAHhDMIEkQ38UrZRrWfX3P5LS1WB+OCRYRp84LXk275SHXOlWWTJKiW17TC9GU1deG/Ja3ilbSFTvxh5Xo98W7GqQ66LGuBrU//z7n+TbslNK/bJHtrga5vV2HjDr9HFDjp40aVue1IHy418XrFx0JVx11MZ9jk07XPUUeT9vLqkaus9sJ8gVGGid8gelMj0LVazyBX/+ZT1azHPTHhkVUx3OXflX3j92WjaVKGgCA/e5H96ei+7zmRxZTV57MrK5AgQ74MqUMoU0zeyq05ZdMtS1j1mF8rq2fcra5yl5N09Ocz8AAABPBBPwe3qGXJfxrkayDkv6PfyyKT96+UpUb0CDjBlMA769K3DQs/wnr1wxPRhaPuvMn3Lxv//M/eyeBE86AXrk8dMmrfeN6X5xocHAuJNnTVr3/5urvq2zZjL1uvDvv1IlfVpTvsIVjGid1THXc4kvbfhr8KQ2uoKKvtYEbm/PRfc399z5qOMwwVW/Om69NHPO/iWXr16VEFdgoYFJHlcgpvXVfOm0TAYHAADeEUzA7+kZcl0qh+6TJee99wbosB93c8/9JWsu/GPK/4nDXII08ZzvoA302sHprVzM0qdIYaUi6VCkr8+eN+WXEmCOw5+u4EQDrNZ7D0n37FlMmbfn4nkcLvz7n6T1OGYq2KO+6u0jJ6wUAABAdAQTuC2sv3DRnFGfePKsWb44dU4OhF025e5n4O3hQ55+uRgmjUOCrZyYeQo2nYPgabJr+y/myha1TucV6NwITz/9/Y8UCEpt6mPXS+d9aHnl9GmjHp8l5fWNeHeedSicJrWZAO5OhzYpb8/F8zjoFaI2X4icY+FOe33CXUGHHjv7WGpgBgAA4A3BBG4LY0+ckcOXI8wlWr8pfI+sLV5A0qe4Qya5GsOpXY1pvXSqToK+O7X335Xosv+wtMmaSX4smt/ct3eOrKZ88fm/ZZmr7B2PeQM6xEj3t7t0ETMEa33xghLiJVBZ4woaNPDQ+00tkEd+LVVICrqCCy1f52rga7lOctbLwcbEWx10zkQzV0Cgk6x1/5Py55bnfj9q1nl7Lu7HR4dEaTDy4qFj5v6eOu47JJ/ku0sWFMln6mYfCwAAAE8BwSHZuZ4kEtX5quUl68btVi5h6Vl4HdJzymPOg044Pu9qgOu8gNjo/fQMvz23QN2VKtBsz9tjtccgp2u9PY8jJno/3fYRa46ELVOKFGa77vvzJqY66PPVeQ2e21XenoveX+uiw6NuJLbn7c3p8sUk45qNVg4AACQH9EzgtqINZ89AQsW1Uaz382zYa0M9psdq+Y0CCaX389bg10b9jQIJFVMd9LHetqu8PRfNxyWQULE9bwAAAEUwAQAAAMARggkAAAAAjhBMINHpwJnrr4+EpExfTwZEAQCQ/BBMINGFXgyTShnSWjncDvT11NcVAAAkLwQTSHRfnT4rnbOGWDncDvT11NcVAAAkLwQTSHQj/jgqhdIESU9+v+C2oK+jvp76ugIAgOSF35mATxRIGySTCxWQPZfCZNLpc7L+74uMuU9CdI6EDm3SHgkNJDrt2Sf7GOYEAECyQzABn3r27lzSMmtmKe4KLpiUnXTol4bOkdChTfRIAACQfBFMAAAAAHCEORMAAAAAHCGYAAAAAOAIwQQAAAAARwgmAAAAADhCMAEAAADAEYIJAAAAAI4QTAAAAABwhGACAAAAgCMEEwAAAAAcIZgAAAAA4AjBBAAAAABHCCYAAAAAOEIwAQAAAMARggkAAAAAjhBMAAAAAHCEYAIAAACAIwQTuC38b+AAs6g6tWuZJa5y5copbds8ZuX8m/vzTAiPd2xvpbxbOH+OlYI/uNF7O6HfHwAA3Mgd1i2QqPbvCY1aftmyQZ7t87S1xpkCBfKbRfXp3dMssXnpxeetlEjLFo/Iu4PfsnI3Z87XM6M9t29nzzDBSkJxf55lSpeSXj26mXRs3OuzM3SLDHrzNVP+QN06ruf9prmNSflyZa1UzPTxuu1+z/WxSm4PcT2++prPnfOVlYukx+NGGj5YX9q1aWXlrmn+SNNor5l+Pnr36m7W3ei97f7+AAAgMRBMwCcyZswo+QsVN0v/AQPl+X7PxtqojY9mLVqZJTa9rMaZ+mjkaMmTr7CVuznp06eXKVO/NM+rRu16kilTRnnn7TettQnr/vtrm4bnjbgf655PPyudOnWQ1q1aypKlyyXn3fea25vxSLMmsnPXbrm/Ttx7g5KCuB5ffc0L5M8v3bs9aZVEHvMbeahxQ6lf/wErd02qVIESFh4e9Zp98OEoeWXgABOUxuW9DQBAYiKYgM8t/GGx7Nu7T6pXr2oab3qmd8G8b+WPQ/vMej2Tbp+l/XjkB6ZMaVrvo+XFixW1SkVGjxphFqUNMN3WoYO75eC+HfJM756ybs0KCUqd2jxO76f71DKb7k/vq4v2LNi0XrpOz+4f++OAfDjiPWuNd0ePHpOfVq+VHDmym7yeXdbH6n7t7Wr9flq51OxL1z3R5fHr6uP+fGx6Hz1DXbRoEbM9zeu2+jzTy7qHd8t/XGGOtTZ+lT5WeauHO13/87pVXrdfuVJFGeFq8BYqWNDcT3nbXkz7iOtxienxeqw+mzTOvMb7doeaniY9m6+v0cTxY8x9lLf9KH382E9Gmu3qooFWfI/vhp83Sq+e3nsxdL97dv5itq311+0M6N9PmjZ9WOpavTqxmTT5czl79pw5zu7vhf7P9zXb1Md79oyo118bKCuXL5I2rR81+7Vp0L5x/U9WDgCAm0MwAZ/Txt+99+aTn35aY87KVq5cUWbO+lruzlPADJ2pU6eWOcuvZ2mrVa1iGkNaXr/eA1Ln/gam/I8/jlhbE0mXLp1Z1JjRI+XSxUum56H+gw/Lxo2bpHLVyDPo9pl63WeGDOlNmW73kUeamPvmK1DU9CzYAYyegS5TppTUrd9InujaQ1o0b2bKPelZ6fr16pr5CE2bPiSrVq2WRg0buBqb3aVJs5Zmv4Gufeq+unTqKFciIsy+nujaXRYsXBStPsr9+di+/maOTHQ1Mnfs2GW2p3nd1ssDXrDuEZ3WR5dX//ey5M2bR+bNX2jK7TPo3urhbsrkCbJj5y758KOPrZJI+lqkSJHC9G7s2btX2rdtbcq9bc9bWXyOS0x1LJD/XvO66mu8e88eee3Vl6XFo21c9+kRdeY/pv0offyhQ4fNdhctXipt27SO9/E9+NtvcvDg7zJ82DtWSSTd7wuuRn+3Hr3N9n/77Xfznnx36HBZ6jpmuuj2Pd0RcEfUa6aBzpV/r5g6uL8XOnRoK6++9pZ5/PsfjDRltg7t2sjjHdrJgJf/J19OnyXpXY/RuijtSdq+Y6dJAwBwswgm4DN6RlWXV195SYa990HUcJvTZ86Ys7GqcqUKcvrUaXna1RAcPOgNOXfunOnB0PJVP62Wvfv2m/v9ef68ufVUvNh98sW06Sat912zdr1Jx0S3u379z1HbnTtvgZQuXcqk1c+uRqv2OMxf8IPp3fCmuivg0TkZ2rDUIVSDBg+RuvfXlpMnT0pnV4NUn0dYWJiULFFcNm/Zahr3X079TP65eNFs2yndT/Wada1cdM/1fUaGDRksjzR9WLo82UO2bN1mrYkUWz00mMqYMVge79zVKrnm0ZbNZf+BA6bRe+DAb1KrVg1T7m173sric1xiq+PIjyN7IE6fPiObN281r5/7axTTfmxvvzPU3B47flzSpU1r0p5iO77q3SHD5KHGjUzPg033q0PAtEdITf5sinlP3kiG4AzmNRv54ftSqGABad4iMkhzt337TnnppRekZ/enoravNLh7e9Dr8qHrvWe/39dv+Fk6tG9r0trDMWPmVyYNAMDNIpiAz+gZVV1KlqkY1Rj0lDp1kJWKtHbdBtPY1/JLly5ZpTFLFUODPyae2/3nn39iDBpiMm/BQqnzQEMJDd0uRQoXMmVBQdGfx+7de2XRoiWmwau9ICdcDd3ZM7+UV15+0bqHM3YQ5OnBRk2lR69nJEuWzBIeHmaVXhNbPapXqyoBAQHR5gTYKlWsIJlDQkzDt2DB/FKieDHTmPa2PW9l8TkuN3OsYtpPfMV0fJU23JcsXWbmyGgdle43PPyySaszZ87G6T153hUc62s26O135e677zbBk6fWbTua9S1bNJNtm68FyfUeuN8EVBro2caMHW8m0+ukcg029FgCAJAQCCbg13bu3CVZs2WVl195zSyjRo8xw1u03L3HIEP6a8OC3B08+Js5O2wr6HalG/czyDbP7epj9+yNnLsRX0Pf+8A06LQBp2fVc+bMaepvP4+pX86QqlUqmYbis31fkC+mfSk1alSTlatWS9YsWaLqlzdPbnPrTYoU1z7Cev/Y5kxoY3fu9/PlrTcir+bkzls9bBqEDBv+gZkT4H7MdNiMDrnRwEkbvrr8fuiwGerkbXveyuJzXGKr443EtJ8bic/xVdrDoQFWGit40f3eV6Rw1HFr3661eU/atGEfG53Mrz0b3ibx6yVip305U+6v10hSBqY08zrU6tVrzSTtCxcuRF25S3uidBja66+9YnopAABIKAQT8GsvvvSKnDp5ykysXb5kgSxaONc0zj4c+bEEpkxpJrbqpNpsd2azHhHdiwMGmjkXOuFU79v32d6mfNPmLTLvu6/l88njTd7mvr/QXzaas8L9XnB23X49+6sNt5dfekEmTPxMFi1eIutW/2h+u2HVj4ulceOGJthYvXKpKdMx7l988aUZvrN12y/mvjoMTCff2nQ4V02rET1nzvdm2M/qVcvMxPLYxvTbtLGbxxWcePYyeKuHTYOQ6TO+kl2uRu3Qd9+2SkWaNnnIVc/ow6U2uJ6vDnXytj1vZfE5LrHV8UZi2k9snBxffe3GTZgkwcHBJu++X30PNnQFYPqeVAsW/iC1a9c024/tSmY6fEqHkWkwZdPPwMiPhptt6qJzhnROhfrbFUSoN958Wzp2aBv1OF1frWplmfXV1yYPAEBCCAgOyX7VSgN+S3sUsmTJIuvWb7BKIun470OHD0cbP++N3u/MmTPRhqnUrlXTnK319ljdX9p0aWXbtl+tkoShZ6j1qkc/rlhplUTSxqJO/nUXU/3cyz23p/WObSjOjXirx83wtj1vZfE5LjdTx5j2E5OEOr66nTy5c1/3/o3pfR1XpUqVMLdxeZ/qVape6NdXylWMe48OAAA3QjABALc5nXT+8MONZPJnX8jw9z+0SgEAuHkMcwKA25gOibrrrlzmymIEEgCAhEbPBAAAAABH6JkAAAAA4AjBBAAAAABHCCYAAAAAOEIwAQAAAMARggkAAAAAjhBMAAAAAHCEYAIAAACAIwQTAAAAABwhmAAAAADgCMEEAAAAAEcIJgAAAAA4QjABAAAAwBGCCQAAAACOEEwAAAAAcIRgAgAAAIAjBBMAAAAAHCGYAAAAAOAIwQQAAAAARwgmAAAAADhCMAEAAADAEYIJAAAAAI4QTAAAAABwhGACAAAAgCMEEwAAAAAcIZgAAAAA4AjBBAAAAABHCCYAAAAAOEIwAQAAAMARggkAAAAAjhBMAAAAAHCEYAIAAACAIwQTAAAAABwhmAAAAADgCMEEAAAAAEcIJgAAAAA4QjABAAAAwBGCCQAAAAAOiPwfhnfGEUrc4GMAAAAASUVORK5CYII=)"
      ],
      "metadata": {
        "id": "TmZ5gwJYet6e"
      }
    },
    {
      "cell_type": "code",
      "source": [],
      "metadata": {
        "id": "3DQIUTCztMO-"
      },
      "execution_count": null,
      "outputs": []
    }
  ],
  "metadata": {
    "colab": {
      "provenance": [],
      "authorship_tag": "ABX9TyMsuaaVjL2zWuYTypVzU8xL",
      "include_colab_link": true
    },
    "kernelspec": {
      "display_name": "Python 3",
      "name": "python3"
    },
    "language_info": {
      "name": "python"
    }
  },
  "nbformat": 4,
  "nbformat_minor": 0
}