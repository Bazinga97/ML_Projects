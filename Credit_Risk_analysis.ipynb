{
  "cells": [
    {
      "cell_type": "markdown",
      "metadata": {
        "id": "view-in-github",
        "colab_type": "text"
      },
      "source": [
        "<a href=\"https://colab.research.google.com/github/Bazinga97/ML_Projects/blob/main/Credit_Risk_analysis.ipynb\" target=\"_parent\"><img src=\"https://colab.research.google.com/assets/colab-badge.svg\" alt=\"Open In Colab\"/></a>"
      ]
    },
    {
      "cell_type": "markdown",
      "metadata": {
        "id": "jMBgpnGnEuew"
      },
      "source": [
        "### **Objective:**\n",
        "   \n",
        "\n",
        "    Exploratory data analysis\n",
        "    KNN\n",
        "    Hyperparameter Tuning\n",
        "    Streamlit\n",
        "    List item\n",
        "\n",
        "\n",
        "\n",
        "\n",
        "\n"
      ]
    },
    {
      "cell_type": "markdown",
      "metadata": {
        "id": "HQWf7re1ngci"
      },
      "source": [
        "from sklearn.datasets import make_classification\n",
        "from sklearn.tree import DecisionTreeClassifier\n",
        "import numpy as np\n",
        "import pandas as pd\n",
        "from sklearn.model_selection import train_test_split\n",
        "from sklearn.impute import IterativeImputer\n",
        "from imblearn.pipeline import Pipeline\n",
        "from imblearn.over_sampling import SMOTE\n",
        "from sklearn.metrics import accuracy_score\n",
        "\n",
        "# Making artificial data with the help of sklearn's make_classification method:\n",
        "X, y = make_classification(10000, 20, n_classes=2, weights=[0.75])\n",
        "\n",
        "# Gives count of each target's class:\n",
        "uni, cnt = np.unique(y, return_counts=True)\n",
        "for i, (j, k) in enumerate(zip(uni, cnt)):\n",
        "    print(j, \"--\", k)\n",
        "\n",
        "X = pd.DataFrame(X)\n",
        "\n",
        "# Function to select random indexes:\n",
        "def create_index(nrows):\n",
        "    l = np.random.randint(0, nrows, 50)\n",
        "    return l\n",
        "\n",
        "# Making some rows as Null.\n",
        "for i in range(X.shape[1]):\n",
        "    X.iloc[create_index(X.shape[0]), i] = None\n",
        "    \n",
        "# To check the null values in every column:\n",
        "X.isnull().sum()\n",
        "\n",
        "# Splitting:\n",
        "X_train, X_test, y_train, y_test = train_test_split(X, y)\n",
        "\n",
        "# Making sample pipeline\n",
        "over = SMOTE() ## Object for smote #sampling_strategy=0.1\n",
        "model = DecisionTreeClassifier()\n",
        "steps = [('impute', IterativeImputer()),('over', over),('model', model)]\n",
        "pipeline = Pipeline(steps=steps)\n",
        "\n",
        "pipeline.fit(X_train, y_train)\n",
        "\n",
        "res = pipeline.predict(X_test)\n",
        "\n",
        "print(f\"The accuracy of the Decision Tree Model is:{accuracy_score(y_test, res)}\")\n"
      ]
    },
    {
      "cell_type": "markdown",
      "metadata": {
        "id": "lDfhPSl_FVjJ"
      },
      "source": [
        "## Importing the libraries"
      ]
    },
    {
      "cell_type": "code",
      "execution_count": 12,
      "metadata": {
        "id": "CzqRCskqEvum"
      },
      "outputs": [],
      "source": [
        "import pandas as pd\n",
        "import numpy as np\n",
        "import seaborn as sns\n",
        "from sklearn.datasets import make_classification"
      ]
    },
    {
      "cell_type": "markdown",
      "metadata": {
        "id": "uU1TgDO4F1Od"
      },
      "source": [
        "## Data Preprocessing\n",
        "\n",
        "Column transformer\n",
        "\n",
        "*  Column transformer\n",
        "*  Train-test split\n",
        "*  One_hot encoding\n",
        "*  Imputer\n"
      ]
    },
    {
      "cell_type": "code",
      "execution_count": 13,
      "metadata": {
        "id": "aDZccWKpKZZa"
      },
      "outputs": [],
      "source": [
        "from sklearn.compose import ColumnTransformer,make_column_selector\n",
        "from sklearn.model_selection import train_test_split, RandomizedSearchCV, cross_val_score, RepeatedKFold,RepeatedStratifiedKFold\n",
        "from sklearn.preprocessing import OneHotEncoder, StandardScaler, LabelEncoder\n",
        "from sklearn.experimental import enable_iterative_imputer\n",
        "from sklearn.impute import IterativeImputer"
      ]
    },
    {
      "cell_type": "markdown",
      "metadata": {
        "id": "Ttx0aMQSJIMv"
      },
      "source": [
        "Imblearn Library: used to deal with\n",
        "\n",
        "For imbalanced dataset : particulary over-sampling using SMOTE (Synthetic Minority Over-sampling Technique)\n",
        "\n",
        "Pipeline: chain multiple steps involving --> 1. Preprocessing 2. Model Training\n",
        "\n",
        "Integration allows to encapsulation of entire workflow into a single object --> easy to manage and apply simultaneously.\n",
        "\n",
        "\n"
      ]
    },
    {
      "cell_type": "code",
      "execution_count": 14,
      "metadata": {
        "colab": {
          "base_uri": "https://localhost:8080/"
        },
        "id": "1BASe-dlQHdf",
        "outputId": "1c5c5077-cb19-41d0-c60e-ed39e219a1bb"
      },
      "outputs": [
        {
          "output_type": "stream",
          "name": "stdout",
          "text": [
            "Requirement already satisfied: imbalanced-learn in /usr/local/lib/python3.10/dist-packages (0.12.2)\n",
            "Requirement already satisfied: numpy>=1.17.3 in /usr/local/lib/python3.10/dist-packages (from imbalanced-learn) (1.25.2)\n",
            "Requirement already satisfied: scipy>=1.5.0 in /usr/local/lib/python3.10/dist-packages (from imbalanced-learn) (1.11.4)\n",
            "Requirement already satisfied: scikit-learn>=1.0.2 in /usr/local/lib/python3.10/dist-packages (from imbalanced-learn) (1.4.2)\n",
            "Requirement already satisfied: joblib>=1.1.1 in /usr/local/lib/python3.10/dist-packages (from imbalanced-learn) (1.4.0)\n",
            "Requirement already satisfied: threadpoolctl>=2.0.0 in /usr/local/lib/python3.10/dist-packages (from imbalanced-learn) (3.4.0)\n"
          ]
        }
      ],
      "source": [
        "pip install imbalanced-learn\n"
      ]
    },
    {
      "cell_type": "code",
      "execution_count": 15,
      "metadata": {
        "colab": {
          "base_uri": "https://localhost:8080/"
        },
        "id": "M5SuAEjPRhnS",
        "outputId": "8c6dd057-8c73-431f-ccea-5f685aeff909"
      },
      "outputs": [
        {
          "output_type": "stream",
          "name": "stdout",
          "text": [
            "Requirement already satisfied: imbalanced-learn in /usr/local/lib/python3.10/dist-packages (0.12.2)\n",
            "Requirement already satisfied: numpy>=1.17.3 in /usr/local/lib/python3.10/dist-packages (from imbalanced-learn) (1.25.2)\n",
            "Requirement already satisfied: scipy>=1.5.0 in /usr/local/lib/python3.10/dist-packages (from imbalanced-learn) (1.11.4)\n",
            "Requirement already satisfied: scikit-learn>=1.0.2 in /usr/local/lib/python3.10/dist-packages (from imbalanced-learn) (1.4.2)\n",
            "Requirement already satisfied: joblib>=1.1.1 in /usr/local/lib/python3.10/dist-packages (from imbalanced-learn) (1.4.0)\n",
            "Requirement already satisfied: threadpoolctl>=2.0.0 in /usr/local/lib/python3.10/dist-packages (from imbalanced-learn) (3.4.0)\n"
          ]
        }
      ],
      "source": [
        "pip install --upgrade imbalanced-learn\n"
      ]
    },
    {
      "cell_type": "code",
      "execution_count": 16,
      "metadata": {
        "id": "PvoWe-lwENIS"
      },
      "outputs": [],
      "source": [
        "from imblearn.over_sampling import SMOTE\n",
        "from imblearn.pipeline import Pipeline"
      ]
    },
    {
      "cell_type": "markdown",
      "metadata": {
        "id": "xrqI1fivKg3-"
      },
      "source": [
        "### Metrices: Measure of performance\n",
        "\n",
        "\n",
        "# *   Classification: 1. Accuracy 2. Confusion matrix\n",
        "\n",
        "## **1. Accuracy: No. of correct pred/ Total pred   --> may be misleading in some cases**\n",
        "## **2**. **Confusion matrix :  number of correct and incorrect predictions made by the model.**\n",
        "      \n",
        "\n",
        "*   Precision :\n",
        "*   Recall\n",
        "*   F1-Score\n",
        "*   AUC_ROC\n",
        "\n",
        "\n",
        "\n",
        "\n",
        "\n",
        "*   Regression\n",
        "\n",
        "\n",
        "*   Mean squared error (MSE)\n",
        "*   Root Mean squared error (RMSE)\n",
        "*   Mean Absolute error\n",
        "*   R2\n",
        "\n",
        "\n",
        "\n",
        "\n",
        "\n",
        "\n"
      ]
    },
    {
      "cell_type": "code",
      "execution_count": 17,
      "metadata": {
        "colab": {
          "base_uri": "https://localhost:8080/"
        },
        "id": "n8-ctmniPutT",
        "outputId": "0dedbb03-0811-4732-aadf-04700497241b"
      },
      "outputs": [
        {
          "output_type": "stream",
          "name": "stdout",
          "text": [
            "Requirement already satisfied: scikit-learn in /usr/local/lib/python3.10/dist-packages (1.4.2)\n",
            "Requirement already satisfied: numpy>=1.19.5 in /usr/local/lib/python3.10/dist-packages (from scikit-learn) (1.25.2)\n",
            "Requirement already satisfied: scipy>=1.6.0 in /usr/local/lib/python3.10/dist-packages (from scikit-learn) (1.11.4)\n",
            "Requirement already satisfied: joblib>=1.2.0 in /usr/local/lib/python3.10/dist-packages (from scikit-learn) (1.4.0)\n",
            "Requirement already satisfied: threadpoolctl>=2.0.0 in /usr/local/lib/python3.10/dist-packages (from scikit-learn) (3.4.0)\n"
          ]
        }
      ],
      "source": [
        "pip install --upgrade scikit-learn\n"
      ]
    },
    {
      "cell_type": "code",
      "execution_count": 18,
      "metadata": {
        "colab": {
          "base_uri": "https://localhost:8080/"
        },
        "id": "h_Vwk0_4XmsV",
        "outputId": "62726528-e84c-4ce4-a1a5-2f0914ab0130"
      },
      "outputs": [
        {
          "output_type": "stream",
          "name": "stdout",
          "text": [
            "1.4.2\n"
          ]
        }
      ],
      "source": [
        "import sklearn\n",
        "print(sklearn.__version__)\n"
      ]
    },
    {
      "cell_type": "code",
      "execution_count": 19,
      "metadata": {
        "colab": {
          "base_uri": "https://localhost:8080/"
        },
        "id": "sEZOubS5X-r2",
        "outputId": "161eed26-17f6-4557-f2c5-5b09919cd50b"
      },
      "outputs": [
        {
          "output_type": "stream",
          "name": "stdout",
          "text": [
            "Requirement already satisfied: scikit-learn in /usr/local/lib/python3.10/dist-packages (1.4.2)\n",
            "Requirement already satisfied: numpy>=1.19.5 in /usr/local/lib/python3.10/dist-packages (from scikit-learn) (1.25.2)\n",
            "Requirement already satisfied: scipy>=1.6.0 in /usr/local/lib/python3.10/dist-packages (from scikit-learn) (1.11.4)\n",
            "Requirement already satisfied: joblib>=1.2.0 in /usr/local/lib/python3.10/dist-packages (from scikit-learn) (1.4.0)\n",
            "Requirement already satisfied: threadpoolctl>=2.0.0 in /usr/local/lib/python3.10/dist-packages (from scikit-learn) (3.4.0)\n"
          ]
        }
      ],
      "source": [
        "!pip install scikit-learn\n"
      ]
    },
    {
      "cell_type": "code",
      "execution_count": 20,
      "metadata": {
        "colab": {
          "base_uri": "https://localhost:8080/"
        },
        "id": "zdXRb69nYYI9",
        "outputId": "d10ffdbc-e14a-4733-d434-94cfd1bc3f07"
      },
      "outputs": [
        {
          "output_type": "stream",
          "name": "stdout",
          "text": [
            "Requirement already satisfied: scikit-learn in /usr/local/lib/python3.10/dist-packages (1.4.2)\n",
            "Requirement already satisfied: numpy>=1.19.5 in /usr/local/lib/python3.10/dist-packages (from scikit-learn) (1.25.2)\n",
            "Requirement already satisfied: scipy>=1.6.0 in /usr/local/lib/python3.10/dist-packages (from scikit-learn) (1.11.4)\n",
            "Requirement already satisfied: joblib>=1.2.0 in /usr/local/lib/python3.10/dist-packages (from scikit-learn) (1.4.0)\n",
            "Requirement already satisfied: threadpoolctl>=2.0.0 in /usr/local/lib/python3.10/dist-packages (from scikit-learn) (3.4.0)\n"
          ]
        }
      ],
      "source": [
        "!pip install --upgrade scikit-learn\n"
      ]
    },
    {
      "cell_type": "code",
      "execution_count": 21,
      "metadata": {
        "id": "MrECEXNzKgN1"
      },
      "outputs": [],
      "source": [
        "from sklearn.metrics import accuracy_score, matthews_corrcoef\n",
        "from sklearn.metrics import roc_curve, roc_auc_score, auc\n",
        "from sklearn.model_selection import learning_curve\n",
        "from sklearn.metrics import recall_score,precision_score,f1_score"
      ]
    },
    {
      "cell_type": "markdown",
      "metadata": {
        "id": "AggtpAVBZIcY"
      },
      "source": [
        "## Machine Learning models\n",
        "\n",
        "\n",
        "\n",
        "*   Regression : LR; LOR; KNN;\n",
        "*   SVC\n",
        "\n",
        "\n",
        "*   Decision Trees; RF\n",
        "*   XGBoost classifier\n",
        "\n",
        "\n",
        "*   LBM classifier\n",
        "*   CatBoost classifier\n",
        "\n",
        "\n",
        "\n",
        "\n"
      ]
    },
    {
      "cell_type": "code",
      "execution_count": 22,
      "metadata": {
        "colab": {
          "base_uri": "https://localhost:8080/"
        },
        "id": "klxCsqHxZurC",
        "outputId": "71e10913-6d13-4aaa-a3f4-b18682cb60d6"
      },
      "outputs": [
        {
          "output_type": "stream",
          "name": "stdout",
          "text": [
            "Collecting catboost\n",
            "  Using cached catboost-1.2.5-cp310-cp310-manylinux2014_x86_64.whl (98.2 MB)\n",
            "Requirement already satisfied: graphviz in /usr/local/lib/python3.10/dist-packages (from catboost) (0.20.3)\n",
            "Requirement already satisfied: matplotlib in /usr/local/lib/python3.10/dist-packages (from catboost) (3.7.1)\n",
            "Requirement already satisfied: numpy>=1.16.0 in /usr/local/lib/python3.10/dist-packages (from catboost) (1.25.2)\n",
            "Requirement already satisfied: pandas>=0.24 in /usr/local/lib/python3.10/dist-packages (from catboost) (2.0.3)\n",
            "Requirement already satisfied: scipy in /usr/local/lib/python3.10/dist-packages (from catboost) (1.11.4)\n",
            "Requirement already satisfied: plotly in /usr/local/lib/python3.10/dist-packages (from catboost) (5.15.0)\n",
            "Requirement already satisfied: six in /usr/local/lib/python3.10/dist-packages (from catboost) (1.16.0)\n",
            "Requirement already satisfied: python-dateutil>=2.8.2 in /usr/local/lib/python3.10/dist-packages (from pandas>=0.24->catboost) (2.8.2)\n",
            "Requirement already satisfied: pytz>=2020.1 in /usr/local/lib/python3.10/dist-packages (from pandas>=0.24->catboost) (2023.4)\n",
            "Requirement already satisfied: tzdata>=2022.1 in /usr/local/lib/python3.10/dist-packages (from pandas>=0.24->catboost) (2024.1)\n",
            "Requirement already satisfied: contourpy>=1.0.1 in /usr/local/lib/python3.10/dist-packages (from matplotlib->catboost) (1.2.1)\n",
            "Requirement already satisfied: cycler>=0.10 in /usr/local/lib/python3.10/dist-packages (from matplotlib->catboost) (0.12.1)\n",
            "Requirement already satisfied: fonttools>=4.22.0 in /usr/local/lib/python3.10/dist-packages (from matplotlib->catboost) (4.51.0)\n",
            "Requirement already satisfied: kiwisolver>=1.0.1 in /usr/local/lib/python3.10/dist-packages (from matplotlib->catboost) (1.4.5)\n",
            "Requirement already satisfied: packaging>=20.0 in /usr/local/lib/python3.10/dist-packages (from matplotlib->catboost) (24.0)\n",
            "Requirement already satisfied: pillow>=6.2.0 in /usr/local/lib/python3.10/dist-packages (from matplotlib->catboost) (9.4.0)\n",
            "Requirement already satisfied: pyparsing>=2.3.1 in /usr/local/lib/python3.10/dist-packages (from matplotlib->catboost) (3.1.2)\n",
            "Requirement already satisfied: tenacity>=6.2.0 in /usr/local/lib/python3.10/dist-packages (from plotly->catboost) (8.2.3)\n",
            "Installing collected packages: catboost\n",
            "Successfully installed catboost-1.2.5\n"
          ]
        }
      ],
      "source": [
        "!pip install catboost\n"
      ]
    },
    {
      "cell_type": "markdown",
      "metadata": {
        "id": "duRWucdYaCAu"
      },
      "source": [
        "# Pickling : process of converting a python object into a byte stream; also it saves your python objects into a format that can be stored or transferred"
      ]
    },
    {
      "cell_type": "code",
      "execution_count": 28,
      "metadata": {
        "id": "2Z3CBJkNZmeI"
      },
      "outputs": [],
      "source": [
        "## For Machine Learning Models:\n",
        "from sklearn.linear_model import LogisticRegression,LinearRegression\n",
        "from sklearn.neighbors import KNeighborsClassifier,KNeighborsRegressor\n",
        "from sklearn.svm import SVC\n",
        "from sklearn.naive_bayes import GaussianNB\n",
        "from sklearn.tree import DecisionTreeClassifier\n",
        "from sklearn.ensemble import RandomForestClassifier,RandomForestRegressor\n",
        "from xgboost import XGBClassifier\n",
        "from lightgbm import LGBMClassifier\n",
        "from catboost import CatBoostClassifier\n",
        "\n",
        "## For Pickling:\n",
        "import pickle"
      ]
    },
    {
      "cell_type": "markdown",
      "metadata": {
        "id": "gn5mx3W1bkzE"
      },
      "source": [
        "np.random.seed(31415): random number generation in NumPy follows a predictable sequence, allowing for reproducibility\n",
        "31415: same random numbers every time you code"
      ]
    },
    {
      "cell_type": "code",
      "execution_count": 24,
      "metadata": {
        "id": "jO0b8NOGbjyT"
      },
      "outputs": [],
      "source": [
        "## Setting the seed to allow reproducibility\n",
        "np.random.seed(31415)"
      ]
    },
    {
      "cell_type": "code",
      "execution_count": 25,
      "metadata": {
        "id": "PDLnVuF4b5mn"
      },
      "outputs": [],
      "source": [
        "df= pd.read_csv(\"credit_risk_dataset.csv\")"
      ]
    },
    {
      "cell_type": "code",
      "execution_count": 26,
      "metadata": {
        "colab": {
          "base_uri": "https://localhost:8080/",
          "height": 226
        },
        "id": "gN1KgHeCcLes",
        "outputId": "0ed36c40-2f1a-4713-f885-fc704b0b47b6"
      },
      "outputs": [
        {
          "output_type": "execute_result",
          "data": {
            "text/plain": [
              "   person_age  person_income person_home_ownership  person_emp_length  \\\n",
              "0          22          59000                  RENT              123.0   \n",
              "1          21           9600                   OWN                5.0   \n",
              "2          25           9600              MORTGAGE                1.0   \n",
              "3          23          65500                  RENT                4.0   \n",
              "4          24          54400                  RENT                8.0   \n",
              "\n",
              "  loan_intent loan_grade  loan_amnt  loan_int_rate  loan_status  \\\n",
              "0    PERSONAL          D      35000          16.02            1   \n",
              "1   EDUCATION          B       1000          11.14            0   \n",
              "2     MEDICAL          C       5500          12.87            1   \n",
              "3     MEDICAL          C      35000          15.23            1   \n",
              "4     MEDICAL          C      35000          14.27            1   \n",
              "\n",
              "   loan_percent_income cb_person_default_on_file  cb_person_cred_hist_length  \n",
              "0                 0.59                         Y                           3  \n",
              "1                 0.10                         N                           2  \n",
              "2                 0.57                         N                           3  \n",
              "3                 0.53                         N                           2  \n",
              "4                 0.55                         Y                           4  "
            ],
            "text/html": [
              "\n",
              "  <div id=\"df-4bf7884b-d02d-4132-8646-653755ad823a\" class=\"colab-df-container\">\n",
              "    <div>\n",
              "<style scoped>\n",
              "    .dataframe tbody tr th:only-of-type {\n",
              "        vertical-align: middle;\n",
              "    }\n",
              "\n",
              "    .dataframe tbody tr th {\n",
              "        vertical-align: top;\n",
              "    }\n",
              "\n",
              "    .dataframe thead th {\n",
              "        text-align: right;\n",
              "    }\n",
              "</style>\n",
              "<table border=\"1\" class=\"dataframe\">\n",
              "  <thead>\n",
              "    <tr style=\"text-align: right;\">\n",
              "      <th></th>\n",
              "      <th>person_age</th>\n",
              "      <th>person_income</th>\n",
              "      <th>person_home_ownership</th>\n",
              "      <th>person_emp_length</th>\n",
              "      <th>loan_intent</th>\n",
              "      <th>loan_grade</th>\n",
              "      <th>loan_amnt</th>\n",
              "      <th>loan_int_rate</th>\n",
              "      <th>loan_status</th>\n",
              "      <th>loan_percent_income</th>\n",
              "      <th>cb_person_default_on_file</th>\n",
              "      <th>cb_person_cred_hist_length</th>\n",
              "    </tr>\n",
              "  </thead>\n",
              "  <tbody>\n",
              "    <tr>\n",
              "      <th>0</th>\n",
              "      <td>22</td>\n",
              "      <td>59000</td>\n",
              "      <td>RENT</td>\n",
              "      <td>123.0</td>\n",
              "      <td>PERSONAL</td>\n",
              "      <td>D</td>\n",
              "      <td>35000</td>\n",
              "      <td>16.02</td>\n",
              "      <td>1</td>\n",
              "      <td>0.59</td>\n",
              "      <td>Y</td>\n",
              "      <td>3</td>\n",
              "    </tr>\n",
              "    <tr>\n",
              "      <th>1</th>\n",
              "      <td>21</td>\n",
              "      <td>9600</td>\n",
              "      <td>OWN</td>\n",
              "      <td>5.0</td>\n",
              "      <td>EDUCATION</td>\n",
              "      <td>B</td>\n",
              "      <td>1000</td>\n",
              "      <td>11.14</td>\n",
              "      <td>0</td>\n",
              "      <td>0.10</td>\n",
              "      <td>N</td>\n",
              "      <td>2</td>\n",
              "    </tr>\n",
              "    <tr>\n",
              "      <th>2</th>\n",
              "      <td>25</td>\n",
              "      <td>9600</td>\n",
              "      <td>MORTGAGE</td>\n",
              "      <td>1.0</td>\n",
              "      <td>MEDICAL</td>\n",
              "      <td>C</td>\n",
              "      <td>5500</td>\n",
              "      <td>12.87</td>\n",
              "      <td>1</td>\n",
              "      <td>0.57</td>\n",
              "      <td>N</td>\n",
              "      <td>3</td>\n",
              "    </tr>\n",
              "    <tr>\n",
              "      <th>3</th>\n",
              "      <td>23</td>\n",
              "      <td>65500</td>\n",
              "      <td>RENT</td>\n",
              "      <td>4.0</td>\n",
              "      <td>MEDICAL</td>\n",
              "      <td>C</td>\n",
              "      <td>35000</td>\n",
              "      <td>15.23</td>\n",
              "      <td>1</td>\n",
              "      <td>0.53</td>\n",
              "      <td>N</td>\n",
              "      <td>2</td>\n",
              "    </tr>\n",
              "    <tr>\n",
              "      <th>4</th>\n",
              "      <td>24</td>\n",
              "      <td>54400</td>\n",
              "      <td>RENT</td>\n",
              "      <td>8.0</td>\n",
              "      <td>MEDICAL</td>\n",
              "      <td>C</td>\n",
              "      <td>35000</td>\n",
              "      <td>14.27</td>\n",
              "      <td>1</td>\n",
              "      <td>0.55</td>\n",
              "      <td>Y</td>\n",
              "      <td>4</td>\n",
              "    </tr>\n",
              "  </tbody>\n",
              "</table>\n",
              "</div>\n",
              "    <div class=\"colab-df-buttons\">\n",
              "\n",
              "  <div class=\"colab-df-container\">\n",
              "    <button class=\"colab-df-convert\" onclick=\"convertToInteractive('df-4bf7884b-d02d-4132-8646-653755ad823a')\"\n",
              "            title=\"Convert this dataframe to an interactive table.\"\n",
              "            style=\"display:none;\">\n",
              "\n",
              "  <svg xmlns=\"http://www.w3.org/2000/svg\" height=\"24px\" viewBox=\"0 -960 960 960\">\n",
              "    <path d=\"M120-120v-720h720v720H120Zm60-500h600v-160H180v160Zm220 220h160v-160H400v160Zm0 220h160v-160H400v160ZM180-400h160v-160H180v160Zm440 0h160v-160H620v160ZM180-180h160v-160H180v160Zm440 0h160v-160H620v160Z\"/>\n",
              "  </svg>\n",
              "    </button>\n",
              "\n",
              "  <style>\n",
              "    .colab-df-container {\n",
              "      display:flex;\n",
              "      gap: 12px;\n",
              "    }\n",
              "\n",
              "    .colab-df-convert {\n",
              "      background-color: #E8F0FE;\n",
              "      border: none;\n",
              "      border-radius: 50%;\n",
              "      cursor: pointer;\n",
              "      display: none;\n",
              "      fill: #1967D2;\n",
              "      height: 32px;\n",
              "      padding: 0 0 0 0;\n",
              "      width: 32px;\n",
              "    }\n",
              "\n",
              "    .colab-df-convert:hover {\n",
              "      background-color: #E2EBFA;\n",
              "      box-shadow: 0px 1px 2px rgba(60, 64, 67, 0.3), 0px 1px 3px 1px rgba(60, 64, 67, 0.15);\n",
              "      fill: #174EA6;\n",
              "    }\n",
              "\n",
              "    .colab-df-buttons div {\n",
              "      margin-bottom: 4px;\n",
              "    }\n",
              "\n",
              "    [theme=dark] .colab-df-convert {\n",
              "      background-color: #3B4455;\n",
              "      fill: #D2E3FC;\n",
              "    }\n",
              "\n",
              "    [theme=dark] .colab-df-convert:hover {\n",
              "      background-color: #434B5C;\n",
              "      box-shadow: 0px 1px 3px 1px rgba(0, 0, 0, 0.15);\n",
              "      filter: drop-shadow(0px 1px 2px rgba(0, 0, 0, 0.3));\n",
              "      fill: #FFFFFF;\n",
              "    }\n",
              "  </style>\n",
              "\n",
              "    <script>\n",
              "      const buttonEl =\n",
              "        document.querySelector('#df-4bf7884b-d02d-4132-8646-653755ad823a button.colab-df-convert');\n",
              "      buttonEl.style.display =\n",
              "        google.colab.kernel.accessAllowed ? 'block' : 'none';\n",
              "\n",
              "      async function convertToInteractive(key) {\n",
              "        const element = document.querySelector('#df-4bf7884b-d02d-4132-8646-653755ad823a');\n",
              "        const dataTable =\n",
              "          await google.colab.kernel.invokeFunction('convertToInteractive',\n",
              "                                                    [key], {});\n",
              "        if (!dataTable) return;\n",
              "\n",
              "        const docLinkHtml = 'Like what you see? Visit the ' +\n",
              "          '<a target=\"_blank\" href=https://colab.research.google.com/notebooks/data_table.ipynb>data table notebook</a>'\n",
              "          + ' to learn more about interactive tables.';\n",
              "        element.innerHTML = '';\n",
              "        dataTable['output_type'] = 'display_data';\n",
              "        await google.colab.output.renderOutput(dataTable, element);\n",
              "        const docLink = document.createElement('div');\n",
              "        docLink.innerHTML = docLinkHtml;\n",
              "        element.appendChild(docLink);\n",
              "      }\n",
              "    </script>\n",
              "  </div>\n",
              "\n",
              "\n",
              "<div id=\"df-6db32644-eea4-473a-ae4f-68f44f4d75c9\">\n",
              "  <button class=\"colab-df-quickchart\" onclick=\"quickchart('df-6db32644-eea4-473a-ae4f-68f44f4d75c9')\"\n",
              "            title=\"Suggest charts\"\n",
              "            style=\"display:none;\">\n",
              "\n",
              "<svg xmlns=\"http://www.w3.org/2000/svg\" height=\"24px\"viewBox=\"0 0 24 24\"\n",
              "     width=\"24px\">\n",
              "    <g>\n",
              "        <path d=\"M19 3H5c-1.1 0-2 .9-2 2v14c0 1.1.9 2 2 2h14c1.1 0 2-.9 2-2V5c0-1.1-.9-2-2-2zM9 17H7v-7h2v7zm4 0h-2V7h2v10zm4 0h-2v-4h2v4z\"/>\n",
              "    </g>\n",
              "</svg>\n",
              "  </button>\n",
              "\n",
              "<style>\n",
              "  .colab-df-quickchart {\n",
              "      --bg-color: #E8F0FE;\n",
              "      --fill-color: #1967D2;\n",
              "      --hover-bg-color: #E2EBFA;\n",
              "      --hover-fill-color: #174EA6;\n",
              "      --disabled-fill-color: #AAA;\n",
              "      --disabled-bg-color: #DDD;\n",
              "  }\n",
              "\n",
              "  [theme=dark] .colab-df-quickchart {\n",
              "      --bg-color: #3B4455;\n",
              "      --fill-color: #D2E3FC;\n",
              "      --hover-bg-color: #434B5C;\n",
              "      --hover-fill-color: #FFFFFF;\n",
              "      --disabled-bg-color: #3B4455;\n",
              "      --disabled-fill-color: #666;\n",
              "  }\n",
              "\n",
              "  .colab-df-quickchart {\n",
              "    background-color: var(--bg-color);\n",
              "    border: none;\n",
              "    border-radius: 50%;\n",
              "    cursor: pointer;\n",
              "    display: none;\n",
              "    fill: var(--fill-color);\n",
              "    height: 32px;\n",
              "    padding: 0;\n",
              "    width: 32px;\n",
              "  }\n",
              "\n",
              "  .colab-df-quickchart:hover {\n",
              "    background-color: var(--hover-bg-color);\n",
              "    box-shadow: 0 1px 2px rgba(60, 64, 67, 0.3), 0 1px 3px 1px rgba(60, 64, 67, 0.15);\n",
              "    fill: var(--button-hover-fill-color);\n",
              "  }\n",
              "\n",
              "  .colab-df-quickchart-complete:disabled,\n",
              "  .colab-df-quickchart-complete:disabled:hover {\n",
              "    background-color: var(--disabled-bg-color);\n",
              "    fill: var(--disabled-fill-color);\n",
              "    box-shadow: none;\n",
              "  }\n",
              "\n",
              "  .colab-df-spinner {\n",
              "    border: 2px solid var(--fill-color);\n",
              "    border-color: transparent;\n",
              "    border-bottom-color: var(--fill-color);\n",
              "    animation:\n",
              "      spin 1s steps(1) infinite;\n",
              "  }\n",
              "\n",
              "  @keyframes spin {\n",
              "    0% {\n",
              "      border-color: transparent;\n",
              "      border-bottom-color: var(--fill-color);\n",
              "      border-left-color: var(--fill-color);\n",
              "    }\n",
              "    20% {\n",
              "      border-color: transparent;\n",
              "      border-left-color: var(--fill-color);\n",
              "      border-top-color: var(--fill-color);\n",
              "    }\n",
              "    30% {\n",
              "      border-color: transparent;\n",
              "      border-left-color: var(--fill-color);\n",
              "      border-top-color: var(--fill-color);\n",
              "      border-right-color: var(--fill-color);\n",
              "    }\n",
              "    40% {\n",
              "      border-color: transparent;\n",
              "      border-right-color: var(--fill-color);\n",
              "      border-top-color: var(--fill-color);\n",
              "    }\n",
              "    60% {\n",
              "      border-color: transparent;\n",
              "      border-right-color: var(--fill-color);\n",
              "    }\n",
              "    80% {\n",
              "      border-color: transparent;\n",
              "      border-right-color: var(--fill-color);\n",
              "      border-bottom-color: var(--fill-color);\n",
              "    }\n",
              "    90% {\n",
              "      border-color: transparent;\n",
              "      border-bottom-color: var(--fill-color);\n",
              "    }\n",
              "  }\n",
              "</style>\n",
              "\n",
              "  <script>\n",
              "    async function quickchart(key) {\n",
              "      const quickchartButtonEl =\n",
              "        document.querySelector('#' + key + ' button');\n",
              "      quickchartButtonEl.disabled = true;  // To prevent multiple clicks.\n",
              "      quickchartButtonEl.classList.add('colab-df-spinner');\n",
              "      try {\n",
              "        const charts = await google.colab.kernel.invokeFunction(\n",
              "            'suggestCharts', [key], {});\n",
              "      } catch (error) {\n",
              "        console.error('Error during call to suggestCharts:', error);\n",
              "      }\n",
              "      quickchartButtonEl.classList.remove('colab-df-spinner');\n",
              "      quickchartButtonEl.classList.add('colab-df-quickchart-complete');\n",
              "    }\n",
              "    (() => {\n",
              "      let quickchartButtonEl =\n",
              "        document.querySelector('#df-6db32644-eea4-473a-ae4f-68f44f4d75c9 button');\n",
              "      quickchartButtonEl.style.display =\n",
              "        google.colab.kernel.accessAllowed ? 'block' : 'none';\n",
              "    })();\n",
              "  </script>\n",
              "</div>\n",
              "\n",
              "    </div>\n",
              "  </div>\n"
            ],
            "application/vnd.google.colaboratory.intrinsic+json": {
              "type": "dataframe",
              "variable_name": "df",
              "summary": "{\n  \"name\": \"df\",\n  \"rows\": 32581,\n  \"fields\": [\n    {\n      \"column\": \"person_age\",\n      \"properties\": {\n        \"dtype\": \"number\",\n        \"std\": 6,\n        \"min\": 20,\n        \"max\": 144,\n        \"num_unique_values\": 58,\n        \"samples\": [\n          22,\n          26,\n          65\n        ],\n        \"semantic_type\": \"\",\n        \"description\": \"\"\n      }\n    },\n    {\n      \"column\": \"person_income\",\n      \"properties\": {\n        \"dtype\": \"number\",\n        \"std\": 61983,\n        \"min\": 4000,\n        \"max\": 6000000,\n        \"num_unique_values\": 4295,\n        \"samples\": [\n          20800,\n          54417,\n          144000\n        ],\n        \"semantic_type\": \"\",\n        \"description\": \"\"\n      }\n    },\n    {\n      \"column\": \"person_home_ownership\",\n      \"properties\": {\n        \"dtype\": \"category\",\n        \"num_unique_values\": 4,\n        \"samples\": [\n          \"OWN\",\n          \"OTHER\",\n          \"RENT\"\n        ],\n        \"semantic_type\": \"\",\n        \"description\": \"\"\n      }\n    },\n    {\n      \"column\": \"person_emp_length\",\n      \"properties\": {\n        \"dtype\": \"number\",\n        \"std\": 4.1426301488878625,\n        \"min\": 0.0,\n        \"max\": 123.0,\n        \"num_unique_values\": 36,\n        \"samples\": [\n          30.0,\n          18.0,\n          26.0\n        ],\n        \"semantic_type\": \"\",\n        \"description\": \"\"\n      }\n    },\n    {\n      \"column\": \"loan_intent\",\n      \"properties\": {\n        \"dtype\": \"category\",\n        \"num_unique_values\": 6,\n        \"samples\": [\n          \"PERSONAL\",\n          \"EDUCATION\",\n          \"DEBTCONSOLIDATION\"\n        ],\n        \"semantic_type\": \"\",\n        \"description\": \"\"\n      }\n    },\n    {\n      \"column\": \"loan_grade\",\n      \"properties\": {\n        \"dtype\": \"category\",\n        \"num_unique_values\": 7,\n        \"samples\": [\n          \"D\",\n          \"B\",\n          \"F\"\n        ],\n        \"semantic_type\": \"\",\n        \"description\": \"\"\n      }\n    },\n    {\n      \"column\": \"loan_amnt\",\n      \"properties\": {\n        \"dtype\": \"number\",\n        \"std\": 6322,\n        \"min\": 500,\n        \"max\": 35000,\n        \"num_unique_values\": 753,\n        \"samples\": [\n          13125,\n          3675,\n          13800\n        ],\n        \"semantic_type\": \"\",\n        \"description\": \"\"\n      }\n    },\n    {\n      \"column\": \"loan_int_rate\",\n      \"properties\": {\n        \"dtype\": \"number\",\n        \"std\": 3.2404594649559466,\n        \"min\": 5.42,\n        \"max\": 23.22,\n        \"num_unique_values\": 348,\n        \"samples\": [\n          10.28,\n          13.35,\n          18.07\n        ],\n        \"semantic_type\": \"\",\n        \"description\": \"\"\n      }\n    },\n    {\n      \"column\": \"loan_status\",\n      \"properties\": {\n        \"dtype\": \"number\",\n        \"std\": 0,\n        \"min\": 0,\n        \"max\": 1,\n        \"num_unique_values\": 2,\n        \"samples\": [\n          0,\n          1\n        ],\n        \"semantic_type\": \"\",\n        \"description\": \"\"\n      }\n    },\n    {\n      \"column\": \"loan_percent_income\",\n      \"properties\": {\n        \"dtype\": \"number\",\n        \"std\": 0.10678175634492382,\n        \"min\": 0.0,\n        \"max\": 0.83,\n        \"num_unique_values\": 77,\n        \"samples\": [\n          0.55,\n          0.34\n        ],\n        \"semantic_type\": \"\",\n        \"description\": \"\"\n      }\n    },\n    {\n      \"column\": \"cb_person_default_on_file\",\n      \"properties\": {\n        \"dtype\": \"category\",\n        \"num_unique_values\": 2,\n        \"samples\": [\n          \"N\",\n          \"Y\"\n        ],\n        \"semantic_type\": \"\",\n        \"description\": \"\"\n      }\n    },\n    {\n      \"column\": \"cb_person_cred_hist_length\",\n      \"properties\": {\n        \"dtype\": \"number\",\n        \"std\": 4,\n        \"min\": 2,\n        \"max\": 30,\n        \"num_unique_values\": 29,\n        \"samples\": [\n          24,\n          25\n        ],\n        \"semantic_type\": \"\",\n        \"description\": \"\"\n      }\n    }\n  ]\n}"
            }
          },
          "metadata": {},
          "execution_count": 26
        }
      ],
      "source": [
        "df.head(5)"
      ]
    },
    {
      "cell_type": "code",
      "execution_count": 27,
      "metadata": {
        "colab": {
          "base_uri": "https://localhost:8080/"
        },
        "id": "PXLjjB8qcxjm",
        "outputId": "f39a387e-37c0-417c-8d30-cdbfbd6db5ea"
      },
      "outputs": [
        {
          "output_type": "stream",
          "name": "stdout",
          "text": [
            "<class 'pandas.core.frame.DataFrame'>\n",
            "RangeIndex: 32581 entries, 0 to 32580\n",
            "Data columns (total 12 columns):\n",
            " #   Column                      Non-Null Count  Dtype  \n",
            "---  ------                      --------------  -----  \n",
            " 0   person_age                  32581 non-null  int64  \n",
            " 1   person_income               32581 non-null  int64  \n",
            " 2   person_home_ownership       32581 non-null  object \n",
            " 3   person_emp_length           31686 non-null  float64\n",
            " 4   loan_intent                 32581 non-null  object \n",
            " 5   loan_grade                  32581 non-null  object \n",
            " 6   loan_amnt                   32581 non-null  int64  \n",
            " 7   loan_int_rate               29465 non-null  float64\n",
            " 8   loan_status                 32581 non-null  int64  \n",
            " 9   loan_percent_income         32581 non-null  float64\n",
            " 10  cb_person_default_on_file   32581 non-null  object \n",
            " 11  cb_person_cred_hist_length  32581 non-null  int64  \n",
            "dtypes: float64(3), int64(5), object(4)\n",
            "memory usage: 3.0+ MB\n"
          ]
        }
      ],
      "source": [
        "df.info()"
      ]
    },
    {
      "cell_type": "markdown",
      "metadata": {
        "id": "VrpdHT0Kdzy_"
      },
      "source": [
        "### **df.describe: Descriptive statistics **\n",
        "\n",
        "\n",
        "\n",
        "*   Summarize central tendency; Dispersion and shape of dataframe\n",
        "*   Identification of data distribution and identify issues\n",
        "\n",
        "\n",
        "\n",
        "*   Count: Numbe of Non-null values\n",
        "*   Mean ;\n",
        "*   Standard deviation: measure spread of data from mean; indicates how much\n",
        "    deviation from mean\n",
        "*   25th (25%), 50th (50% or median), and 75th (75%) percentiles: These    \n",
        "    values divide the data into quartiles, indicating the spread of the data.\n",
        "\n",
        "\n",
        "*   Unique\n",
        "*   TOP/Frequecy\n",
        "\n",
        "\n",
        "\n"
      ]
    },
    {
      "cell_type": "code",
      "execution_count": 29,
      "metadata": {
        "colab": {
          "base_uri": "https://localhost:8080/",
          "height": 320
        },
        "id": "stgLl5wNdm3h",
        "outputId": "13553682-ff02-44eb-a21c-020090a9865f"
      },
      "outputs": [
        {
          "output_type": "execute_result",
          "data": {
            "text/plain": [
              "         person_age  person_income  person_emp_length     loan_amnt  \\\n",
              "count  32581.000000   3.258100e+04       31686.000000  32581.000000   \n",
              "mean      27.734600   6.607485e+04           4.789686   9589.371106   \n",
              "std        6.348078   6.198312e+04           4.142630   6322.086646   \n",
              "min       20.000000   4.000000e+03           0.000000    500.000000   \n",
              "25%       23.000000   3.850000e+04           2.000000   5000.000000   \n",
              "50%       26.000000   5.500000e+04           4.000000   8000.000000   \n",
              "75%       30.000000   7.920000e+04           7.000000  12200.000000   \n",
              "max      144.000000   6.000000e+06         123.000000  35000.000000   \n",
              "\n",
              "       loan_int_rate   loan_status  loan_percent_income  \\\n",
              "count   29465.000000  32581.000000         32581.000000   \n",
              "mean       11.011695      0.218164             0.170203   \n",
              "std         3.240459      0.413006             0.106782   \n",
              "min         5.420000      0.000000             0.000000   \n",
              "25%         7.900000      0.000000             0.090000   \n",
              "50%        10.990000      0.000000             0.150000   \n",
              "75%        13.470000      0.000000             0.230000   \n",
              "max        23.220000      1.000000             0.830000   \n",
              "\n",
              "       cb_person_cred_hist_length  \n",
              "count                32581.000000  \n",
              "mean                     5.804211  \n",
              "std                      4.055001  \n",
              "min                      2.000000  \n",
              "25%                      3.000000  \n",
              "50%                      4.000000  \n",
              "75%                      8.000000  \n",
              "max                     30.000000  "
            ],
            "text/html": [
              "\n",
              "  <div id=\"df-6e8c1b58-4aaa-4294-892c-b5573b67c1d8\" class=\"colab-df-container\">\n",
              "    <div>\n",
              "<style scoped>\n",
              "    .dataframe tbody tr th:only-of-type {\n",
              "        vertical-align: middle;\n",
              "    }\n",
              "\n",
              "    .dataframe tbody tr th {\n",
              "        vertical-align: top;\n",
              "    }\n",
              "\n",
              "    .dataframe thead th {\n",
              "        text-align: right;\n",
              "    }\n",
              "</style>\n",
              "<table border=\"1\" class=\"dataframe\">\n",
              "  <thead>\n",
              "    <tr style=\"text-align: right;\">\n",
              "      <th></th>\n",
              "      <th>person_age</th>\n",
              "      <th>person_income</th>\n",
              "      <th>person_emp_length</th>\n",
              "      <th>loan_amnt</th>\n",
              "      <th>loan_int_rate</th>\n",
              "      <th>loan_status</th>\n",
              "      <th>loan_percent_income</th>\n",
              "      <th>cb_person_cred_hist_length</th>\n",
              "    </tr>\n",
              "  </thead>\n",
              "  <tbody>\n",
              "    <tr>\n",
              "      <th>count</th>\n",
              "      <td>32581.000000</td>\n",
              "      <td>3.258100e+04</td>\n",
              "      <td>31686.000000</td>\n",
              "      <td>32581.000000</td>\n",
              "      <td>29465.000000</td>\n",
              "      <td>32581.000000</td>\n",
              "      <td>32581.000000</td>\n",
              "      <td>32581.000000</td>\n",
              "    </tr>\n",
              "    <tr>\n",
              "      <th>mean</th>\n",
              "      <td>27.734600</td>\n",
              "      <td>6.607485e+04</td>\n",
              "      <td>4.789686</td>\n",
              "      <td>9589.371106</td>\n",
              "      <td>11.011695</td>\n",
              "      <td>0.218164</td>\n",
              "      <td>0.170203</td>\n",
              "      <td>5.804211</td>\n",
              "    </tr>\n",
              "    <tr>\n",
              "      <th>std</th>\n",
              "      <td>6.348078</td>\n",
              "      <td>6.198312e+04</td>\n",
              "      <td>4.142630</td>\n",
              "      <td>6322.086646</td>\n",
              "      <td>3.240459</td>\n",
              "      <td>0.413006</td>\n",
              "      <td>0.106782</td>\n",
              "      <td>4.055001</td>\n",
              "    </tr>\n",
              "    <tr>\n",
              "      <th>min</th>\n",
              "      <td>20.000000</td>\n",
              "      <td>4.000000e+03</td>\n",
              "      <td>0.000000</td>\n",
              "      <td>500.000000</td>\n",
              "      <td>5.420000</td>\n",
              "      <td>0.000000</td>\n",
              "      <td>0.000000</td>\n",
              "      <td>2.000000</td>\n",
              "    </tr>\n",
              "    <tr>\n",
              "      <th>25%</th>\n",
              "      <td>23.000000</td>\n",
              "      <td>3.850000e+04</td>\n",
              "      <td>2.000000</td>\n",
              "      <td>5000.000000</td>\n",
              "      <td>7.900000</td>\n",
              "      <td>0.000000</td>\n",
              "      <td>0.090000</td>\n",
              "      <td>3.000000</td>\n",
              "    </tr>\n",
              "    <tr>\n",
              "      <th>50%</th>\n",
              "      <td>26.000000</td>\n",
              "      <td>5.500000e+04</td>\n",
              "      <td>4.000000</td>\n",
              "      <td>8000.000000</td>\n",
              "      <td>10.990000</td>\n",
              "      <td>0.000000</td>\n",
              "      <td>0.150000</td>\n",
              "      <td>4.000000</td>\n",
              "    </tr>\n",
              "    <tr>\n",
              "      <th>75%</th>\n",
              "      <td>30.000000</td>\n",
              "      <td>7.920000e+04</td>\n",
              "      <td>7.000000</td>\n",
              "      <td>12200.000000</td>\n",
              "      <td>13.470000</td>\n",
              "      <td>0.000000</td>\n",
              "      <td>0.230000</td>\n",
              "      <td>8.000000</td>\n",
              "    </tr>\n",
              "    <tr>\n",
              "      <th>max</th>\n",
              "      <td>144.000000</td>\n",
              "      <td>6.000000e+06</td>\n",
              "      <td>123.000000</td>\n",
              "      <td>35000.000000</td>\n",
              "      <td>23.220000</td>\n",
              "      <td>1.000000</td>\n",
              "      <td>0.830000</td>\n",
              "      <td>30.000000</td>\n",
              "    </tr>\n",
              "  </tbody>\n",
              "</table>\n",
              "</div>\n",
              "    <div class=\"colab-df-buttons\">\n",
              "\n",
              "  <div class=\"colab-df-container\">\n",
              "    <button class=\"colab-df-convert\" onclick=\"convertToInteractive('df-6e8c1b58-4aaa-4294-892c-b5573b67c1d8')\"\n",
              "            title=\"Convert this dataframe to an interactive table.\"\n",
              "            style=\"display:none;\">\n",
              "\n",
              "  <svg xmlns=\"http://www.w3.org/2000/svg\" height=\"24px\" viewBox=\"0 -960 960 960\">\n",
              "    <path d=\"M120-120v-720h720v720H120Zm60-500h600v-160H180v160Zm220 220h160v-160H400v160Zm0 220h160v-160H400v160ZM180-400h160v-160H180v160Zm440 0h160v-160H620v160ZM180-180h160v-160H180v160Zm440 0h160v-160H620v160Z\"/>\n",
              "  </svg>\n",
              "    </button>\n",
              "\n",
              "  <style>\n",
              "    .colab-df-container {\n",
              "      display:flex;\n",
              "      gap: 12px;\n",
              "    }\n",
              "\n",
              "    .colab-df-convert {\n",
              "      background-color: #E8F0FE;\n",
              "      border: none;\n",
              "      border-radius: 50%;\n",
              "      cursor: pointer;\n",
              "      display: none;\n",
              "      fill: #1967D2;\n",
              "      height: 32px;\n",
              "      padding: 0 0 0 0;\n",
              "      width: 32px;\n",
              "    }\n",
              "\n",
              "    .colab-df-convert:hover {\n",
              "      background-color: #E2EBFA;\n",
              "      box-shadow: 0px 1px 2px rgba(60, 64, 67, 0.3), 0px 1px 3px 1px rgba(60, 64, 67, 0.15);\n",
              "      fill: #174EA6;\n",
              "    }\n",
              "\n",
              "    .colab-df-buttons div {\n",
              "      margin-bottom: 4px;\n",
              "    }\n",
              "\n",
              "    [theme=dark] .colab-df-convert {\n",
              "      background-color: #3B4455;\n",
              "      fill: #D2E3FC;\n",
              "    }\n",
              "\n",
              "    [theme=dark] .colab-df-convert:hover {\n",
              "      background-color: #434B5C;\n",
              "      box-shadow: 0px 1px 3px 1px rgba(0, 0, 0, 0.15);\n",
              "      filter: drop-shadow(0px 1px 2px rgba(0, 0, 0, 0.3));\n",
              "      fill: #FFFFFF;\n",
              "    }\n",
              "  </style>\n",
              "\n",
              "    <script>\n",
              "      const buttonEl =\n",
              "        document.querySelector('#df-6e8c1b58-4aaa-4294-892c-b5573b67c1d8 button.colab-df-convert');\n",
              "      buttonEl.style.display =\n",
              "        google.colab.kernel.accessAllowed ? 'block' : 'none';\n",
              "\n",
              "      async function convertToInteractive(key) {\n",
              "        const element = document.querySelector('#df-6e8c1b58-4aaa-4294-892c-b5573b67c1d8');\n",
              "        const dataTable =\n",
              "          await google.colab.kernel.invokeFunction('convertToInteractive',\n",
              "                                                    [key], {});\n",
              "        if (!dataTable) return;\n",
              "\n",
              "        const docLinkHtml = 'Like what you see? Visit the ' +\n",
              "          '<a target=\"_blank\" href=https://colab.research.google.com/notebooks/data_table.ipynb>data table notebook</a>'\n",
              "          + ' to learn more about interactive tables.';\n",
              "        element.innerHTML = '';\n",
              "        dataTable['output_type'] = 'display_data';\n",
              "        await google.colab.output.renderOutput(dataTable, element);\n",
              "        const docLink = document.createElement('div');\n",
              "        docLink.innerHTML = docLinkHtml;\n",
              "        element.appendChild(docLink);\n",
              "      }\n",
              "    </script>\n",
              "  </div>\n",
              "\n",
              "\n",
              "<div id=\"df-2ec90c3d-8484-4a4d-a7a6-bd42fb8837e8\">\n",
              "  <button class=\"colab-df-quickchart\" onclick=\"quickchart('df-2ec90c3d-8484-4a4d-a7a6-bd42fb8837e8')\"\n",
              "            title=\"Suggest charts\"\n",
              "            style=\"display:none;\">\n",
              "\n",
              "<svg xmlns=\"http://www.w3.org/2000/svg\" height=\"24px\"viewBox=\"0 0 24 24\"\n",
              "     width=\"24px\">\n",
              "    <g>\n",
              "        <path d=\"M19 3H5c-1.1 0-2 .9-2 2v14c0 1.1.9 2 2 2h14c1.1 0 2-.9 2-2V5c0-1.1-.9-2-2-2zM9 17H7v-7h2v7zm4 0h-2V7h2v10zm4 0h-2v-4h2v4z\"/>\n",
              "    </g>\n",
              "</svg>\n",
              "  </button>\n",
              "\n",
              "<style>\n",
              "  .colab-df-quickchart {\n",
              "      --bg-color: #E8F0FE;\n",
              "      --fill-color: #1967D2;\n",
              "      --hover-bg-color: #E2EBFA;\n",
              "      --hover-fill-color: #174EA6;\n",
              "      --disabled-fill-color: #AAA;\n",
              "      --disabled-bg-color: #DDD;\n",
              "  }\n",
              "\n",
              "  [theme=dark] .colab-df-quickchart {\n",
              "      --bg-color: #3B4455;\n",
              "      --fill-color: #D2E3FC;\n",
              "      --hover-bg-color: #434B5C;\n",
              "      --hover-fill-color: #FFFFFF;\n",
              "      --disabled-bg-color: #3B4455;\n",
              "      --disabled-fill-color: #666;\n",
              "  }\n",
              "\n",
              "  .colab-df-quickchart {\n",
              "    background-color: var(--bg-color);\n",
              "    border: none;\n",
              "    border-radius: 50%;\n",
              "    cursor: pointer;\n",
              "    display: none;\n",
              "    fill: var(--fill-color);\n",
              "    height: 32px;\n",
              "    padding: 0;\n",
              "    width: 32px;\n",
              "  }\n",
              "\n",
              "  .colab-df-quickchart:hover {\n",
              "    background-color: var(--hover-bg-color);\n",
              "    box-shadow: 0 1px 2px rgba(60, 64, 67, 0.3), 0 1px 3px 1px rgba(60, 64, 67, 0.15);\n",
              "    fill: var(--button-hover-fill-color);\n",
              "  }\n",
              "\n",
              "  .colab-df-quickchart-complete:disabled,\n",
              "  .colab-df-quickchart-complete:disabled:hover {\n",
              "    background-color: var(--disabled-bg-color);\n",
              "    fill: var(--disabled-fill-color);\n",
              "    box-shadow: none;\n",
              "  }\n",
              "\n",
              "  .colab-df-spinner {\n",
              "    border: 2px solid var(--fill-color);\n",
              "    border-color: transparent;\n",
              "    border-bottom-color: var(--fill-color);\n",
              "    animation:\n",
              "      spin 1s steps(1) infinite;\n",
              "  }\n",
              "\n",
              "  @keyframes spin {\n",
              "    0% {\n",
              "      border-color: transparent;\n",
              "      border-bottom-color: var(--fill-color);\n",
              "      border-left-color: var(--fill-color);\n",
              "    }\n",
              "    20% {\n",
              "      border-color: transparent;\n",
              "      border-left-color: var(--fill-color);\n",
              "      border-top-color: var(--fill-color);\n",
              "    }\n",
              "    30% {\n",
              "      border-color: transparent;\n",
              "      border-left-color: var(--fill-color);\n",
              "      border-top-color: var(--fill-color);\n",
              "      border-right-color: var(--fill-color);\n",
              "    }\n",
              "    40% {\n",
              "      border-color: transparent;\n",
              "      border-right-color: var(--fill-color);\n",
              "      border-top-color: var(--fill-color);\n",
              "    }\n",
              "    60% {\n",
              "      border-color: transparent;\n",
              "      border-right-color: var(--fill-color);\n",
              "    }\n",
              "    80% {\n",
              "      border-color: transparent;\n",
              "      border-right-color: var(--fill-color);\n",
              "      border-bottom-color: var(--fill-color);\n",
              "    }\n",
              "    90% {\n",
              "      border-color: transparent;\n",
              "      border-bottom-color: var(--fill-color);\n",
              "    }\n",
              "  }\n",
              "</style>\n",
              "\n",
              "  <script>\n",
              "    async function quickchart(key) {\n",
              "      const quickchartButtonEl =\n",
              "        document.querySelector('#' + key + ' button');\n",
              "      quickchartButtonEl.disabled = true;  // To prevent multiple clicks.\n",
              "      quickchartButtonEl.classList.add('colab-df-spinner');\n",
              "      try {\n",
              "        const charts = await google.colab.kernel.invokeFunction(\n",
              "            'suggestCharts', [key], {});\n",
              "      } catch (error) {\n",
              "        console.error('Error during call to suggestCharts:', error);\n",
              "      }\n",
              "      quickchartButtonEl.classList.remove('colab-df-spinner');\n",
              "      quickchartButtonEl.classList.add('colab-df-quickchart-complete');\n",
              "    }\n",
              "    (() => {\n",
              "      let quickchartButtonEl =\n",
              "        document.querySelector('#df-2ec90c3d-8484-4a4d-a7a6-bd42fb8837e8 button');\n",
              "      quickchartButtonEl.style.display =\n",
              "        google.colab.kernel.accessAllowed ? 'block' : 'none';\n",
              "    })();\n",
              "  </script>\n",
              "</div>\n",
              "\n",
              "    </div>\n",
              "  </div>\n"
            ],
            "application/vnd.google.colaboratory.intrinsic+json": {
              "type": "dataframe",
              "summary": "{\n  \"name\": \"df\",\n  \"rows\": 8,\n  \"fields\": [\n    {\n      \"column\": \"person_age\",\n      \"properties\": {\n        \"dtype\": \"number\",\n        \"std\": 11505.209452641495,\n        \"min\": 6.348078419225359,\n        \"max\": 32581.0,\n        \"num_unique_values\": 8,\n        \"samples\": [\n          27.73459992019889,\n          26.0,\n          32581.0\n        ],\n        \"semantic_type\": \"\",\n        \"description\": \"\"\n      }\n    },\n    {\n      \"column\": \"person_income\",\n      \"properties\": {\n        \"dtype\": \"number\",\n        \"std\": 2104411.4228170468,\n        \"min\": 4000.0,\n        \"max\": 6000000.0,\n        \"num_unique_values\": 8,\n        \"samples\": [\n          66074.84846996715,\n          55000.0,\n          32581.0\n        ],\n        \"semantic_type\": \"\",\n        \"description\": \"\"\n      }\n    },\n    {\n      \"column\": \"person_emp_length\",\n      \"properties\": {\n        \"dtype\": \"number\",\n        \"std\": 11195.45062313713,\n        \"min\": 0.0,\n        \"max\": 31686.0,\n        \"num_unique_values\": 8,\n        \"samples\": [\n          4.789686296787225,\n          4.0,\n          31686.0\n        ],\n        \"semantic_type\": \"\",\n        \"description\": \"\"\n      }\n    },\n    {\n      \"column\": \"loan_amnt\",\n      \"properties\": {\n        \"dtype\": \"number\",\n        \"std\": 12907.153470802916,\n        \"min\": 500.0,\n        \"max\": 35000.0,\n        \"num_unique_values\": 8,\n        \"samples\": [\n          9589.371105859243,\n          8000.0,\n          32581.0\n        ],\n        \"semantic_type\": \"\",\n        \"description\": \"\"\n      }\n    },\n    {\n      \"column\": \"loan_int_rate\",\n      \"properties\": {\n        \"dtype\": \"number\",\n        \"std\": 10413.651601664355,\n        \"min\": 3.2404594649559466,\n        \"max\": 29465.0,\n        \"num_unique_values\": 8,\n        \"samples\": [\n          11.011694892245036,\n          10.99,\n          29465.0\n        ],\n        \"semantic_type\": \"\",\n        \"description\": \"\"\n      }\n    },\n    {\n      \"column\": \"loan_status\",\n      \"properties\": {\n        \"dtype\": \"number\",\n        \"std\": 11519.04063760866,\n        \"min\": 0.0,\n        \"max\": 32581.0,\n        \"num_unique_values\": 5,\n        \"samples\": [\n          0.21816396059052823,\n          1.0,\n          0.4130056685601487\n        ],\n        \"semantic_type\": \"\",\n        \"description\": \"\"\n      }\n    },\n    {\n      \"column\": \"loan_percent_income\",\n      \"properties\": {\n        \"dtype\": \"number\",\n        \"std\": 11519.043371973275,\n        \"min\": 0.0,\n        \"max\": 32581.0,\n        \"num_unique_values\": 8,\n        \"samples\": [\n          0.1702034928332464,\n          0.15,\n          32581.0\n        ],\n        \"semantic_type\": \"\",\n        \"description\": \"\"\n      }\n    },\n    {\n      \"column\": \"cb_person_cred_hist_length\",\n      \"properties\": {\n        \"dtype\": \"number\",\n        \"std\": 11516.254800358192,\n        \"min\": 2.0,\n        \"max\": 32581.0,\n        \"num_unique_values\": 8,\n        \"samples\": [\n          5.804211043246064,\n          4.0,\n          32581.0\n        ],\n        \"semantic_type\": \"\",\n        \"description\": \"\"\n      }\n    }\n  ]\n}"
            }
          },
          "metadata": {},
          "execution_count": 29
        }
      ],
      "source": [
        "df.describe()"
      ]
    },
    {
      "cell_type": "markdown",
      "metadata": {
        "id": "GH4kOBLAfUy8"
      },
      "source": [
        "## Duplicates"
      ]
    },
    {
      "cell_type": "code",
      "execution_count": 30,
      "metadata": {
        "colab": {
          "base_uri": "https://localhost:8080/"
        },
        "id": "LtV9svy8e89g",
        "outputId": "b55bd979-d558-4ef7-ef5a-8ddfe6a898f2"
      },
      "outputs": [
        {
          "output_type": "execute_result",
          "data": {
            "text/plain": [
              "False    32416\n",
              "True       165\n",
              "Name: count, dtype: int64"
            ]
          },
          "metadata": {},
          "execution_count": 30
        }
      ],
      "source": [
        "dups = df.duplicated()\n",
        "dups.value_counts()"
      ]
    },
    {
      "cell_type": "code",
      "execution_count": null,
      "metadata": {
        "id": "EVY-doKyfa4P"
      },
      "outputs": [],
      "source": [
        "df.drop_duplicates(inplace=True)"
      ]
    },
    {
      "cell_type": "markdown",
      "metadata": {
        "id": "S1ufZIeSfgDj"
      },
      "source": [
        "Checking for Categorical/ Numerical columns"
      ]
    },
    {
      "cell_type": "code",
      "execution_count": 31,
      "metadata": {
        "colab": {
          "base_uri": "https://localhost:8080/"
        },
        "id": "xPi5pQbXf7tx",
        "outputId": "e4edc09c-2304-467b-9bd1-191f38904111"
      },
      "outputs": [
        {
          "output_type": "stream",
          "name": "stdout",
          "text": [
            "The number of Categorical columns are: 4\n",
            "The number of Numerical columns are: 8\n"
          ]
        }
      ],
      "source": [
        "ccol=df.select_dtypes(include=[\"object\"]).columns\n",
        "ncol=df.select_dtypes(include=[\"int\",\"float\"]).columns\n",
        "\n",
        "print(\"The number of Categorical columns are:\",len(ccol))\n",
        "print(\"The number of Numerical columns are:\",len(ncol))"
      ]
    },
    {
      "cell_type": "markdown",
      "metadata": {
        "id": "BvcSoRuUgAej"
      },
      "source": [
        " Printing the different columns with their cardinality (number of unique elements in each column)"
      ]
    },
    {
      "cell_type": "code",
      "execution_count": 32,
      "metadata": {
        "colab": {
          "base_uri": "https://localhost:8080/"
        },
        "id": "SLrdYwnMgCYY",
        "outputId": "5f60f221-b563-4e62-85dc-bd150978abf2"
      },
      "outputs": [
        {
          "output_type": "stream",
          "name": "stdout",
          "text": [
            "The NUMERICAL columns are:\n",
            "\n",
            "-> person_age - 58\n",
            "-> person_income - 4295\n",
            "-> person_emp_length - 36\n",
            "-> loan_amnt - 753\n",
            "-> loan_int_rate - 348\n",
            "-> loan_status - 2\n",
            "-> loan_percent_income - 77\n",
            "-> cb_person_cred_hist_length - 29\n",
            "\n",
            "---------------------------\n",
            "\n",
            "The CATEGORICAL columns are:\n",
            "\n",
            "-> person_home_ownership - 4\n",
            "-> loan_intent - 6\n",
            "-> loan_grade - 7\n",
            "-> cb_person_default_on_file - 2\n"
          ]
        }
      ],
      "source": [
        "print(\"The NUMERICAL columns are:\\n\")\n",
        "for i in ncol:\n",
        "    print(\"->\",i,\"-\",df[i].nunique())\n",
        "\n",
        "print(\"\\n---------------------------\\n\")\n",
        "print(\"The CATEGORICAL columns are:\\n\")\n",
        "for i in ccol:\n",
        "    print(\"->\",i,\"-\",df[i].nunique())"
      ]
    },
    {
      "cell_type": "code",
      "execution_count": 33,
      "metadata": {
        "id": "y5pVzH1MgRqV"
      },
      "outputs": [],
      "source": [
        "df.drop(['loan_int_rate'],axis=1,inplace=True)"
      ]
    },
    {
      "cell_type": "code",
      "execution_count": 34,
      "metadata": {
        "colab": {
          "base_uri": "https://localhost:8080/"
        },
        "id": "fUb-g2AfgT18",
        "outputId": "a9b5cd54-4cdc-4d62-fa52-ff2f8c8b3548"
      },
      "outputs": [
        {
          "output_type": "execute_result",
          "data": {
            "text/plain": [
              "array(['PERSONAL', 'EDUCATION', 'MEDICAL', 'VENTURE', 'HOMEIMPROVEMENT',\n",
              "       'DEBTCONSOLIDATION'], dtype=object)"
            ]
          },
          "metadata": {},
          "execution_count": 34
        }
      ],
      "source": [
        "df[\"loan_intent\"].unique()"
      ]
    },
    {
      "cell_type": "code",
      "execution_count": 35,
      "metadata": {
        "colab": {
          "base_uri": "https://localhost:8080/"
        },
        "id": "dB8bChCtgWys",
        "outputId": "469e40b7-9c33-4fca-dc2b-352d92887563"
      },
      "outputs": [
        {
          "output_type": "execute_result",
          "data": {
            "text/plain": [
              "Index(['person_age', 'person_income', 'person_home_ownership',\n",
              "       'person_emp_length', 'loan_intent', 'loan_grade', 'loan_amnt',\n",
              "       'loan_status', 'loan_percent_income', 'cb_person_default_on_file',\n",
              "       'cb_person_cred_hist_length'],\n",
              "      dtype='object')"
            ]
          },
          "metadata": {},
          "execution_count": 35
        }
      ],
      "source": [
        "df.columns"
      ]
    },
    {
      "cell_type": "code",
      "execution_count": 36,
      "metadata": {
        "colab": {
          "base_uri": "https://localhost:8080/"
        },
        "id": "Dh2bz-qJgaMP",
        "outputId": "03945d73-ace7-4b9b-9847-50c483ca052d"
      },
      "outputs": [
        {
          "output_type": "execute_result",
          "data": {
            "text/plain": [
              "loan_status\n",
              "0    0.781836\n",
              "1    0.218164\n",
              "Name: proportion, dtype: float64"
            ]
          },
          "metadata": {},
          "execution_count": 36
        }
      ],
      "source": [
        "df[\"loan_status\"].value_counts(normalize=True)"
      ]
    },
    {
      "cell_type": "code",
      "execution_count": 37,
      "metadata": {
        "colab": {
          "base_uri": "https://localhost:8080/"
        },
        "id": "VGoh1Sr3hDJx",
        "outputId": "778dc0b2-642f-49e3-e725-8a4f5bef8243"
      },
      "outputs": [
        {
          "output_type": "execute_result",
          "data": {
            "text/plain": [
              "person_age                      0\n",
              "person_income                   0\n",
              "person_home_ownership           0\n",
              "person_emp_length             895\n",
              "loan_intent                     0\n",
              "loan_grade                      0\n",
              "loan_amnt                       0\n",
              "loan_status                     0\n",
              "loan_percent_income             0\n",
              "cb_person_default_on_file       0\n",
              "cb_person_cred_hist_length      0\n",
              "dtype: int64"
            ]
          },
          "metadata": {},
          "execution_count": 37
        }
      ],
      "source": [
        "df.isna().sum()"
      ]
    },
    {
      "cell_type": "markdown",
      "metadata": {
        "id": "zpufjIGjiSnO"
      },
      "source": [
        "## Data highly IMBALANCED: oversampling techniques like **KNN-SMOTE**"
      ]
    },
    {
      "cell_type": "markdown",
      "metadata": {
        "id": "RWxChRyQhwJh"
      },
      "source": [
        "MCAR (Missing Completely at Random):\n",
        "\n",
        "\n",
        "1.   Missingness is unrelated to any observed or unobserved variables.\n",
        "No systematic reason for missing values.\n",
        "Considered the least problematic type of missing data.\n",
        "\n",
        "\n",
        "\n",
        "\n",
        "\n",
        "MAR (Missing at Random):\n",
        "\n",
        "1.   Missingness depends on other observed variables but not on the missing data itself.\n",
        "Related to some observed variables but not to the missing values themselves.\n",
        "Common in longitudinal studies or surveys where certain groups are less likely to respond.\n",
        "\n",
        "\n",
        "\n",
        "MNAR (Missing Not at Random):\n",
        "\n",
        "\n",
        "1.   Missingness is related to the missing values themselves, even after accounting for observed data.\n",
        "Related to unobserved data or the missing values themselves.\n",
        "Introduces bias into analyses and requires more sophisticated handling methods.\n",
        "\n"
      ]
    },
    {
      "cell_type": "code",
      "source": [
        "import matplotlib.pyplot as plt\n"
      ],
      "metadata": {
        "id": "XUN6FyN3rj1u"
      },
      "execution_count": 38,
      "outputs": []
    },
    {
      "cell_type": "code",
      "execution_count": 39,
      "metadata": {
        "colab": {
          "base_uri": "https://localhost:8080/",
          "height": 666
        },
        "id": "7RioW9boiOUf",
        "outputId": "808b6118-1e58-426b-a72e-0c666b3f93e7"
      },
      "outputs": [
        {
          "output_type": "display_data",
          "data": {
            "text/plain": [
              "<Figure size 800x800 with 1 Axes>"
            ],
            "image/png": "[encoded data removed]"
          },
          "metadata": {}
        }
      ],
      "source": [
        "## Missing values in each target class:\n",
        "p=df.groupby([\"loan_status\"])[\"person_emp_length\"].apply(lambda x:x.isnull().sum())\n",
        "\n",
        "fig,ax=plt.subplots(1,1,figsize=(8,8))\n",
        "# ax[0].set_title(\"Missing values in loan_int_rate\")\n",
        "# ax[0].pie(l.values, labels=l.index, colors=sns.color_palette('bright'), autopct='%.0f%%')\n",
        "\n",
        "ax.set_title(\"Missing values in person_emp_length\")\n",
        "ax.pie(p.values, labels=p.index, colors=sns.color_palette('cool'), autopct='%.0f%%')\n",
        "fig.show()"
      ]
    },
    {
      "cell_type": "markdown",
      "metadata": {
        "id": "bx79Gc8Ji8nZ"
      },
      "source": [
        "### Note: it's essential to split the dataset into training and testing sets before implementing any preprocessing techniques such as outlier removal, handling missing values, oversampling, etc"
      ]
    },
    {
      "cell_type": "markdown",
      "metadata": {
        "id": "Hax004OyjguF"
      },
      "source": [
        "Train_test split : df.drop(Y) ; df.column(X); random state set random seed for reporducibility ; test_size  = generally 70/80:30/20; stratify= df (Target variable class variable is preserved-->particularly useful for imblanced datasets ; shuffle bias --> Parameter shuffles the data before splitting ensuring points to be randomly ordered to avoid bias  "
      ]
    },
    {
      "cell_type": "code",
      "execution_count": 40,
      "metadata": {
        "id": "TyDLcJ6gjO1H"
      },
      "outputs": [],
      "source": [
        "X, X_test, y, y_test = train_test_split(df.drop('loan_status', axis=1), df['loan_status'],\n",
        "                                        random_state=0,  test_size=0.2, stratify=df['loan_status'],\n",
        "                                        shuffle=True)"
      ]
    },
    {
      "cell_type": "code",
      "execution_count": 41,
      "metadata": {
        "colab": {
          "base_uri": "https://localhost:8080/"
        },
        "id": "q-0s2uhkk3Rf",
        "outputId": "5aa18d27-4738-4ee0-a783-67f4352a1dad"
      },
      "outputs": [
        {
          "output_type": "execute_result",
          "data": {
            "text/plain": [
              "loan_status\n",
              "0    0.781845\n",
              "1    0.218155\n",
              "Name: proportion, dtype: float64"
            ]
          },
          "metadata": {},
          "execution_count": 41
        }
      ],
      "source": [
        "y.value_counts(normalize=True)"
      ]
    },
    {
      "cell_type": "code",
      "execution_count": 42,
      "metadata": {
        "colab": {
          "base_uri": "https://localhost:8080/"
        },
        "id": "b_0uq1qbk5u9",
        "outputId": "28c6b314-25be-47dd-ce6e-99278b3326c6"
      },
      "outputs": [
        {
          "output_type": "execute_result",
          "data": {
            "text/plain": [
              "loan_status\n",
              "0    0.781801\n",
              "1    0.218199\n",
              "Name: proportion, dtype: float64"
            ]
          },
          "metadata": {},
          "execution_count": 42
        }
      ],
      "source": [
        "y_test.value_counts(normalize=True)"
      ]
    },
    {
      "cell_type": "markdown",
      "metadata": {
        "id": "J-mfMkGWk_Yp"
      },
      "source": [
        "Unique values"
      ]
    },
    {
      "cell_type": "code",
      "execution_count": 43,
      "metadata": {
        "colab": {
          "base_uri": "https://localhost:8080/"
        },
        "id": "a4a6Tda9k-pW",
        "outputId": "d6e3c709-6eb8-4777-f2db-11b3b7fcd186"
      },
      "outputs": [
        {
          "output_type": "stream",
          "name": "stdout",
          "text": [
            "person_age ---> 58\n",
            "\n",
            "person_income ---> 3704\n",
            "\n",
            "person_home_ownership ---> 4\n",
            "person_home_ownership\n",
            "RENT        50.517956\n",
            "MORTGAGE    41.279159\n",
            "OWN          7.899785\n",
            "OTHER        0.303100\n",
            "Name: proportion, dtype: float64\n",
            "\n",
            "person_emp_length ---> 35\n",
            "\n",
            "loan_intent ---> 6\n",
            "loan_intent\n",
            "EDUCATION            19.812769\n",
            "MEDICAL              18.538981\n",
            "VENTURE              17.725599\n",
            "PERSONAL             17.004297\n",
            "DEBTCONSOLIDATION    16.002916\n",
            "HOMEIMPROVEMENT      10.915439\n",
            "Name: proportion, dtype: float64\n",
            "\n",
            "loan_grade ---> 7\n",
            "loan_grade\n",
            "A    33.199048\n",
            "B    31.978975\n",
            "C    19.774401\n",
            "D    11.160988\n",
            "E     2.938920\n",
            "F     0.751995\n",
            "G     0.195672\n",
            "Name: proportion, dtype: float64\n",
            "\n",
            "loan_amnt ---> 721\n",
            "\n",
            "loan_percent_income ---> 77\n",
            "\n",
            "cb_person_default_on_file ---> 2\n",
            "cb_person_default_on_file\n",
            "N    82.45089\n",
            "Y    17.54911\n",
            "Name: proportion, dtype: float64\n",
            "\n",
            "cb_person_cred_hist_length ---> 29\n",
            "\n"
          ]
        }
      ],
      "source": [
        "for col in X:\n",
        "    print(col, '--->', X[col].nunique())\n",
        "    if X[col].nunique()<20:\n",
        "        print(X[col].value_counts(normalize=True)*100)\n",
        "    print()"
      ]
    },
    {
      "cell_type": "markdown",
      "metadata": {
        "id": "HNFtQTTxlFf3"
      },
      "source": [
        "Outlier removal"
      ]
    },
    {
      "cell_type": "code",
      "execution_count": 44,
      "metadata": {
        "colab": {
          "base_uri": "https://localhost:8080/",
          "height": 320
        },
        "id": "uQbtCmBelEjK",
        "outputId": "f1fa99c1-6b8a-4614-deac-fd2cc7243d07"
      },
      "outputs": [
        {
          "output_type": "execute_result",
          "data": {
            "text/plain": [
              "       person_age  person_income person_home_ownership  person_emp_length  \\\n",
              "32416          94          24000                  RENT                1.0   \n",
              "183           144         200000              MORTGAGE                4.0   \n",
              "747           123          78000                  RENT                7.0   \n",
              "32297         144        6000000              MORTGAGE               12.0   \n",
              "32422          80          64000                  RENT                7.0   \n",
              "81            144         250000                  RENT                4.0   \n",
              "575           123          80004                  RENT                2.0   \n",
              "32506          84          94800              MORTGAGE                2.0   \n",
              "\n",
              "      loan_intent loan_grade  loan_amnt  loan_percent_income  \\\n",
              "32416     MEDICAL          C       6500                 0.27   \n",
              "183     EDUCATION          B       6000                 0.03   \n",
              "747       VENTURE          B      20000                 0.26   \n",
              "32297    PERSONAL          C       5000                 0.00   \n",
              "32422     MEDICAL          B       6800                 0.11   \n",
              "81        VENTURE          C       4800                 0.02   \n",
              "575     EDUCATION          B      20400                 0.25   \n",
              "32506    PERSONAL          A      10000                 0.11   \n",
              "\n",
              "      cb_person_default_on_file  cb_person_cred_hist_length  \n",
              "32416                         N                          27  \n",
              "183                           N                           2  \n",
              "747                           N                           4  \n",
              "32297                         N                          25  \n",
              "32422                         N                          25  \n",
              "81                            N                           3  \n",
              "575                           N                           3  \n",
              "32506                         N                          24  "
            ],
            "text/html": [
              "\n",
              "  <div id=\"df-89e48554-5241-4904-aa9f-3db74dcba5d9\" class=\"colab-df-container\">\n",
              "    <div>\n",
              "<style scoped>\n",
              "    .dataframe tbody tr th:only-of-type {\n",
              "        vertical-align: middle;\n",
              "    }\n",
              "\n",
              "    .dataframe tbody tr th {\n",
              "        vertical-align: top;\n",
              "    }\n",
              "\n",
              "    .dataframe thead th {\n",
              "        text-align: right;\n",
              "    }\n",
              "</style>\n",
              "<table border=\"1\" class=\"dataframe\">\n",
              "  <thead>\n",
              "    <tr style=\"text-align: right;\">\n",
              "      <th></th>\n",
              "      <th>person_age</th>\n",
              "      <th>person_income</th>\n",
              "      <th>person_home_ownership</th>\n",
              "      <th>person_emp_length</th>\n",
              "      <th>loan_intent</th>\n",
              "      <th>loan_grade</th>\n",
              "      <th>loan_amnt</th>\n",
              "      <th>loan_percent_income</th>\n",
              "      <th>cb_person_default_on_file</th>\n",
              "      <th>cb_person_cred_hist_length</th>\n",
              "    </tr>\n",
              "  </thead>\n",
              "  <tbody>\n",
              "    <tr>\n",
              "      <th>32416</th>\n",
              "      <td>94</td>\n",
              "      <td>24000</td>\n",
              "      <td>RENT</td>\n",
              "      <td>1.0</td>\n",
              "      <td>MEDICAL</td>\n",
              "      <td>C</td>\n",
              "      <td>6500</td>\n",
              "      <td>0.27</td>\n",
              "      <td>N</td>\n",
              "      <td>27</td>\n",
              "    </tr>\n",
              "    <tr>\n",
              "      <th>183</th>\n",
              "      <td>144</td>\n",
              "      <td>200000</td>\n",
              "      <td>MORTGAGE</td>\n",
              "      <td>4.0</td>\n",
              "      <td>EDUCATION</td>\n",
              "      <td>B</td>\n",
              "      <td>6000</td>\n",
              "      <td>0.03</td>\n",
              "      <td>N</td>\n",
              "      <td>2</td>\n",
              "    </tr>\n",
              "    <tr>\n",
              "      <th>747</th>\n",
              "      <td>123</td>\n",
              "      <td>78000</td>\n",
              "      <td>RENT</td>\n",
              "      <td>7.0</td>\n",
              "      <td>VENTURE</td>\n",
              "      <td>B</td>\n",
              "      <td>20000</td>\n",
              "      <td>0.26</td>\n",
              "      <td>N</td>\n",
              "      <td>4</td>\n",
              "    </tr>\n",
              "    <tr>\n",
              "      <th>32297</th>\n",
              "      <td>144</td>\n",
              "      <td>6000000</td>\n",
              "      <td>MORTGAGE</td>\n",
              "      <td>12.0</td>\n",
              "      <td>PERSONAL</td>\n",
              "      <td>C</td>\n",
              "      <td>5000</td>\n",
              "      <td>0.00</td>\n",
              "      <td>N</td>\n",
              "      <td>25</td>\n",
              "    </tr>\n",
              "    <tr>\n",
              "      <th>32422</th>\n",
              "      <td>80</td>\n",
              "      <td>64000</td>\n",
              "      <td>RENT</td>\n",
              "      <td>7.0</td>\n",
              "      <td>MEDICAL</td>\n",
              "      <td>B</td>\n",
              "      <td>6800</td>\n",
              "      <td>0.11</td>\n",
              "      <td>N</td>\n",
              "      <td>25</td>\n",
              "    </tr>\n",
              "    <tr>\n",
              "      <th>81</th>\n",
              "      <td>144</td>\n",
              "      <td>250000</td>\n",
              "      <td>RENT</td>\n",
              "      <td>4.0</td>\n",
              "      <td>VENTURE</td>\n",
              "      <td>C</td>\n",
              "      <td>4800</td>\n",
              "      <td>0.02</td>\n",
              "      <td>N</td>\n",
              "      <td>3</td>\n",
              "    </tr>\n",
              "    <tr>\n",
              "      <th>575</th>\n",
              "      <td>123</td>\n",
              "      <td>80004</td>\n",
              "      <td>RENT</td>\n",
              "      <td>2.0</td>\n",
              "      <td>EDUCATION</td>\n",
              "      <td>B</td>\n",
              "      <td>20400</td>\n",
              "      <td>0.25</td>\n",
              "      <td>N</td>\n",
              "      <td>3</td>\n",
              "    </tr>\n",
              "    <tr>\n",
              "      <th>32506</th>\n",
              "      <td>84</td>\n",
              "      <td>94800</td>\n",
              "      <td>MORTGAGE</td>\n",
              "      <td>2.0</td>\n",
              "      <td>PERSONAL</td>\n",
              "      <td>A</td>\n",
              "      <td>10000</td>\n",
              "      <td>0.11</td>\n",
              "      <td>N</td>\n",
              "      <td>24</td>\n",
              "    </tr>\n",
              "  </tbody>\n",
              "</table>\n",
              "</div>\n",
              "    <div class=\"colab-df-buttons\">\n",
              "\n",
              "  <div class=\"colab-df-container\">\n",
              "    <button class=\"colab-df-convert\" onclick=\"convertToInteractive('df-89e48554-5241-4904-aa9f-3db74dcba5d9')\"\n",
              "            title=\"Convert this dataframe to an interactive table.\"\n",
              "            style=\"display:none;\">\n",
              "\n",
              "  <svg xmlns=\"http://www.w3.org/2000/svg\" height=\"24px\" viewBox=\"0 -960 960 960\">\n",
              "    <path d=\"M120-120v-720h720v720H120Zm60-500h600v-160H180v160Zm220 220h160v-160H400v160Zm0 220h160v-160H400v160ZM180-400h160v-160H180v160Zm440 0h160v-160H620v160ZM180-180h160v-160H180v160Zm440 0h160v-160H620v160Z\"/>\n",
              "  </svg>\n",
              "    </button>\n",
              "\n",
              "  <style>\n",
              "    .colab-df-container {\n",
              "      display:flex;\n",
              "      gap: 12px;\n",
              "    }\n",
              "\n",
              "    .colab-df-convert {\n",
              "      background-color: #E8F0FE;\n",
              "      border: none;\n",
              "      border-radius: 50%;\n",
              "      cursor: pointer;\n",
              "      display: none;\n",
              "      fill: #1967D2;\n",
              "      height: 32px;\n",
              "      padding: 0 0 0 0;\n",
              "      width: 32px;\n",
              "    }\n",
              "\n",
              "    .colab-df-convert:hover {\n",
              "      background-color: #E2EBFA;\n",
              "      box-shadow: 0px 1px 2px rgba(60, 64, 67, 0.3), 0px 1px 3px 1px rgba(60, 64, 67, 0.15);\n",
              "      fill: #174EA6;\n",
              "    }\n",
              "\n",
              "    .colab-df-buttons div {\n",
              "      margin-bottom: 4px;\n",
              "    }\n",
              "\n",
              "    [theme=dark] .colab-df-convert {\n",
              "      background-color: #3B4455;\n",
              "      fill: #D2E3FC;\n",
              "    }\n",
              "\n",
              "    [theme=dark] .colab-df-convert:hover {\n",
              "      background-color: #434B5C;\n",
              "      box-shadow: 0px 1px 3px 1px rgba(0, 0, 0, 0.15);\n",
              "      filter: drop-shadow(0px 1px 2px rgba(0, 0, 0, 0.3));\n",
              "      fill: #FFFFFF;\n",
              "    }\n",
              "  </style>\n",
              "\n",
              "    <script>\n",
              "      const buttonEl =\n",
              "        document.querySelector('#df-89e48554-5241-4904-aa9f-3db74dcba5d9 button.colab-df-convert');\n",
              "      buttonEl.style.display =\n",
              "        google.colab.kernel.accessAllowed ? 'block' : 'none';\n",
              "\n",
              "      async function convertToInteractive(key) {\n",
              "        const element = document.querySelector('#df-89e48554-5241-4904-aa9f-3db74dcba5d9');\n",
              "        const dataTable =\n",
              "          await google.colab.kernel.invokeFunction('convertToInteractive',\n",
              "                                                    [key], {});\n",
              "        if (!dataTable) return;\n",
              "\n",
              "        const docLinkHtml = 'Like what you see? Visit the ' +\n",
              "          '<a target=\"_blank\" href=https://colab.research.google.com/notebooks/data_table.ipynb>data table notebook</a>'\n",
              "          + ' to learn more about interactive tables.';\n",
              "        element.innerHTML = '';\n",
              "        dataTable['output_type'] = 'display_data';\n",
              "        await google.colab.output.renderOutput(dataTable, element);\n",
              "        const docLink = document.createElement('div');\n",
              "        docLink.innerHTML = docLinkHtml;\n",
              "        element.appendChild(docLink);\n",
              "      }\n",
              "    </script>\n",
              "  </div>\n",
              "\n",
              "\n",
              "<div id=\"df-7a7f5d3c-6505-494d-b29a-e394de5f8d62\">\n",
              "  <button class=\"colab-df-quickchart\" onclick=\"quickchart('df-7a7f5d3c-6505-494d-b29a-e394de5f8d62')\"\n",
              "            title=\"Suggest charts\"\n",
              "            style=\"display:none;\">\n",
              "\n",
              "<svg xmlns=\"http://www.w3.org/2000/svg\" height=\"24px\"viewBox=\"0 0 24 24\"\n",
              "     width=\"24px\">\n",
              "    <g>\n",
              "        <path d=\"M19 3H5c-1.1 0-2 .9-2 2v14c0 1.1.9 2 2 2h14c1.1 0 2-.9 2-2V5c0-1.1-.9-2-2-2zM9 17H7v-7h2v7zm4 0h-2V7h2v10zm4 0h-2v-4h2v4z\"/>\n",
              "    </g>\n",
              "</svg>\n",
              "  </button>\n",
              "\n",
              "<style>\n",
              "  .colab-df-quickchart {\n",
              "      --bg-color: #E8F0FE;\n",
              "      --fill-color: #1967D2;\n",
              "      --hover-bg-color: #E2EBFA;\n",
              "      --hover-fill-color: #174EA6;\n",
              "      --disabled-fill-color: #AAA;\n",
              "      --disabled-bg-color: #DDD;\n",
              "  }\n",
              "\n",
              "  [theme=dark] .colab-df-quickchart {\n",
              "      --bg-color: #3B4455;\n",
              "      --fill-color: #D2E3FC;\n",
              "      --hover-bg-color: #434B5C;\n",
              "      --hover-fill-color: #FFFFFF;\n",
              "      --disabled-bg-color: #3B4455;\n",
              "      --disabled-fill-color: #666;\n",
              "  }\n",
              "\n",
              "  .colab-df-quickchart {\n",
              "    background-color: var(--bg-color);\n",
              "    border: none;\n",
              "    border-radius: 50%;\n",
              "    cursor: pointer;\n",
              "    display: none;\n",
              "    fill: var(--fill-color);\n",
              "    height: 32px;\n",
              "    padding: 0;\n",
              "    width: 32px;\n",
              "  }\n",
              "\n",
              "  .colab-df-quickchart:hover {\n",
              "    background-color: var(--hover-bg-color);\n",
              "    box-shadow: 0 1px 2px rgba(60, 64, 67, 0.3), 0 1px 3px 1px rgba(60, 64, 67, 0.15);\n",
              "    fill: var(--button-hover-fill-color);\n",
              "  }\n",
              "\n",
              "  .colab-df-quickchart-complete:disabled,\n",
              "  .colab-df-quickchart-complete:disabled:hover {\n",
              "    background-color: var(--disabled-bg-color);\n",
              "    fill: var(--disabled-fill-color);\n",
              "    box-shadow: none;\n",
              "  }\n",
              "\n",
              "  .colab-df-spinner {\n",
              "    border: 2px solid var(--fill-color);\n",
              "    border-color: transparent;\n",
              "    border-bottom-color: var(--fill-color);\n",
              "    animation:\n",
              "      spin 1s steps(1) infinite;\n",
              "  }\n",
              "\n",
              "  @keyframes spin {\n",
              "    0% {\n",
              "      border-color: transparent;\n",
              "      border-bottom-color: var(--fill-color);\n",
              "      border-left-color: var(--fill-color);\n",
              "    }\n",
              "    20% {\n",
              "      border-color: transparent;\n",
              "      border-left-color: var(--fill-color);\n",
              "      border-top-color: var(--fill-color);\n",
              "    }\n",
              "    30% {\n",
              "      border-color: transparent;\n",
              "      border-left-color: var(--fill-color);\n",
              "      border-top-color: var(--fill-color);\n",
              "      border-right-color: var(--fill-color);\n",
              "    }\n",
              "    40% {\n",
              "      border-color: transparent;\n",
              "      border-right-color: var(--fill-color);\n",
              "      border-top-color: var(--fill-color);\n",
              "    }\n",
              "    60% {\n",
              "      border-color: transparent;\n",
              "      border-right-color: var(--fill-color);\n",
              "    }\n",
              "    80% {\n",
              "      border-color: transparent;\n",
              "      border-right-color: var(--fill-color);\n",
              "      border-bottom-color: var(--fill-color);\n",
              "    }\n",
              "    90% {\n",
              "      border-color: transparent;\n",
              "      border-bottom-color: var(--fill-color);\n",
              "    }\n",
              "  }\n",
              "</style>\n",
              "\n",
              "  <script>\n",
              "    async function quickchart(key) {\n",
              "      const quickchartButtonEl =\n",
              "        document.querySelector('#' + key + ' button');\n",
              "      quickchartButtonEl.disabled = true;  // To prevent multiple clicks.\n",
              "      quickchartButtonEl.classList.add('colab-df-spinner');\n",
              "      try {\n",
              "        const charts = await google.colab.kernel.invokeFunction(\n",
              "            'suggestCharts', [key], {});\n",
              "      } catch (error) {\n",
              "        console.error('Error during call to suggestCharts:', error);\n",
              "      }\n",
              "      quickchartButtonEl.classList.remove('colab-df-spinner');\n",
              "      quickchartButtonEl.classList.add('colab-df-quickchart-complete');\n",
              "    }\n",
              "    (() => {\n",
              "      let quickchartButtonEl =\n",
              "        document.querySelector('#df-7a7f5d3c-6505-494d-b29a-e394de5f8d62 button');\n",
              "      quickchartButtonEl.style.display =\n",
              "        google.colab.kernel.accessAllowed ? 'block' : 'none';\n",
              "    })();\n",
              "  </script>\n",
              "</div>\n",
              "\n",
              "    </div>\n",
              "  </div>\n"
            ],
            "application/vnd.google.colaboratory.intrinsic+json": {
              "type": "dataframe",
              "summary": "{\n  \"name\": \"X\",\n  \"rows\": 8,\n  \"fields\": [\n    {\n      \"column\": \"person_age\",\n      \"properties\": {\n        \"dtype\": \"number\",\n        \"std\": 27,\n        \"min\": 80,\n        \"max\": 144,\n        \"num_unique_values\": 5,\n        \"samples\": [\n          144,\n          84,\n          123\n        ],\n        \"semantic_type\": \"\",\n        \"description\": \"\"\n      }\n    },\n    {\n      \"column\": \"person_income\",\n      \"properties\": {\n        \"dtype\": \"number\",\n        \"std\": 2082727,\n        \"min\": 24000,\n        \"max\": 6000000,\n        \"num_unique_values\": 8,\n        \"samples\": [\n          200000,\n          250000,\n          24000\n        ],\n        \"semantic_type\": \"\",\n        \"description\": \"\"\n      }\n    },\n    {\n      \"column\": \"person_home_ownership\",\n      \"properties\": {\n        \"dtype\": \"category\",\n        \"num_unique_values\": 2,\n        \"samples\": [\n          \"MORTGAGE\",\n          \"RENT\"\n        ],\n        \"semantic_type\": \"\",\n        \"description\": \"\"\n      }\n    },\n    {\n      \"column\": \"person_emp_length\",\n      \"properties\": {\n        \"dtype\": \"number\",\n        \"std\": 3.6425069859723185,\n        \"min\": 1.0,\n        \"max\": 12.0,\n        \"num_unique_values\": 5,\n        \"samples\": [\n          4.0,\n          2.0\n        ],\n        \"semantic_type\": \"\",\n        \"description\": \"\"\n      }\n    },\n    {\n      \"column\": \"loan_intent\",\n      \"properties\": {\n        \"dtype\": \"string\",\n        \"num_unique_values\": 4,\n        \"samples\": [\n          \"EDUCATION\",\n          \"PERSONAL\"\n        ],\n        \"semantic_type\": \"\",\n        \"description\": \"\"\n      }\n    },\n    {\n      \"column\": \"loan_grade\",\n      \"properties\": {\n        \"dtype\": \"category\",\n        \"num_unique_values\": 3,\n        \"samples\": [\n          \"C\",\n          \"B\"\n        ],\n        \"semantic_type\": \"\",\n        \"description\": \"\"\n      }\n    },\n    {\n      \"column\": \"loan_amnt\",\n      \"properties\": {\n        \"dtype\": \"number\",\n        \"std\": 6531,\n        \"min\": 4800,\n        \"max\": 20400,\n        \"num_unique_values\": 8,\n        \"samples\": [\n          6000,\n          4800\n        ],\n        \"semantic_type\": \"\",\n        \"description\": \"\"\n      }\n    },\n    {\n      \"column\": \"loan_percent_income\",\n      \"properties\": {\n        \"dtype\": \"number\",\n        \"std\": 0.11382160226801037,\n        \"min\": 0.0,\n        \"max\": 0.27,\n        \"num_unique_values\": 7,\n        \"samples\": [\n          0.27,\n          0.03\n        ],\n        \"semantic_type\": \"\",\n        \"description\": \"\"\n      }\n    },\n    {\n      \"column\": \"cb_person_default_on_file\",\n      \"properties\": {\n        \"dtype\": \"category\",\n        \"num_unique_values\": 1,\n        \"samples\": [\n          \"N\"\n        ],\n        \"semantic_type\": \"\",\n        \"description\": \"\"\n      }\n    },\n    {\n      \"column\": \"cb_person_cred_hist_length\",\n      \"properties\": {\n        \"dtype\": \"number\",\n        \"std\": 11,\n        \"min\": 2,\n        \"max\": 27,\n        \"num_unique_values\": 6,\n        \"samples\": [\n          27\n        ],\n        \"semantic_type\": \"\",\n        \"description\": \"\"\n      }\n    }\n  ]\n}"
            }
          },
          "metadata": {},
          "execution_count": 44
        }
      ],
      "source": [
        "X.loc[X['person_age']>=80, :]"
      ]
    },
    {
      "cell_type": "code",
      "execution_count": 45,
      "metadata": {
        "id": "bVRVQ6gElMYn"
      },
      "outputs": [],
      "source": [
        "X = X.loc[X['person_age']<80, :]"
      ]
    },
    {
      "cell_type": "code",
      "execution_count": 46,
      "metadata": {
        "colab": {
          "base_uri": "https://localhost:8080/",
          "height": 132
        },
        "id": "zvaW7Ra8lQ1m",
        "outputId": "402423cf-f38b-4388-e64c-d0bbe0a952f3"
      },
      "outputs": [
        {
          "output_type": "execute_result",
          "data": {
            "text/plain": [
              "     person_age  person_income person_home_ownership  person_emp_length  \\\n",
              "210          21         192000              MORTGAGE              123.0   \n",
              "0            22          59000                  RENT              123.0   \n",
              "\n",
              "    loan_intent loan_grade  loan_amnt  loan_percent_income  \\\n",
              "210     VENTURE          A      20000                 0.10   \n",
              "0      PERSONAL          D      35000                 0.59   \n",
              "\n",
              "    cb_person_default_on_file  cb_person_cred_hist_length  \n",
              "210                         N                           4  \n",
              "0                           Y                           3  "
            ],
            "text/html": [
              "\n",
              "  <div id=\"df-578b1d75-7e8f-4efd-bae7-cd8a42a19ed7\" class=\"colab-df-container\">\n",
              "    <div>\n",
              "<style scoped>\n",
              "    .dataframe tbody tr th:only-of-type {\n",
              "        vertical-align: middle;\n",
              "    }\n",
              "\n",
              "    .dataframe tbody tr th {\n",
              "        vertical-align: top;\n",
              "    }\n",
              "\n",
              "    .dataframe thead th {\n",
              "        text-align: right;\n",
              "    }\n",
              "</style>\n",
              "<table border=\"1\" class=\"dataframe\">\n",
              "  <thead>\n",
              "    <tr style=\"text-align: right;\">\n",
              "      <th></th>\n",
              "      <th>person_age</th>\n",
              "      <th>person_income</th>\n",
              "      <th>person_home_ownership</th>\n",
              "      <th>person_emp_length</th>\n",
              "      <th>loan_intent</th>\n",
              "      <th>loan_grade</th>\n",
              "      <th>loan_amnt</th>\n",
              "      <th>loan_percent_income</th>\n",
              "      <th>cb_person_default_on_file</th>\n",
              "      <th>cb_person_cred_hist_length</th>\n",
              "    </tr>\n",
              "  </thead>\n",
              "  <tbody>\n",
              "    <tr>\n",
              "      <th>210</th>\n",
              "      <td>21</td>\n",
              "      <td>192000</td>\n",
              "      <td>MORTGAGE</td>\n",
              "      <td>123.0</td>\n",
              "      <td>VENTURE</td>\n",
              "      <td>A</td>\n",
              "      <td>20000</td>\n",
              "      <td>0.10</td>\n",
              "      <td>N</td>\n",
              "      <td>4</td>\n",
              "    </tr>\n",
              "    <tr>\n",
              "      <th>0</th>\n",
              "      <td>22</td>\n",
              "      <td>59000</td>\n",
              "      <td>RENT</td>\n",
              "      <td>123.0</td>\n",
              "      <td>PERSONAL</td>\n",
              "      <td>D</td>\n",
              "      <td>35000</td>\n",
              "      <td>0.59</td>\n",
              "      <td>Y</td>\n",
              "      <td>3</td>\n",
              "    </tr>\n",
              "  </tbody>\n",
              "</table>\n",
              "</div>\n",
              "    <div class=\"colab-df-buttons\">\n",
              "\n",
              "  <div class=\"colab-df-container\">\n",
              "    <button class=\"colab-df-convert\" onclick=\"convertToInteractive('df-578b1d75-7e8f-4efd-bae7-cd8a42a19ed7')\"\n",
              "            title=\"Convert this dataframe to an interactive table.\"\n",
              "            style=\"display:none;\">\n",
              "\n",
              "  <svg xmlns=\"http://www.w3.org/2000/svg\" height=\"24px\" viewBox=\"0 -960 960 960\">\n",
              "    <path d=\"M120-120v-720h720v720H120Zm60-500h600v-160H180v160Zm220 220h160v-160H400v160Zm0 220h160v-160H400v160ZM180-400h160v-160H180v160Zm440 0h160v-160H620v160ZM180-180h160v-160H180v160Zm440 0h160v-160H620v160Z\"/>\n",
              "  </svg>\n",
              "    </button>\n",
              "\n",
              "  <style>\n",
              "    .colab-df-container {\n",
              "      display:flex;\n",
              "      gap: 12px;\n",
              "    }\n",
              "\n",
              "    .colab-df-convert {\n",
              "      background-color: #E8F0FE;\n",
              "      border: none;\n",
              "      border-radius: 50%;\n",
              "      cursor: pointer;\n",
              "      display: none;\n",
              "      fill: #1967D2;\n",
              "      height: 32px;\n",
              "      padding: 0 0 0 0;\n",
              "      width: 32px;\n",
              "    }\n",
              "\n",
              "    .colab-df-convert:hover {\n",
              "      background-color: #E2EBFA;\n",
              "      box-shadow: 0px 1px 2px rgba(60, 64, 67, 0.3), 0px 1px 3px 1px rgba(60, 64, 67, 0.15);\n",
              "      fill: #174EA6;\n",
              "    }\n",
              "\n",
              "    .colab-df-buttons div {\n",
              "      margin-bottom: 4px;\n",
              "    }\n",
              "\n",
              "    [theme=dark] .colab-df-convert {\n",
              "      background-color: #3B4455;\n",
              "      fill: #D2E3FC;\n",
              "    }\n",
              "\n",
              "    [theme=dark] .colab-df-convert:hover {\n",
              "      background-color: #434B5C;\n",
              "      box-shadow: 0px 1px 3px 1px rgba(0, 0, 0, 0.15);\n",
              "      filter: drop-shadow(0px 1px 2px rgba(0, 0, 0, 0.3));\n",
              "      fill: #FFFFFF;\n",
              "    }\n",
              "  </style>\n",
              "\n",
              "    <script>\n",
              "      const buttonEl =\n",
              "        document.querySelector('#df-578b1d75-7e8f-4efd-bae7-cd8a42a19ed7 button.colab-df-convert');\n",
              "      buttonEl.style.display =\n",
              "        google.colab.kernel.accessAllowed ? 'block' : 'none';\n",
              "\n",
              "      async function convertToInteractive(key) {\n",
              "        const element = document.querySelector('#df-578b1d75-7e8f-4efd-bae7-cd8a42a19ed7');\n",
              "        const dataTable =\n",
              "          await google.colab.kernel.invokeFunction('convertToInteractive',\n",
              "                                                    [key], {});\n",
              "        if (!dataTable) return;\n",
              "\n",
              "        const docLinkHtml = 'Like what you see? Visit the ' +\n",
              "          '<a target=\"_blank\" href=https://colab.research.google.com/notebooks/data_table.ipynb>data table notebook</a>'\n",
              "          + ' to learn more about interactive tables.';\n",
              "        element.innerHTML = '';\n",
              "        dataTable['output_type'] = 'display_data';\n",
              "        await google.colab.output.renderOutput(dataTable, element);\n",
              "        const docLink = document.createElement('div');\n",
              "        docLink.innerHTML = docLinkHtml;\n",
              "        element.appendChild(docLink);\n",
              "      }\n",
              "    </script>\n",
              "  </div>\n",
              "\n",
              "\n",
              "<div id=\"df-56217ccc-0bd0-4e18-8f5f-1e6975d16669\">\n",
              "  <button class=\"colab-df-quickchart\" onclick=\"quickchart('df-56217ccc-0bd0-4e18-8f5f-1e6975d16669')\"\n",
              "            title=\"Suggest charts\"\n",
              "            style=\"display:none;\">\n",
              "\n",
              "<svg xmlns=\"http://www.w3.org/2000/svg\" height=\"24px\"viewBox=\"0 0 24 24\"\n",
              "     width=\"24px\">\n",
              "    <g>\n",
              "        <path d=\"M19 3H5c-1.1 0-2 .9-2 2v14c0 1.1.9 2 2 2h14c1.1 0 2-.9 2-2V5c0-1.1-.9-2-2-2zM9 17H7v-7h2v7zm4 0h-2V7h2v10zm4 0h-2v-4h2v4z\"/>\n",
              "    </g>\n",
              "</svg>\n",
              "  </button>\n",
              "\n",
              "<style>\n",
              "  .colab-df-quickchart {\n",
              "      --bg-color: #E8F0FE;\n",
              "      --fill-color: #1967D2;\n",
              "      --hover-bg-color: #E2EBFA;\n",
              "      --hover-fill-color: #174EA6;\n",
              "      --disabled-fill-color: #AAA;\n",
              "      --disabled-bg-color: #DDD;\n",
              "  }\n",
              "\n",
              "  [theme=dark] .colab-df-quickchart {\n",
              "      --bg-color: #3B4455;\n",
              "      --fill-color: #D2E3FC;\n",
              "      --hover-bg-color: #434B5C;\n",
              "      --hover-fill-color: #FFFFFF;\n",
              "      --disabled-bg-color: #3B4455;\n",
              "      --disabled-fill-color: #666;\n",
              "  }\n",
              "\n",
              "  .colab-df-quickchart {\n",
              "    background-color: var(--bg-color);\n",
              "    border: none;\n",
              "    border-radius: 50%;\n",
              "    cursor: pointer;\n",
              "    display: none;\n",
              "    fill: var(--fill-color);\n",
              "    height: 32px;\n",
              "    padding: 0;\n",
              "    width: 32px;\n",
              "  }\n",
              "\n",
              "  .colab-df-quickchart:hover {\n",
              "    background-color: var(--hover-bg-color);\n",
              "    box-shadow: 0 1px 2px rgba(60, 64, 67, 0.3), 0 1px 3px 1px rgba(60, 64, 67, 0.15);\n",
              "    fill: var(--button-hover-fill-color);\n",
              "  }\n",
              "\n",
              "  .colab-df-quickchart-complete:disabled,\n",
              "  .colab-df-quickchart-complete:disabled:hover {\n",
              "    background-color: var(--disabled-bg-color);\n",
              "    fill: var(--disabled-fill-color);\n",
              "    box-shadow: none;\n",
              "  }\n",
              "\n",
              "  .colab-df-spinner {\n",
              "    border: 2px solid var(--fill-color);\n",
              "    border-color: transparent;\n",
              "    border-bottom-color: var(--fill-color);\n",
              "    animation:\n",
              "      spin 1s steps(1) infinite;\n",
              "  }\n",
              "\n",
              "  @keyframes spin {\n",
              "    0% {\n",
              "      border-color: transparent;\n",
              "      border-bottom-color: var(--fill-color);\n",
              "      border-left-color: var(--fill-color);\n",
              "    }\n",
              "    20% {\n",
              "      border-color: transparent;\n",
              "      border-left-color: var(--fill-color);\n",
              "      border-top-color: var(--fill-color);\n",
              "    }\n",
              "    30% {\n",
              "      border-color: transparent;\n",
              "      border-left-color: var(--fill-color);\n",
              "      border-top-color: var(--fill-color);\n",
              "      border-right-color: var(--fill-color);\n",
              "    }\n",
              "    40% {\n",
              "      border-color: transparent;\n",
              "      border-right-color: var(--fill-color);\n",
              "      border-top-color: var(--fill-color);\n",
              "    }\n",
              "    60% {\n",
              "      border-color: transparent;\n",
              "      border-right-color: var(--fill-color);\n",
              "    }\n",
              "    80% {\n",
              "      border-color: transparent;\n",
              "      border-right-color: var(--fill-color);\n",
              "      border-bottom-color: var(--fill-color);\n",
              "    }\n",
              "    90% {\n",
              "      border-color: transparent;\n",
              "      border-bottom-color: var(--fill-color);\n",
              "    }\n",
              "  }\n",
              "</style>\n",
              "\n",
              "  <script>\n",
              "    async function quickchart(key) {\n",
              "      const quickchartButtonEl =\n",
              "        document.querySelector('#' + key + ' button');\n",
              "      quickchartButtonEl.disabled = true;  // To prevent multiple clicks.\n",
              "      quickchartButtonEl.classList.add('colab-df-spinner');\n",
              "      try {\n",
              "        const charts = await google.colab.kernel.invokeFunction(\n",
              "            'suggestCharts', [key], {});\n",
              "      } catch (error) {\n",
              "        console.error('Error during call to suggestCharts:', error);\n",
              "      }\n",
              "      quickchartButtonEl.classList.remove('colab-df-spinner');\n",
              "      quickchartButtonEl.classList.add('colab-df-quickchart-complete');\n",
              "    }\n",
              "    (() => {\n",
              "      let quickchartButtonEl =\n",
              "        document.querySelector('#df-56217ccc-0bd0-4e18-8f5f-1e6975d16669 button');\n",
              "      quickchartButtonEl.style.display =\n",
              "        google.colab.kernel.accessAllowed ? 'block' : 'none';\n",
              "    })();\n",
              "  </script>\n",
              "</div>\n",
              "\n",
              "    </div>\n",
              "  </div>\n"
            ],
            "application/vnd.google.colaboratory.intrinsic+json": {
              "type": "dataframe",
              "summary": "{\n  \"name\": \"X\",\n  \"rows\": 2,\n  \"fields\": [\n    {\n      \"column\": \"person_age\",\n      \"properties\": {\n        \"dtype\": \"number\",\n        \"std\": 0,\n        \"min\": 21,\n        \"max\": 22,\n        \"num_unique_values\": 2,\n        \"samples\": [\n          22,\n          21\n        ],\n        \"semantic_type\": \"\",\n        \"description\": \"\"\n      }\n    },\n    {\n      \"column\": \"person_income\",\n      \"properties\": {\n        \"dtype\": \"number\",\n        \"std\": 94045,\n        \"min\": 59000,\n        \"max\": 192000,\n        \"num_unique_values\": 2,\n        \"samples\": [\n          59000,\n          192000\n        ],\n        \"semantic_type\": \"\",\n        \"description\": \"\"\n      }\n    },\n    {\n      \"column\": \"person_home_ownership\",\n      \"properties\": {\n        \"dtype\": \"string\",\n        \"num_unique_values\": 2,\n        \"samples\": [\n          \"RENT\",\n          \"MORTGAGE\"\n        ],\n        \"semantic_type\": \"\",\n        \"description\": \"\"\n      }\n    },\n    {\n      \"column\": \"person_emp_length\",\n      \"properties\": {\n        \"dtype\": \"number\",\n        \"std\": 0.0,\n        \"min\": 123.0,\n        \"max\": 123.0,\n        \"num_unique_values\": 1,\n        \"samples\": [\n          123.0\n        ],\n        \"semantic_type\": \"\",\n        \"description\": \"\"\n      }\n    },\n    {\n      \"column\": \"loan_intent\",\n      \"properties\": {\n        \"dtype\": \"string\",\n        \"num_unique_values\": 2,\n        \"samples\": [\n          \"PERSONAL\"\n        ],\n        \"semantic_type\": \"\",\n        \"description\": \"\"\n      }\n    },\n    {\n      \"column\": \"loan_grade\",\n      \"properties\": {\n        \"dtype\": \"string\",\n        \"num_unique_values\": 2,\n        \"samples\": [\n          \"D\"\n        ],\n        \"semantic_type\": \"\",\n        \"description\": \"\"\n      }\n    },\n    {\n      \"column\": \"loan_amnt\",\n      \"properties\": {\n        \"dtype\": \"number\",\n        \"std\": 10606,\n        \"min\": 20000,\n        \"max\": 35000,\n        \"num_unique_values\": 2,\n        \"samples\": [\n          35000\n        ],\n        \"semantic_type\": \"\",\n        \"description\": \"\"\n      }\n    },\n    {\n      \"column\": \"loan_percent_income\",\n      \"properties\": {\n        \"dtype\": \"number\",\n        \"std\": 0.3464823227814082,\n        \"min\": 0.1,\n        \"max\": 0.59,\n        \"num_unique_values\": 2,\n        \"samples\": [\n          0.59\n        ],\n        \"semantic_type\": \"\",\n        \"description\": \"\"\n      }\n    },\n    {\n      \"column\": \"cb_person_default_on_file\",\n      \"properties\": {\n        \"dtype\": \"string\",\n        \"num_unique_values\": 2,\n        \"samples\": [\n          \"Y\"\n        ],\n        \"semantic_type\": \"\",\n        \"description\": \"\"\n      }\n    },\n    {\n      \"column\": \"cb_person_cred_hist_length\",\n      \"properties\": {\n        \"dtype\": \"number\",\n        \"std\": 0,\n        \"min\": 3,\n        \"max\": 4,\n        \"num_unique_values\": 2,\n        \"samples\": [\n          3\n        ],\n        \"semantic_type\": \"\",\n        \"description\": \"\"\n      }\n    }\n  ]\n}"
            }
          },
          "metadata": {},
          "execution_count": 46
        }
      ],
      "source": [
        "X.loc[X['person_emp_length']>=60, :]"
      ]
    },
    {
      "cell_type": "code",
      "source": [
        "y = y[X.index]"
      ],
      "metadata": {
        "id": "F6V1fWa1yM1j"
      },
      "execution_count": 47,
      "outputs": []
    },
    {
      "cell_type": "markdown",
      "metadata": {
        "id": "fAGwug8tlUiJ"
      },
      "source": [
        "### Pipelines"
      ]
    },
    {
      "cell_type": "markdown",
      "metadata": {
        "id": "q9ZCvM6Ulhoi"
      },
      "source": [
        "The main pipeline consists of two distinct stages tailored for preprocessing numerical and categorical variables, respectively:\n",
        "\n",
        "For Numerical Variables:\n",
        "\n",
        "Iterative Imputer: This step employs iterative imputation to handle missing values within numerical features, ensuring comprehensive data integrity.\n",
        "Scaling: Subsequently, scaling techniques are applied to maintain consistent scales among numerical features, which aids in model convergence and performance.\n",
        "For Categorical Variables:\n",
        "\n",
        "One-Hot Encoder: Categorical variables undergo one-hot encoding, enabling the transformation of each categorical feature into a binary format for enhanced model interpretability.\n",
        "Finally, to address the imbalance in the dataset, the Synthetic Minority Over-sampling Technique (SMOTE) is employed. SMOTE generates synthetic samples to rebalance the class distribution, thereby mitigating the effects of data skewness and enhancing the predictive capability of the model."
      ]
    },
    {
      "cell_type": "code",
      "execution_count": 48,
      "metadata": {
        "id": "EA0ewpX7nbzv"
      },
      "outputs": [],
      "source": [
        "# Creating a pipeline for numerical columns:\n",
        "num_pipe = Pipeline([\n",
        "    ('impute', IterativeImputer()),     # MICE (Multivariate Imputation by Chained Equations)\n",
        "    ('scale', StandardScaler()),\n",
        "])\n",
        "\n",
        "# Using the Column Transformer class for binding the above numeric pipeline and the preprocessing steps of categorical columns:\n",
        "ct = ColumnTransformer([\n",
        "    ('num_pipe', num_pipe, make_column_selector(dtype_include=np.number)),\n",
        "    ('cat_cols', OneHotEncoder(handle_unknown='ignore'), make_column_selector(dtype_include=object))\n",
        "], remainder='passthrough')\n",
        "\n",
        "# Setting up the models to be tested upon and the parameters for their pipelines:\n",
        "grid = {\n",
        "    XGBClassifier():\n",
        "    {'model__n_estimators':[i*100 for i in range(10)],\n",
        "     'model__max_depth':[6,8,10,12,14,16],\n",
        "     'model__learning_rate':[0.01, 0.05, 0.1, 0.15, 0.2, 0.3],\n",
        "     'coltf__num_pipe__impute__estimator':[LinearRegression(), RandomForestRegressor(random_state=0),\n",
        "                                            KNeighborsRegressor()]},\n",
        "\n",
        "    LGBMClassifier(class_weight='balanced', random_state=0):\n",
        "    {'model__n_estimators':[300,400,500],\n",
        "     'model__learning_rate':[0.001,0.01,0.1,1,10],\n",
        "     'model__boosting_type': ['gbdt', 'goss', 'dart'],\n",
        "     'coltf__num_pipe__impute__estimator':[LinearRegression(), RandomForestRegressor(random_state=0),\n",
        "                                            KNeighborsRegressor()]}\n",
        "}\n"
      ]
    },
    {
      "cell_type": "markdown",
      "metadata": {
        "id": "bmiKu0ZWogUf"
      },
      "source": [
        "**Hyperparameter tuning** is the process of selecting the optimal set of hyperparameter values for a machine learning model. Hyperparameters are settings that are external to the model and cannot be learned from data.\n",
        "\n",
        "Tuning hyperparameters is crucial because they control aspects of the model's training process and complexity, significantly impacting its performance.\n",
        "\n",
        "Common techniques for hyperparameter tuning include:\n",
        "\n",
        "**Grid search** - Exhaustively searches a manually specified subset of hyperparameter combinations.\n",
        "\n",
        "**Random search**- Randomly samples hyperparameter values from predefined distributions.\n",
        "\n",
        "**Bayesian optimization** - Builds a probabilistic model to intelligently explore the hyperparameter space.\n",
        "\n",
        "**Gradient-based methods** - Use gradients of the objective function to optimize hyperparameters."
      ]
    },
    {
      "cell_type": "code",
      "execution_count": 49,
      "metadata": {
        "colab": {
          "base_uri": "https://localhost:8080/"
        },
        "id": "oWahe1FjoBOV",
        "outputId": "83b50eb4-8c4b-4dc1-cc0c-fc3eec544848"
      },
      "outputs": [
        {
          "output_type": "stream",
          "name": "stdout",
          "text": [
            "1. XGBClassifier(base_score=None, booster=None, callbacks=None,\n",
            "              colsample_bylevel=None, colsample_bynode=None,\n",
            "              colsample_bytree=None, device=None, early_stopping_rounds=None,\n",
            "              enable_categorical=False, eval_metric=None, feature_types=None,\n",
            "              gamma=None, grow_policy=None, importance_type=None,\n",
            "              interaction_constraints=None, learning_rate=None, max_bin=None,\n",
            "              max_cat_threshold=None, max_cat_to_onehot=None,\n",
            "              max_delta_step=None, max_depth=None, max_leaves=None,\n",
            "              min_child_weight=None, missing=nan, monotone_constraints=None,\n",
            "              multi_strategy=None, n_estimators=None, n_jobs=None,\n",
            "              num_parallel_tree=None, random_state=None, ...)\n",
            "\n",
            "List of Hyperparameters: {'model__n_estimators': [0, 100, 200, 300, 400, 500, 600, 700, 800, 900], 'model__max_depth': [6, 8, 10, 12, 14, 16], 'model__learning_rate': [0.01, 0.05, 0.1, 0.15, 0.2, 0.3], 'coltf__num_pipe__impute__estimator': [LinearRegression(), RandomForestRegressor(random_state=0), KNeighborsRegressor()]}\n",
            "\n",
            "--------------------------------------------------\n",
            "2. LGBMClassifier(class_weight='balanced', random_state=0)\n",
            "\n",
            "List of Hyperparameters: {'model__n_estimators': [300, 400, 500], 'model__learning_rate': [0.001, 0.01, 0.1, 1, 10], 'model__boosting_type': ['gbdt', 'goss', 'dart'], 'coltf__num_pipe__impute__estimator': [LinearRegression(), RandomForestRegressor(random_state=0), KNeighborsRegressor()]}\n",
            "\n",
            "--------------------------------------------------\n"
          ]
        }
      ],
      "source": [
        "for i, (clf, param) in enumerate(grid.items(), 1):\n",
        "    print(f\"{i}. {clf}\\n\")\n",
        "    print(f\"List of Hyperparameters: {param}\\n\")\n",
        "    print('-' * 50)\n"
      ]
    },
    {
      "cell_type": "markdown",
      "metadata": {
        "id": "juEenfxqriqG"
      },
      "source": [
        "## DataFrame full_df to store the results of each model's hyperparameter tuning.\n",
        "It also initializes an empty dictionary best_algos to store the best models found during hyperparameter tuning. The loop iterates over each model and its corresponding hyperparameter grid in the grid dictionary.\n",
        "\n",
        "**Inside the loop:**\n",
        "\n",
        "SMOTE is initialized for oversampling.\n",
        "\n",
        "A pipeline is created with preprocessing steps, SMOTE for oversampling, and the model.\n",
        "\n",
        "Randomized SearchCV is used to find the best hyperparameters for the current model.\n",
        "\n",
        "Results are stored in a DataFrame all_res.\n",
        "\n",
        "Relevant columns (params and mean_test_score) are extracted from all_res and concatenated to full_df.\n",
        "\n",
        "The best estimator for the current model is stored in the best_algos dictionary.\n",
        "Finally, full_df contains the results of hyperparameter tuning for all models, and best_algos contains the best models found for each algorithm"
      ]
    },
    {
      "cell_type": "code",
      "execution_count": 50,
      "metadata": {
        "colab": {
          "base_uri": "https://localhost:8080/"
        },
        "id": "lzTV47bQsH9J",
        "outputId": "c46e5be1-57fe-44be-c691-d39606452965"
      },
      "outputs": [
        {
          "output_type": "stream",
          "name": "stdout",
          "text": [
            "Training XGBClassifier(base_score=None, booster=None, callbacks=None,\n",
            "              colsample_bylevel=None, colsample_bynode=None,\n",
            "              colsample_bytree=None, device=None, early_stopping_rounds=None,\n",
            "              enable_categorical=False, eval_metric=None, feature_types=None,\n",
            "              gamma=None, grow_policy=None, importance_type=None,\n",
            "              interaction_constraints=None, learning_rate=None, max_bin=None,\n",
            "              max_cat_threshold=None, max_cat_to_onehot=None,\n",
            "              max_delta_step=None, max_depth=None, max_leaves=None,\n",
            "              min_child_weight=None, missing=nan, monotone_constraints=None,\n",
            "              multi_strategy=None, n_estimators=None, n_jobs=None,\n",
            "              num_parallel_tree=None, random_state=None, ...)!!\n",
            "\n",
            "Fitting!!\n",
            "\n",
            "Fitting 5 folds for each of 4 candidates, totalling 20 fits\n",
            "[CV 1/5] END coltf__num_pipe__impute__estimator=RandomForestRegressor(random_state=0), model__learning_rate=0.3, model__max_depth=10, model__n_estimators=400;, score=0.933 total time=  51.1s\n",
            "[CV 2/5] END coltf__num_pipe__impute__estimator=RandomForestRegressor(random_state=0), model__learning_rate=0.3, model__max_depth=10, model__n_estimators=400;, score=0.926 total time=  49.9s\n",
            "[CV 3/5] END coltf__num_pipe__impute__estimator=RandomForestRegressor(random_state=0), model__learning_rate=0.3, model__max_depth=10, model__n_estimators=400;, score=0.931 total time=  49.8s\n",
            "[CV 4/5] END coltf__num_pipe__impute__estimator=RandomForestRegressor(random_state=0), model__learning_rate=0.3, model__max_depth=10, model__n_estimators=400;, score=0.930 total time=  51.8s\n",
            "[CV 5/5] END coltf__num_pipe__impute__estimator=RandomForestRegressor(random_state=0), model__learning_rate=0.3, model__max_depth=10, model__n_estimators=400;, score=0.930 total time=  49.1s\n",
            "[CV 1/5] END coltf__num_pipe__impute__estimator=RandomForestRegressor(random_state=0), model__learning_rate=0.15, model__max_depth=8, model__n_estimators=900;, score=0.930 total time=  54.1s\n",
            "[CV 2/5] END coltf__num_pipe__impute__estimator=RandomForestRegressor(random_state=0), model__learning_rate=0.15, model__max_depth=8, model__n_estimators=900;, score=0.930 total time=  56.2s\n",
            "[CV 3/5] END coltf__num_pipe__impute__estimator=RandomForestRegressor(random_state=0), model__learning_rate=0.15, model__max_depth=8, model__n_estimators=900;, score=0.931 total time=  56.5s\n",
            "[CV 4/5] END coltf__num_pipe__impute__estimator=RandomForestRegressor(random_state=0), model__learning_rate=0.15, model__max_depth=8, model__n_estimators=900;, score=0.934 total time=  57.0s\n",
            "[CV 5/5] END coltf__num_pipe__impute__estimator=RandomForestRegressor(random_state=0), model__learning_rate=0.15, model__max_depth=8, model__n_estimators=900;, score=0.932 total time=  54.8s\n",
            "[CV 1/5] END coltf__num_pipe__impute__estimator=KNeighborsRegressor(), model__learning_rate=0.05, model__max_depth=16, model__n_estimators=500;, score=0.932 total time=  22.9s\n",
            "[CV 2/5] END coltf__num_pipe__impute__estimator=KNeighborsRegressor(), model__learning_rate=0.05, model__max_depth=16, model__n_estimators=500;, score=0.927 total time=  23.0s\n",
            "[CV 3/5] END coltf__num_pipe__impute__estimator=KNeighborsRegressor(), model__learning_rate=0.05, model__max_depth=16, model__n_estimators=500;, score=0.932 total time=  21.0s\n",
            "[CV 4/5] END coltf__num_pipe__impute__estimator=KNeighborsRegressor(), model__learning_rate=0.05, model__max_depth=16, model__n_estimators=500;, score=0.933 total time=  22.7s\n",
            "[CV 5/5] END coltf__num_pipe__impute__estimator=KNeighborsRegressor(), model__learning_rate=0.05, model__max_depth=16, model__n_estimators=500;, score=0.932 total time=  20.8s\n",
            "[CV 1/5] END coltf__num_pipe__impute__estimator=KNeighborsRegressor(), model__learning_rate=0.01, model__max_depth=14, model__n_estimators=300;, score=0.925 total time=  16.2s\n",
            "[CV 2/5] END coltf__num_pipe__impute__estimator=KNeighborsRegressor(), model__learning_rate=0.01, model__max_depth=14, model__n_estimators=300;, score=0.925 total time=  21.1s\n",
            "[CV 3/5] END coltf__num_pipe__impute__estimator=KNeighborsRegressor(), model__learning_rate=0.01, model__max_depth=14, model__n_estimators=300;, score=0.932 total time=  18.2s\n",
            "[CV 4/5] END coltf__num_pipe__impute__estimator=KNeighborsRegressor(), model__learning_rate=0.01, model__max_depth=14, model__n_estimators=300;, score=0.930 total time=  18.7s\n",
            "[CV 5/5] END coltf__num_pipe__impute__estimator=KNeighborsRegressor(), model__learning_rate=0.01, model__max_depth=14, model__n_estimators=300;, score=0.930 total time=  16.9s\n",
            "Gathering Results!!\n",
            "\n",
            "Training LGBMClassifier(class_weight='balanced', random_state=0)!!\n",
            "\n",
            "Fitting!!\n",
            "\n",
            "Fitting 5 folds for each of 4 candidates, totalling 20 fits\n",
            "[LightGBM] [Info] Number of positive: 16296, number of negative: 16296\n",
            "[LightGBM] [Info] Auto-choosing row-wise multi-threading, the overhead of testing was 0.010211 seconds.\n",
            "You can set `force_row_wise=true` to remove the overhead.\n",
            "And if memory is not enough, you can set `force_col_wise=true`.\n",
            "[LightGBM] [Info] Total Bins 5542\n",
            "[LightGBM] [Info] Number of data points in the train set: 32592, number of used features: 25\n",
            "[LightGBM] [Info] [binary:BoostFromScore]: pavg=0.500000 -> initscore=0.000000\n",
            "[CV 1/5] END coltf__num_pipe__impute__estimator=KNeighborsRegressor(), model__boosting_type=dart, model__learning_rate=0.001, model__n_estimators=300;, score=0.906 total time=  16.9s\n",
            "[LightGBM] [Info] Number of positive: 16296, number of negative: 16296\n",
            "[LightGBM] [Info] Auto-choosing row-wise multi-threading, the overhead of testing was 0.009280 seconds.\n",
            "You can set `force_row_wise=true` to remove the overhead.\n",
            "And if memory is not enough, you can set `force_col_wise=true`.\n",
            "[LightGBM] [Info] Total Bins 5549\n",
            "[LightGBM] [Info] Number of data points in the train set: 32592, number of used features: 25\n",
            "[LightGBM] [Info] [binary:BoostFromScore]: pavg=0.500000 -> initscore=0.000000\n",
            "[CV 2/5] END coltf__num_pipe__impute__estimator=KNeighborsRegressor(), model__boosting_type=dart, model__learning_rate=0.001, model__n_estimators=300;, score=0.910 total time=  16.2s\n",
            "[LightGBM] [Info] Number of positive: 16296, number of negative: 16296\n",
            "[LightGBM] [Info] Auto-choosing row-wise multi-threading, the overhead of testing was 0.008363 seconds.\n",
            "You can set `force_row_wise=true` to remove the overhead.\n",
            "And if memory is not enough, you can set `force_col_wise=true`.\n",
            "[LightGBM] [Info] Total Bins 5636\n",
            "[LightGBM] [Info] Number of data points in the train set: 32592, number of used features: 25\n",
            "[LightGBM] [Info] [binary:BoostFromScore]: pavg=0.500000 -> initscore=0.000000\n",
            "[CV 3/5] END coltf__num_pipe__impute__estimator=KNeighborsRegressor(), model__boosting_type=dart, model__learning_rate=0.001, model__n_estimators=300;, score=0.913 total time=  15.3s\n",
            "[LightGBM] [Info] Number of positive: 16296, number of negative: 16296\n",
            "[LightGBM] [Info] Auto-choosing row-wise multi-threading, the overhead of testing was 0.010492 seconds.\n",
            "You can set `force_row_wise=true` to remove the overhead.\n",
            "And if memory is not enough, you can set `force_col_wise=true`.\n",
            "[LightGBM] [Info] Total Bins 5538\n",
            "[LightGBM] [Info] Number of data points in the train set: 32592, number of used features: 25\n",
            "[LightGBM] [Info] [binary:BoostFromScore]: pavg=0.500000 -> initscore=0.000000\n",
            "[CV 4/5] END coltf__num_pipe__impute__estimator=KNeighborsRegressor(), model__boosting_type=dart, model__learning_rate=0.001, model__n_estimators=300;, score=0.911 total time=  16.7s\n",
            "[LightGBM] [Info] Number of positive: 16296, number of negative: 16296\n",
            "[LightGBM] [Info] Auto-choosing row-wise multi-threading, the overhead of testing was 0.015853 seconds.\n",
            "You can set `force_row_wise=true` to remove the overhead.\n",
            "And if memory is not enough, you can set `force_col_wise=true`.\n",
            "[LightGBM] [Info] Total Bins 5547\n",
            "[LightGBM] [Info] Number of data points in the train set: 32592, number of used features: 25\n",
            "[LightGBM] [Info] [binary:BoostFromScore]: pavg=0.500000 -> initscore=0.000000\n",
            "[CV 5/5] END coltf__num_pipe__impute__estimator=KNeighborsRegressor(), model__boosting_type=dart, model__learning_rate=0.001, model__n_estimators=300;, score=0.916 total time=  17.4s\n",
            "[LightGBM] [Info] Number of positive: 16296, number of negative: 16296\n",
            "[LightGBM] [Info] Auto-choosing row-wise multi-threading, the overhead of testing was 0.010269 seconds.\n",
            "You can set `force_row_wise=true` to remove the overhead.\n",
            "And if memory is not enough, you can set `force_col_wise=true`.\n",
            "[LightGBM] [Info] Total Bins 5543\n",
            "[LightGBM] [Info] Number of data points in the train set: 32592, number of used features: 25\n",
            "[LightGBM] [Info] [binary:BoostFromScore]: pavg=0.500000 -> initscore=0.000000\n",
            "[CV 1/5] END coltf__num_pipe__impute__estimator=LinearRegression(), model__boosting_type=dart, model__learning_rate=0.01, model__n_estimators=300;, score=0.915 total time=  16.1s\n",
            "[LightGBM] [Info] Number of positive: 16296, number of negative: 16296\n",
            "[LightGBM] [Info] Auto-choosing row-wise multi-threading, the overhead of testing was 0.009076 seconds.\n",
            "You can set `force_row_wise=true` to remove the overhead.\n",
            "And if memory is not enough, you can set `force_col_wise=true`.\n",
            "[LightGBM] [Info] Total Bins 5550\n",
            "[LightGBM] [Info] Number of data points in the train set: 32592, number of used features: 25\n",
            "[LightGBM] [Info] [binary:BoostFromScore]: pavg=0.500000 -> initscore=0.000000\n",
            "[CV 2/5] END coltf__num_pipe__impute__estimator=LinearRegression(), model__boosting_type=dart, model__learning_rate=0.01, model__n_estimators=300;, score=0.916 total time=  18.1s\n",
            "[LightGBM] [Info] Number of positive: 16296, number of negative: 16296\n",
            "[LightGBM] [Info] Auto-choosing row-wise multi-threading, the overhead of testing was 0.009437 seconds.\n",
            "You can set `force_row_wise=true` to remove the overhead.\n",
            "And if memory is not enough, you can set `force_col_wise=true`.\n",
            "[LightGBM] [Info] Total Bins 5548\n",
            "[LightGBM] [Info] Number of data points in the train set: 32592, number of used features: 25\n",
            "[LightGBM] [Info] [binary:BoostFromScore]: pavg=0.500000 -> initscore=0.000000\n",
            "[CV 3/5] END coltf__num_pipe__impute__estimator=LinearRegression(), model__boosting_type=dart, model__learning_rate=0.01, model__n_estimators=300;, score=0.913 total time=  15.9s\n",
            "[LightGBM] [Info] Number of positive: 16296, number of negative: 16296\n",
            "[LightGBM] [Info] Auto-choosing row-wise multi-threading, the overhead of testing was 0.009332 seconds.\n",
            "You can set `force_row_wise=true` to remove the overhead.\n",
            "And if memory is not enough, you can set `force_col_wise=true`.\n",
            "[LightGBM] [Info] Total Bins 5537\n",
            "[LightGBM] [Info] Number of data points in the train set: 32592, number of used features: 25\n",
            "[LightGBM] [Info] [binary:BoostFromScore]: pavg=0.500000 -> initscore=0.000000\n",
            "[CV 4/5] END coltf__num_pipe__impute__estimator=LinearRegression(), model__boosting_type=dart, model__learning_rate=0.01, model__n_estimators=300;, score=0.911 total time=  16.1s\n",
            "[LightGBM] [Info] Number of positive: 16296, number of negative: 16296\n",
            "[LightGBM] [Info] Auto-choosing row-wise multi-threading, the overhead of testing was 0.009491 seconds.\n",
            "You can set `force_row_wise=true` to remove the overhead.\n",
            "And if memory is not enough, you can set `force_col_wise=true`.\n",
            "[LightGBM] [Info] Total Bins 5548\n",
            "[LightGBM] [Info] Number of data points in the train set: 32592, number of used features: 25\n",
            "[LightGBM] [Info] [binary:BoostFromScore]: pavg=0.500000 -> initscore=0.000000\n",
            "[CV 5/5] END coltf__num_pipe__impute__estimator=LinearRegression(), model__boosting_type=dart, model__learning_rate=0.01, model__n_estimators=300;, score=0.918 total time=  16.3s\n",
            "[LightGBM] [Info] Number of positive: 16296, number of negative: 16296\n",
            "[LightGBM] [Info] Auto-choosing row-wise multi-threading, the overhead of testing was 0.009484 seconds.\n",
            "You can set `force_row_wise=true` to remove the overhead.\n",
            "And if memory is not enough, you can set `force_col_wise=true`.\n",
            "[LightGBM] [Info] Total Bins 5542\n",
            "[LightGBM] [Info] Number of data points in the train set: 32592, number of used features: 25\n",
            "[LightGBM] [Info] [binary:BoostFromScore]: pavg=0.500000 -> initscore=0.000000\n",
            "[CV 1/5] END coltf__num_pipe__impute__estimator=RandomForestRegressor(random_state=0), model__boosting_type=gbdt, model__learning_rate=0.001, model__n_estimators=300;, score=0.917 total time=  44.8s\n",
            "[LightGBM] [Info] Number of positive: 16296, number of negative: 16296\n",
            "[LightGBM] [Info] Auto-choosing row-wise multi-threading, the overhead of testing was 0.011991 seconds.\n",
            "You can set `force_row_wise=true` to remove the overhead.\n",
            "And if memory is not enough, you can set `force_col_wise=true`.\n",
            "[LightGBM] [Info] Total Bins 5548\n",
            "[LightGBM] [Info] Number of data points in the train set: 32592, number of used features: 25\n",
            "[LightGBM] [Info] [binary:BoostFromScore]: pavg=0.500000 -> initscore=0.000000\n",
            "[CV 2/5] END coltf__num_pipe__impute__estimator=RandomForestRegressor(random_state=0), model__boosting_type=gbdt, model__learning_rate=0.001, model__n_estimators=300;, score=0.918 total time=  48.0s\n",
            "[LightGBM] [Info] Number of positive: 16296, number of negative: 16296\n",
            "[LightGBM] [Info] Auto-choosing row-wise multi-threading, the overhead of testing was 0.008780 seconds.\n",
            "You can set `force_row_wise=true` to remove the overhead.\n",
            "And if memory is not enough, you can set `force_col_wise=true`.\n",
            "[LightGBM] [Info] Total Bins 5548\n",
            "[LightGBM] [Info] Number of data points in the train set: 32592, number of used features: 25\n",
            "[LightGBM] [Info] [binary:BoostFromScore]: pavg=0.500000 -> initscore=0.000000\n",
            "[CV 3/5] END coltf__num_pipe__impute__estimator=RandomForestRegressor(random_state=0), model__boosting_type=gbdt, model__learning_rate=0.001, model__n_estimators=300;, score=0.913 total time=  43.5s\n",
            "[LightGBM] [Info] Number of positive: 16296, number of negative: 16296\n",
            "[LightGBM] [Info] Auto-choosing row-wise multi-threading, the overhead of testing was 0.009361 seconds.\n",
            "You can set `force_row_wise=true` to remove the overhead.\n",
            "And if memory is not enough, you can set `force_col_wise=true`.\n",
            "[LightGBM] [Info] Total Bins 5537\n",
            "[LightGBM] [Info] Number of data points in the train set: 32592, number of used features: 25\n",
            "[LightGBM] [Info] [binary:BoostFromScore]: pavg=0.500000 -> initscore=0.000000\n",
            "[CV 4/5] END coltf__num_pipe__impute__estimator=RandomForestRegressor(random_state=0), model__boosting_type=gbdt, model__learning_rate=0.001, model__n_estimators=300;, score=0.912 total time=  43.3s\n",
            "[LightGBM] [Info] Number of positive: 16296, number of negative: 16296\n",
            "[LightGBM] [Info] Auto-choosing row-wise multi-threading, the overhead of testing was 0.010311 seconds.\n",
            "You can set `force_row_wise=true` to remove the overhead.\n",
            "And if memory is not enough, you can set `force_col_wise=true`.\n",
            "[LightGBM] [Info] Total Bins 5546\n",
            "[LightGBM] [Info] Number of data points in the train set: 32592, number of used features: 25\n",
            "[LightGBM] [Info] [binary:BoostFromScore]: pavg=0.500000 -> initscore=0.000000\n",
            "[CV 5/5] END coltf__num_pipe__impute__estimator=RandomForestRegressor(random_state=0), model__boosting_type=gbdt, model__learning_rate=0.001, model__n_estimators=300;, score=0.917 total time=  44.9s\n",
            "[LightGBM] [Info] Number of positive: 16296, number of negative: 16296\n",
            "[LightGBM] [Info] Auto-choosing row-wise multi-threading, the overhead of testing was 0.009446 seconds.\n",
            "You can set `force_row_wise=true` to remove the overhead.\n",
            "And if memory is not enough, you can set `force_col_wise=true`.\n",
            "[LightGBM] [Info] Total Bins 5542\n",
            "[LightGBM] [Info] Number of data points in the train set: 32592, number of used features: 25\n",
            "[LightGBM] [Info] [binary:BoostFromScore]: pavg=0.500000 -> initscore=0.000000\n",
            "[CV 1/5] END coltf__num_pipe__impute__estimator=KNeighborsRegressor(), model__boosting_type=dart, model__learning_rate=0.1, model__n_estimators=300;, score=0.937 total time=  15.5s\n",
            "[LightGBM] [Info] Number of positive: 16296, number of negative: 16296\n",
            "[LightGBM] [Info] Auto-choosing row-wise multi-threading, the overhead of testing was 0.009424 seconds.\n",
            "You can set `force_row_wise=true` to remove the overhead.\n",
            "And if memory is not enough, you can set `force_col_wise=true`.\n",
            "[LightGBM] [Info] Total Bins 5549\n",
            "[LightGBM] [Info] Number of data points in the train set: 32592, number of used features: 25\n",
            "[LightGBM] [Info] [binary:BoostFromScore]: pavg=0.500000 -> initscore=0.000000\n",
            "[CV 2/5] END coltf__num_pipe__impute__estimator=KNeighborsRegressor(), model__boosting_type=dart, model__learning_rate=0.1, model__n_estimators=300;, score=0.932 total time=  16.5s\n",
            "[LightGBM] [Info] Number of positive: 16296, number of negative: 16296\n",
            "[LightGBM] [Info] Auto-choosing row-wise multi-threading, the overhead of testing was 0.008482 seconds.\n",
            "You can set `force_row_wise=true` to remove the overhead.\n",
            "And if memory is not enough, you can set `force_col_wise=true`.\n",
            "[LightGBM] [Info] Total Bins 5636\n",
            "[LightGBM] [Info] Number of data points in the train set: 32592, number of used features: 25\n",
            "[LightGBM] [Info] [binary:BoostFromScore]: pavg=0.500000 -> initscore=0.000000\n",
            "[CV 3/5] END coltf__num_pipe__impute__estimator=KNeighborsRegressor(), model__boosting_type=dart, model__learning_rate=0.1, model__n_estimators=300;, score=0.937 total time=  15.4s\n",
            "[LightGBM] [Info] Number of positive: 16296, number of negative: 16296\n",
            "[LightGBM] [Info] Auto-choosing row-wise multi-threading, the overhead of testing was 0.009503 seconds.\n",
            "You can set `force_row_wise=true` to remove the overhead.\n",
            "And if memory is not enough, you can set `force_col_wise=true`.\n",
            "[LightGBM] [Info] Total Bins 5538\n",
            "[LightGBM] [Info] Number of data points in the train set: 32592, number of used features: 25\n",
            "[LightGBM] [Info] [binary:BoostFromScore]: pavg=0.500000 -> initscore=0.000000\n",
            "[CV 4/5] END coltf__num_pipe__impute__estimator=KNeighborsRegressor(), model__boosting_type=dart, model__learning_rate=0.1, model__n_estimators=300;, score=0.938 total time=  15.6s\n",
            "[LightGBM] [Info] Number of positive: 16296, number of negative: 16296\n",
            "[LightGBM] [Info] Auto-choosing row-wise multi-threading, the overhead of testing was 0.009286 seconds.\n",
            "You can set `force_row_wise=true` to remove the overhead.\n",
            "And if memory is not enough, you can set `force_col_wise=true`.\n",
            "[LightGBM] [Info] Total Bins 5547\n",
            "[LightGBM] [Info] Number of data points in the train set: 32592, number of used features: 25\n",
            "[LightGBM] [Info] [binary:BoostFromScore]: pavg=0.500000 -> initscore=0.000000\n",
            "[CV 5/5] END coltf__num_pipe__impute__estimator=KNeighborsRegressor(), model__boosting_type=dart, model__learning_rate=0.1, model__n_estimators=300;, score=0.932 total time=  15.7s\n",
            "[LightGBM] [Info] Number of positive: 20370, number of negative: 20370\n",
            "[LightGBM] [Info] Auto-choosing row-wise multi-threading, the overhead of testing was 0.014639 seconds.\n",
            "You can set `force_row_wise=true` to remove the overhead.\n",
            "And if memory is not enough, you can set `force_col_wise=true`.\n",
            "[LightGBM] [Info] Total Bins 5694\n",
            "[LightGBM] [Info] Number of data points in the train set: 40740, number of used features: 25\n",
            "[LightGBM] [Info] [binary:BoostFromScore]: pavg=0.500000 -> initscore=0.000000\n",
            "Gathering Results!!\n",
            "\n"
          ]
        }
      ],
      "source": [
        "from sklearn.model_selection import RandomizedSearchCV\n",
        "from imblearn.over_sampling import SMOTE\n",
        "\n",
        "# Create an empty DataFrame to store results\n",
        "full_df = pd.DataFrame()\n",
        "\n",
        "# Dictionary to store the best models\n",
        "best_algos = {}\n",
        "\n",
        "# Changing the ordering of the columns for ease of understanding\n",
        "X = X[X.select_dtypes(include=[np.number]).columns.append(X.select_dtypes(\"O\").columns)]\n",
        "\n",
        "# Loop through each model and its parameters in the grid\n",
        "for model, param in grid.items():\n",
        "    # Initialize SMOTE for oversampling\n",
        "    smt = SMOTE(random_state=42)\n",
        "\n",
        "    # Create a pipeline for preprocessing, SMOTE, and the model\n",
        "    pipe = Pipeline([\n",
        "        ('coltf', ct),  # Column transformer for preprocessing\n",
        "        ('smote', smt),  # SMOTE for oversampling\n",
        "        ('model', model)  # Model to train\n",
        "    ])\n",
        "\n",
        "    print(f\"Training {model}!!\\n\")\n",
        "\n",
        "    # Conduct Randomized Search to find the best hyperparameters\n",
        "    gs = RandomizedSearchCV(estimator=pipe, param_distributions=param, scoring='accuracy', verbose=3, n_iter=4, random_state=0)\n",
        "\n",
        "    print(\"Fitting!!\\n\")\n",
        "    gs.fit(X, y)\n",
        "\n",
        "    print(\"Gathering Results!!\\n\")\n",
        "\n",
        "    # Extract results and store in DataFrame\n",
        "    all_res = pd.DataFrame(gs.cv_results_)\n",
        "    temp = all_res.loc[:, ['params', 'mean_test_score']]\n",
        "    algo_name = str(model).split('(')[0]  # Extract the name of the algorithm\n",
        "    temp['algo'] = algo_name\n",
        "\n",
        "    # Concatenate results to full DataFrame\n",
        "    full_df = pd.concat([full_df, temp], ignore_index=True)\n",
        "\n",
        "    # Store the best estimator for each algorithm\n",
        "    best_algos[algo_name] = gs.best_estimator_\n"
      ]
    },
    {
      "cell_type": "code",
      "source": [
        "full_df.sort_values('mean_test_score', ascending=False)\n",
        "\n"
      ],
      "metadata": {
        "id": "4JZFP_7v3wWt",
        "colab": {
          "base_uri": "https://localhost:8080/",
          "height": 439
        },
        "outputId": "bb0d7617-d658-4f80-f823-6d3715d9f81a"
      },
      "execution_count": 51,
      "outputs": [
        {
          "output_type": "execute_result",
          "data": {
            "text/plain": [
              "                                              params  mean_test_score  \\\n",
              "7  {'model__n_estimators': 300, 'model__learning_...         0.935447   \n",
              "1  {'model__n_estimators': 900, 'model__max_depth...         0.931494   \n",
              "2  {'model__n_estimators': 500, 'model__max_depth...         0.931033   \n",
              "0  {'model__n_estimators': 400, 'model__max_depth...         0.929997   \n",
              "3  {'model__n_estimators': 300, 'model__max_depth...         0.928232   \n",
              "6  {'model__n_estimators': 300, 'model__learning_...         0.915605   \n",
              "5  {'model__n_estimators': 300, 'model__learning_...         0.914607   \n",
              "4  {'model__n_estimators': 300, 'model__learning_...         0.911422   \n",
              "\n",
              "             algo  \n",
              "7  LGBMClassifier  \n",
              "1   XGBClassifier  \n",
              "2   XGBClassifier  \n",
              "0   XGBClassifier  \n",
              "3   XGBClassifier  \n",
              "6  LGBMClassifier  \n",
              "5  LGBMClassifier  \n",
              "4  LGBMClassifier  "
            ],
            "text/html": [
              "\n",
              "  <div id=\"df-20dde45f-25c9-430a-8f2a-a929953b8b92\" class=\"colab-df-container\">\n",
              "    <div>\n",
              "<style scoped>\n",
              "    .dataframe tbody tr th:only-of-type {\n",
              "        vertical-align: middle;\n",
              "    }\n",
              "\n",
              "    .dataframe tbody tr th {\n",
              "        vertical-align: top;\n",
              "    }\n",
              "\n",
              "    .dataframe thead th {\n",
              "        text-align: right;\n",
              "    }\n",
              "</style>\n",
              "<table border=\"1\" class=\"dataframe\">\n",
              "  <thead>\n",
              "    <tr style=\"text-align: right;\">\n",
              "      <th></th>\n",
              "      <th>params</th>\n",
              "      <th>mean_test_score</th>\n",
              "      <th>algo</th>\n",
              "    </tr>\n",
              "  </thead>\n",
              "  <tbody>\n",
              "    <tr>\n",
              "      <th>7</th>\n",
              "      <td>{'model__n_estimators': 300, 'model__learning_...</td>\n",
              "      <td>0.935447</td>\n",
              "      <td>LGBMClassifier</td>\n",
              "    </tr>\n",
              "    <tr>\n",
              "      <th>1</th>\n",
              "      <td>{'model__n_estimators': 900, 'model__max_depth...</td>\n",
              "      <td>0.931494</td>\n",
              "      <td>XGBClassifier</td>\n",
              "    </tr>\n",
              "    <tr>\n",
              "      <th>2</th>\n",
              "      <td>{'model__n_estimators': 500, 'model__max_depth...</td>\n",
              "      <td>0.931033</td>\n",
              "      <td>XGBClassifier</td>\n",
              "    </tr>\n",
              "    <tr>\n",
              "      <th>0</th>\n",
              "      <td>{'model__n_estimators': 400, 'model__max_depth...</td>\n",
              "      <td>0.929997</td>\n",
              "      <td>XGBClassifier</td>\n",
              "    </tr>\n",
              "    <tr>\n",
              "      <th>3</th>\n",
              "      <td>{'model__n_estimators': 300, 'model__max_depth...</td>\n",
              "      <td>0.928232</td>\n",
              "      <td>XGBClassifier</td>\n",
              "    </tr>\n",
              "    <tr>\n",
              "      <th>6</th>\n",
              "      <td>{'model__n_estimators': 300, 'model__learning_...</td>\n",
              "      <td>0.915605</td>\n",
              "      <td>LGBMClassifier</td>\n",
              "    </tr>\n",
              "    <tr>\n",
              "      <th>5</th>\n",
              "      <td>{'model__n_estimators': 300, 'model__learning_...</td>\n",
              "      <td>0.914607</td>\n",
              "      <td>LGBMClassifier</td>\n",
              "    </tr>\n",
              "    <tr>\n",
              "      <th>4</th>\n",
              "      <td>{'model__n_estimators': 300, 'model__learning_...</td>\n",
              "      <td>0.911422</td>\n",
              "      <td>LGBMClassifier</td>\n",
              "    </tr>\n",
              "  </tbody>\n",
              "</table>\n",
              "</div>\n",
              "    <div class=\"colab-df-buttons\">\n",
              "\n",
              "  <div class=\"colab-df-container\">\n",
              "    <button class=\"colab-df-convert\" onclick=\"convertToInteractive('df-20dde45f-25c9-430a-8f2a-a929953b8b92')\"\n",
              "            title=\"Convert this dataframe to an interactive table.\"\n",
              "            style=\"display:none;\">\n",
              "\n",
              "  <svg xmlns=\"http://www.w3.org/2000/svg\" height=\"24px\" viewBox=\"0 -960 960 960\">\n",
              "    <path d=\"M120-120v-720h720v720H120Zm60-500h600v-160H180v160Zm220 220h160v-160H400v160Zm0 220h160v-160H400v160ZM180-400h160v-160H180v160Zm440 0h160v-160H620v160ZM180-180h160v-160H180v160Zm440 0h160v-160H620v160Z\"/>\n",
              "  </svg>\n",
              "    </button>\n",
              "\n",
              "  <style>\n",
              "    .colab-df-container {\n",
              "      display:flex;\n",
              "      gap: 12px;\n",
              "    }\n",
              "\n",
              "    .colab-df-convert {\n",
              "      background-color: #E8F0FE;\n",
              "      border: none;\n",
              "      border-radius: 50%;\n",
              "      cursor: pointer;\n",
              "      display: none;\n",
              "      fill: #1967D2;\n",
              "      height: 32px;\n",
              "      padding: 0 0 0 0;\n",
              "      width: 32px;\n",
              "    }\n",
              "\n",
              "    .colab-df-convert:hover {\n",
              "      background-color: #E2EBFA;\n",
              "      box-shadow: 0px 1px 2px rgba(60, 64, 67, 0.3), 0px 1px 3px 1px rgba(60, 64, 67, 0.15);\n",
              "      fill: #174EA6;\n",
              "    }\n",
              "\n",
              "    .colab-df-buttons div {\n",
              "      margin-bottom: 4px;\n",
              "    }\n",
              "\n",
              "    [theme=dark] .colab-df-convert {\n",
              "      background-color: #3B4455;\n",
              "      fill: #D2E3FC;\n",
              "    }\n",
              "\n",
              "    [theme=dark] .colab-df-convert:hover {\n",
              "      background-color: #434B5C;\n",
              "      box-shadow: 0px 1px 3px 1px rgba(0, 0, 0, 0.15);\n",
              "      filter: drop-shadow(0px 1px 2px rgba(0, 0, 0, 0.3));\n",
              "      fill: #FFFFFF;\n",
              "    }\n",
              "  </style>\n",
              "\n",
              "    <script>\n",
              "      const buttonEl =\n",
              "        document.querySelector('#df-20dde45f-25c9-430a-8f2a-a929953b8b92 button.colab-df-convert');\n",
              "      buttonEl.style.display =\n",
              "        google.colab.kernel.accessAllowed ? 'block' : 'none';\n",
              "\n",
              "      async function convertToInteractive(key) {\n",
              "        const element = document.querySelector('#df-20dde45f-25c9-430a-8f2a-a929953b8b92');\n",
              "        const dataTable =\n",
              "          await google.colab.kernel.invokeFunction('convertToInteractive',\n",
              "                                                    [key], {});\n",
              "        if (!dataTable) return;\n",
              "\n",
              "        const docLinkHtml = 'Like what you see? Visit the ' +\n",
              "          '<a target=\"_blank\" href=https://colab.research.google.com/notebooks/data_table.ipynb>data table notebook</a>'\n",
              "          + ' to learn more about interactive tables.';\n",
              "        element.innerHTML = '';\n",
              "        dataTable['output_type'] = 'display_data';\n",
              "        await google.colab.output.renderOutput(dataTable, element);\n",
              "        const docLink = document.createElement('div');\n",
              "        docLink.innerHTML = docLinkHtml;\n",
              "        element.appendChild(docLink);\n",
              "      }\n",
              "    </script>\n",
              "  </div>\n",
              "\n",
              "\n",
              "<div id=\"df-1cf3963d-a42b-49ea-914d-aec198df2009\">\n",
              "  <button class=\"colab-df-quickchart\" onclick=\"quickchart('df-1cf3963d-a42b-49ea-914d-aec198df2009')\"\n",
              "            title=\"Suggest charts\"\n",
              "            style=\"display:none;\">\n",
              "\n",
              "<svg xmlns=\"http://www.w3.org/2000/svg\" height=\"24px\"viewBox=\"0 0 24 24\"\n",
              "     width=\"24px\">\n",
              "    <g>\n",
              "        <path d=\"M19 3H5c-1.1 0-2 .9-2 2v14c0 1.1.9 2 2 2h14c1.1 0 2-.9 2-2V5c0-1.1-.9-2-2-2zM9 17H7v-7h2v7zm4 0h-2V7h2v10zm4 0h-2v-4h2v4z\"/>\n",
              "    </g>\n",
              "</svg>\n",
              "  </button>\n",
              "\n",
              "<style>\n",
              "  .colab-df-quickchart {\n",
              "      --bg-color: #E8F0FE;\n",
              "      --fill-color: #1967D2;\n",
              "      --hover-bg-color: #E2EBFA;\n",
              "      --hover-fill-color: #174EA6;\n",
              "      --disabled-fill-color: #AAA;\n",
              "      --disabled-bg-color: #DDD;\n",
              "  }\n",
              "\n",
              "  [theme=dark] .colab-df-quickchart {\n",
              "      --bg-color: #3B4455;\n",
              "      --fill-color: #D2E3FC;\n",
              "      --hover-bg-color: #434B5C;\n",
              "      --hover-fill-color: #FFFFFF;\n",
              "      --disabled-bg-color: #3B4455;\n",
              "      --disabled-fill-color: #666;\n",
              "  }\n",
              "\n",
              "  .colab-df-quickchart {\n",
              "    background-color: var(--bg-color);\n",
              "    border: none;\n",
              "    border-radius: 50%;\n",
              "    cursor: pointer;\n",
              "    display: none;\n",
              "    fill: var(--fill-color);\n",
              "    height: 32px;\n",
              "    padding: 0;\n",
              "    width: 32px;\n",
              "  }\n",
              "\n",
              "  .colab-df-quickchart:hover {\n",
              "    background-color: var(--hover-bg-color);\n",
              "    box-shadow: 0 1px 2px rgba(60, 64, 67, 0.3), 0 1px 3px 1px rgba(60, 64, 67, 0.15);\n",
              "    fill: var(--button-hover-fill-color);\n",
              "  }\n",
              "\n",
              "  .colab-df-quickchart-complete:disabled,\n",
              "  .colab-df-quickchart-complete:disabled:hover {\n",
              "    background-color: var(--disabled-bg-color);\n",
              "    fill: var(--disabled-fill-color);\n",
              "    box-shadow: none;\n",
              "  }\n",
              "\n",
              "  .colab-df-spinner {\n",
              "    border: 2px solid var(--fill-color);\n",
              "    border-color: transparent;\n",
              "    border-bottom-color: var(--fill-color);\n",
              "    animation:\n",
              "      spin 1s steps(1) infinite;\n",
              "  }\n",
              "\n",
              "  @keyframes spin {\n",
              "    0% {\n",
              "      border-color: transparent;\n",
              "      border-bottom-color: var(--fill-color);\n",
              "      border-left-color: var(--fill-color);\n",
              "    }\n",
              "    20% {\n",
              "      border-color: transparent;\n",
              "      border-left-color: var(--fill-color);\n",
              "      border-top-color: var(--fill-color);\n",
              "    }\n",
              "    30% {\n",
              "      border-color: transparent;\n",
              "      border-left-color: var(--fill-color);\n",
              "      border-top-color: var(--fill-color);\n",
              "      border-right-color: var(--fill-color);\n",
              "    }\n",
              "    40% {\n",
              "      border-color: transparent;\n",
              "      border-right-color: var(--fill-color);\n",
              "      border-top-color: var(--fill-color);\n",
              "    }\n",
              "    60% {\n",
              "      border-color: transparent;\n",
              "      border-right-color: var(--fill-color);\n",
              "    }\n",
              "    80% {\n",
              "      border-color: transparent;\n",
              "      border-right-color: var(--fill-color);\n",
              "      border-bottom-color: var(--fill-color);\n",
              "    }\n",
              "    90% {\n",
              "      border-color: transparent;\n",
              "      border-bottom-color: var(--fill-color);\n",
              "    }\n",
              "  }\n",
              "</style>\n",
              "\n",
              "  <script>\n",
              "    async function quickchart(key) {\n",
              "      const quickchartButtonEl =\n",
              "        document.querySelector('#' + key + ' button');\n",
              "      quickchartButtonEl.disabled = true;  // To prevent multiple clicks.\n",
              "      quickchartButtonEl.classList.add('colab-df-spinner');\n",
              "      try {\n",
              "        const charts = await google.colab.kernel.invokeFunction(\n",
              "            'suggestCharts', [key], {});\n",
              "      } catch (error) {\n",
              "        console.error('Error during call to suggestCharts:', error);\n",
              "      }\n",
              "      quickchartButtonEl.classList.remove('colab-df-spinner');\n",
              "      quickchartButtonEl.classList.add('colab-df-quickchart-complete');\n",
              "    }\n",
              "    (() => {\n",
              "      let quickchartButtonEl =\n",
              "        document.querySelector('#df-1cf3963d-a42b-49ea-914d-aec198df2009 button');\n",
              "      quickchartButtonEl.style.display =\n",
              "        google.colab.kernel.accessAllowed ? 'block' : 'none';\n",
              "    })();\n",
              "  </script>\n",
              "</div>\n",
              "\n",
              "    </div>\n",
              "  </div>\n"
            ],
            "application/vnd.google.colaboratory.intrinsic+json": {
              "type": "dataframe",
              "summary": "{\n  \"name\": \"full_df\",\n  \"rows\": 8,\n  \"fields\": [\n    {\n      \"column\": \"params\",\n      \"properties\": {\n        \"dtype\": \"object\",\n        \"semantic_type\": \"\",\n        \"description\": \"\"\n      }\n    },\n    {\n      \"column\": \"mean_test_score\",\n      \"properties\": {\n        \"dtype\": \"number\",\n        \"std\": 0.009282699280962326,\n        \"min\": 0.9114217548243848,\n        \"max\": 0.9354466605193306,\n        \"num_unique_values\": 8,\n        \"samples\": [\n          0.931493749643774,\n          0.9156047857909645,\n          0.9354466605193306\n        ],\n        \"semantic_type\": \"\",\n        \"description\": \"\"\n      }\n    },\n    {\n      \"column\": \"algo\",\n      \"properties\": {\n        \"dtype\": \"category\",\n        \"num_unique_values\": 2,\n        \"samples\": [\n          \"XGBClassifier\",\n          \"LGBMClassifier\"\n        ],\n        \"semantic_type\": \"\",\n        \"description\": \"\"\n      }\n    }\n  ]\n}"
            }
          },
          "metadata": {},
          "execution_count": 51
        }
      ]
    },
    {
      "cell_type": "code",
      "source": [
        "full_df.sort_values('mean_test_score', ascending=False).iloc[0, 0]"
      ],
      "metadata": {
        "id": "swnYaDfh4G0f",
        "colab": {
          "base_uri": "https://localhost:8080/"
        },
        "outputId": "c59c596f-dabf-4ef4-cc6f-4ce5c24ce64f"
      },
      "execution_count": 52,
      "outputs": [
        {
          "output_type": "execute_result",
          "data": {
            "text/plain": [
              "{'model__n_estimators': 300,\n",
              " 'model__learning_rate': 0.1,\n",
              " 'model__boosting_type': 'dart',\n",
              " 'coltf__num_pipe__impute__estimator': KNeighborsRegressor()}"
            ]
          },
          "metadata": {},
          "execution_count": 52
        }
      ]
    },
    {
      "cell_type": "code",
      "source": [
        "## Getting the pipeline of the best XGB Algorithm and LGB Algorithm:\n",
        "be_xgb = best_algos['XGBClassifier']\n",
        "be_lgb = best_algos['LGBMClassifier']\n",
        "be_xgb,be_lgb"
      ],
      "metadata": {
        "id": "d0oK7vgG4Nin",
        "colab": {
          "base_uri": "https://localhost:8080/"
        },
        "outputId": "238d62a3-202b-4618-d968-7a5a1016de2b"
      },
      "execution_count": 53,
      "outputs": [
        {
          "output_type": "execute_result",
          "data": {
            "text/plain": [
              "(Pipeline(steps=[('coltf',\n",
              "                  ColumnTransformer(remainder='passthrough',\n",
              "                                    transformers=[('num_pipe',\n",
              "                                                   Pipeline(steps=[('impute',\n",
              "                                                                    IterativeImputer(estimator=RandomForestRegressor(random_state=0))),\n",
              "                                                                   ('scale',\n",
              "                                                                    StandardScaler())]),\n",
              "                                                   <sklearn.compose._column_transformer.make_column_selector object at 0x7ff558295a50>),\n",
              "                                                  ('cat_cols',\n",
              "                                                   OneHotEncoder(handle_unknown='ignore'),\n",
              "                                                   <s...\n",
              "                                feature_types=None, gamma=None, grow_policy=None,\n",
              "                                importance_type=None,\n",
              "                                interaction_constraints=None, learning_rate=0.15,\n",
              "                                max_bin=None, max_cat_threshold=None,\n",
              "                                max_cat_to_onehot=None, max_delta_step=None,\n",
              "                                max_depth=8, max_leaves=None,\n",
              "                                min_child_weight=None, missing=nan,\n",
              "                                monotone_constraints=None, multi_strategy=None,\n",
              "                                n_estimators=900, n_jobs=None,\n",
              "                                num_parallel_tree=None, random_state=None, ...))]),\n",
              " Pipeline(steps=[('coltf',\n",
              "                  ColumnTransformer(remainder='passthrough',\n",
              "                                    transformers=[('num_pipe',\n",
              "                                                   Pipeline(steps=[('impute',\n",
              "                                                                    IterativeImputer(estimator=KNeighborsRegressor())),\n",
              "                                                                   ('scale',\n",
              "                                                                    StandardScaler())]),\n",
              "                                                   <sklearn.compose._column_transformer.make_column_selector object at 0x7ff5557e9ae0>),\n",
              "                                                  ('cat_cols',\n",
              "                                                   OneHotEncoder(handle_unknown='ignore'),\n",
              "                                                   <sklearn.compose._column_transformer.make_column_selector object at 0x7ff5557ebc10>)])),\n",
              "                 ('smote', SMOTE(random_state=42)),\n",
              "                 ('model',\n",
              "                  LGBMClassifier(boosting_type='dart', class_weight='balanced',\n",
              "                                 n_estimators=300, random_state=0))]))"
            ]
          },
          "metadata": {},
          "execution_count": 53
        }
      ]
    },
    {
      "cell_type": "markdown",
      "source": [
        " Training the best pipelines:\n",
        "\n",
        "Repeated k-Fold Cross-Validation provides a way to improve the estimated performance of a machine learning model. This involves simply repeating the cross-validation procedure multiple times and reporting the mean result across all folds from all runs. This mean result is expected to be a more accurate estimate of the true unknown underlying mean performance of the model on the dataset, as calculated using the standard error.\n",
        "\n",
        "We will use this technique here to test model performance once again before evaluating it.\n",
        "\n",
        "- Training the XGB Model:"
      ],
      "metadata": {
        "id": "yWXJtA684Svc"
      }
    },
    {
      "cell_type": "code",
      "source": [
        "%%time\n",
        "## A dry run of the best pipeline:\n",
        "pipe_xgb = be_xgb\n",
        "# evaluate pipeline using k-fold cross validation:\n",
        "cv = RepeatedStratifiedKFold(n_splits=5, n_repeats=3, random_state=1)\n",
        "scores = cross_val_score(pipe_xgb, X, y, scoring='accuracy', cv=cv, n_jobs=-1)\n",
        "print(f\"The MEAN of score obtained after CROSS VALIDATION of the XGB Based Pipeline is: {scores.mean()} or {scores.mean()*100:.2f}%\")"
      ],
      "metadata": {
        "id": "eVvNacs84Tuw",
        "colab": {
          "base_uri": "https://localhost:8080/"
        },
        "outputId": "f0854d70-3e8d-4c79-8868-4f3f1ace255c"
      },
      "execution_count": 57,
      "outputs": [
        {
          "output_type": "stream",
          "name": "stdout",
          "text": [
            "The MEAN of score obtained after CROSS VALIDATION of the XGB Based Pipeline is: 0.932593917593394 or 93.26%\n",
            "CPU times: user 7.36 s, sys: 1.31 s, total: 8.66 s\n",
            "Wall time: 11min 38s\n"
          ]
        }
      ]
    },
    {
      "cell_type": "code",
      "source": [
        "%%time\n",
        "## Fitting into best pipeline for evaluation:\n",
        "pipe_xgb.fit(X, y)\n",
        "## Getting predictions:\n",
        "preds_xgb = pipe_xgb.predict(X_test)\n",
        "## Getting probabilities:\n",
        "probs_xgb = pipe_xgb.predict_proba(X_test)\n",
        "## Accuracy Score:\n",
        "print(f\"The ACCURACY SCORE produced on the TEST SET by the XGB Based Pipeline is: {accuracy_score(y_test,preds_xgb)} or {accuracy_score(y_test,preds_xgb)*100}%.\")"
      ],
      "metadata": {
        "colab": {
          "base_uri": "https://localhost:8080/"
        },
        "id": "9v2x31b1lKI8",
        "outputId": "fcfa68f4-e82a-4853-a91f-439953aeebaf"
      },
      "execution_count": 58,
      "outputs": [
        {
          "output_type": "stream",
          "name": "stdout",
          "text": [
            "The ACCURACY SCORE produced on the TEST SET by the XGB Based Pipeline is: 0.9323308270676691 or 93.23308270676691%.\n",
            "CPU times: user 1min 27s, sys: 1.2 s, total: 1min 28s\n",
            "Wall time: 1min 15s\n"
          ]
        }
      ]
    },
    {
      "cell_type": "code",
      "source": [
        "from sklearn.pipeline import Pipeline\n",
        "from lightgbm import LGBMClassifier\n",
        "\n",
        "\n"
      ],
      "metadata": {
        "id": "FAbQ2xAV7GTI"
      },
      "execution_count": 55,
      "outputs": []
    },
    {
      "cell_type": "code",
      "source": [
        "%%time\n",
        "## A dry run of the best pipeline:\n",
        "pipe_lgb = be_lgb\n",
        "# evaluate pipeline using k-fold cross validation:\n",
        "cv = RepeatedStratifiedKFold(n_splits=5, n_repeats=3, random_state=1)\n",
        "scores = cross_val_score(pipe_lgb, X, y, scoring='accuracy', cv=cv, n_jobs=-1)\n",
        "print(f\"The MEAN of score obtained after CROSS VALIDATION of the LGBM Based Pipeline is: {scores.mean()} or {scores.mean()*100:.2f}%\")"
      ],
      "metadata": {
        "id": "Fri1OoyP6MoV",
        "colab": {
          "base_uri": "https://localhost:8080/"
        },
        "outputId": "da3bc892-1ace-40c4-987a-eff16f390721"
      },
      "execution_count": 59,
      "outputs": [
        {
          "output_type": "stream",
          "name": "stdout",
          "text": [
            "The MEAN of score obtained after CROSS VALIDATION of the LGBM Based Pipeline is: 0.9359584500563802 or 93.60%\n",
            "CPU times: user 2.47 s, sys: 514 ms, total: 2.98 s\n",
            "Wall time: 3min 30s\n"
          ]
        }
      ]
    },
    {
      "cell_type": "code",
      "source": [
        "%%time\n",
        "## Fitting into best pipeline for evaluation:\n",
        "pipe_lgb.fit(X, y)\n",
        "## Getting predictions:\n",
        "preds_lgb = pipe_lgb.predict(X_test)\n",
        "## Getting probabilities:\n",
        "probs_lgb = pipe_lgb.predict_proba(X_test)\n",
        "## Accuracy Score:\n",
        "print(f\"The ACCURACY SCORE produced on the TEST SET by the LGBM Based Pipeline is: {accuracy_score(y_test,preds_lgb)} or {accuracy_score(y_test,preds_lgb)*100}%.\")"
      ],
      "metadata": {
        "id": "Xo8RjzUd552z",
        "colab": {
          "base_uri": "https://localhost:8080/"
        },
        "outputId": "11bc0e3e-1747-40ee-c215-8f74c0822f89"
      },
      "execution_count": 60,
      "outputs": [
        {
          "output_type": "stream",
          "name": "stdout",
          "text": [
            "[LightGBM] [Info] Number of positive: 20370, number of negative: 20370\n",
            "[LightGBM] [Info] Auto-choosing row-wise multi-threading, the overhead of testing was 0.012017 seconds.\n",
            "You can set `force_row_wise=true` to remove the overhead.\n",
            "And if memory is not enough, you can set `force_col_wise=true`.\n",
            "[LightGBM] [Info] Total Bins 5694\n",
            "[LightGBM] [Info] Number of data points in the train set: 40740, number of used features: 25\n",
            "[LightGBM] [Info] [binary:BoostFromScore]: pavg=0.500000 -> initscore=0.000000\n",
            "The ACCURACY SCORE produced on the TEST SET by the LGBM Based Pipeline is: 0.9326377167408316 or 93.26377167408316%.\n",
            "CPU times: user 21.5 s, sys: 209 ms, total: 21.7 s\n",
            "Wall time: 21.6 s\n"
          ]
        }
      ]
    },
    {
      "cell_type": "code",
      "source": [
        "probs_xgb[:10]"
      ],
      "metadata": {
        "colab": {
          "base_uri": "https://localhost:8080/"
        },
        "id": "8xZifzCRqPsA",
        "outputId": "77800faa-0490-48da-f260-1d80e489ec69"
      },
      "execution_count": 61,
      "outputs": [
        {
          "output_type": "execute_result",
          "data": {
            "text/plain": [
              "array([[8.9655602e-01, 1.0344396e-01],\n",
              "       [9.9673605e-01, 3.2639680e-03],\n",
              "       [9.9293911e-01, 7.0609064e-03],\n",
              "       [2.0819902e-04, 9.9979180e-01],\n",
              "       [9.9994838e-01, 5.1646104e-05],\n",
              "       [9.9996263e-01, 3.7383405e-05],\n",
              "       [9.4979078e-01, 5.0209202e-02],\n",
              "       [7.6365471e-04, 9.9923635e-01],\n",
              "       [9.3241805e-01, 6.7581944e-02],\n",
              "       [9.9905521e-01, 9.4478205e-04]], dtype=float32)"
            ]
          },
          "metadata": {},
          "execution_count": 61
        }
      ]
    },
    {
      "cell_type": "code",
      "source": [
        "probs_lgb[:10]"
      ],
      "metadata": {
        "colab": {
          "base_uri": "https://localhost:8080/"
        },
        "id": "BGDPOIeoqRNh",
        "outputId": "36eca7ce-65db-4efd-cb0e-bb9e03e2324f"
      },
      "execution_count": 62,
      "outputs": [
        {
          "output_type": "execute_result",
          "data": {
            "text/plain": [
              "array([[0.78391025, 0.21608975],\n",
              "       [0.94393809, 0.05606191],\n",
              "       [0.78610927, 0.21389073],\n",
              "       [0.02178299, 0.97821701],\n",
              "       [0.96427481, 0.03572519],\n",
              "       [0.97263597, 0.02736403],\n",
              "       [0.81756142, 0.18243858],\n",
              "       [0.03507078, 0.96492922],\n",
              "       [0.67576422, 0.32423578],\n",
              "       [0.94873993, 0.05126007]])"
            ]
          },
          "metadata": {},
          "execution_count": 62
        }
      ]
    },
    {
      "cell_type": "markdown",
      "source": [
        "Learning Curve"
      ],
      "metadata": {
        "id": "YlcmRM91qTbh"
      }
    },
    {
      "cell_type": "code",
      "source": [
        "%%time\n",
        "def funct_lc(be,X_train,y_train,title):\n",
        "    a, b, c = learning_curve(be, X_train, y_train, n_jobs=-1, scoring='accuracy')\n",
        "    plt.title(f\"{title}\")\n",
        "    plt.plot(a, b.mean(axis=1), label='Training Accuracy')\n",
        "    plt.plot(a, c.mean(axis=1),  label='Validation Accuracy')\n",
        "    plt.xlabel('Training sample sizes')\n",
        "    plt.ylabel('Accuracy')\n",
        "    plt.legend()\n",
        "    plt.show()\n",
        "\n",
        "funct_lc(be_xgb,X,y,\"XGB Pipeline\")\n",
        "funct_lc(be_lgb,X,y,\"LGB Pipeline\")"
      ],
      "metadata": {
        "colab": {
          "base_uri": "https://localhost:8080/",
          "height": 1000
        },
        "id": "0YDNLkb1qVoT",
        "outputId": "de44df6d-0136-4ecc-8db3-b3d3ffb8e609"
      },
      "execution_count": 63,
      "outputs": [
        {
          "output_type": "stream",
          "name": "stderr",
          "text": [
            "/usr/local/lib/python3.10/dist-packages/joblib/externals/loky/process_executor.py:752: UserWarning: A worker stopped while some jobs were given to the executor. This can be caused by a too short worker timeout or by a memory leak.\n",
            "  warnings.warn(\n"
          ]
        },
        {
          "output_type": "display_data",
          "data": {
            "text/plain": [
              "<Figure size 640x480 with 1 Axes>"
            ],
            "image/png": "[encoded data removed]"
          },
          "metadata": {}
        },
        {
          "output_type": "display_data",
          "data": {
            "text/plain": [
              "<Figure size 640x480 with 1 Axes>"
            ],
            "image/png": "[encoded data removed]"
          },
          "metadata": {}
        },
        {
          "output_type": "stream",
          "name": "stdout",
          "text": [
            "CPU times: user 10.2 s, sys: 2 s, total: 12.2 s\n",
            "Wall time: 14min 44s\n"
          ]
        }
      ]
    },
    {
      "cell_type": "markdown",
      "source": [
        "## Best model Selection"
      ],
      "metadata": {
        "id": "H6whA2eGqyTA"
      }
    },
    {
      "cell_type": "code",
      "source": [
        "from sklearn.metrics import confusion_matrix\n",
        "from sklearn.metrics import  confusion_matrix, classification_report"
      ],
      "metadata": {
        "id": "k7Vb8LAMuxrc"
      },
      "execution_count": 69,
      "outputs": []
    },
    {
      "cell_type": "code",
      "source": [
        "## Function for confusion matrix:\n",
        "def funct_cm(be,X_test,y_test,preds,title):\n",
        "    ## Simple Confusion Matrix:\n",
        "    print(confusion_matrix(y_test, preds))\n",
        "\n",
        "   # print(f\"\\nThe Confusion Matrix for the {title}:\")\n",
        "    ## Plotting the Confusion Matrix:\n",
        "   # plot_confusion_matrix(be, X_test, y_test)\n",
        "   # plt.show()\n",
        "\n",
        "    print(f\"\\nThe Classification Report for the {title}:\")\n",
        "    ## Classification Report:\n",
        "    print(classification_report(y_test, preds))\n",
        "\n",
        "    print(f\"\\nThe Final Accuracy Score for the {title}: {be.score(X_test, y_test)}\")\n",
        "    ## Accuracy Score\n",
        "    print(\"\\n\")\n",
        "\n",
        "funct_cm(be_xgb,X_test,y_test,preds_xgb,\"XGB Pipeline\")\n",
        "funct_cm(be_lgb,X_test,y_test,preds_lgb,\"LGB Pipeline\")"
      ],
      "metadata": {
        "colab": {
          "base_uri": "https://localhost:8080/"
        },
        "id": "VOk0ADhQqxii",
        "outputId": "47ce710a-cafe-40fc-afb1-a91597b61af7"
      },
      "execution_count": 70,
      "outputs": [
        {
          "output_type": "stream",
          "name": "stdout",
          "text": [
            "[[5005   90]\n",
            " [ 351 1071]]\n",
            "\n",
            "The Classification Report for the XGB Pipeline:\n",
            "              precision    recall  f1-score   support\n",
            "\n",
            "           0       0.93      0.98      0.96      5095\n",
            "           1       0.92      0.75      0.83      1422\n",
            "\n",
            "    accuracy                           0.93      6517\n",
            "   macro avg       0.93      0.87      0.89      6517\n",
            "weighted avg       0.93      0.93      0.93      6517\n",
            "\n",
            "\n",
            "The Final Accuracy Score for the XGB Pipeline: 0.9323308270676691\n",
            "\n",
            "\n",
            "[[5066   29]\n",
            " [ 410 1012]]\n",
            "\n",
            "The Classification Report for the LGB Pipeline:\n",
            "              precision    recall  f1-score   support\n",
            "\n",
            "           0       0.93      0.99      0.96      5095\n",
            "           1       0.97      0.71      0.82      1422\n",
            "\n",
            "    accuracy                           0.93      6517\n",
            "   macro avg       0.95      0.85      0.89      6517\n",
            "weighted avg       0.94      0.93      0.93      6517\n",
            "\n",
            "\n",
            "The Final Accuracy Score for the LGB Pipeline: 0.9326377167408316\n",
            "\n",
            "\n"
          ]
        }
      ]
    },
    {
      "cell_type": "markdown",
      "source": [
        "## Precision_recall curve"
      ],
      "metadata": {
        "id": "VYGfOWzZv5EZ"
      }
    },
    {
      "cell_type": "code",
      "source": [
        "from sklearn.metrics import plot_precision_recall_curve\n"
      ],
      "metadata": {
        "colab": {
          "base_uri": "https://localhost:8080/",
          "height": 176
        },
        "id": "4owZLkzBwG9l",
        "outputId": "4824c440-a344-49b2-9ee4-97764b113fbd"
      },
      "execution_count": 72,
      "outputs": [
        {
          "output_type": "error",
          "ename": "ImportError",
          "evalue": "cannot import name 'plot_precision_recall_curve' from 'sklearn.metrics' (/usr/local/lib/python3.10/dist-packages/sklearn/metrics/__init__.py)",
          "traceback": [
            "\u001b[0;31m---------------------------------------------------------------------------\u001b[0m",
            "\u001b[0;31mImportError\u001b[0m                               Traceback (most recent call last)",
            "\u001b[0;32m<ipython-input-72-73717318b15a>\u001b[0m in \u001b[0;36m<cell line: 1>\u001b[0;34m()\u001b[0m\n\u001b[0;32m----> 1\u001b[0;31m \u001b[0;32mfrom\u001b[0m \u001b[0msklearn\u001b[0m\u001b[0;34m.\u001b[0m\u001b[0mmetrics\u001b[0m \u001b[0;32mimport\u001b[0m \u001b[0mplot_precision_recall_curve\u001b[0m\u001b[0;34m\u001b[0m\u001b[0;34m\u001b[0m\u001b[0m\n\u001b[0m",
            "\u001b[0;31mImportError\u001b[0m: cannot import name 'plot_precision_recall_curve' from 'sklearn.metrics' (/usr/local/lib/python3.10/dist-packages/sklearn/metrics/__init__.py)"
          ]
        }
      ]
    },
    {
      "cell_type": "code",
      "source": [
        "%%time\n",
        "import matplotlib.pyplot as plt\n",
        "from sklearn.metrics import precision_recall_curve\n",
        "from sklearn.metrics import auc\n",
        "\n",
        "def plot_custom_precision_recall_curve(model, X_test, y_test, title):\n",
        "    # Compute precision and recall\n",
        "    precision, recall, _ = precision_recall_curve(y_test, model.predict_proba(X_test)[:, 1])\n",
        "\n",
        "    # Compute area under the curve (AUC) for precision-recall curve\n",
        "    pr_auc = auc(recall, precision)\n",
        "\n",
        "    # Plot precision-recall curve\n",
        "    plt.figure(figsize=(8, 6))\n",
        "    plt.plot(recall, precision, label=f'Precision-Recall curve (AUC = {pr_auc:.2f})', color='b')\n",
        "    plt.xlabel('Recall')\n",
        "    plt.ylabel('Precision')\n",
        "    plt.title(title)\n",
        "    plt.legend(loc='best')\n",
        "    plt.show()\n",
        "\n",
        "# Example usage:\n",
        "# Assuming you have a classification model called 'model' trained on data X_train, y_train\n",
        "# and you want to plot precision-recall curve for test data X_test, y_test\n",
        "plot_custom_precision_recall_curve(pipe_xgb, X_test, y_test, \"XGB Pipeline Precision-Recall Curve\")\n",
        "plot_custom_precision_recall_curve(pipe_lgb, X_test, y_test, \"LGB Pipeline Precision-Recall Curve\")\n"
      ],
      "metadata": {
        "colab": {
          "base_uri": "https://localhost:8080/",
          "height": 1000
        },
        "id": "-p51Rrmmv4iG",
        "outputId": "a10a8344-1342-42ac-f5a2-2f88a0411cc3"
      },
      "execution_count": 73,
      "outputs": [
        {
          "output_type": "display_data",
          "data": {
            "text/plain": [
              "<Figure size 800x600 with 1 Axes>"
            ],
            "image/png": "[encoded data removed]"
          },
          "metadata": {}
        },
        {
          "output_type": "display_data",
          "data": {
            "text/plain": [
              "<Figure size 800x600 with 1 Axes>"
            ],
            "image/png": "[encoded data removed]"
          },
          "metadata": {}
        },
        {
          "output_type": "stream",
          "name": "stdout",
          "text": [
            "CPU times: user 1.59 s, sys: 88 ms, total: 1.68 s\n",
            "Wall time: 1.68 s\n"
          ]
        }
      ]
    },
    {
      "cell_type": "markdown",
      "source": [
        "## ROC Curve"
      ],
      "metadata": {
        "id": "zkh5ndMOwj8F"
      }
    },
    {
      "cell_type": "code",
      "source": [
        "def funct_roc(y_test,preds,title):\n",
        "    fpr, tpr, threshold = roc_curve(y_test, preds)\n",
        "    roc_auc = auc(fpr, tpr)\n",
        "\n",
        "    # method I: plt\n",
        "    plt.figure(figsize=(8,8))\n",
        "    plt.title(f'Receiver Operating Characteristic of {title}')\n",
        "    plt.plot(fpr, tpr, 'b', label = 'AUC = %0.2f' % roc_auc)\n",
        "    plt.legend(loc = 'lower right')\n",
        "    plt.plot([0, 1], [0, 1],'r--')\n",
        "    plt.xlim([0, 1])\n",
        "    plt.ylim([0, 1])\n",
        "    plt.ylabel('True Positive Rate')\n",
        "    plt.xlabel('False Positive Rate')\n",
        "    plt.show()\n",
        "\n",
        "#     # method II: ggplot\n",
        "#     from ggplot import *\n",
        "#     df = pd.DataFrame(dict(fpr = fpr, tpr = tpr))\n",
        "#     ggplot(df, aes(x = 'fpr', y = 'tpr')) + geom_line() + geom_abline(linetype = 'dashed')\n",
        "\n",
        "funct_roc(y_test,preds_xgb,\"XGB Pipeline\")\n",
        "funct_roc(y_test,preds_lgb,\"LGB Pipeline\")\n"
      ],
      "metadata": {
        "colab": {
          "base_uri": "https://localhost:8080/",
          "height": 1000
        },
        "id": "vEDvf4pjwjkl",
        "outputId": "575807d5-3ff8-4658-b84f-af133d215a0f"
      },
      "execution_count": 74,
      "outputs": [
        {
          "output_type": "display_data",
          "data": {
            "text/plain": [
              "<Figure size 800x800 with 1 Axes>"
            ],
            "image/png": "[encoded data removed]"
          },
          "metadata": {}
        },
        {
          "output_type": "display_data",
          "data": {
            "text/plain": [
              "<Figure size 800x800 with 1 Axes>"
            ],
            "image/png": "[encoded data removed]"
          },
          "metadata": {}
        }
      ]
    },
    {
      "cell_type": "code",
      "source": [
        "print(f\"The MCC score of XGB Pipeline is:{matthews_corrcoef(y_test, preds_xgb)}\")\n",
        "print(f\"The MCC score of LGB Pipeline is:{matthews_corrcoef(y_test, preds_lgb)}\")"
      ],
      "metadata": {
        "colab": {
          "base_uri": "https://localhost:8080/"
        },
        "id": "P71DsRwjwwDY",
        "outputId": "3052ff3f-4c0c-4c2c-fa23-9e6aaa2403c7"
      },
      "execution_count": 75,
      "outputs": [
        {
          "output_type": "stream",
          "name": "stdout",
          "text": [
            "The MCC score of XGB Pipeline is:0.7939045331527683\n",
            "The MCC score of LGB Pipeline is:0.7958996987500818\n"
          ]
        }
      ]
    },
    {
      "cell_type": "code",
      "source": [
        "from sklearn.preprocessing import OneHotEncoder\n"
      ],
      "metadata": {
        "id": "ueL8VvCsyRv0"
      },
      "execution_count": 82,
      "outputs": []
    },
    {
      "cell_type": "code",
      "source": [
        "# Assuming 'coltf' is your ColumnTransformer step in the pipeline\n",
        "cat_cols_transformer = pipe_lgb.named_steps[\"coltf\"]\n",
        "feature_names = []\n",
        "\n",
        "# Iterate over named transformers to find the OneHotEncoder transformer\n",
        "for name, transformer in cat_cols_transformer.named_transformers_.items():\n",
        "    if isinstance(transformer, OneHotEncoder):\n",
        "        feature_names = list(transformer.get_feature_names_out())\n",
        "        break\n",
        "\n",
        "ncol = ncol.delete(ncol.get_loc(\"loan_status\"))  # ncol is an index object, not an array object\n",
        "ncol = ncol.delete(ncol.get_loc(\"loan_int_rate\"))\n",
        "train_col = list(ncol) + feature_names  # Final list of columns\n",
        "\n",
        "print(\"FOR XGB PIPELINE:\\n\")\n",
        "funct_fi(pipe_xgb, train_col)\n",
        "print(\"\\nFOR LGBM PIPELINE:\\n\")\n",
        "funct_fi(pipe_lgb, train_col)\n",
        "\n",
        "\n"
      ],
      "metadata": {
        "colab": {
          "base_uri": "https://localhost:8080/",
          "height": 812
        },
        "id": "1vxnoeMnw3y2",
        "outputId": "f5146ea5-a036-42f3-e52b-5e8790883beb"
      },
      "execution_count": 84,
      "outputs": [
        {
          "output_type": "stream",
          "name": "stdout",
          "text": [
            "FOR XGB PIPELINE:\n",
            "\n"
          ]
        },
        {
          "output_type": "display_data",
          "data": {
            "text/plain": [
              "<Figure size 640x480 with 1 Axes>"
            ],
            "image/png": "[encoded data removed]"
          },
          "metadata": {}
        },
        {
          "output_type": "stream",
          "name": "stdout",
          "text": [
            "\n",
            "FOR LGBM PIPELINE:\n",
            "\n"
          ]
        },
        {
          "output_type": "display_data",
          "data": {
            "text/plain": [
              "<Figure size 640x480 with 1 Axes>"
            ],
            "image/png": "[encoded data removed]"
          },
          "metadata": {}
        }
      ]
    },
    {
      "cell_type": "markdown",
      "source": [
        "## Pickling the best Pipeline:"
      ],
      "metadata": {
        "id": "b0OjBgeky1Ac"
      }
    },
    {
      "cell_type": "code",
      "source": [
        "# Save the ML Pipeline:\n",
        "import joblib\n",
        "joblib.dump(pipe_lgb, 'best_pipeline.pkl')"
      ],
      "metadata": {
        "colab": {
          "base_uri": "https://localhost:8080/"
        },
        "id": "Rx_itxLLy47F",
        "outputId": "0cb54cc5-1bee-47c6-a424-58a6d18f91b0"
      },
      "execution_count": 85,
      "outputs": [
        {
          "output_type": "execute_result",
          "data": {
            "text/plain": [
              "['best_pipeline.pkl']"
            ]
          },
          "metadata": {},
          "execution_count": 85
        }
      ]
    },
    {
      "cell_type": "code",
      "source": [
        "X.person_home_ownership.unique()"
      ],
      "metadata": {
        "colab": {
          "base_uri": "https://localhost:8080/"
        },
        "id": "jxRk1SnCy6AC",
        "outputId": "4cabf2de-2c15-40ff-b510-78bc730f1247"
      },
      "execution_count": 86,
      "outputs": [
        {
          "output_type": "execute_result",
          "data": {
            "text/plain": [
              "array(['MORTGAGE', 'RENT', 'OWN', 'OTHER'], dtype=object)"
            ]
          },
          "metadata": {},
          "execution_count": 86
        }
      ]
    },
    {
      "cell_type": "code",
      "source": [
        "!pip install streamlit"
      ],
      "metadata": {
        "colab": {
          "base_uri": "https://localhost:8080/"
        },
        "id": "FJAVNei1zSG7",
        "outputId": "4a19b8aa-43dc-4c43-a12f-fd0614d1c438"
      },
      "execution_count": 88,
      "outputs": [
        {
          "output_type": "stream",
          "name": "stdout",
          "text": [
            "Collecting streamlit\n",
            "  Downloading streamlit-1.33.0-py2.py3-none-any.whl (8.1 MB)\n",
            "\u001b[2K     \u001b[90m━━━━━━━━━━━━━━━━━━━━━━━━━━━━━━━━━━━━━━━━\u001b[0m \u001b[32m8.1/8.1 MB\u001b[0m \u001b[31m11.2 MB/s\u001b[0m eta \u001b[36m0:00:00\u001b[0m\n",
            "\u001b[?25hRequirement already satisfied: altair<6,>=4.0 in /usr/local/lib/python3.10/dist-packages (from streamlit) (4.2.2)\n",
            "Requirement already satisfied: blinker<2,>=1.0.0 in /usr/lib/python3/dist-packages (from streamlit) (1.4)\n",
            "Requirement already satisfied: cachetools<6,>=4.0 in /usr/local/lib/python3.10/dist-packages (from streamlit) (5.3.3)\n",
            "Requirement already satisfied: click<9,>=7.0 in /usr/local/lib/python3.10/dist-packages (from streamlit) (8.1.7)\n",
            "Requirement already satisfied: numpy<2,>=1.19.3 in /usr/local/lib/python3.10/dist-packages (from streamlit) (1.25.2)\n",
            "Requirement already satisfied: packaging<25,>=16.8 in /usr/local/lib/python3.10/dist-packages (from streamlit) (24.0)\n",
            "Requirement already satisfied: pandas<3,>=1.3.0 in /usr/local/lib/python3.10/dist-packages (from streamlit) (2.0.3)\n",
            "Requirement already satisfied: pillow<11,>=7.1.0 in /usr/local/lib/python3.10/dist-packages (from streamlit) (9.4.0)\n",
            "Requirement already satisfied: protobuf<5,>=3.20 in /usr/local/lib/python3.10/dist-packages (from streamlit) (3.20.3)\n",
            "Requirement already satisfied: pyarrow>=7.0 in /usr/local/lib/python3.10/dist-packages (from streamlit) (14.0.2)\n",
            "Requirement already satisfied: requests<3,>=2.27 in /usr/local/lib/python3.10/dist-packages (from streamlit) (2.31.0)\n",
            "Requirement already satisfied: rich<14,>=10.14.0 in /usr/local/lib/python3.10/dist-packages (from streamlit) (13.7.1)\n",
            "Requirement already satisfied: tenacity<9,>=8.1.0 in /usr/local/lib/python3.10/dist-packages (from streamlit) (8.2.3)\n",
            "Requirement already satisfied: toml<2,>=0.10.1 in /usr/local/lib/python3.10/dist-packages (from streamlit) (0.10.2)\n",
            "Requirement already satisfied: typing-extensions<5,>=4.3.0 in /usr/local/lib/python3.10/dist-packages (from streamlit) (4.11.0)\n",
            "Collecting gitpython!=3.1.19,<4,>=3.0.7 (from streamlit)\n",
            "  Downloading GitPython-3.1.43-py3-none-any.whl (207 kB)\n",
            "\u001b[2K     \u001b[90m━━━━━━━━━━━━━━━━━━━━━━━━━━━━━━━━━━━━━━━━\u001b[0m \u001b[32m207.3/207.3 kB\u001b[0m \u001b[31m18.3 MB/s\u001b[0m eta \u001b[36m0:00:00\u001b[0m\n",
            "\u001b[?25hCollecting pydeck<1,>=0.8.0b4 (from streamlit)\n",
            "  Downloading pydeck-0.9.0-py2.py3-none-any.whl (6.9 MB)\n",
            "\u001b[2K     \u001b[90m━━━━━━━━━━━━━━━━━━━━━━━━━━━━━━━━━━━━━━━━\u001b[0m \u001b[32m6.9/6.9 MB\u001b[0m \u001b[31m24.9 MB/s\u001b[0m eta \u001b[36m0:00:00\u001b[0m\n",
            "\u001b[?25hRequirement already satisfied: tornado<7,>=6.0.3 in /usr/local/lib/python3.10/dist-packages (from streamlit) (6.3.3)\n",
            "Collecting watchdog>=2.1.5 (from streamlit)\n",
            "  Downloading watchdog-4.0.0-py3-none-manylinux2014_x86_64.whl (82 kB)\n",
            "\u001b[2K     \u001b[90m━━━━━━━━━━━━━━━━━━━━━━━━━━━━━━━━━━━━━━━━\u001b[0m \u001b[32m83.0/83.0 kB\u001b[0m \u001b[31m7.4 MB/s\u001b[0m eta \u001b[36m0:00:00\u001b[0m\n",
            "\u001b[?25hRequirement already satisfied: entrypoints in /usr/local/lib/python3.10/dist-packages (from altair<6,>=4.0->streamlit) (0.4)\n",
            "Requirement already satisfied: jinja2 in /usr/local/lib/python3.10/dist-packages (from altair<6,>=4.0->streamlit) (3.1.3)\n",
            "Requirement already satisfied: jsonschema>=3.0 in /usr/local/lib/python3.10/dist-packages (from altair<6,>=4.0->streamlit) (4.19.2)\n",
            "Requirement already satisfied: toolz in /usr/local/lib/python3.10/dist-packages (from altair<6,>=4.0->streamlit) (0.12.1)\n",
            "Collecting gitdb<5,>=4.0.1 (from gitpython!=3.1.19,<4,>=3.0.7->streamlit)\n",
            "  Downloading gitdb-4.0.11-py3-none-any.whl (62 kB)\n",
            "\u001b[2K     \u001b[90m━━━━━━━━━━━━━━━━━━━━━━━━━━━━━━━━━━━━━━━━\u001b[0m \u001b[32m62.7/62.7 kB\u001b[0m \u001b[31m3.9 MB/s\u001b[0m eta \u001b[36m0:00:00\u001b[0m\n",
            "\u001b[?25hRequirement already satisfied: python-dateutil>=2.8.2 in /usr/local/lib/python3.10/dist-packages (from pandas<3,>=1.3.0->streamlit) (2.8.2)\n",
            "Requirement already satisfied: pytz>=2020.1 in /usr/local/lib/python3.10/dist-packages (from pandas<3,>=1.3.0->streamlit) (2023.4)\n",
            "Requirement already satisfied: tzdata>=2022.1 in /usr/local/lib/python3.10/dist-packages (from pandas<3,>=1.3.0->streamlit) (2024.1)\n",
            "Requirement already satisfied: charset-normalizer<4,>=2 in /usr/local/lib/python3.10/dist-packages (from requests<3,>=2.27->streamlit) (3.3.2)\n",
            "Requirement already satisfied: idna<4,>=2.5 in /usr/local/lib/python3.10/dist-packages (from requests<3,>=2.27->streamlit) (3.7)\n",
            "Requirement already satisfied: urllib3<3,>=1.21.1 in /usr/local/lib/python3.10/dist-packages (from requests<3,>=2.27->streamlit) (2.0.7)\n",
            "Requirement already satisfied: certifi>=2017.4.17 in /usr/local/lib/python3.10/dist-packages (from requests<3,>=2.27->streamlit) (2024.2.2)\n",
            "Requirement already satisfied: markdown-it-py>=2.2.0 in /usr/local/lib/python3.10/dist-packages (from rich<14,>=10.14.0->streamlit) (3.0.0)\n",
            "Requirement already satisfied: pygments<3.0.0,>=2.13.0 in /usr/local/lib/python3.10/dist-packages (from rich<14,>=10.14.0->streamlit) (2.16.1)\n",
            "Collecting smmap<6,>=3.0.1 (from gitdb<5,>=4.0.1->gitpython!=3.1.19,<4,>=3.0.7->streamlit)\n",
            "  Downloading smmap-5.0.1-py3-none-any.whl (24 kB)\n",
            "Requirement already satisfied: MarkupSafe>=2.0 in /usr/local/lib/python3.10/dist-packages (from jinja2->altair<6,>=4.0->streamlit) (2.1.5)\n",
            "Requirement already satisfied: attrs>=22.2.0 in /usr/local/lib/python3.10/dist-packages (from jsonschema>=3.0->altair<6,>=4.0->streamlit) (23.2.0)\n",
            "Requirement already satisfied: jsonschema-specifications>=2023.03.6 in /usr/local/lib/python3.10/dist-packages (from jsonschema>=3.0->altair<6,>=4.0->streamlit) (2023.12.1)\n",
            "Requirement already satisfied: referencing>=0.28.4 in /usr/local/lib/python3.10/dist-packages (from jsonschema>=3.0->altair<6,>=4.0->streamlit) (0.34.0)\n",
            "Requirement already satisfied: rpds-py>=0.7.1 in /usr/local/lib/python3.10/dist-packages (from jsonschema>=3.0->altair<6,>=4.0->streamlit) (0.18.0)\n",
            "Requirement already satisfied: mdurl~=0.1 in /usr/local/lib/python3.10/dist-packages (from markdown-it-py>=2.2.0->rich<14,>=10.14.0->streamlit) (0.1.2)\n",
            "Requirement already satisfied: six>=1.5 in /usr/local/lib/python3.10/dist-packages (from python-dateutil>=2.8.2->pandas<3,>=1.3.0->streamlit) (1.16.0)\n",
            "Installing collected packages: watchdog, smmap, pydeck, gitdb, gitpython, streamlit\n",
            "Successfully installed gitdb-4.0.11 gitpython-3.1.43 pydeck-0.9.0 smmap-5.0.1 streamlit-1.33.0 watchdog-4.0.0\n"
          ]
        }
      ]
    },
    {
      "cell_type": "code",
      "source": [
        "import streamlit as st\n",
        "import pandas as pd\n",
        "from PIL import Image\n",
        "import joblib\n",
        "import json\n",
        "\n",
        "# Function to load the model pipeline\n",
        "def load_model():\n",
        "    return joblib.load('best_pipeline.pkl')\n",
        "\n",
        "# Function to display introduction page\n",
        "def page_intro():\n",
        "    st.title(\"Welcome to this Mock Credit Risk Simulator\")\n",
        "    st.header(\"Here's the drill. You get me whatever I need and I predict whether you are eligible or not. DEAL!\")\n",
        "    st.subheader(\"Let's get started...\")\n",
        "    image = Image.open('Credit_Risk.jpg')\n",
        "    st.image(image, use_column_width=True)\n",
        "\n",
        "# Function to display prediction page\n",
        "def page_predict():\n",
        "    st.header(\"Gimme your details and I will deliver magic!\")\n",
        "    data = {}\n",
        "\n",
        "    # Input fields for user details\n",
        "    data[\"First Name\"] = st.text_input(\"Enter your First Name:\")\n",
        "    data[\"Last Name\"] = st.text_input(\"Enter your Last Name:\")\n",
        "    data[\"Age\"] = st.slider(\"Enter your Age:\", 10, 70)\n",
        "    data[\"Annual Income\"] = st.number_input(\"Enter your Annual Income:\", 1000, 100000)\n",
        "    data[\"Home Ownership\"] = st.selectbox(\"What is the type of House Ownership:\", [\"RENT\", \"OWN\", \"MORTGAGE\", \"OTHER\"])\n",
        "    data[\"Employment Length\"] = st.number_input(\"Enter your Work Experience in years:\", 2, 50)\n",
        "    data[\"Loan Intent\"] = st.selectbox(\"Why do you want a loan?\", ['EDUCATION', 'MEDICAL', 'VENTURE', 'PERSONAL', 'DEBTCONSOLIDATION', 'HOMEIMPROVEMENT'])\n",
        "    data[\"Loan Grade\"] = st.selectbox(\"Grade of Loan expected?\", ['A', 'B', 'C', 'D', 'E', 'F', 'G'])\n",
        "    data[\"Loan Amount\"] = st.number_input(\"Enter the Loan Amount:\", 100, 50000)\n",
        "    data[\"Loan Percent Income\"] = st.number_input(\"Enter your % Income to be used for repaying:\", 0, 100)\n",
        "    data[\"Previous Defaults\"] = st.selectbox(\"Have your ever defaulted?\", [\"Y\", \"N\"])\n",
        "    data[\"Number of Defaults\"] = st.slider(\"Total Number of Defaults:\", 0, 50)\n",
        "\n",
        "    # Display submitted data as JSON and DataFrame\n",
        "    if st.button(\"Display Data\"):\n",
        "        data_display = json.dumps(data)\n",
        "        temp = pd.DataFrame(data, index=[0])\n",
        "        st.write(\"The data in JSON Format:\")\n",
        "        st.write(data_display)\n",
        "        st.write(\"\\nThe data in Tabular Format:\")\n",
        "        st.write(temp)\n",
        "\n",
        "    # Perform prediction on submitted data\n",
        "    if st.button(\"Predict Credit Score\"):\n",
        "        cols = ['person_age', 'person_income', 'person_emp_length', 'loan_amnt', 'loan_percent_income', 'cb_person_cred_hist_length', 'person_home_ownership', 'loan_intent', 'loan_grade', 'cb_person_default_on_file']\n",
        "        input_data = pd.DataFrame([data], columns=cols)\n",
        "        pipe = load_model()\n",
        "        prediction = pipe.predict(input_data)[0]\n",
        "        outcome = {1: \"The Customer is capable of DEFAULTING. Hence it is RISKY to provide loan!\", 0: \"The Customer is capable of NOT DEFAULTING. Hence it is POSSIBLE to provide loan!\"}\n",
        "        st.write(f\"The Final Verdict obtained from the given model is that: {outcome[prediction]}\")\n",
        "\n",
        "# Main function to run the app\n",
        "def main():\n",
        "    st.sidebar.subheader(\"Here's what you can do:\")\n",
        "    option = st.sidebar.selectbox(\"Choose what you want to do:\", [\"Introduction\", \"Predict your Credit Score\"])\n",
        "    if option == \"Introduction\":\n",
        "        page_intro()\n",
        "    elif option == \"Predict your Credit Score\":\n",
        "        page_predict()\n",
        "\n",
        "if __name__ == \"__main__\":\n",
        "    main()\n"
      ],
      "metadata": {
        "id": "l2dH3jlQzO_y"
      },
      "execution_count": 92,
      "outputs": []
    },
    {
      "cell_type": "code",
      "source": [
        "! pip install streamlit -q"
      ],
      "metadata": {
        "id": "xkVtr50N3Qu9"
      },
      "execution_count": 99,
      "outputs": []
    },
    {
      "cell_type": "code",
      "source": [
        "!wget -q -O - ipv4.icanhazip.com"
      ],
      "metadata": {
        "colab": {
          "base_uri": "https://localhost:8080/"
        },
        "id": "rXXjnLoL3W-l",
        "outputId": "fb27dea5-efb5-430a-f30c-f414f5a8ddd2"
      },
      "execution_count": 100,
      "outputs": [
        {
          "output_type": "stream",
          "name": "stdout",
          "text": [
            "35.234.16.139\n"
          ]
        }
      ]
    },
    {
      "cell_type": "code",
      "source": [
        "! streamlit run app.py & npx localtunnel --port 8501"
      ],
      "metadata": {
        "id": "m0pF5cPM3Zxl"
      },
      "execution_count": null,
      "outputs": []
    },
    {
      "cell_type": "code",
      "source": [
        "!wget https://bin.equinox.io/c/4VmDzA7iaHb/ngrok-stable-linux-amd64.zip\n",
        "!unzip ngrok-stable-linux-amd64.zip\n"
      ],
      "metadata": {
        "colab": {
          "base_uri": "https://localhost:8080/"
        },
        "id": "7nkwHNcF5Gfu",
        "outputId": "66e87d82-eb73-4b5c-9d0c-fd0d914f571c"
      },
      "execution_count": 101,
      "outputs": [
        {
          "output_type": "stream",
          "name": "stdout",
          "text": [
            "--2024-04-30 07:24:56--  https://bin.equinox.io/c/4VmDzA7iaHb/ngrok-stable-linux-amd64.zip\n",
            "Resolving bin.equinox.io (bin.equinox.io)... 54.237.133.81, 18.205.222.128, 52.202.168.65, ...\n",
            "Connecting to bin.equinox.io (bin.equinox.io)|54.237.133.81|:443... connected.\n",
            "HTTP request sent, awaiting response... 200 OK\n",
            "Length: 13921656 (13M) [application/octet-stream]\n",
            "Saving to: ‘ngrok-stable-linux-amd64.zip’\n",
            "\n",
            "ngrok-stable-linux- 100%[===================>]  13.28M  6.09MB/s    in 2.2s    \n",
            "\n",
            "2024-04-30 07:24:59 (6.09 MB/s) - ‘ngrok-stable-linux-amd64.zip’ saved [13921656/13921656]\n",
            "\n",
            "Archive:  ngrok-stable-linux-amd64.zip\n",
            "  inflating: ngrok                   \n"
          ]
        }
      ]
    },
    {
      "cell_type": "code",
      "source": [
        "get_ipython().system_raw('./ngrok http 8501 &')\n"
      ],
      "metadata": {
        "id": "T7AuKDJrnnBk"
      },
      "execution_count": 102,
      "outputs": []
    },
    {
      "cell_type": "code",
      "source": [],
      "metadata": {
        "id": "eDxtRwIkoIyb"
      },
      "execution_count": null,
      "outputs": []
    }
  ],
  "metadata": {
    "colab": {
      "provenance": [],
      "authorship_tag": "ABX9TyPDnHOijgBCJW5FpbHcgU7C",
      "include_colab_link": true
    },
    "kernelspec": {
      "display_name": "Python 3",
      "name": "python3"
    },
    "language_info": {
      "name": "python"
    }
  },
  "nbformat": 4,
  "nbformat_minor": 0
}