{
  "nbformat": 4,
  "nbformat_minor": 0,
  "metadata": {
    "colab": {
      "provenance": [],
      "authorship_tag": "ABX9TyNMJ3vxCApYoQ0MyYYgwd7b",
      "include_colab_link": true
    },
    "kernelspec": {
      "name": "python3",
      "display_name": "Python 3"
    },
    "language_info": {
      "name": "python"
    }
  },
  "cells": [
    {
      "cell_type": "markdown",
      "metadata": {
        "id": "view-in-github",
        "colab_type": "text"
      },
      "source": [
        "<a href=\"https://colab.research.google.com/github/Bazinga97/ML_Projects/blob/main/Quora_question_pairs.ipynb\" target=\"_parent\"><img src=\"https://colab.research.google.com/assets/colab-badge.svg\" alt=\"Open In Colab\"/></a>"
      ]
    },
    {
      "cell_type": "markdown",
      "source": [
        "Target\n",
        "1. Exploratory data analysis\n",
        "2. Machine learning models"
      ],
      "metadata": {
        "id": "_PAg9X4KZQ4y"
      }
    },
    {
      "cell_type": "markdown",
      "source": [
        "### **Exploratory Data analysis**"
      ],
      "metadata": {
        "id": "Uyw46FaWdyms"
      }
    },
    {
      "cell_type": "code",
      "source": [
        "!pip install distance\n",
        "!pip install fuzzywuzzy"
      ],
      "metadata": {
        "colab": {
          "base_uri": "https://localhost:8080/"
        },
        "id": "bAQWzNqvc2sP",
        "outputId": "5b5d9357-49f9-4be7-a80e-2864dd5d2f95"
      },
      "execution_count": 7,
      "outputs": [
        {
          "output_type": "stream",
          "name": "stdout",
          "text": [
            "Requirement already satisfied: distance in /usr/local/lib/python3.10/dist-packages (0.1.3)\n",
            "Collecting fuzzywuzzy\n",
            "  Downloading fuzzywuzzy-0.18.0-py2.py3-none-any.whl (18 kB)\n",
            "Installing collected packages: fuzzywuzzy\n",
            "Successfully installed fuzzywuzzy-0.18.0\n"
          ]
        }
      ]
    },
    {
      "cell_type": "code",
      "source": [
        "## importing the libraries\n",
        "\n",
        "import numpy as np\n",
        "import pandas as pd\n",
        "import seaborn as sns\n",
        "import matplotlib.pyplot as plt\n",
        "from subprocess import check_output\n",
        "%matplotlib inline\n",
        "import plotly.offline as py\n",
        "py.init_notebook_mode(connected=True)\n",
        "import plotly.graph_objs as go\n",
        "import plotly.tools as tls\n",
        "import os\n",
        "import gc\n",
        "\n",
        "## Library for pattern matching and manipulation of strings\n",
        "import re\n",
        "## Natural language Toolkit is a popular for working human language data\n",
        "from nltk.corpus import stopwords\n",
        "## Calculating distance between sequences and similarity scoring\n",
        "import distance\n",
        "\n",
        "## For stemming (reducing words to their base )\n",
        "from nltk.stem import PorterStemmer\n",
        "\n",
        "## BeautifulSoup is a Python library for pulling data out of HTML and XML files\n",
        "from bs4 import BeautifulSoup\n",
        "\n",
        "import warnings\n",
        "warnings.filterwarnings(\"ignore\")\n",
        "# This package is used for finding longest common subsequence between two strings\n",
        "# you can write your own dp code for this\n",
        "import distance\n",
        "from nltk.stem import PorterStemmer\n",
        "from bs4 import BeautifulSoup\n",
        "\n",
        "## Fuzzy string matching library, comparing strings based on similarity rather than exact match\n",
        "from fuzzywuzzy import fuzz\n",
        "from sklearn.manifold import TSNE\n",
        "# Import the Required lib packages for WORD-Cloud generation\n",
        "# https://stackoverflow.com/questions/45625434/how-to-install-wordcloud-in-python3-6\n",
        "from wordcloud import WordCloud, STOPWORDS\n",
        "from os import path\n",
        "from PIL import Image"
      ],
      "metadata": {
        "colab": {
          "base_uri": "https://localhost:8080/",
          "height": 17
        },
        "id": "DVwPPZihZmrO",
        "outputId": "73156e2f-225a-44f9-bb25-d2adcf3e3430"
      },
      "execution_count": 8,
      "outputs": [
        {
          "output_type": "display_data",
          "data": {
            "text/html": [
              "        <script type=\"text/javascript\">\n",
              "        window.PlotlyConfig = {MathJaxConfig: 'local'};\n",
              "        if (window.MathJax && window.MathJax.Hub && window.MathJax.Hub.Config) {window.MathJax.Hub.Config({SVG: {font: \"STIX-Web\"}});}\n",
              "        if (typeof require !== 'undefined') {\n",
              "        require.undef(\"plotly\");\n",
              "        requirejs.config({\n",
              "            paths: {\n",
              "                'plotly': ['https://cdn.plot.ly/plotly-2.24.1.min']\n",
              "            }\n",
              "        });\n",
              "        require(['plotly'], function(Plotly) {\n",
              "            window._Plotly = Plotly;\n",
              "        });\n",
              "        }\n",
              "        </script>\n",
              "        "
            ]
          },
          "metadata": {}
        }
      ]
    },
    {
      "cell_type": "code",
      "source": [
        "df = pd.read_csv(\"train.csv\")"
      ],
      "metadata": {
        "id": "g1uFymCEduiC"
      },
      "execution_count": 9,
      "outputs": []
    },
    {
      "cell_type": "code",
      "source": [
        "df.head()"
      ],
      "metadata": {
        "colab": {
          "base_uri": "https://localhost:8080/",
          "height": 206
        },
        "id": "_erdLwjGeCTI",
        "outputId": "a1660750-1a51-4a2d-805f-bc4ee4126ee1"
      },
      "execution_count": 11,
      "outputs": [
        {
          "output_type": "execute_result",
          "data": {
            "text/plain": [
              "   id  qid1  qid2                                          question1  \\\n",
              "0   0     1     2  What is the step by step guide to invest in sh...   \n",
              "1   1     3     4  What is the story of Kohinoor (Koh-i-Noor) Dia...   \n",
              "2   2     5     6  How can I increase the speed of my internet co...   \n",
              "3   3     7     8  Why am I mentally very lonely? How can I solve...   \n",
              "4   4     9    10  Which one dissolve in water quikly sugar, salt...   \n",
              "\n",
              "                                           question2  is_duplicate  \n",
              "0  What is the step by step guide to invest in sh...             0  \n",
              "1  What would happen if the Indian government sto...             0  \n",
              "2  How can Internet speed be increased by hacking...             0  \n",
              "3  Find the remainder when [math]23^{24}[/math] i...             0  \n",
              "4            Which fish would survive in salt water?             0  "
            ],
            "text/html": [
              "\n",
              "  <div id=\"df-e682751c-57fa-43f7-8b07-09f1fe03f5d2\" class=\"colab-df-container\">\n",
              "    <div>\n",
              "<style scoped>\n",
              "    .dataframe tbody tr th:only-of-type {\n",
              "        vertical-align: middle;\n",
              "    }\n",
              "\n",
              "    .dataframe tbody tr th {\n",
              "        vertical-align: top;\n",
              "    }\n",
              "\n",
              "    .dataframe thead th {\n",
              "        text-align: right;\n",
              "    }\n",
              "</style>\n",
              "<table border=\"1\" class=\"dataframe\">\n",
              "  <thead>\n",
              "    <tr style=\"text-align: right;\">\n",
              "      <th></th>\n",
              "      <th>id</th>\n",
              "      <th>qid1</th>\n",
              "      <th>qid2</th>\n",
              "      <th>question1</th>\n",
              "      <th>question2</th>\n",
              "      <th>is_duplicate</th>\n",
              "    </tr>\n",
              "  </thead>\n",
              "  <tbody>\n",
              "    <tr>\n",
              "      <th>0</th>\n",
              "      <td>0</td>\n",
              "      <td>1</td>\n",
              "      <td>2</td>\n",
              "      <td>What is the step by step guide to invest in sh...</td>\n",
              "      <td>What is the step by step guide to invest in sh...</td>\n",
              "      <td>0</td>\n",
              "    </tr>\n",
              "    <tr>\n",
              "      <th>1</th>\n",
              "      <td>1</td>\n",
              "      <td>3</td>\n",
              "      <td>4</td>\n",
              "      <td>What is the story of Kohinoor (Koh-i-Noor) Dia...</td>\n",
              "      <td>What would happen if the Indian government sto...</td>\n",
              "      <td>0</td>\n",
              "    </tr>\n",
              "    <tr>\n",
              "      <th>2</th>\n",
              "      <td>2</td>\n",
              "      <td>5</td>\n",
              "      <td>6</td>\n",
              "      <td>How can I increase the speed of my internet co...</td>\n",
              "      <td>How can Internet speed be increased by hacking...</td>\n",
              "      <td>0</td>\n",
              "    </tr>\n",
              "    <tr>\n",
              "      <th>3</th>\n",
              "      <td>3</td>\n",
              "      <td>7</td>\n",
              "      <td>8</td>\n",
              "      <td>Why am I mentally very lonely? How can I solve...</td>\n",
              "      <td>Find the remainder when [math]23^{24}[/math] i...</td>\n",
              "      <td>0</td>\n",
              "    </tr>\n",
              "    <tr>\n",
              "      <th>4</th>\n",
              "      <td>4</td>\n",
              "      <td>9</td>\n",
              "      <td>10</td>\n",
              "      <td>Which one dissolve in water quikly sugar, salt...</td>\n",
              "      <td>Which fish would survive in salt water?</td>\n",
              "      <td>0</td>\n",
              "    </tr>\n",
              "  </tbody>\n",
              "</table>\n",
              "</div>\n",
              "    <div class=\"colab-df-buttons\">\n",
              "\n",
              "  <div class=\"colab-df-container\">\n",
              "    <button class=\"colab-df-convert\" onclick=\"convertToInteractive('df-e682751c-57fa-43f7-8b07-09f1fe03f5d2')\"\n",
              "            title=\"Convert this dataframe to an interactive table.\"\n",
              "            style=\"display:none;\">\n",
              "\n",
              "  <svg xmlns=\"http://www.w3.org/2000/svg\" height=\"24px\" viewBox=\"0 -960 960 960\">\n",
              "    <path d=\"M120-120v-720h720v720H120Zm60-500h600v-160H180v160Zm220 220h160v-160H400v160Zm0 220h160v-160H400v160ZM180-400h160v-160H180v160Zm440 0h160v-160H620v160ZM180-180h160v-160H180v160Zm440 0h160v-160H620v160Z\"/>\n",
              "  </svg>\n",
              "    </button>\n",
              "\n",
              "  <style>\n",
              "    .colab-df-container {\n",
              "      display:flex;\n",
              "      gap: 12px;\n",
              "    }\n",
              "\n",
              "    .colab-df-convert {\n",
              "      background-color: #E8F0FE;\n",
              "      border: none;\n",
              "      border-radius: 50%;\n",
              "      cursor: pointer;\n",
              "      display: none;\n",
              "      fill: #1967D2;\n",
              "      height: 32px;\n",
              "      padding: 0 0 0 0;\n",
              "      width: 32px;\n",
              "    }\n",
              "\n",
              "    .colab-df-convert:hover {\n",
              "      background-color: #E2EBFA;\n",
              "      box-shadow: 0px 1px 2px rgba(60, 64, 67, 0.3), 0px 1px 3px 1px rgba(60, 64, 67, 0.15);\n",
              "      fill: #174EA6;\n",
              "    }\n",
              "\n",
              "    .colab-df-buttons div {\n",
              "      margin-bottom: 4px;\n",
              "    }\n",
              "\n",
              "    [theme=dark] .colab-df-convert {\n",
              "      background-color: #3B4455;\n",
              "      fill: #D2E3FC;\n",
              "    }\n",
              "\n",
              "    [theme=dark] .colab-df-convert:hover {\n",
              "      background-color: #434B5C;\n",
              "      box-shadow: 0px 1px 3px 1px rgba(0, 0, 0, 0.15);\n",
              "      filter: drop-shadow(0px 1px 2px rgba(0, 0, 0, 0.3));\n",
              "      fill: #FFFFFF;\n",
              "    }\n",
              "  </style>\n",
              "\n",
              "    <script>\n",
              "      const buttonEl =\n",
              "        document.querySelector('#df-e682751c-57fa-43f7-8b07-09f1fe03f5d2 button.colab-df-convert');\n",
              "      buttonEl.style.display =\n",
              "        google.colab.kernel.accessAllowed ? 'block' : 'none';\n",
              "\n",
              "      async function convertToInteractive(key) {\n",
              "        const element = document.querySelector('#df-e682751c-57fa-43f7-8b07-09f1fe03f5d2');\n",
              "        const dataTable =\n",
              "          await google.colab.kernel.invokeFunction('convertToInteractive',\n",
              "                                                    [key], {});\n",
              "        if (!dataTable) return;\n",
              "\n",
              "        const docLinkHtml = 'Like what you see? Visit the ' +\n",
              "          '<a target=\"_blank\" href=https://colab.research.google.com/notebooks/data_table.ipynb>data table notebook</a>'\n",
              "          + ' to learn more about interactive tables.';\n",
              "        element.innerHTML = '';\n",
              "        dataTable['output_type'] = 'display_data';\n",
              "        await google.colab.output.renderOutput(dataTable, element);\n",
              "        const docLink = document.createElement('div');\n",
              "        docLink.innerHTML = docLinkHtml;\n",
              "        element.appendChild(docLink);\n",
              "      }\n",
              "    </script>\n",
              "  </div>\n",
              "\n",
              "\n",
              "<div id=\"df-4b3424d1-e09e-4c57-bc66-8bee6ab947ef\">\n",
              "  <button class=\"colab-df-quickchart\" onclick=\"quickchart('df-4b3424d1-e09e-4c57-bc66-8bee6ab947ef')\"\n",
              "            title=\"Suggest charts\"\n",
              "            style=\"display:none;\">\n",
              "\n",
              "<svg xmlns=\"http://www.w3.org/2000/svg\" height=\"24px\"viewBox=\"0 0 24 24\"\n",
              "     width=\"24px\">\n",
              "    <g>\n",
              "        <path d=\"M19 3H5c-1.1 0-2 .9-2 2v14c0 1.1.9 2 2 2h14c1.1 0 2-.9 2-2V5c0-1.1-.9-2-2-2zM9 17H7v-7h2v7zm4 0h-2V7h2v10zm4 0h-2v-4h2v4z\"/>\n",
              "    </g>\n",
              "</svg>\n",
              "  </button>\n",
              "\n",
              "<style>\n",
              "  .colab-df-quickchart {\n",
              "      --bg-color: #E8F0FE;\n",
              "      --fill-color: #1967D2;\n",
              "      --hover-bg-color: #E2EBFA;\n",
              "      --hover-fill-color: #174EA6;\n",
              "      --disabled-fill-color: #AAA;\n",
              "      --disabled-bg-color: #DDD;\n",
              "  }\n",
              "\n",
              "  [theme=dark] .colab-df-quickchart {\n",
              "      --bg-color: #3B4455;\n",
              "      --fill-color: #D2E3FC;\n",
              "      --hover-bg-color: #434B5C;\n",
              "      --hover-fill-color: #FFFFFF;\n",
              "      --disabled-bg-color: #3B4455;\n",
              "      --disabled-fill-color: #666;\n",
              "  }\n",
              "\n",
              "  .colab-df-quickchart {\n",
              "    background-color: var(--bg-color);\n",
              "    border: none;\n",
              "    border-radius: 50%;\n",
              "    cursor: pointer;\n",
              "    display: none;\n",
              "    fill: var(--fill-color);\n",
              "    height: 32px;\n",
              "    padding: 0;\n",
              "    width: 32px;\n",
              "  }\n",
              "\n",
              "  .colab-df-quickchart:hover {\n",
              "    background-color: var(--hover-bg-color);\n",
              "    box-shadow: 0 1px 2px rgba(60, 64, 67, 0.3), 0 1px 3px 1px rgba(60, 64, 67, 0.15);\n",
              "    fill: var(--button-hover-fill-color);\n",
              "  }\n",
              "\n",
              "  .colab-df-quickchart-complete:disabled,\n",
              "  .colab-df-quickchart-complete:disabled:hover {\n",
              "    background-color: var(--disabled-bg-color);\n",
              "    fill: var(--disabled-fill-color);\n",
              "    box-shadow: none;\n",
              "  }\n",
              "\n",
              "  .colab-df-spinner {\n",
              "    border: 2px solid var(--fill-color);\n",
              "    border-color: transparent;\n",
              "    border-bottom-color: var(--fill-color);\n",
              "    animation:\n",
              "      spin 1s steps(1) infinite;\n",
              "  }\n",
              "\n",
              "  @keyframes spin {\n",
              "    0% {\n",
              "      border-color: transparent;\n",
              "      border-bottom-color: var(--fill-color);\n",
              "      border-left-color: var(--fill-color);\n",
              "    }\n",
              "    20% {\n",
              "      border-color: transparent;\n",
              "      border-left-color: var(--fill-color);\n",
              "      border-top-color: var(--fill-color);\n",
              "    }\n",
              "    30% {\n",
              "      border-color: transparent;\n",
              "      border-left-color: var(--fill-color);\n",
              "      border-top-color: var(--fill-color);\n",
              "      border-right-color: var(--fill-color);\n",
              "    }\n",
              "    40% {\n",
              "      border-color: transparent;\n",
              "      border-right-color: var(--fill-color);\n",
              "      border-top-color: var(--fill-color);\n",
              "    }\n",
              "    60% {\n",
              "      border-color: transparent;\n",
              "      border-right-color: var(--fill-color);\n",
              "    }\n",
              "    80% {\n",
              "      border-color: transparent;\n",
              "      border-right-color: var(--fill-color);\n",
              "      border-bottom-color: var(--fill-color);\n",
              "    }\n",
              "    90% {\n",
              "      border-color: transparent;\n",
              "      border-bottom-color: var(--fill-color);\n",
              "    }\n",
              "  }\n",
              "</style>\n",
              "\n",
              "  <script>\n",
              "    async function quickchart(key) {\n",
              "      const quickchartButtonEl =\n",
              "        document.querySelector('#' + key + ' button');\n",
              "      quickchartButtonEl.disabled = true;  // To prevent multiple clicks.\n",
              "      quickchartButtonEl.classList.add('colab-df-spinner');\n",
              "      try {\n",
              "        const charts = await google.colab.kernel.invokeFunction(\n",
              "            'suggestCharts', [key], {});\n",
              "      } catch (error) {\n",
              "        console.error('Error during call to suggestCharts:', error);\n",
              "      }\n",
              "      quickchartButtonEl.classList.remove('colab-df-spinner');\n",
              "      quickchartButtonEl.classList.add('colab-df-quickchart-complete');\n",
              "    }\n",
              "    (() => {\n",
              "      let quickchartButtonEl =\n",
              "        document.querySelector('#df-4b3424d1-e09e-4c57-bc66-8bee6ab947ef button');\n",
              "      quickchartButtonEl.style.display =\n",
              "        google.colab.kernel.accessAllowed ? 'block' : 'none';\n",
              "    })();\n",
              "  </script>\n",
              "</div>\n",
              "\n",
              "    </div>\n",
              "  </div>\n"
            ],
            "application/vnd.google.colaboratory.intrinsic+json": {
              "type": "dataframe",
              "variable_name": "df"
            }
          },
          "metadata": {},
          "execution_count": 11
        }
      ]
    },
    {
      "cell_type": "markdown",
      "source": [
        "### Duplicate"
      ],
      "metadata": {
        "id": "nWia1THzegNk"
      }
    },
    {
      "cell_type": "code",
      "source": [
        "# Count total number of question pairs\n",
        "total_question_pairs = len(df)\n",
        "\n",
        "# Calculate percentage of non-similar (is_duplicate = 0) question pairs\n",
        "non_similar_percentage = 100 - round(df['is_duplicate'].mean() * 100, 2)\n",
        "\n",
        "# Calculate percentage of similar (is_duplicate = 1) question pairs\n",
        "similar_percentage = round(df['is_duplicate'].mean() * 100, 2)\n",
        "\n",
        "# Print details\n",
        "print('~> Total number of question pairs for training: {}'.format(total_question_pairs))\n",
        "print('~> Question pairs are not Similar (is_duplicate = 0): {}%'.format(non_similar_percentage))\n",
        "print('~> Question pairs are Similar (is_duplicate = 1): {}%'.format(similar_percentage))\n",
        "\n",
        "# Group by 'is_duplicate' and count occurrences of each group\n",
        "duplicate_counts = df.groupby(\"is_duplicate\")['id'].count()\n",
        "\n",
        "# Plot the result as a bar chart\n",
        "duplicate_counts.plot.bar()\n",
        "\n",
        "# Add labels and title\n",
        "plt.xlabel('Is Duplicate')\n",
        "plt.ylabel('Count')\n",
        "plt.title('Number of Duplicate and Non-duplicate Questions')\n",
        "\n",
        "# Show the plot\n",
        "plt.show()"
      ],
      "metadata": {
        "colab": {
          "base_uri": "https://localhost:8080/",
          "height": 519
        },
        "id": "1Ny-iHLMelO5",
        "outputId": "37b69558-e8c6-4f37-ed35-7314dbe6718d"
      },
      "execution_count": 13,
      "outputs": [
        {
          "output_type": "stream",
          "name": "stdout",
          "text": [
            "~> Total number of question pairs for training: 404290\n",
            "~> Question pairs are not Similar (is_duplicate = 0): 63.08%\n",
            "~> Question pairs are Similar (is_duplicate = 1): 36.92%\n"
          ]
        },
        {
          "output_type": "display_data",
          "data": {
            "text/plain": [
              "<Figure size 640x480 with 1 Axes>"
            ],
            "image/png": "[encoded data removed]"
          },
          "metadata": {}
        }
      ]
    },
    {
      "cell_type": "code",
      "source": [
        "qids = pd.Series(df['qid1'].tolist() + df['qid2'].tolist())\n",
        "\n",
        "# Count the number of unique questions\n",
        "unique_qs = len(np.unique(qids))\n",
        "\n",
        "# Count the number of unique questions that appear more than once\n",
        "qs_morethan_onetime = np.sum(qids.value_counts() > 1)\n",
        "\n",
        "# Calculate the percentage of unique questions that appear more than once\n",
        "percentage_morethan_onetime = (qs_morethan_onetime / unique_qs) * 100\n",
        "\n",
        "# Print the results\n",
        "print('Total_unique_questions: {}\\n'.format(unique_qs))\n",
        "print('Number_unique_questions_more than once: {} ({}%)\\n'.format(qs_morethan_onetime, percentage_morethan_onetime))\n",
        "print('Max _single_question_repeated: {}\\n'.format(max(qids.value_counts())))\n",
        "\n",
        "# Plotting\n",
        "x = [\"Unique Questions\", \"Repeated Questions\"]\n",
        "y = [unique_qs, qs_morethan_onetime]\n",
        "\n",
        "plt.figure(figsize=(10, 6))\n",
        "plt.title(\"Plot_unique & repeated questions\")\n",
        "sns.barplot(x=x, y=y)\n",
        "plt.show()"
      ],
      "metadata": {
        "colab": {
          "base_uri": "https://localhost:8080/",
          "height": 649
        },
        "id": "TyldcVNFgmaQ",
        "outputId": "06cbe5bc-dc6d-43f3-8de3-b167d50f5ba4"
      },
      "execution_count": 16,
      "outputs": [
        {
          "output_type": "stream",
          "name": "stdout",
          "text": [
            "Total_unique_questions: 537933\n",
            "\n",
            "Number_unique_questions_more than once: 111780 (20.77953945937505%)\n",
            "\n",
            "Max _single_question_repeated: 157\n",
            "\n"
          ]
        },
        {
          "output_type": "display_data",
          "data": {
            "text/plain": [
              "<Figure size 1000x600 with 1 Axes>"
            ],
            "image/png": "[encoded data removed]"
          },
          "metadata": {}
        }
      ]
    },
    {
      "cell_type": "markdown",
      "source": [
        "### NULL VALUES"
      ],
      "metadata": {
        "id": "cmtmvNG3hj2V"
      }
    },
    {
      "cell_type": "code",
      "source": [
        "# Checking for rows with null values\n",
        "nan_rows = df[df.isnull().any(axis=1)]\n",
        "\n",
        "if nan_rows.empty:\n",
        "    print(\"No rows with null values found.\")\n",
        "else:\n",
        "    print(\"Rows with null values:\")\n",
        "    print(nan_rows)\n",
        "\n",
        "# Filling null values with empty strings\n",
        "df.fillna('', inplace=True)\n",
        "\n",
        "# Checking again for any rows with null values after filling\n",
        "nan_rows_after_fill = df[df.isnull().any(axis=1)]\n",
        "\n",
        "if nan_rows_after_fill.empty:\n",
        "    print(\"\\nAll null values have been successfully filled with empty strings.\")\n",
        "else:\n",
        "    print(\"\\nSome null values could not be filled. Remaining rows with null values:\")\n",
        "    print(nan_rows_after_fill)"
      ],
      "metadata": {
        "colab": {
          "base_uri": "https://localhost:8080/"
        },
        "id": "8qURjGmthnsT",
        "outputId": "60155064-2283-4103-e781-f2d745078d4c"
      },
      "execution_count": 18,
      "outputs": [
        {
          "output_type": "stream",
          "name": "stdout",
          "text": [
            "No rows with null values found.\n",
            "\n",
            "All null values have been successfully filled with empty strings.\n"
          ]
        }
      ]
    },
    {
      "cell_type": "markdown",
      "source": [
        "### Feature Extraction"
      ],
      "metadata": {
        "id": "YDMH07pzi9ln"
      }
    },
    {
      "cell_type": "code",
      "source": [
        "import pandas as pd\n",
        "import os\n",
        "\n",
        "# Function to calculate normalized word commonality\n",
        "def normalized_word_common(row):\n",
        "    w1 = set(map(lambda word: word.lower().strip(), row['question1'].split(\" \")))\n",
        "    w2 = set(map(lambda word: word.lower().strip(), row['question2'].split(\" \")))\n",
        "    return 1.0 * len(w1 & w2)\n",
        "\n",
        "# Function to calculate normalized word total\n",
        "def normalized_word_total(row):\n",
        "    w1 = set(map(lambda word: word.lower().strip(), row['question1'].split(\" \")))\n",
        "    w2 = set(map(lambda word: word.lower().strip(), row['question2'].split(\" \")))\n",
        "    return 1.0 * (len(w1) + len(w2))\n",
        "\n",
        "# Function to calculate normalized word share\n",
        "def normalized_word_share(row):\n",
        "    w1 = set(map(lambda word: word.lower().strip(), row['question1'].split(\" \")))\n",
        "    w2 = set(map(lambda word: word.lower().strip(), row['question2'].split(\" \")))\n",
        "    return 1.0 * len(w1 & w2)/(len(w1) + len(w2))\n",
        "\n",
        "# Check if the CSV file exists\n",
        "if os.path.isfile('df_fe_without_preprocessing_train.csv'):\n",
        "    # If the file exists, read it into the DataFrame\n",
        "    df = pd.read_csv(\"df_fe_without_preprocessing_train.csv\", encoding='latin-1')\n",
        "else:\n",
        "    # If the file does not exist, perform feature engineering and save the DataFrame to a CSV file\n",
        "    df['freq_qid1'] = df.groupby('qid1')['qid1'].transform('count')\n",
        "    df['freq_qid2'] = df.groupby('qid2')['qid2'].transform('count')\n",
        "    df['q1len'] = df['question1'].str.len()\n",
        "    df['q2len'] = df['question2'].str.len()\n",
        "    df['q1_n_words'] = df['question1'].apply(lambda row: len(row.split(\" \")))\n",
        "    df['q2_n_words'] = df['question2'].apply(lambda row: len(row.split(\" \")))\n",
        "\n",
        "    df['word_Common'] = df.apply(normalized_word_common, axis=1)\n",
        "    df['word_Total'] = df.apply(normalized_word_total, axis=1)\n",
        "    df['word_share'] = df.apply(normalized_word_share, axis=1)\n",
        "\n",
        "    df['freq_q1+q2'] = df['freq_qid1'] + df['freq_qid2']\n",
        "    df['freq_q1-q2'] = abs(df['freq_qid1'] - df['freq_qid2'])\n",
        "\n",
        "    # Save the DataFrame to a CSV file\n",
        "    df.to_csv(\"df_fe_without_preprocessing_train.csv\", index=False)\n",
        "\n",
        "# Pretty print the first few rows of the DataFrame\n",
        "print(\"DataFrame after feature engineering:\\n\", df.head())\n"
      ],
      "metadata": {
        "colab": {
          "base_uri": "https://localhost:8080/"
        },
        "id": "OP3tT-_Pi8Ur",
        "outputId": "1695fe81-1d2f-44ae-be44-4e493aa60c4f"
      },
      "execution_count": 19,
      "outputs": [
        {
          "output_type": "stream",
          "name": "stdout",
          "text": [
            "DataFrame after feature engineering:\n",
            "    id  qid1  qid2                                          question1  \\\n",
            "0   0     1     2  What is the step by step guide to invest in sh...   \n",
            "1   1     3     4  What is the story of Kohinoor (Koh-i-Noor) Dia...   \n",
            "2   2     5     6  How can I increase the speed of my internet co...   \n",
            "3   3     7     8  Why am I mentally very lonely? How can I solve...   \n",
            "4   4     9    10  Which one dissolve in water quikly sugar, salt...   \n",
            "\n",
            "                                           question2  is_duplicate  freq_qid1  \\\n",
            "0  What is the step by step guide to invest in sh...             0          1   \n",
            "1  What would happen if the Indian government sto...             0          4   \n",
            "2  How can Internet speed be increased by hacking...             0          1   \n",
            "3  Find the remainder when [math]23^{24}[/math] i...             0          1   \n",
            "4            Which fish would survive in salt water?             0          3   \n",
            "\n",
            "   freq_qid2  q1len  q2len  q1_n_words  q2_n_words  word_Common  word_Total  \\\n",
            "0          1     66     57          14          12         10.0        23.0   \n",
            "1          1     51     88           8          13          4.0        20.0   \n",
            "2          1     73     59          14          10          4.0        24.0   \n",
            "3          1     50     65          11           9          0.0        19.0   \n",
            "4          1     76     39          13           7          2.0        20.0   \n",
            "\n",
            "   word_share  freq_q1+q2  freq_q1-q2  \n",
            "0    0.434783           2           0  \n",
            "1    0.200000           5           3  \n",
            "2    0.166667           2           0  \n",
            "3    0.000000           2           0  \n",
            "4    0.100000           4           2  \n"
          ]
        }
      ]
    },
    {
      "cell_type": "code",
      "source": [
        "# Print minimum length of questions in question1 and question2\n",
        "print(\"Minimum length of the questions in question1:\", min(df['q1_n_words']))\n",
        "print(\"Minimum length of the questions in question2:\", min(df['q2_n_words']))\n",
        "\n",
        "# Count number of questions with minimum length in question1 and question2\n",
        "print(\"Number of questions with minimum length [question1]:\", df[df['q1_n_words'] == 1].shape[0])\n",
        "print(\"Number of questions with minimum length [question2]:\", df[df['q2_n_words'] == 1].shape[0])\n",
        "\n",
        "# Create a figure with specified size\n",
        "plt.figure(figsize=(12, 8))\n",
        "\n",
        "# Plot the first subplot (violin plot)\n",
        "plt.subplot(1, 2, 1)\n",
        "sns.violinplot(x='is_duplicate', y='word_Common', data=df)\n",
        "\n",
        "# Plot the second subplot (distribution plot)\n",
        "plt.subplot(1, 2, 2)\n",
        "sns.distplot(df[df['is_duplicate'] == 1.0]['word_Common'], label=\"1\", color='red')\n",
        "sns.distplot(df[df['is_duplicate'] == 0.0]['word_Common'], label=\"0\", color='blue')\n",
        "plt.legend()\n",
        "\n",
        "# Show the plots\n",
        "plt.show()"
      ],
      "metadata": {
        "colab": {
          "base_uri": "https://localhost:8080/",
          "height": 765
        },
        "id": "DNTsL020lMxZ",
        "outputId": "0e7b639f-dc49-4ced-8311-001bd527e754"
      },
      "execution_count": 21,
      "outputs": [
        {
          "output_type": "stream",
          "name": "stdout",
          "text": [
            "Minimum length of the questions in question1: 1\n",
            "Minimum length of the questions in question2: 1\n",
            "Number of questions with minimum length [question1]: 67\n",
            "Number of questions with minimum length [question2]: 24\n"
          ]
        },
        {
          "output_type": "display_data",
          "data": {
            "text/plain": [
              "<Figure size 1200x800 with 2 Axes>"
            ],
            "image/png": "[encoded data removed]"
          },
          "metadata": {}
        }
      ]
    },
    {
      "cell_type": "markdown",
      "source": [
        "### TEXT PREPROCESSING"
      ],
      "metadata": {
        "id": "gE1iH3VGmYWP"
      }
    },
    {
      "cell_type": "code",
      "source": [
        "import nltk\n",
        "nltk.download('stopwords')\n"
      ],
      "metadata": {
        "colab": {
          "base_uri": "https://localhost:8080/"
        },
        "id": "P2JqkGy-m520",
        "outputId": "5e1ba775-933f-4346-aec8-4846f0f94f92"
      },
      "execution_count": 24,
      "outputs": [
        {
          "output_type": "stream",
          "name": "stderr",
          "text": [
            "[nltk_data] Downloading package stopwords to /root/nltk_data...\n",
            "[nltk_data]   Unzipping corpora/stopwords.zip.\n"
          ]
        },
        {
          "output_type": "execute_result",
          "data": {
            "text/plain": [
              "True"
            ]
          },
          "metadata": {},
          "execution_count": 24
        }
      ]
    },
    {
      "cell_type": "code",
      "source": [
        "# Define constants\n",
        "SAFE_DIV = 0.0001\n",
        "STOP_WORDS = stopwords.words(\"english\")\n",
        "\n",
        "# Function for text preprocessing\n",
        "def preprocess(x):\n",
        "    # Convert to lowercase\n",
        "    x = str(x).lower()\n",
        "\n",
        "    # Replace common abbreviations and symbols\n",
        "    x = x.replace(\",000,000\", \"m\").replace(\",000\", \"k\").replace(\"′\", \"'\").replace(\"’\", \"'\")\\\n",
        "         .replace(\"won't\", \"will not\").replace(\"cannot\", \"can not\").replace(\"can't\", \"can not\")\\\n",
        "         .replace(\"n't\", \" not\").replace(\"what's\", \"what is\").replace(\"it's\", \"it is\")\\\n",
        "         .replace(\"'ve\", \" have\").replace(\"i'm\", \"i am\").replace(\"'re\", \" are\")\\\n",
        "         .replace(\"he's\", \"he is\").replace(\"she's\", \"she is\").replace(\"'s\", \" own\")\\\n",
        "         .replace(\"%\", \" percent \").replace(\"₹\", \" rupee \").replace(\"$\", \" dollar \")\\\n",
        "         .replace(\"€\", \" euro \").replace(\"'ll\", \" will\")\n",
        "\n",
        "    # Replace numeric patterns with 'm' for million and 'k' for thousand\n",
        "    x = re.sub(r\"([0-9]+)000000\", r\"\\1m\", x)\n",
        "    x = re.sub(r\"([0-9]+)000\", r\"\\1k\", x)\n",
        "\n",
        "    # Remove non-word characters and stem the text\n",
        "    porter = PorterStemmer()\n",
        "    pattern = re.compile('\\W')\n",
        "    if isinstance(x, str):\n",
        "        x = re.sub(pattern, ' ', x)\n",
        "        x = porter.stem(x)\n",
        "\n",
        "        # Remove HTML tags\n",
        "        example1 = BeautifulSoup(x)\n",
        "        x = example1.get_text()\n",
        "\n",
        "    return x\n"
      ],
      "metadata": {
        "id": "9xwtQOtUmc67"
      },
      "execution_count": 25,
      "outputs": []
    }
  ]
}